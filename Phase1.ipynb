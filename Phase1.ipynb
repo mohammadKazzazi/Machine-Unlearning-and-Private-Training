{
  "cells": [
    {
      "cell_type": "markdown",
      "metadata": {
        "id": "3iuTOXZuNrsZ"
      },
      "source": [
        "<h1 align=\"center\">Introduction to Machine Learning - 25737-2</h1>\n",
        "<h4 align=\"center\">Dr. R. Amiri</h4>\n",
        "<h4 align=\"center\">Sharif University of Technology, Spring 2024</h4>\n",
        "\n",
        "\n",
        "<h4 align=\"center\">Prject Phase-1</h4>\n",
        "\n",
        "\n",
        "<h4 align=\"center\">Seyed Mohammad Ojagh Kazazi (400100554) </h4>\n",
        "<h4 align=\"center\">Mohammad Morsali  (400101956) </h4>\n",
        "\n"
      ]
    },
    {
      "cell_type": "markdown",
      "metadata": {
        "id": "jkyqajloNssD"
      },
      "source": [
        "Lybraries:"
      ]
    },
    {
      "cell_type": "code",
      "execution_count": null,
      "metadata": {
        "id": "2EjU-S451t3L"
      },
      "outputs": [],
      "source": [
        "import os\n",
        "import shutil\n",
        "from PIL import Image\n",
        "import zipfile\n",
        "import time\n",
        "import random\n",
        "import torch\n",
        "import torch.nn as nn\n",
        "import torch.optim as optim\n",
        "import torch.nn.functional as F\n",
        "from torchvision import datasets, transforms, models\n",
        "from torch.utils.data import DataLoader, Subset, TensorDataset, ConcatDataset\n",
        "from sklearn.metrics import f1_score, accuracy_score, precision_score, recall_score, roc_auc_score\n",
        "import numpy as np\n",
        "from google.colab import files\n",
        "from pydrive2.auth import GoogleAuth\n",
        "from pydrive2.drive import GoogleDrive\n",
        "from google.colab import auth\n",
        "from oauth2client.client import GoogleCredentials"
      ]
    },
    {
      "cell_type": "code",
      "execution_count": null,
      "metadata": {
        "colab": {
          "base_uri": "https://localhost:8080/"
        },
        "id": "829XwvU_k6pP",
        "outputId": "21f88a4a-4527-40ba-c868-8e8ab8d06898"
      },
      "outputs": [
        {
          "name": "stdout",
          "output_type": "stream",
          "text": [
            "\u001b[?25l     \u001b[90m━━━━━━━━━━━━━━━━━━━━━━━━━━━━━━━━━━━━━━━━\u001b[0m \u001b[32m0.0/46.7 kB\u001b[0m \u001b[31m?\u001b[0m eta \u001b[36m-:--:--\u001b[0m\r\u001b[2K     \u001b[90m━━━━━━━━━━━━━━━━━━━━━━━━━━━━━━━━━━━━━━━━\u001b[0m \u001b[32m46.7/46.7 kB\u001b[0m \u001b[31m1.7 MB/s\u001b[0m eta \u001b[36m0:00:00\u001b[0m\n",
            "\u001b[?25h"
          ]
        }
      ],
      "source": [
        "!pip install -U -q PyDrive\n",
        "!pip install -U -q pydrive2"
      ]
    },
    {
      "cell_type": "markdown",
      "metadata": {
        "id": "vxQWnBHDN4Vj"
      },
      "source": [
        "# **Simulation Question 1.**\n",
        "\n",
        "Implement the learning phase of the algorithm, and select the based\n",
        "models to be pretrained ResNet 18(you will need to add some fully connected layer(s) in\n",
        "order to make it suitable for the given dataset!). Use S = 5, 10, 20 and R = 5, 10, 20 and train\n",
        "different models on your data in each case, and report F1-score, accuracy, precision, recall and\n",
        "AUROC of all of your models with all of your proposed aggregation methods.\n"
      ]
    },
    {
      "cell_type": "code",
      "execution_count": null,
      "metadata": {
        "id": "T9MLhKj2lI0i"
      },
      "outputs": [],
      "source": [
        "from pydrive2.auth import GoogleAuth\n",
        "from pydrive2.drive import GoogleDrive\n",
        "from google.colab import auth\n",
        "from oauth2client.client import GoogleCredentials\n",
        "\n",
        "# Authenticate and create the PyDrive client.\n",
        "auth.authenticate_user()\n",
        "gauth = GoogleAuth()\n",
        "gauth.credentials = GoogleCredentials.get_application_default()\n",
        "drive = GoogleDrive(gauth)"
      ]
    },
    {
      "cell_type": "code",
      "execution_count": null,
      "metadata": {
        "id": "GykhYSdX1yEK"
      },
      "outputs": [],
      "source": [
        "# Check if GPU is available\n",
        "device = torch.device(\"cuda\" if torch.cuda.is_available() else \"cpu\")\n",
        "\n",
        "# Implement the ResNet18 model with additional fully connected layers for CIFAR-10\n",
        "class ModifiedResNet18(nn.Module):\n",
        "    def __init__(self):\n",
        "        super(ModifiedResNet18, self).__init__()\n",
        "        self.resnet = models.resnet18(pretrained=True)\n",
        "        self.resnet.fc = nn.Sequential(\n",
        "            nn.Linear(self.resnet.fc.in_features, 512),\n",
        "            nn.ReLU(),\n",
        "            nn.Dropout(0.5),\n",
        "            nn.Linear(512, 10),\n",
        "        )\n",
        "\n",
        "    def forward(self, x):\n",
        "        return self.resnet(x)"
      ]
    },
    {
      "cell_type": "code",
      "execution_count": null,
      "metadata": {
        "id": "xyyDnRvFlfJb"
      },
      "outputs": [],
      "source": [
        "# Authenticate and initialize PyDrive\n",
        "auth.authenticate_user()\n",
        "gauth = GoogleAuth()\n",
        "gauth.credentials = GoogleCredentials.get_application_default()\n",
        "drive = GoogleDrive(gauth)"
      ]
    },
    {
      "cell_type": "code",
      "execution_count": null,
      "metadata": {
        "id": "cFQHLKM-1ubT"
      },
      "outputs": [],
      "source": [
        "\n",
        "\n",
        "# Define SISA algorithm components\n",
        "class SISA:\n",
        "    def __init__(self, S, R, epochs):\n",
        "        self.S = S\n",
        "        self.R = R\n",
        "        self.epochs = epochs\n",
        "        self.models = []  # Final models for each shard\n",
        "        self.slice_models = {}  # Dictionary to save models after each slice\n",
        "\n",
        "\n",
        "        # Variables to track training and unlearning times\n",
        "        self.training_time = 0\n",
        "        self.unlearning_time = 0\n",
        "\n",
        "        # Create a directory to save models\n",
        "        self.model_dir = f'models_S{self.S}_R{self.R}'\n",
        "        if os.path.exists(self.model_dir):\n",
        "            shutil.rmtree(self.model_dir)\n",
        "        os.makedirs(self.model_dir)\n",
        "\n",
        "    def shard_data(self, data):\n",
        "        # Shard the data into S subsets\n",
        "        shard_size = len(data) // self.S\n",
        "        shards = [Subset(data, list(range(i * shard_size, (i + 1) * shard_size))) for i in range(self.S)]\n",
        "        return shards\n",
        "\n",
        "    def slice_data(self, shard):\n",
        "        # Slice each shard into R slices\n",
        "        slice_size = len(shard) // self.R\n",
        "        slices = [Subset(shard, list(range(i * slice_size, (i + 1) * slice_size))) for i in range(self.R)]\n",
        "        return slices\n",
        "\n",
        "    def train(self, data):\n",
        "        start_time = time.time()  # Start timing\n",
        "        k = 0\n",
        "        shards = self.shard_data(data)\n",
        "        idx_shard = 0\n",
        "        for shard in shards:\n",
        "            idx_shard += 1\n",
        "            slices = self.slice_data(shard)\n",
        "            model = ModifiedResNet18().to(device)\n",
        "            optimizer = optim.SGD(model.parameters(), lr=0.01, momentum=0.9)\n",
        "            criterion = nn.CrossEntropyLoss()\n",
        "            idx_slice = 0\n",
        "            for slice in slices:\n",
        "                idx_slice += 1\n",
        "                train_loader = torch.utils.data.DataLoader(slice, batch_size=64, shuffle=True)\n",
        "                for epoch in range(self.epochs):\n",
        "                    for inputs, labels in train_loader:\n",
        "                        inputs, labels = inputs.to(device), labels.to(device)\n",
        "                        #print(k)\n",
        "                        k += 64\n",
        "                        optimizer.zero_grad()\n",
        "                        outputs = model(inputs)\n",
        "                        loss = criterion(outputs, labels)\n",
        "                        loss.backward()\n",
        "                        optimizer.step()\n",
        "                    print(\"@ shard:\", idx_shard, \" @ slice:\", idx_slice, \"@ epoch:\", epoch, \"  loss=\", loss.item())\n",
        "                # Save the model after training each slice\n",
        "                model_path = os.path.join(self.model_dir, f'model_shard{idx_shard}_slice{idx_slice}.pth')\n",
        "                torch.save(model.state_dict(), model_path)\n",
        "                self.slice_models[(idx_shard, idx_slice)] = model_path\n",
        "            self.models.append(model)\n",
        "        self.training_time = time.time() - start_time  # Record training time\n",
        "\n",
        "\n",
        "\n",
        "\n",
        "\n",
        "    def load_models(self):\n",
        "        self.models = []\n",
        "        self.slice_models = {}\n",
        "        for idx_shard in range(1, self.S + 1):\n",
        "            for idx_slice in range(1, self.R + 1):\n",
        "                model = ModifiedResNet18().to(device)\n",
        "                model_path = os.path.join(self.model_dir, f'model_shard{idx_shard}_slice{idx_slice}.pth')\n",
        "                self.slice_models[(idx_shard, idx_slice)] = model_path\n",
        "                if idx_slice == self.R:\n",
        "                  print(\"loading shard:\",idx_shard)\n",
        "                  model.load_state_dict(torch.load(model_path))\n",
        "                  self.models.append(model)\n",
        "\n",
        "\n",
        "    def zip_models(self):\n",
        "        zip_filename = f'{self.model_dir}.zip'\n",
        "        with zipfile.ZipFile(zip_filename, 'w') as zipf:\n",
        "            for root, dirs, files in os.walk(self.model_dir):\n",
        "                for file in files:\n",
        "                    zipf.write(os.path.join(root, file), arcname=file)\n",
        "        return zip_filename\n",
        "\n",
        "    def upload_models_to_drive(self):\n",
        "        zip_filename = self.zip_models()\n",
        "        file = drive.CreateFile({'title': os.path.basename(zip_filename)})\n",
        "        file.SetContentFile(zip_filename)\n",
        "        file.Upload()\n",
        "        print(f'Uploaded file with ID {file.get(\"id\")}')\n",
        "        return file.get(\"id\")\n",
        "\n",
        "    def download_and_extract_models_from_drive(self, file_id):\n",
        "        file = drive.CreateFile({'id': file_id})\n",
        "        zip_filename = f'{self.model_dir}.zip'\n",
        "        file.GetContentFile(zip_filename)\n",
        "        print(f\"Downloaded {zip_filename} from Google Drive\")\n",
        "        self.extract_and_load_model(zip_filename)\n",
        "\n",
        "\n",
        "    def extract_and_load_model(self, zip_filename):\n",
        "        with zipfile.ZipFile(zip_filename, 'r') as zip_ref:\n",
        "            zip_ref.extractall(self.model_dir)\n",
        "        self.load_models()\n",
        "\n",
        "\n",
        "\n",
        "\n",
        "\n",
        "\n",
        "    def predict_for_all_models(self, test_loader):\n",
        "        #print()\n",
        "        #print(\"in predict_for_all_models:\")\n",
        "        #print(\"test_loader:\")\n",
        "        #print(test_loader)\n",
        "        all_predictions = []\n",
        "        for model in self.models:\n",
        "            model.eval()  # Set model to evaluation mode\n",
        "            model_predictions = []\n",
        "            for inputs, _ in test_loader:\n",
        "                #print(\"input:\",input)\n",
        "                inputs = inputs.to(device)\n",
        "                # Get the predictions from the current model\n",
        "                with torch.no_grad():\n",
        "                    pred = model(inputs)\n",
        "                    #print(pred)\n",
        "                model_predictions.append(pred.cpu())\n",
        "            all_predictions.append(torch.cat(model_predictions))\n",
        "        #print(\"all_predictions:\")\n",
        "        #print(all_predictions)\n",
        "        #print(\"_____\")\n",
        "        return all_predictions\n",
        "\n",
        "    def aggregate_majority_vote(self, test_loader):\n",
        "        all_predictions = self.predict_for_all_models(test_loader)\n",
        "        #print(\"aggregate_majority_vote\")\n",
        "        #print(all_predictions)\n",
        "        # Aggregate the predictions using a majority vote\n",
        "        stacked_predictions = torch.stack([torch.argmax(pred, dim=1) for pred in all_predictions])\n",
        "        aggregated_predictions = torch.mode(stacked_predictions, dim=0)[0]\n",
        "\n",
        "        prob_array = torch.zeros(10, stacked_predictions.shape[1])\n",
        "        #print(all_predictions)\n",
        "        #print(stacked_predictions)\n",
        "\n",
        "        for col in range(stacked_predictions.shape[1]):\n",
        "            for num in range(10):\n",
        "                prob_array[num, col] = torch.mean((stacked_predictions[:, col] == num).float())\n",
        "\n",
        "        #print(prob_array)\n",
        "\n",
        "        return aggregated_predictions, prob_array.T\n",
        "\n",
        "    def aggregate_weighted_average(self, test_loader, validation_loader):\n",
        "        all_predictions = self.predict_for_all_models(test_loader)\n",
        "        model_accuracies = self.compute_model_accuracies(validation_loader)\n",
        "        weighted_predictions = torch.zeros_like(all_predictions[0])\n",
        "        for model_pred, accuracy in zip(all_predictions, model_accuracies):\n",
        "            weighted_predictions += model_pred * accuracy\n",
        "        weighted_predictions = F.softmax(weighted_predictions, dim=1)\n",
        "        aggregated_predictions = torch.argmax(weighted_predictions, dim=1)\n",
        "        #print(weighted_predictions)\n",
        "        return aggregated_predictions, weighted_predictions\n",
        "\n",
        "    def compute_model_accuracies(self, validation_loader):\n",
        "        accuracies = []\n",
        "        for model in self.models:\n",
        "            correct = 0\n",
        "            total = 0\n",
        "            with torch.no_grad():\n",
        "                for inputs, labels in validation_loader:\n",
        "                    inputs, labels = inputs.to(device), labels.to(device)\n",
        "                    outputs = model(inputs)\n",
        "                    _, predicted = torch.max(outputs.data, 1)\n",
        "                    total += labels.size(0)\n",
        "                    correct += (predicted == labels).sum().item()\n",
        "            accuracy = correct / total\n",
        "            accuracies.append(accuracy)\n",
        "        return torch.tensor(accuracies)\n",
        "\n",
        "    def aggregate_simple_average(self, test_loader):\n",
        "        all_predictions = self.predict_for_all_models(test_loader)\n",
        "        # Aggregate the predictions by simple averaging of probabilities\n",
        "        averaged_probabilities = torch.mean(torch.stack(all_predictions), dim=0)\n",
        "        aggregated_predictions = torch.argmax(averaged_probabilities, dim=1)\n",
        "        #print(averaged_probabilities)\n",
        "        averaged_probabilities = F.softmax(averaged_probabilities, dim=1)\n",
        "        return aggregated_predictions, averaged_probabilities\n",
        "\n",
        "    def evaluate(self, test_loader, aggregation_function):\n",
        "        aggregated_predictions, all_probs = aggregation_function(test_loader)\n",
        "        #print(aggregated_predictions)\n",
        "        all_labels = []\n",
        "        with torch.no_grad():\n",
        "            for _, labels in test_loader:\n",
        "                all_labels.extend(labels.numpy())\n",
        "        all_preds = aggregated_predictions.cpu().numpy().tolist()\n",
        "        all_probs = all_probs.cpu().numpy().tolist()\n",
        "        all_labels = np.array(all_labels).tolist()\n",
        "        print(\"all_preds=\", all_preds)\n",
        "        print(\"all_labels\", all_labels)\n",
        "        accuracy = accuracy_score(all_labels, all_preds)\n",
        "        f1 = f1_score(all_labels, all_preds, average='weighted')\n",
        "        precision = precision_score(all_labels, all_preds, average='weighted')\n",
        "        recall = recall_score(all_labels, all_preds, average='weighted')\n",
        "        auroc = roc_auc_score(all_labels, all_probs, multi_class='ovr')\n",
        "\n",
        "        return accuracy, f1, precision, recall, auroc\n",
        "\n",
        "    def evaluate_with_weighted_aggregate(self, test_loader, aggregation_function, validation_loader):\n",
        "        aggregated_predictions, all_probs = aggregation_function(test_loader, validation_loader)\n",
        "        all_labels = []\n",
        "        with torch.no_grad():\n",
        "            for _, labels in test_loader:\n",
        "                all_labels.extend(labels.numpy())\n",
        "        all_preds = aggregated_predictions.cpu().numpy().tolist()\n",
        "        all_probs = all_probs.cpu().numpy().tolist()\n",
        "        all_labels = np.array(all_labels).tolist()\n",
        "        print(\"all_preds=\", all_preds)\n",
        "        print(\"all_labels\", all_labels)\n",
        "        accuracy = accuracy_score(all_labels, all_preds)\n",
        "        f1 = f1_score(all_labels, all_preds, average='weighted')\n",
        "        precision = precision_score(all_labels, all_preds, average='weighted')\n",
        "        recall = recall_score(all_labels, all_preds, average='weighted')\n",
        "        auroc = roc_auc_score(all_labels, all_probs, multi_class='ovr')\n",
        "\n",
        "        return accuracy, f1, precision, recall, auroc\n",
        "\n",
        "    # Unlearning Algorithm\n",
        "    def unlearn(self, dataset, num_samples=500):\n",
        "        start_time = time.time()  # Start timing\n",
        "        # Randomly choose samples to forget\n",
        "        forget_indices = np.random.choice(len(dataset), num_samples, replace=False)\n",
        "        print(forget_indices)\n",
        "\n",
        "\n",
        "        # Reinitialize models only for affected slices\n",
        "        shards = self.shard_data(dataset)\n",
        "        for idx_shard, shard in enumerate(shards, start=1):\n",
        "            slices = self.slice_data(shard)\n",
        "            flag = False\n",
        "            for idx_slice, slice in enumerate(slices, start=1):\n",
        "                slice_start_idx = (idx_shard - 1) * len(dataset) // self.S\n",
        "                slice_end_idx = slice_start_idx + idx_slice * len(shard) // self.R\n",
        "                slice_indices = set(range(slice_start_idx, slice_end_idx))\n",
        "\n",
        "                print(slice_start_idx,\" ---> \",slice_end_idx)\n",
        "                overlap = slice_indices.intersection(forget_indices)\n",
        "                if overlap:\n",
        "                    difference = {idx - slice_start_idx for idx in overlap}\n",
        "                    print(\"overlap: \", overlap)\n",
        "                    print(\"difference: \", difference)\n",
        "                    flag = True\n",
        "                    model = ModifiedResNet18().to(device)\n",
        "                    if idx_slice != 1:  # Avoid loading for the first slice\n",
        "                        model_path_prepart = os.path.join(self.model_dir, f'model_shard{idx_shard}_slice{idx_slice - 1}.pth')\n",
        "                        model.load_state_dict(torch.load(model_path_prepart))\n",
        "                    # Create new slice data without the forgotten indices\n",
        "                    retained_indices = list(set(range(len(slice))) - difference)\n",
        "                    retained_set = Subset(slice, retained_indices)\n",
        "                    retained_loader = DataLoader(retained_set, batch_size=64, shuffle=True)\n",
        "                    optimizer = optim.SGD(model.parameters(), lr=0.01, momentum=0.9)\n",
        "                    criterion = nn.CrossEntropyLoss()\n",
        "                    model.train()\n",
        "                    for epoch in range(self.epochs):\n",
        "                        for inputs, labels in retained_loader:\n",
        "                            inputs, labels = inputs.to(device), labels.to(device)\n",
        "                            optimizer.zero_grad()\n",
        "                            outputs = model(inputs)\n",
        "                            loss = criterion(outputs, labels)\n",
        "                            loss.backward()\n",
        "                            optimizer.step()\n",
        "                        print(f\"@ shard: {idx_shard}, @ slice: {idx_slice}, @ epoch: {epoch + 1}, loss: {loss.item()}\")\n",
        "\n",
        "                    # Save the updated model\n",
        "                    model_path = os.path.join(self.model_dir, f'model_shard{idx_shard}_slice{idx_slice}.pth')\n",
        "                    if os.path.exists(model_path):\n",
        "                        os.remove(model_path)\n",
        "                    torch.save(model.state_dict(), model_path)\n",
        "                    self.slice_models[(idx_shard, idx_slice)] = model_path\n",
        "\n",
        "            if flag == False:\n",
        "                  print(\"shard:\",idx_shard,\" model dont change\")\n",
        "\n",
        "        self.unlearning_time = time.time() - start_time  # Record unlearning time\n",
        "\n",
        "\n",
        "    # Unlearning Algorithm\n",
        "    def unlearn_with_indices(self, dataset, forget_indices):\n",
        "        start_time = time.time()  # Start timing\n",
        "        print(forget_indices)\n",
        "\n",
        "\n",
        "        # Reinitialize models only for affected slices\n",
        "        shards = self.shard_data(dataset)\n",
        "        for idx_shard, shard in enumerate(shards, start=1):\n",
        "            slices = self.slice_data(shard)\n",
        "            flag = False\n",
        "            for idx_slice, slice in enumerate(slices, start=1):\n",
        "                slice_start_idx = (idx_shard - 1) * len(dataset) // self.S\n",
        "                slice_end_idx = slice_start_idx + idx_slice * len(shard) // self.R\n",
        "                slice_indices = set(range(slice_start_idx, slice_end_idx))\n",
        "\n",
        "                print(slice_start_idx,\" ---> \",slice_end_idx)\n",
        "                overlap = slice_indices.intersection(forget_indices)\n",
        "                if overlap:\n",
        "                    difference = {idx - slice_start_idx for idx in overlap}\n",
        "                    print(\"overlap: \", overlap)\n",
        "                    print(\"difference: \", difference)\n",
        "                    flag = True\n",
        "                    model = ModifiedResNet18().to(device)\n",
        "                    if idx_slice != 1:  # Avoid loading for the first slice\n",
        "                        print(\"idx_slice != 1\")\n",
        "                        model_path_prepart = os.path.join(self.model_dir, f'model_shard{idx_shard}_slice{idx_slice - 1}.pth')\n",
        "                        model.load_state_dict(torch.load(model_path_prepart))\n",
        "                    # Create new slice data without the forgotten indices\n",
        "                    retained_indices = list(set(range(len(slice))) - difference)\n",
        "                    retained_set = Subset(slice, retained_indices)\n",
        "                    retained_loader = DataLoader(retained_set, batch_size=64, shuffle=True)\n",
        "                    optimizer = optim.SGD(model.parameters(), lr=0.01, momentum=0.9)\n",
        "                    criterion = nn.CrossEntropyLoss()\n",
        "                    model.train()\n",
        "                    for epoch in range(self.epochs):\n",
        "                        for inputs, labels in retained_loader:\n",
        "                            inputs, labels = inputs.to(device), labels.to(device)\n",
        "                            optimizer.zero_grad()\n",
        "                            outputs = model(inputs)\n",
        "                            loss = criterion(outputs, labels)\n",
        "                            loss.backward()\n",
        "                            optimizer.step()\n",
        "                        print(f\"@ shard: {idx_shard}, @ slice: {idx_slice}, @ epoch: {epoch + 1}, loss: {loss.item()}\")\n",
        "\n",
        "                    # Save the updated model\n",
        "                    model_path = os.path.join(self.model_dir, f'model_shard{idx_shard}_slice{idx_slice}.pth')\n",
        "                    if os.path.exists(model_path):\n",
        "                        os.remove(model_path)\n",
        "                    torch.save(model.state_dict(), model_path)\n",
        "                    self.slice_models[(idx_shard, idx_slice)] = model_path\n",
        "\n",
        "            if flag == False:\n",
        "                  print(\"shard:\",idx_shard,\" model dont change\")\n",
        "\n",
        "        self.unlearning_time = time.time() - start_time  # Record unlearning time\n"
      ]
    },
    {
      "cell_type": "markdown",
      "metadata": {
        "id": "inZsijAEPl0D"
      },
      "source": [
        "**Trainig Data:**"
      ]
    },
    {
      "cell_type": "code",
      "execution_count": null,
      "metadata": {
        "colab": {
          "base_uri": "https://localhost:8080/"
        },
        "id": "Lrla1x4T2Dlq",
        "outputId": "d5ae1b10-d160-4f6c-a93c-4289264210e4"
      },
      "outputs": [
        {
          "name": "stdout",
          "output_type": "stream",
          "text": [
            "Downloading https://www.cs.toronto.edu/~kriz/cifar-10-python.tar.gz to ./data/cifar-10-python.tar.gz\n"
          ]
        },
        {
          "name": "stderr",
          "output_type": "stream",
          "text": [
            "100%|██████████| 170498071/170498071 [00:12<00:00, 13327880.22it/s]\n"
          ]
        },
        {
          "name": "stdout",
          "output_type": "stream",
          "text": [
            "Extracting ./data/cifar-10-python.tar.gz to ./data\n"
          ]
        }
      ],
      "source": [
        "# transform to include resizing to 224x224\n",
        "transform = transforms.Compose([\n",
        "    transforms.Resize((224, 224)),\n",
        "    transforms.ToTensor(),\n",
        "    transforms.Normalize((0.485, 0.456, 0.406), (0.229, 0.224, 0.225))\n",
        "])\n",
        "\n",
        "cifar10_train = datasets.CIFAR10(root='./data', train=True, download=True, transform=transform)"
      ]
    },
    {
      "cell_type": "markdown",
      "metadata": {
        "id": "WTakuhrBPLKW"
      },
      "source": [
        "## **S=5 R=5 :**"
      ]
    },
    {
      "cell_type": "markdown",
      "metadata": {
        "id": "X8yPbPkkYWYB"
      },
      "source": [
        "**Initialize SISA**"
      ]
    },
    {
      "cell_type": "code",
      "execution_count": null,
      "metadata": {
        "id": "CzTzFS0EYUgd"
      },
      "outputs": [],
      "source": [
        "S = 5\n",
        "R = 5\n",
        "epochs = 5\n",
        "\n",
        "sisa_S5_R5 = SISA(S, R, epochs)"
      ]
    },
    {
      "cell_type": "markdown",
      "metadata": {
        "id": "_J9aeUpTWlot"
      },
      "source": [
        "**download model from saved files:**"
      ]
    },
    {
      "cell_type": "code",
      "execution_count": null,
      "metadata": {
        "colab": {
          "base_uri": "https://localhost:8080/"
        },
        "id": "uero7gtKWl49",
        "outputId": "219ad5c9-89cb-44f3-a4c3-5354269b7101"
      },
      "outputs": [
        {
          "name": "stdout",
          "output_type": "stream",
          "text": [
            "Downloaded models_S5_R5.zip from Google Drive\n"
          ]
        },
        {
          "name": "stderr",
          "output_type": "stream",
          "text": [
            "/usr/local/lib/python3.10/dist-packages/torchvision/models/_utils.py:208: UserWarning: The parameter 'pretrained' is deprecated since 0.13 and may be removed in the future, please use 'weights' instead.\n",
            "  warnings.warn(\n",
            "/usr/local/lib/python3.10/dist-packages/torchvision/models/_utils.py:223: UserWarning: Arguments other than a weight enum or `None` for 'weights' are deprecated since 0.13 and may be removed in the future. The current behavior is equivalent to passing `weights=ResNet18_Weights.IMAGENET1K_V1`. You can also use `weights=ResNet18_Weights.DEFAULT` to get the most up-to-date weights.\n",
            "  warnings.warn(msg)\n",
            "Downloading: \"https://download.pytorch.org/models/resnet18-f37072fd.pth\" to /root/.cache/torch/hub/checkpoints/resnet18-f37072fd.pth\n",
            "100%|██████████| 44.7M/44.7M [00:02<00:00, 23.0MB/s]\n"
          ]
        },
        {
          "name": "stdout",
          "output_type": "stream",
          "text": [
            "loading shard: 1\n",
            "loading shard: 2\n",
            "loading shard: 3\n",
            "loading shard: 4\n",
            "loading shard: 5\n"
          ]
        }
      ],
      "source": [
        "# Google Drive file ID of the saved model zip file (replace this with your actual file ID)\n",
        "file_id = '1YQwzzpRoQuNQ1ubKp5LDbthBdSnMVIoP'\n",
        "\n",
        "# Download and extract models\n",
        "sisa_S5_R5.download_and_extract_models_from_drive(file_id)"
      ]
    },
    {
      "cell_type": "code",
      "execution_count": null,
      "metadata": {
        "colab": {
          "base_uri": "https://localhost:8080/"
        },
        "id": "9pGt7Xr9zHM2",
        "outputId": "3975a32c-60e8-4806-b41a-ac7600c2f542"
      },
      "outputs": [
        {
          "name": "stderr",
          "output_type": "stream",
          "text": [
            "/usr/local/lib/python3.10/dist-packages/torchvision/models/_utils.py:208: UserWarning: The parameter 'pretrained' is deprecated since 0.13 and may be removed in the future, please use 'weights' instead.\n",
            "  warnings.warn(\n",
            "/usr/local/lib/python3.10/dist-packages/torchvision/models/_utils.py:223: UserWarning: Arguments other than a weight enum or `None` for 'weights' are deprecated since 0.13 and may be removed in the future. The current behavior is equivalent to passing `weights=ResNet18_Weights.IMAGENET1K_V1`. You can also use `weights=ResNet18_Weights.DEFAULT` to get the most up-to-date weights.\n",
            "  warnings.warn(msg)\n"
          ]
        },
        {
          "name": "stdout",
          "output_type": "stream",
          "text": [
            "loading shard: 1\n",
            "loading shard: 2\n",
            "loading shard: 3\n",
            "loading shard: 4\n",
            "loading shard: 5\n"
          ]
        }
      ],
      "source": [
        "sisa_S5_R5.extract_and_load_model('/content/models_S5_R5.zip')"
      ]
    },
    {
      "cell_type": "code",
      "execution_count": null,
      "metadata": {
        "id": "oNMtlwpPoMzX"
      },
      "outputs": [],
      "source": [
        "# Load models\n",
        "sisa_S5_R5.load_models()\n",
        "\n",
        "# Verify loaded models\n",
        "print(f\"Loaded {len(sisa_S5_R5.models)} models.\")"
      ]
    },
    {
      "cell_type": "markdown",
      "metadata": {
        "id": "mgkMrDLVPXNI"
      },
      "source": [
        "**Training:**"
      ]
    },
    {
      "cell_type": "code",
      "execution_count": null,
      "metadata": {
        "colab": {
          "base_uri": "https://localhost:8080/"
        },
        "id": "1My70D1D2Aoj",
        "outputId": "0d43371b-e118-4d0a-bd0e-0dc31afd1e92"
      },
      "outputs": [
        {
          "name": "stderr",
          "output_type": "stream",
          "text": [
            "/usr/local/lib/python3.10/dist-packages/torchvision/models/_utils.py:208: UserWarning: The parameter 'pretrained' is deprecated since 0.13 and may be removed in the future, please use 'weights' instead.\n",
            "  warnings.warn(\n",
            "/usr/local/lib/python3.10/dist-packages/torchvision/models/_utils.py:223: UserWarning: Arguments other than a weight enum or `None` for 'weights' are deprecated since 0.13 and may be removed in the future. The current behavior is equivalent to passing `weights=ResNet18_Weights.IMAGENET1K_V1`. You can also use `weights=ResNet18_Weights.DEFAULT` to get the most up-to-date weights.\n",
            "  warnings.warn(msg)\n",
            "Downloading: \"https://download.pytorch.org/models/resnet18-f37072fd.pth\" to /root/.cache/torch/hub/checkpoints/resnet18-f37072fd.pth\n",
            "100%|██████████| 44.7M/44.7M [00:00<00:00, 65.8MB/s]\n"
          ]
        },
        {
          "name": "stdout",
          "output_type": "stream",
          "text": [
            "@ shard: 1  @ slice: 1 @ epoch: 0   loss= 1.0347992181777954\n",
            "@ shard: 1  @ slice: 1 @ epoch: 1   loss= 0.7653300762176514\n",
            "@ shard: 1  @ slice: 1 @ epoch: 2   loss= 0.29437288641929626\n",
            "@ shard: 1  @ slice: 1 @ epoch: 3   loss= 0.10116563737392426\n",
            "@ shard: 1  @ slice: 1 @ epoch: 4   loss= 0.12522274255752563\n",
            "@ shard: 1  @ slice: 2 @ epoch: 0   loss= 0.5618718266487122\n",
            "@ shard: 1  @ slice: 2 @ epoch: 1   loss= 0.09842759370803833\n",
            "@ shard: 1  @ slice: 2 @ epoch: 2   loss= 0.32962387800216675\n",
            "@ shard: 1  @ slice: 2 @ epoch: 3   loss= 0.047447845339775085\n",
            "@ shard: 1  @ slice: 2 @ epoch: 4   loss= 0.0023070734459906816\n",
            "@ shard: 1  @ slice: 3 @ epoch: 0   loss= 0.5936269164085388\n",
            "@ shard: 1  @ slice: 3 @ epoch: 1   loss= 0.6736375093460083\n",
            "@ shard: 1  @ slice: 3 @ epoch: 2   loss= 0.09980056434869766\n",
            "@ shard: 1  @ slice: 3 @ epoch: 3   loss= 0.08890807628631592\n",
            "@ shard: 1  @ slice: 3 @ epoch: 4   loss= 0.02499321661889553\n",
            "@ shard: 1  @ slice: 4 @ epoch: 0   loss= 0.592962384223938\n",
            "@ shard: 1  @ slice: 4 @ epoch: 1   loss= 0.5895374417304993\n",
            "@ shard: 1  @ slice: 4 @ epoch: 2   loss= 0.1213940903544426\n",
            "@ shard: 1  @ slice: 4 @ epoch: 3   loss= 0.398007333278656\n",
            "@ shard: 1  @ slice: 4 @ epoch: 4   loss= 0.07261038571596146\n",
            "@ shard: 1  @ slice: 5 @ epoch: 0   loss= 0.6457508206367493\n",
            "@ shard: 1  @ slice: 5 @ epoch: 1   loss= 0.3240281641483307\n",
            "@ shard: 1  @ slice: 5 @ epoch: 2   loss= 0.4022546410560608\n",
            "@ shard: 1  @ slice: 5 @ epoch: 3   loss= 0.014692804776132107\n",
            "@ shard: 1  @ slice: 5 @ epoch: 4   loss= 0.08865508437156677\n",
            "@ shard: 2  @ slice: 1 @ epoch: 0   loss= 1.089349389076233\n",
            "@ shard: 2  @ slice: 1 @ epoch: 1   loss= 0.7254292368888855\n",
            "@ shard: 2  @ slice: 1 @ epoch: 2   loss= 1.1381628513336182\n",
            "@ shard: 2  @ slice: 1 @ epoch: 3   loss= 0.04358400031924248\n",
            "@ shard: 2  @ slice: 1 @ epoch: 4   loss= 0.04035428166389465\n",
            "@ shard: 2  @ slice: 2 @ epoch: 0   loss= 0.7440418601036072\n",
            "@ shard: 2  @ slice: 2 @ epoch: 1   loss= 0.36206701397895813\n",
            "@ shard: 2  @ slice: 2 @ epoch: 2   loss= 0.48074114322662354\n",
            "@ shard: 2  @ slice: 2 @ epoch: 3   loss= 0.3090599477291107\n",
            "@ shard: 2  @ slice: 2 @ epoch: 4   loss= 0.011527111753821373\n",
            "@ shard: 2  @ slice: 3 @ epoch: 0   loss= 0.5302569270133972\n",
            "@ shard: 2  @ slice: 3 @ epoch: 1   loss= 0.5269346237182617\n",
            "@ shard: 2  @ slice: 3 @ epoch: 2   loss= 0.9426324367523193\n",
            "@ shard: 2  @ slice: 3 @ epoch: 3   loss= 0.011410041712224483\n",
            "@ shard: 2  @ slice: 3 @ epoch: 4   loss= 0.017366044223308563\n",
            "@ shard: 2  @ slice: 4 @ epoch: 0   loss= 0.6613370776176453\n",
            "@ shard: 2  @ slice: 4 @ epoch: 1   loss= 0.13686293363571167\n",
            "@ shard: 2  @ slice: 4 @ epoch: 2   loss= 0.14295703172683716\n",
            "@ shard: 2  @ slice: 4 @ epoch: 3   loss= 0.02219781093299389\n",
            "@ shard: 2  @ slice: 4 @ epoch: 4   loss= 0.13482697308063507\n",
            "@ shard: 2  @ slice: 5 @ epoch: 0   loss= 0.20571282505989075\n",
            "@ shard: 2  @ slice: 5 @ epoch: 1   loss= 0.08863454312086105\n",
            "@ shard: 2  @ slice: 5 @ epoch: 2   loss= 0.12055857479572296\n",
            "@ shard: 2  @ slice: 5 @ epoch: 3   loss= 0.3521650433540344\n",
            "@ shard: 2  @ slice: 5 @ epoch: 4   loss= 0.2045067846775055\n",
            "@ shard: 3  @ slice: 1 @ epoch: 0   loss= 0.7857494354248047\n",
            "@ shard: 3  @ slice: 1 @ epoch: 1   loss= 0.5831397771835327\n",
            "@ shard: 3  @ slice: 1 @ epoch: 2   loss= 0.45585691928863525\n",
            "@ shard: 3  @ slice: 1 @ epoch: 3   loss= 0.10129551589488983\n",
            "@ shard: 3  @ slice: 1 @ epoch: 4   loss= 0.03775178641080856\n",
            "@ shard: 3  @ slice: 2 @ epoch: 0   loss= 0.8722288608551025\n",
            "@ shard: 3  @ slice: 2 @ epoch: 1   loss= 0.4677455723285675\n",
            "@ shard: 3  @ slice: 2 @ epoch: 2   loss= 0.11275869607925415\n",
            "@ shard: 3  @ slice: 2 @ epoch: 3   loss= 0.8686169981956482\n",
            "@ shard: 3  @ slice: 2 @ epoch: 4   loss= 0.41651538014411926\n",
            "@ shard: 3  @ slice: 3 @ epoch: 0   loss= 0.977324366569519\n",
            "@ shard: 3  @ slice: 3 @ epoch: 1   loss= 0.13755255937576294\n",
            "@ shard: 3  @ slice: 3 @ epoch: 2   loss= 0.07421988248825073\n",
            "@ shard: 3  @ slice: 3 @ epoch: 3   loss= 0.04418761283159256\n",
            "@ shard: 3  @ slice: 3 @ epoch: 4   loss= 0.026179121807217598\n",
            "@ shard: 3  @ slice: 4 @ epoch: 0   loss= 0.3312676250934601\n",
            "@ shard: 3  @ slice: 4 @ epoch: 1   loss= 0.11422315239906311\n",
            "@ shard: 3  @ slice: 4 @ epoch: 2   loss= 0.041021719574928284\n",
            "@ shard: 3  @ slice: 4 @ epoch: 3   loss= 0.4941985607147217\n",
            "@ shard: 3  @ slice: 4 @ epoch: 4   loss= 0.005313556175678968\n",
            "@ shard: 3  @ slice: 5 @ epoch: 0   loss= 0.4473026394844055\n",
            "@ shard: 3  @ slice: 5 @ epoch: 1   loss= 0.2517094910144806\n",
            "@ shard: 3  @ slice: 5 @ epoch: 2   loss= 0.03279528394341469\n",
            "@ shard: 3  @ slice: 5 @ epoch: 3   loss= 0.005837773904204369\n",
            "@ shard: 3  @ slice: 5 @ epoch: 4   loss= 0.061930444091558456\n",
            "@ shard: 4  @ slice: 1 @ epoch: 0   loss= 1.3145544528961182\n",
            "@ shard: 4  @ slice: 1 @ epoch: 1   loss= 1.3435088396072388\n",
            "@ shard: 4  @ slice: 1 @ epoch: 2   loss= 0.36905622482299805\n",
            "@ shard: 4  @ slice: 1 @ epoch: 3   loss= 0.38218772411346436\n",
            "@ shard: 4  @ slice: 1 @ epoch: 4   loss= 0.07103623449802399\n",
            "@ shard: 4  @ slice: 2 @ epoch: 0   loss= 0.6943441033363342\n",
            "@ shard: 4  @ slice: 2 @ epoch: 1   loss= 0.4059511721134186\n",
            "@ shard: 4  @ slice: 2 @ epoch: 2   loss= 0.53806072473526\n",
            "@ shard: 4  @ slice: 2 @ epoch: 3   loss= 0.14073897898197174\n",
            "@ shard: 4  @ slice: 2 @ epoch: 4   loss= 0.4326443374156952\n",
            "@ shard: 4  @ slice: 3 @ epoch: 0   loss= 0.8750355243682861\n",
            "@ shard: 4  @ slice: 3 @ epoch: 1   loss= 0.04340893402695656\n",
            "@ shard: 4  @ slice: 3 @ epoch: 2   loss= 0.06053028255701065\n",
            "@ shard: 4  @ slice: 3 @ epoch: 3   loss= 0.03210179880261421\n",
            "@ shard: 4  @ slice: 3 @ epoch: 4   loss= 0.014721419662237167\n",
            "@ shard: 4  @ slice: 4 @ epoch: 0   loss= 0.24131326377391815\n",
            "@ shard: 4  @ slice: 4 @ epoch: 1   loss= 0.21653707325458527\n",
            "@ shard: 4  @ slice: 4 @ epoch: 2   loss= 0.2457503378391266\n",
            "@ shard: 4  @ slice: 4 @ epoch: 3   loss= 0.03908366709947586\n",
            "@ shard: 4  @ slice: 4 @ epoch: 4   loss= 0.005347414407879114\n",
            "@ shard: 4  @ slice: 5 @ epoch: 0   loss= 1.0957984924316406\n",
            "@ shard: 4  @ slice: 5 @ epoch: 1   loss= 0.178094744682312\n",
            "@ shard: 4  @ slice: 5 @ epoch: 2   loss= 0.26280903816223145\n",
            "@ shard: 4  @ slice: 5 @ epoch: 3   loss= 0.07899041473865509\n",
            "@ shard: 4  @ slice: 5 @ epoch: 4   loss= 0.054647114127874374\n",
            "@ shard: 5  @ slice: 1 @ epoch: 0   loss= 1.078370213508606\n",
            "@ shard: 5  @ slice: 1 @ epoch: 1   loss= 0.5551314353942871\n",
            "@ shard: 5  @ slice: 1 @ epoch: 2   loss= 0.4228850305080414\n",
            "@ shard: 5  @ slice: 1 @ epoch: 3   loss= 0.07768434286117554\n",
            "@ shard: 5  @ slice: 1 @ epoch: 4   loss= 0.17077095806598663\n",
            "@ shard: 5  @ slice: 2 @ epoch: 0   loss= 0.6755669713020325\n",
            "@ shard: 5  @ slice: 2 @ epoch: 1   loss= 0.40952733159065247\n",
            "@ shard: 5  @ slice: 2 @ epoch: 2   loss= 0.12818299233913422\n",
            "@ shard: 5  @ slice: 2 @ epoch: 3   loss= 0.02064906433224678\n",
            "@ shard: 5  @ slice: 2 @ epoch: 4   loss= 0.012035554274916649\n",
            "@ shard: 5  @ slice: 3 @ epoch: 0   loss= 0.41571706533432007\n",
            "@ shard: 5  @ slice: 3 @ epoch: 1   loss= 0.33500972390174866\n",
            "@ shard: 5  @ slice: 3 @ epoch: 2   loss= 0.004018120002001524\n",
            "@ shard: 5  @ slice: 3 @ epoch: 3   loss= 0.020125141367316246\n",
            "@ shard: 5  @ slice: 3 @ epoch: 4   loss= 0.08747054636478424\n",
            "@ shard: 5  @ slice: 4 @ epoch: 0   loss= 0.3702242970466614\n",
            "@ shard: 5  @ slice: 4 @ epoch: 1   loss= 0.31850504875183105\n",
            "@ shard: 5  @ slice: 4 @ epoch: 2   loss= 0.0611547976732254\n",
            "@ shard: 5  @ slice: 4 @ epoch: 3   loss= 0.069586381316185\n",
            "@ shard: 5  @ slice: 4 @ epoch: 4   loss= 0.011654657311737537\n",
            "@ shard: 5  @ slice: 5 @ epoch: 0   loss= 0.8595491051673889\n",
            "@ shard: 5  @ slice: 5 @ epoch: 1   loss= 0.4782106280326843\n",
            "@ shard: 5  @ slice: 5 @ epoch: 2   loss= 0.5467044115066528\n",
            "@ shard: 5  @ slice: 5 @ epoch: 3   loss= 0.14940029382705688\n",
            "@ shard: 5  @ slice: 5 @ epoch: 4   loss= 0.002545858733355999\n"
          ]
        }
      ],
      "source": [
        "sisa_S5_R5.train(cifar10_train)"
      ]
    },
    {
      "cell_type": "markdown",
      "metadata": {
        "id": "4zMH2zTnPtJu"
      },
      "source": [
        "Upload model on google drive:"
      ]
    },
    {
      "cell_type": "code",
      "execution_count": null,
      "metadata": {
        "colab": {
          "base_uri": "https://localhost:8080/",
          "height": 53
        },
        "id": "1OaPdKuuilb4",
        "outputId": "591a507c-62d3-4c30-a4cc-fde8c3a22a2a"
      },
      "outputs": [
        {
          "name": "stdout",
          "output_type": "stream",
          "text": [
            "Uploaded file with ID 1YQwzzpRoQuNQ1ubKp5LDbthBdSnMVIoP\n"
          ]
        },
        {
          "data": {
            "application/vnd.google.colaboratory.intrinsic+json": {
              "type": "string"
            },
            "text/plain": [
              "'1YQwzzpRoQuNQ1ubKp5LDbthBdSnMVIoP'"
            ]
          },
          "execution_count": 10,
          "metadata": {},
          "output_type": "execute_result"
        }
      ],
      "source": [
        "sisa_S5_R5.upload_models_to_drive()"
      ]
    },
    {
      "cell_type": "markdown",
      "metadata": {
        "id": "1FXa9sI5QEKj"
      },
      "source": [
        "Test Data:"
      ]
    },
    {
      "cell_type": "code",
      "execution_count": null,
      "metadata": {
        "colab": {
          "base_uri": "https://localhost:8080/"
        },
        "id": "lPtXC9FOM3bh",
        "outputId": "74419de2-5ff9-48c7-faf2-5b5824bac9e9"
      },
      "outputs": [
        {
          "name": "stdout",
          "output_type": "stream",
          "text": [
            "Files already downloaded and verified\n"
          ]
        }
      ],
      "source": [
        "cifar10_test = datasets.CIFAR10(root='./data', train=False, download=True, transform=transform)\n",
        "\n",
        "# Get a sample of 100 test examples\n",
        "sample_indices = torch.randperm(len(cifar10_test))[:1000]\n",
        "test_data = torch.utils.data.Subset(cifar10_test, sample_indices)\n",
        "\n",
        "test_loader = torch.utils.data.DataLoader(test_data, batch_size=64, shuffle=False)"
      ]
    },
    {
      "cell_type": "markdown",
      "metadata": {
        "id": "0Q1gH_QTQJID"
      },
      "source": [
        "*  **weighted average aggregation:**"
      ]
    },
    {
      "cell_type": "code",
      "execution_count": null,
      "metadata": {
        "colab": {
          "base_uri": "https://localhost:8080/"
        },
        "id": "jlP8H3LqMx8C",
        "outputId": "aa2c85df-d149-46de-f68a-e532a457b019"
      },
      "outputs": [
        {
          "name": "stdout",
          "output_type": "stream",
          "text": [
            "all_preds= [8, 6, 0, 4, 1, 1, 7, 5, 2, 9, 3, 1, 8, 0, 4, 6, 2, 3, 2, 8, 6, 4, 9, 2, 4, 3, 0, 9, 9, 9, 1, 6, 8, 2, 5, 1, 5, 2, 6, 6, 9, 7, 1, 7, 7, 3, 7, 3, 5, 7, 4, 8, 9, 5, 0, 3, 7, 4, 2, 7, 8, 5, 7, 3, 7, 1, 5, 1, 8, 8, 0, 6, 7, 4, 3, 4, 3, 0, 0, 7, 2, 0, 2, 4, 9, 8, 0, 6, 0, 5, 4, 1, 0, 4, 2, 3, 2, 9, 0, 9, 0, 4, 1, 7, 2, 7, 3, 9, 4, 8, 6, 0, 7, 9, 9, 8, 1, 4, 6, 5, 2, 3, 5, 8, 9, 8, 0, 9, 0, 4, 1, 2, 9, 6, 0, 7, 5, 8, 1, 1, 3, 1, 3, 1, 4, 4, 4, 8, 6, 1, 5, 5, 2, 3, 9, 4, 8, 9, 4, 2, 8, 6, 0, 0, 1, 8, 8, 5, 3, 6, 2, 7, 0, 8, 5, 9, 0, 7, 0, 6, 1, 6, 8, 2, 6, 0, 7, 5, 0, 8, 3, 2, 5, 3, 6, 7, 0, 0, 8, 4, 4, 4, 4, 2, 2, 0, 6, 4, 2, 3, 8, 7, 4, 0, 0, 8, 4, 1, 4, 8, 7, 2, 5, 8, 6, 7, 1, 0, 5, 9, 4, 4, 3, 3, 2, 3, 2, 0, 5, 0, 7, 2, 4, 6, 4, 0, 5, 5, 1, 6, 4, 5, 7, 5, 9, 4, 4, 1, 7, 0, 0, 1, 7, 3, 7, 8, 4, 4, 4, 7, 6, 2, 8, 1, 0, 1, 8, 9, 1, 5, 9, 3, 4, 6, 0, 8, 6, 6, 2, 5, 4, 6, 0, 1, 0, 6, 1, 1, 7, 2, 5, 2, 1, 5, 1, 6, 3, 7, 3, 5, 5, 3, 0, 6, 0, 8, 4, 1, 0, 9, 1, 8, 9, 8, 6, 9, 7, 1, 7, 9, 8, 9, 6, 3, 4, 6, 4, 5, 1, 1, 0, 0, 1, 6, 5, 5, 7, 1, 1, 7, 4, 3, 8, 4, 4, 0, 4, 4, 7, 5, 0, 5, 2, 1, 2, 6, 7, 3, 4, 3, 2, 4, 3, 5, 6, 3, 8, 3, 4, 3, 3, 2, 9, 0, 7, 9, 2, 1, 4, 0, 8, 3, 8, 0, 4, 8, 5, 6, 3, 5, 3, 7, 8, 9, 3, 1, 8, 2, 4, 7, 6, 9, 1, 8, 4, 1, 4, 1, 7, 0, 8, 4, 9, 5, 3, 5, 6, 7, 6, 8, 6, 5, 1, 5, 2, 2, 0, 1, 5, 9, 6, 4, 9, 2, 0, 4, 7, 6, 9, 7, 6, 5, 3, 3, 8, 1, 9, 7, 4, 4, 1, 9, 1, 3, 4, 7, 2, 9, 3, 2, 8, 3, 8, 5, 4, 9, 3, 8, 6, 9, 5, 8, 0, 2, 0, 6, 5, 8, 6, 5, 9, 8, 6, 0, 7, 7, 7, 3, 7, 0, 1, 8, 6, 1, 6, 4, 6, 5, 5, 2, 4, 4, 1, 0, 5, 5, 1, 5, 3, 6, 7, 3, 2, 9, 0, 2, 3, 2, 9, 4, 8, 9, 7, 7, 8, 9, 1, 9, 5, 3, 2, 8, 0, 8, 2, 7, 5, 4, 2, 9, 6, 2, 8, 2, 1, 1, 8, 5, 8, 3, 0, 5, 0, 2, 4, 5, 7, 2, 0, 9, 2, 9, 4, 4, 5, 0, 3, 3, 1, 9, 2, 9, 9, 6, 5, 9, 5, 4, 3, 9, 7, 1, 8, 8, 4, 5, 5, 9, 4, 4, 2, 6, 3, 8, 4, 0, 3, 8, 4, 0, 3, 3, 3, 2, 6, 6, 7, 7, 5, 1, 1, 3, 2, 2, 4, 4, 8, 5, 0, 5, 2, 7, 3, 5, 2, 1, 0, 7, 0, 8, 5, 1, 4, 2, 6, 9, 4, 6, 9, 0, 5, 0, 8, 8, 2, 0, 1, 0, 5, 5, 0, 0, 3, 2, 0, 1, 9, 2, 2, 1, 9, 0, 4, 8, 6, 3, 1, 8, 0, 3, 4, 6, 3, 7, 5, 0, 7, 2, 7, 3, 2, 8, 1, 3, 5, 4, 0, 6, 9, 9, 3, 1, 1, 3, 9, 7, 0, 0, 1, 5, 2, 4, 2, 9, 6, 7, 5, 7, 0, 1, 5, 0, 1, 5, 5, 9, 7, 6, 0, 5, 4, 3, 3, 9, 6, 6, 7, 1, 6, 8, 4, 8, 3, 4, 3, 6, 3, 5, 0, 8, 8, 4, 6, 0, 2, 1, 3, 9, 3, 3, 7, 3, 9, 9, 3, 6, 2, 8, 7, 1, 6, 6, 2, 5, 0, 1, 9, 1, 8, 1, 8, 5, 3, 2, 2, 1, 4, 2, 9, 7, 4, 6, 5, 9, 1, 2, 5, 6, 5, 3, 8, 3, 7, 7, 0, 4, 3, 2, 1, 4, 6, 9, 7, 9, 3, 2, 9, 1, 7, 9, 1, 5, 1, 8, 6, 6, 2, 8, 4, 3, 7, 4, 5, 0, 7, 6, 0, 0, 7, 5, 0, 1, 2, 3, 4, 0, 3, 5, 9, 0, 9, 5, 2, 8, 4, 0, 4, 4, 3, 1, 8, 3, 5, 9, 3, 6, 5, 8, 6, 5, 1, 3, 8, 5, 2, 2, 8, 8, 9, 7, 7, 7, 4, 6, 1, 1, 9, 1, 4, 4, 2, 8, 4, 5, 9, 5, 4, 1, 1, 0, 1, 7, 2, 9, 6, 0, 0, 8, 1, 9, 1, 8, 2, 5, 7, 0, 1, 3, 5, 7, 0, 1, 6, 7, 8, 7, 3, 8, 1, 2, 4, 9, 6, 0, 0, 1, 4, 3, 1, 8, 3, 5, 5, 2, 9, 3, 3, 8, 8, 8, 7, 2, 8, 5, 8, 1, 5, 4, 8, 7, 8, 6, 6, 7, 9, 5, 1, 8, 8, 9, 5, 8, 9, 4, 3, 1, 3, 0, 0, 6, 5, 3, 0, 9, 1, 1, 8, 0, 0, 9, 6, 6, 6, 7, 4, 6, 4, 4, 2, 2]\n",
            "all_labels [8, 6, 0, 4, 1, 1, 7, 5, 2, 9, 3, 1, 8, 0, 4, 0, 5, 3, 2, 8, 6, 4, 9, 6, 4, 3, 0, 9, 9, 9, 1, 6, 8, 2, 5, 1, 5, 2, 6, 6, 9, 7, 1, 7, 7, 3, 7, 3, 5, 7, 4, 8, 9, 5, 0, 3, 7, 4, 2, 7, 8, 5, 7, 3, 7, 1, 5, 1, 8, 8, 0, 2, 7, 4, 3, 4, 3, 0, 0, 7, 2, 0, 2, 4, 9, 8, 0, 6, 0, 5, 4, 1, 0, 5, 2, 3, 2, 9, 0, 9, 0, 4, 1, 1, 2, 7, 3, 9, 6, 0, 6, 0, 7, 9, 9, 8, 1, 4, 6, 5, 2, 3, 5, 8, 9, 8, 0, 9, 0, 4, 1, 2, 9, 6, 0, 7, 5, 8, 1, 1, 5, 1, 3, 1, 4, 4, 4, 8, 6, 1, 5, 5, 2, 3, 9, 4, 8, 9, 4, 2, 8, 6, 0, 2, 1, 8, 8, 5, 5, 6, 2, 7, 0, 8, 5, 9, 0, 4, 0, 6, 1, 6, 8, 2, 6, 0, 7, 5, 0, 8, 3, 2, 5, 3, 4, 4, 0, 0, 8, 4, 4, 4, 4, 2, 2, 0, 6, 4, 2, 3, 8, 7, 4, 0, 0, 8, 4, 1, 4, 8, 7, 2, 5, 8, 6, 7, 1, 0, 5, 9, 4, 4, 3, 3, 2, 3, 2, 0, 5, 0, 7, 2, 4, 6, 4, 0, 5, 5, 1, 6, 4, 5, 7, 3, 9, 4, 4, 1, 7, 0, 0, 1, 7, 3, 7, 8, 4, 4, 4, 7, 6, 2, 8, 1, 0, 1, 8, 9, 1, 3, 9, 3, 4, 6, 0, 8, 6, 6, 2, 5, 4, 6, 0, 1, 0, 6, 1, 1, 7, 2, 7, 2, 1, 5, 1, 6, 3, 7, 3, 5, 5, 3, 3, 6, 0, 8, 4, 1, 0, 9, 1, 8, 9, 8, 6, 9, 5, 1, 7, 9, 8, 9, 6, 3, 4, 6, 4, 5, 1, 1, 3, 0, 1, 5, 5, 5, 7, 1, 1, 7, 4, 3, 8, 4, 4, 8, 4, 4, 7, 5, 1, 5, 2, 1, 2, 6, 7, 3, 4, 3, 2, 4, 3, 5, 6, 3, 8, 3, 7, 3, 3, 2, 9, 0, 7, 9, 2, 1, 4, 0, 8, 3, 8, 8, 4, 0, 5, 6, 5, 5, 5, 7, 8, 9, 3, 1, 8, 2, 4, 7, 6, 9, 1, 8, 3, 1, 7, 1, 7, 0, 8, 4, 9, 5, 3, 5, 3, 7, 6, 8, 6, 5, 1, 5, 3, 2, 0, 1, 5, 9, 6, 3, 9, 2, 0, 4, 7, 6, 9, 7, 6, 5, 3, 3, 8, 1, 9, 7, 4, 4, 1, 9, 1, 3, 0, 7, 2, 9, 5, 2, 8, 5, 0, 5, 4, 9, 3, 8, 6, 9, 5, 8, 0, 2, 2, 6, 5, 8, 6, 5, 9, 8, 6, 0, 7, 7, 7, 3, 7, 0, 1, 8, 6, 9, 6, 4, 6, 5, 5, 2, 4, 4, 1, 0, 5, 5, 1, 5, 3, 6, 7, 3, 2, 9, 0, 2, 5, 2, 1, 4, 8, 9, 7, 7, 8, 9, 9, 9, 5, 3, 7, 8, 0, 8, 2, 7, 5, 4, 2, 9, 6, 2, 8, 2, 1, 1, 8, 3, 8, 3, 0, 5, 0, 2, 4, 4, 5, 2, 0, 9, 2, 9, 4, 4, 5, 0, 3, 3, 1, 9, 2, 9, 9, 6, 5, 9, 5, 4, 3, 9, 7, 1, 3, 8, 4, 5, 5, 9, 4, 4, 2, 6, 3, 8, 4, 2, 3, 8, 4, 4, 3, 3, 3, 2, 6, 6, 7, 7, 5, 1, 1, 3, 2, 2, 4, 4, 8, 5, 0, 5, 2, 7, 3, 5, 2, 1, 2, 5, 2, 8, 5, 1, 2, 6, 6, 9, 4, 6, 9, 0, 6, 0, 8, 9, 2, 0, 1, 0, 5, 5, 0, 0, 3, 2, 0, 1, 9, 2, 2, 1, 9, 0, 4, 8, 6, 3, 1, 8, 0, 3, 4, 4, 3, 7, 3, 0, 7, 2, 7, 3, 2, 8, 1, 3, 5, 4, 0, 6, 9, 9, 3, 1, 1, 3, 9, 7, 0, 0, 1, 5, 2, 4, 2, 9, 6, 7, 5, 7, 0, 1, 5, 0, 1, 5, 5, 9, 5, 6, 0, 3, 4, 3, 3, 9, 6, 3, 7, 1, 6, 8, 4, 8, 3, 4, 3, 6, 3, 5, 0, 8, 8, 4, 3, 8, 2, 1, 3, 9, 3, 3, 7, 3, 1, 9, 5, 6, 2, 8, 7, 1, 6, 6, 2, 5, 0, 1, 9, 1, 8, 1, 8, 5, 3, 2, 2, 1, 4, 2, 9, 7, 4, 6, 5, 9, 1, 2, 5, 6, 6, 3, 8, 3, 7, 7, 0, 4, 3, 2, 1, 4, 6, 9, 7, 9, 3, 2, 9, 1, 7, 9, 1, 3, 1, 8, 6, 6, 2, 8, 4, 3, 7, 4, 5, 0, 7, 6, 0, 0, 7, 7, 0, 1, 2, 3, 4, 0, 3, 5, 9, 0, 9, 5, 5, 8, 4, 0, 4, 4, 3, 1, 8, 3, 5, 9, 3, 6, 5, 8, 6, 5, 1, 3, 8, 5, 2, 2, 8, 8, 9, 7, 7, 7, 4, 6, 1, 1, 9, 1, 4, 4, 2, 8, 4, 5, 9, 5, 7, 1, 1, 0, 1, 7, 2, 9, 6, 0, 0, 8, 1, 9, 1, 8, 2, 3, 7, 0, 1, 3, 5, 7, 8, 1, 6, 7, 8, 7, 3, 8, 1, 2, 4, 9, 6, 0, 0, 1, 5, 3, 1, 8, 3, 5, 5, 2, 9, 3, 3, 8, 8, 0, 7, 2, 8, 5, 8, 1, 5, 7, 8, 7, 8, 6, 6, 7, 9, 5, 1, 8, 8, 9, 5, 8, 9, 4, 3, 1, 3, 0, 0, 6, 5, 3, 0, 1, 1, 1, 8, 0, 0, 9, 6, 3, 6, 7, 4, 6, 4, 4, 2, 2]\n"
          ]
        }
      ],
      "source": [
        "# Get a sample of 100 validation examples\n",
        "validation_indices = torch.randperm(len(cifar10_train))[:1000]\n",
        "validation_data = torch.utils.data.Subset(cifar10_train, validation_indices)\n",
        "validation_loader = torch.utils.data.DataLoader(validation_data, batch_size=64, shuffle=False)\n",
        "\n",
        "accuracy, f1, precision, recall, auroc = sisa_S5_R5.evaluate_with_weighted_aggregate(test_loader, sisa_S5_R5.aggregate_weighted_average, validation_loader)"
      ]
    },
    {
      "cell_type": "code",
      "execution_count": null,
      "metadata": {
        "colab": {
          "base_uri": "https://localhost:8080/"
        },
        "id": "PcjSI_4fU-30",
        "outputId": "0422af3f-c1ea-429e-cfa9-f540f2e3ffbc"
      },
      "outputs": [
        {
          "name": "stdout",
          "output_type": "stream",
          "text": [
            "Accuracy: 0.9230, F1-score: 0.9228, Precision: 0.9235, Recall: 0.9230, AUROC: 0.9951\n"
          ]
        }
      ],
      "source": [
        "print(f'Accuracy: {accuracy:.4f}, F1-score: {f1:.4f}, Precision: {precision:.4f}, Recall: {recall:.4f}, AUROC: {auroc:.4f}')"
      ]
    },
    {
      "cell_type": "markdown",
      "metadata": {
        "id": "PtYt7RkmRMIX"
      },
      "source": [
        "*  **average aggregation:**"
      ]
    },
    {
      "cell_type": "code",
      "execution_count": null,
      "metadata": {
        "colab": {
          "base_uri": "https://localhost:8080/"
        },
        "id": "Xrcwt1gt2Llx",
        "outputId": "285a7131-d4dd-443a-8250-29d1b160bb3b"
      },
      "outputs": [
        {
          "name": "stdout",
          "output_type": "stream",
          "text": [
            "all_preds= [5, 7, 9, 4, 3, 3, 7, 0, 8, 5, 4, 4, 3, 3, 6, 7, 4, 3, 5, 9, 0, 4, 8, 0, 0, 1, 9, 2, 2, 3, 3, 8, 7, 3, 2, 3, 2, 2, 7, 7, 7, 9, 5, 5, 9, 1, 1, 9, 4, 7, 9, 4, 0, 2, 8, 3, 0, 6, 0, 6, 9, 7, 8, 6, 2, 7, 2, 8, 7, 3, 4, 8, 7, 2, 8, 5, 6, 9, 8, 8, 6, 4, 8, 1, 9, 0, 0, 7, 2, 9, 5, 8, 2, 8, 4, 2, 4, 8, 6, 7, 4, 3, 3, 4, 9, 7, 5, 9, 1, 6, 0, 5, 5, 1, 2, 7, 4, 2, 3, 4, 6, 8, 2, 7, 5, 6, 5, 7, 8, 7, 2, 6, 6, 7, 0, 7, 4, 8, 4, 0, 6, 3, 7, 5, 4, 1, 8, 9, 7, 2, 3, 4, 8, 4, 1, 0, 0, 9, 1, 1, 2, 9, 4, 8, 1, 9, 8, 3, 2, 9, 1, 4, 4, 4, 5, 3, 8, 6, 6, 7, 2, 4, 3, 9, 2, 8, 9, 1, 6, 0, 5, 5, 0, 4, 0, 4, 4, 9, 8, 1, 4, 1, 1, 6, 2, 5, 0, 4, 7, 0, 2, 8, 4, 7, 8, 8, 9, 9, 0, 3, 5, 9, 6, 1, 1, 9, 2, 9, 4, 1, 7, 7, 5, 5, 0, 0, 7, 7, 3, 8, 6, 3, 8, 2, 6, 1, 9, 1, 9, 4, 4, 3, 1, 5, 4, 7, 9, 0, 6, 7, 0, 6, 5, 0, 6, 2, 5, 1, 1, 1, 7, 9, 8, 4, 1, 9, 5, 2, 3, 2, 2, 7, 2, 1, 9, 9, 3, 4, 7, 1, 5, 9, 6, 6, 5, 9, 7, 9, 1, 2, 7, 5, 2, 7, 9, 8, 4, 8, 3, 9, 4, 2, 6, 8, 2, 7, 1, 3, 5, 5, 9, 3, 8, 2, 2, 0, 5, 3, 7, 7, 8, 3, 7, 8, 1, 3, 4, 9, 8, 3, 4, 6, 1, 8, 6, 9, 8, 5, 1, 6, 0, 2, 1, 9, 7, 4, 4, 0, 1, 0, 6, 1, 2, 8, 3, 6, 0, 0, 8, 8, 2, 0, 3, 3, 0, 4, 6, 6, 7, 6, 0, 0, 5, 8, 2, 3, 6, 0, 2, 4, 2, 9, 7, 7, 1, 6, 9, 4, 3, 4, 8, 8, 7, 3, 0, 9, 4, 5, 5, 9, 8, 1, 0, 7, 1, 3, 1, 5, 5, 4, 8, 9, 0, 0, 6, 7, 9, 6, 4, 1, 9, 9, 6, 0, 0, 7, 6, 9, 4, 0, 3, 5, 1, 2, 7, 3, 1, 5, 4, 0, 3, 8, 1, 0, 3, 6, 0, 3, 8, 6, 1, 3, 8, 4, 7, 7, 6, 2, 1, 6, 0, 7, 3, 6, 5, 1, 6, 4, 4, 2, 1, 5, 7, 4, 6, 2, 5, 0, 5, 0, 2, 0, 7, 0, 9, 4, 1, 3, 2, 7, 5, 4, 0, 3, 5, 5, 5, 8, 4, 8, 2, 9, 3, 4, 8, 0, 2, 9, 1, 9, 5, 1, 0, 8, 6, 8, 5, 5, 4, 9, 6, 1, 5, 3, 8, 0, 1, 4, 4, 9, 7, 8, 2, 4, 0, 1, 0, 9, 9, 1, 1, 1, 2, 2, 9, 5, 3, 5, 7, 5, 3, 6, 9, 8, 7, 5, 4, 4, 6, 5, 5, 2, 6, 3, 6, 1, 9, 7, 2, 7, 1, 7, 7, 6, 2, 2, 2, 2, 6, 8, 6, 6, 8, 1, 5, 6, 1, 6, 3, 6, 7, 5, 7, 5, 7, 2, 3, 2, 3, 4, 2, 3, 6, 1, 5, 8, 4, 0, 1, 5, 5, 2, 5, 7, 1, 7, 9, 3, 9, 3, 5, 3, 9, 8, 7, 8, 3, 4, 0, 8, 3, 9, 6, 7, 0, 3, 6, 2, 6, 7, 9, 6, 2, 6, 7, 7, 4, 5, 4, 1, 0, 5, 9, 5, 8, 2, 9, 3, 8, 9, 8, 4, 4, 9, 4, 3, 3, 2, 4, 1, 0, 3, 0, 8, 8, 2, 6, 0, 1, 1, 3, 0, 9, 7, 5, 4, 3, 0, 4, 9, 7, 2, 9, 5, 2, 1, 4, 5, 9, 3, 3, 5, 9, 7, 6, 9, 0, 9, 4, 7, 6, 3, 9, 6, 7, 8, 2, 4, 7, 5, 2, 7, 0, 0, 5, 1, 1, 3, 7, 6, 7, 1, 9, 3, 1, 0, 6, 8, 1, 3, 7, 3, 1, 5, 9, 5, 1, 9, 5, 0, 0, 1, 7, 8, 1, 8, 8, 6, 6, 3, 0, 4, 2, 2, 6, 6, 3, 5, 1, 9, 2, 5, 0, 5, 9, 6, 6, 0, 2, 2, 5, 9, 3, 7, 2, 6, 4, 2, 1, 5, 0, 0, 2, 4, 8, 2, 4, 9, 5, 1, 1, 5, 0, 9, 9, 7, 8, 7, 7, 0, 8, 4, 3, 7, 0, 3, 3, 4, 9, 4, 1, 2, 5, 8, 3, 8, 8, 6, 2, 3, 9, 7, 5, 4, 8, 5, 1, 4, 8, 8, 8, 0, 9, 6, 8, 9, 0, 8, 3, 1, 8, 1, 3, 6, 7, 2, 5, 3, 4, 7, 9, 4, 8, 4, 0, 0, 2, 4, 5, 0, 3, 3, 7, 2, 1, 3, 9, 4, 4, 2, 1, 3, 5, 9, 5, 4, 8, 7, 5, 8, 4, 7, 9, 7, 1, 3, 5, 0, 8, 0, 0, 6, 3, 0, 6, 7, 4, 2, 9, 9, 4, 0, 1, 0, 4, 0, 9, 9, 6, 7, 6, 4, 9, 7, 5, 5, 4, 4, 1, 5, 7, 3, 9, 9, 1, 1, 4, 0, 9, 6, 8, 1, 6, 5, 1, 6, 5, 2, 0, 4, 6, 5, 7, 6, 1, 2, 0, 5, 0, 9, 1, 3, 6, 3, 4, 7, 4, 7, 9, 0, 3, 5, 5, 8, 4, 6, 8, 0, 4, 5, 6, 7, 4, 4, 6, 7, 5, 4, 3, 8]\n",
            "all_labels [5, 7, 9, 4, 3, 3, 7, 0, 8, 3, 4, 2, 7, 3, 6, 7, 4, 3, 5, 9, 0, 4, 8, 0, 0, 1, 9, 2, 2, 3, 3, 8, 7, 3, 2, 3, 2, 2, 7, 7, 7, 9, 5, 5, 9, 1, 1, 9, 4, 7, 9, 4, 0, 2, 8, 3, 0, 6, 0, 6, 9, 7, 8, 6, 2, 7, 2, 8, 7, 4, 4, 8, 7, 2, 8, 5, 6, 9, 8, 8, 6, 4, 8, 1, 9, 0, 2, 7, 2, 9, 5, 8, 2, 8, 4, 2, 7, 8, 6, 7, 4, 3, 6, 4, 9, 7, 5, 9, 1, 6, 0, 5, 5, 1, 2, 7, 4, 2, 3, 4, 6, 8, 2, 7, 5, 6, 5, 7, 1, 7, 2, 6, 6, 7, 2, 5, 3, 8, 4, 9, 6, 3, 7, 5, 4, 1, 8, 9, 5, 2, 3, 4, 8, 4, 9, 3, 0, 9, 1, 1, 2, 9, 4, 8, 1, 9, 8, 3, 2, 9, 1, 4, 4, 4, 5, 3, 8, 6, 6, 7, 2, 3, 3, 9, 2, 8, 9, 1, 6, 0, 5, 5, 0, 5, 0, 4, 4, 9, 8, 1, 2, 1, 1, 6, 2, 5, 2, 4, 7, 0, 2, 8, 4, 7, 8, 8, 9, 9, 0, 3, 3, 9, 6, 1, 1, 9, 2, 9, 4, 1, 7, 7, 5, 5, 0, 0, 7, 7, 3, 8, 6, 3, 8, 2, 6, 1, 9, 1, 9, 4, 4, 5, 1, 5, 4, 3, 9, 0, 6, 7, 0, 6, 5, 0, 6, 2, 5, 1, 1, 1, 7, 9, 8, 5, 1, 9, 5, 2, 3, 2, 2, 7, 2, 1, 9, 9, 3, 4, 7, 1, 5, 9, 6, 6, 5, 9, 7, 9, 1, 2, 7, 5, 2, 7, 9, 8, 4, 8, 3, 9, 4, 2, 6, 8, 2, 7, 1, 3, 5, 5, 9, 3, 8, 2, 2, 0, 5, 3, 7, 7, 8, 3, 7, 8, 1, 3, 4, 9, 8, 3, 4, 6, 1, 8, 6, 9, 8, 5, 1, 6, 0, 2, 1, 9, 7, 4, 4, 0, 1, 2, 6, 1, 2, 8, 7, 6, 0, 0, 8, 8, 2, 0, 3, 3, 0, 4, 6, 6, 5, 6, 0, 0, 5, 8, 4, 3, 6, 0, 2, 6, 2, 1, 7, 7, 1, 6, 9, 4, 3, 4, 3, 8, 4, 3, 0, 9, 4, 5, 5, 9, 8, 1, 0, 7, 1, 3, 1, 5, 5, 4, 8, 9, 0, 0, 6, 7, 9, 6, 4, 1, 9, 9, 6, 0, 0, 7, 6, 9, 4, 0, 3, 5, 1, 2, 7, 3, 1, 5, 4, 0, 3, 8, 1, 0, 5, 6, 0, 3, 8, 6, 1, 3, 8, 4, 7, 7, 6, 2, 1, 6, 0, 7, 3, 6, 3, 9, 6, 4, 4, 2, 1, 5, 7, 4, 6, 2, 5, 0, 5, 0, 2, 0, 7, 0, 9, 4, 1, 3, 2, 7, 3, 4, 0, 3, 5, 5, 3, 8, 4, 8, 2, 9, 3, 4, 8, 0, 2, 9, 1, 9, 5, 1, 0, 8, 6, 8, 5, 5, 4, 9, 6, 1, 2, 3, 8, 0, 1, 4, 4, 1, 7, 8, 2, 4, 0, 1, 0, 9, 9, 1, 1, 1, 2, 2, 9, 3, 3, 5, 7, 5, 3, 6, 9, 8, 7, 5, 4, 4, 6, 5, 5, 2, 6, 3, 6, 1, 9, 7, 2, 7, 1, 7, 7, 6, 2, 2, 2, 2, 6, 8, 6, 6, 8, 1, 5, 6, 1, 6, 3, 6, 7, 5, 7, 5, 7, 2, 5, 2, 3, 4, 2, 4, 6, 1, 5, 8, 7, 0, 1, 5, 5, 2, 5, 7, 1, 7, 9, 3, 9, 3, 5, 3, 9, 8, 7, 8, 3, 2, 8, 8, 3, 9, 2, 7, 0, 3, 6, 2, 6, 7, 5, 6, 6, 6, 7, 7, 2, 3, 4, 1, 0, 8, 9, 5, 8, 2, 9, 3, 8, 9, 8, 4, 4, 9, 4, 5, 3, 2, 4, 1, 0, 3, 0, 1, 8, 2, 6, 0, 1, 1, 3, 0, 9, 7, 5, 4, 3, 0, 5, 1, 7, 2, 9, 5, 2, 1, 4, 5, 9, 3, 3, 5, 9, 7, 6, 9, 0, 9, 7, 7, 6, 3, 9, 6, 7, 9, 2, 7, 7, 5, 2, 7, 0, 0, 5, 1, 1, 5, 7, 6, 7, 1, 9, 3, 1, 0, 6, 8, 1, 3, 7, 3, 1, 5, 9, 5, 1, 9, 5, 0, 0, 1, 7, 8, 1, 8, 8, 3, 4, 3, 0, 4, 2, 2, 6, 6, 3, 3, 1, 9, 2, 5, 0, 5, 9, 6, 6, 0, 2, 2, 5, 9, 3, 7, 2, 6, 4, 2, 9, 5, 0, 0, 2, 4, 8, 2, 4, 9, 5, 1, 1, 5, 0, 9, 9, 7, 8, 4, 7, 0, 8, 4, 3, 7, 0, 3, 3, 4, 9, 4, 1, 2, 5, 8, 3, 8, 2, 6, 2, 3, 9, 7, 5, 4, 8, 5, 1, 4, 8, 8, 8, 0, 9, 6, 8, 9, 0, 0, 3, 1, 8, 1, 3, 6, 7, 2, 5, 3, 4, 7, 9, 4, 8, 4, 0, 0, 2, 4, 3, 0, 3, 3, 7, 2, 1, 3, 9, 4, 4, 2, 1, 3, 5, 9, 5, 4, 8, 7, 5, 8, 4, 7, 9, 7, 9, 3, 5, 0, 8, 0, 0, 6, 3, 8, 6, 7, 4, 2, 9, 9, 4, 0, 1, 0, 4, 0, 9, 9, 6, 7, 6, 4, 9, 7, 5, 5, 4, 4, 1, 5, 7, 3, 9, 9, 1, 8, 4, 0, 9, 6, 8, 1, 6, 5, 1, 6, 5, 2, 0, 4, 6, 6, 7, 6, 1, 2, 0, 5, 0, 9, 9, 3, 6, 3, 4, 7, 4, 7, 9, 0, 3, 5, 5, 0, 4, 3, 8, 0, 4, 5, 6, 7, 4, 4, 6, 7, 5, 4, 3, 8]\n"
          ]
        }
      ],
      "source": [
        "accuracy, f1, precision, recall, auroc = sisa_S5_R5.evaluate(test_loader, sisa_S5_R5.aggregate_simple_average)"
      ]
    },
    {
      "cell_type": "code",
      "execution_count": null,
      "metadata": {
        "colab": {
          "base_uri": "https://localhost:8080/"
        },
        "id": "Im6TOgfzVG4D",
        "outputId": "68cd10ad-4d5a-47a8-d71d-d48e98cf94fd"
      },
      "outputs": [
        {
          "name": "stdout",
          "output_type": "stream",
          "text": [
            "Accuracy: 0.9270, F1-score: 0.9269, Precision: 0.9278, Recall: 0.9270, AUROC: 0.9957\n"
          ]
        }
      ],
      "source": [
        "print(f'Accuracy: {accuracy:.4f}, F1-score: {f1:.4f}, Precision: {precision:.4f}, Recall: {recall:.4f}, AUROC: {auroc:.4f}')"
      ]
    },
    {
      "cell_type": "markdown",
      "metadata": {
        "id": "emD3ndGIRTZ-"
      },
      "source": [
        "*  **majority vote aggregation:**"
      ]
    },
    {
      "cell_type": "code",
      "execution_count": null,
      "metadata": {
        "colab": {
          "base_uri": "https://localhost:8080/"
        },
        "id": "Mz6NeLc7RAQB",
        "outputId": "9f7083d2-7eb5-4205-f926-886b4d1ce213"
      },
      "outputs": [
        {
          "name": "stdout",
          "output_type": "stream",
          "text": [
            "all_preds= [5, 7, 9, 4, 3, 3, 7, 0, 8, 5, 4, 4, 2, 3, 6, 7, 4, 3, 5, 0, 4, 4, 8, 0, 0, 1, 9, 2, 2, 3, 3, 8, 7, 3, 2, 3, 2, 2, 7, 7, 7, 9, 5, 5, 9, 1, 1, 9, 4, 3, 9, 4, 0, 2, 8, 3, 0, 6, 0, 6, 9, 7, 8, 6, 2, 7, 2, 8, 7, 3, 4, 8, 7, 2, 8, 5, 6, 9, 8, 8, 6, 4, 8, 1, 9, 0, 0, 7, 2, 9, 5, 8, 2, 8, 4, 2, 4, 8, 6, 7, 4, 5, 3, 4, 9, 4, 5, 9, 1, 6, 0, 5, 5, 1, 2, 7, 4, 2, 3, 4, 6, 8, 2, 7, 5, 6, 5, 7, 8, 7, 2, 6, 6, 7, 2, 7, 4, 8, 4, 0, 6, 3, 7, 5, 4, 1, 8, 9, 5, 2, 3, 4, 8, 4, 1, 0, 0, 9, 1, 1, 2, 9, 4, 8, 1, 9, 8, 3, 2, 9, 1, 4, 4, 4, 5, 3, 8, 6, 6, 7, 2, 4, 3, 9, 2, 8, 9, 1, 6, 0, 5, 5, 0, 4, 0, 4, 4, 9, 8, 1, 4, 1, 1, 6, 2, 5, 0, 4, 7, 0, 2, 8, 4, 7, 8, 8, 9, 9, 0, 3, 0, 9, 6, 1, 1, 9, 2, 9, 4, 1, 7, 7, 5, 2, 0, 0, 7, 7, 3, 8, 6, 3, 8, 2, 6, 1, 9, 1, 9, 4, 4, 3, 1, 5, 4, 3, 9, 0, 6, 7, 0, 6, 5, 0, 6, 2, 5, 1, 1, 1, 7, 9, 8, 4, 1, 9, 5, 2, 3, 2, 2, 7, 2, 1, 9, 9, 3, 4, 7, 1, 5, 9, 6, 6, 5, 9, 7, 9, 1, 2, 7, 5, 2, 7, 9, 8, 4, 8, 3, 9, 4, 2, 6, 8, 2, 7, 1, 3, 5, 5, 9, 3, 8, 2, 2, 0, 5, 3, 7, 7, 8, 3, 7, 8, 1, 3, 4, 9, 8, 3, 4, 6, 1, 8, 6, 9, 8, 5, 1, 6, 0, 2, 1, 9, 7, 4, 4, 0, 1, 0, 6, 1, 2, 8, 3, 6, 0, 0, 8, 8, 2, 0, 3, 3, 0, 4, 6, 6, 7, 6, 0, 0, 5, 8, 4, 3, 6, 0, 2, 4, 2, 9, 7, 7, 1, 6, 9, 4, 3, 4, 3, 8, 4, 3, 0, 9, 4, 5, 5, 9, 8, 1, 0, 7, 1, 3, 1, 5, 5, 4, 8, 9, 0, 0, 6, 7, 9, 6, 4, 1, 9, 9, 6, 0, 0, 7, 6, 9, 4, 0, 3, 3, 1, 2, 7, 3, 1, 5, 4, 0, 3, 8, 1, 0, 3, 6, 0, 3, 8, 6, 1, 3, 8, 4, 7, 7, 6, 2, 1, 6, 0, 7, 3, 6, 5, 1, 6, 4, 4, 2, 1, 5, 7, 4, 6, 2, 5, 0, 5, 0, 6, 0, 7, 0, 9, 4, 1, 3, 2, 7, 5, 4, 0, 3, 5, 5, 3, 8, 4, 8, 2, 9, 3, 4, 8, 0, 2, 9, 1, 9, 5, 1, 0, 8, 5, 8, 5, 5, 4, 9, 6, 1, 2, 3, 8, 0, 1, 4, 4, 9, 7, 8, 2, 4, 0, 9, 0, 9, 9, 1, 1, 1, 2, 2, 9, 5, 3, 5, 7, 5, 3, 6, 9, 8, 7, 5, 4, 4, 6, 5, 5, 2, 6, 3, 6, 1, 9, 7, 2, 7, 1, 7, 7, 6, 2, 2, 2, 2, 6, 8, 6, 6, 8, 1, 5, 6, 1, 6, 3, 6, 7, 5, 7, 5, 7, 2, 2, 2, 3, 4, 2, 3, 6, 1, 5, 8, 4, 0, 1, 5, 5, 2, 5, 7, 1, 7, 9, 3, 9, 3, 5, 3, 9, 8, 7, 8, 3, 4, 0, 8, 3, 9, 2, 7, 0, 3, 6, 2, 6, 7, 3, 6, 2, 6, 7, 7, 4, 5, 4, 1, 0, 5, 9, 3, 8, 2, 9, 3, 8, 9, 8, 4, 4, 9, 4, 3, 3, 2, 4, 1, 0, 3, 0, 1, 8, 2, 6, 0, 1, 1, 3, 0, 9, 7, 5, 4, 3, 0, 4, 9, 7, 2, 9, 5, 2, 1, 4, 5, 9, 3, 3, 5, 9, 7, 6, 9, 0, 9, 4, 7, 6, 3, 9, 6, 7, 8, 2, 4, 7, 3, 2, 7, 0, 0, 5, 1, 1, 3, 7, 6, 7, 1, 9, 3, 1, 0, 6, 8, 1, 3, 7, 3, 1, 3, 9, 5, 1, 9, 5, 0, 0, 1, 7, 8, 1, 8, 8, 6, 6, 3, 0, 4, 2, 2, 6, 6, 3, 5, 1, 9, 2, 5, 0, 5, 9, 6, 6, 0, 2, 2, 7, 9, 3, 7, 2, 6, 4, 2, 1, 5, 0, 0, 2, 4, 8, 2, 4, 9, 5, 1, 1, 5, 0, 9, 9, 7, 8, 4, 7, 0, 8, 4, 3, 7, 0, 3, 3, 4, 9, 4, 1, 2, 5, 8, 3, 8, 8, 6, 2, 3, 9, 7, 5, 4, 8, 5, 1, 4, 8, 8, 8, 0, 9, 6, 8, 9, 0, 0, 3, 1, 8, 1, 3, 6, 7, 2, 5, 3, 4, 7, 9, 4, 8, 4, 0, 0, 2, 4, 5, 0, 3, 3, 7, 2, 1, 3, 9, 4, 4, 2, 1, 3, 5, 9, 5, 4, 8, 7, 5, 8, 4, 7, 9, 7, 1, 3, 5, 0, 8, 0, 0, 6, 3, 0, 6, 7, 4, 2, 9, 9, 4, 0, 1, 0, 4, 0, 9, 9, 6, 7, 6, 4, 1, 7, 5, 5, 4, 4, 1, 5, 7, 3, 9, 9, 3, 1, 4, 0, 9, 6, 8, 1, 6, 5, 1, 6, 5, 2, 0, 4, 6, 5, 7, 6, 1, 2, 0, 5, 0, 9, 1, 3, 6, 3, 4, 7, 4, 7, 9, 0, 3, 5, 5, 8, 4, 6, 8, 0, 4, 5, 2, 7, 4, 4, 6, 7, 5, 4, 3, 8]\n",
            "all_labels [5, 7, 9, 4, 3, 3, 7, 0, 8, 3, 4, 2, 7, 3, 6, 7, 4, 3, 5, 9, 0, 4, 8, 0, 0, 1, 9, 2, 2, 3, 3, 8, 7, 3, 2, 3, 2, 2, 7, 7, 7, 9, 5, 5, 9, 1, 1, 9, 4, 7, 9, 4, 0, 2, 8, 3, 0, 6, 0, 6, 9, 7, 8, 6, 2, 7, 2, 8, 7, 4, 4, 8, 7, 2, 8, 5, 6, 9, 8, 8, 6, 4, 8, 1, 9, 0, 2, 7, 2, 9, 5, 8, 2, 8, 4, 2, 7, 8, 6, 7, 4, 3, 6, 4, 9, 7, 5, 9, 1, 6, 0, 5, 5, 1, 2, 7, 4, 2, 3, 4, 6, 8, 2, 7, 5, 6, 5, 7, 1, 7, 2, 6, 6, 7, 2, 5, 3, 8, 4, 9, 6, 3, 7, 5, 4, 1, 8, 9, 5, 2, 3, 4, 8, 4, 9, 3, 0, 9, 1, 1, 2, 9, 4, 8, 1, 9, 8, 3, 2, 9, 1, 4, 4, 4, 5, 3, 8, 6, 6, 7, 2, 3, 3, 9, 2, 8, 9, 1, 6, 0, 5, 5, 0, 5, 0, 4, 4, 9, 8, 1, 2, 1, 1, 6, 2, 5, 2, 4, 7, 0, 2, 8, 4, 7, 8, 8, 9, 9, 0, 3, 3, 9, 6, 1, 1, 9, 2, 9, 4, 1, 7, 7, 5, 5, 0, 0, 7, 7, 3, 8, 6, 3, 8, 2, 6, 1, 9, 1, 9, 4, 4, 5, 1, 5, 4, 3, 9, 0, 6, 7, 0, 6, 5, 0, 6, 2, 5, 1, 1, 1, 7, 9, 8, 5, 1, 9, 5, 2, 3, 2, 2, 7, 2, 1, 9, 9, 3, 4, 7, 1, 5, 9, 6, 6, 5, 9, 7, 9, 1, 2, 7, 5, 2, 7, 9, 8, 4, 8, 3, 9, 4, 2, 6, 8, 2, 7, 1, 3, 5, 5, 9, 3, 8, 2, 2, 0, 5, 3, 7, 7, 8, 3, 7, 8, 1, 3, 4, 9, 8, 3, 4, 6, 1, 8, 6, 9, 8, 5, 1, 6, 0, 2, 1, 9, 7, 4, 4, 0, 1, 2, 6, 1, 2, 8, 7, 6, 0, 0, 8, 8, 2, 0, 3, 3, 0, 4, 6, 6, 5, 6, 0, 0, 5, 8, 4, 3, 6, 0, 2, 6, 2, 1, 7, 7, 1, 6, 9, 4, 3, 4, 3, 8, 4, 3, 0, 9, 4, 5, 5, 9, 8, 1, 0, 7, 1, 3, 1, 5, 5, 4, 8, 9, 0, 0, 6, 7, 9, 6, 4, 1, 9, 9, 6, 0, 0, 7, 6, 9, 4, 0, 3, 5, 1, 2, 7, 3, 1, 5, 4, 0, 3, 8, 1, 0, 5, 6, 0, 3, 8, 6, 1, 3, 8, 4, 7, 7, 6, 2, 1, 6, 0, 7, 3, 6, 3, 9, 6, 4, 4, 2, 1, 5, 7, 4, 6, 2, 5, 0, 5, 0, 2, 0, 7, 0, 9, 4, 1, 3, 2, 7, 3, 4, 0, 3, 5, 5, 3, 8, 4, 8, 2, 9, 3, 4, 8, 0, 2, 9, 1, 9, 5, 1, 0, 8, 6, 8, 5, 5, 4, 9, 6, 1, 2, 3, 8, 0, 1, 4, 4, 1, 7, 8, 2, 4, 0, 1, 0, 9, 9, 1, 1, 1, 2, 2, 9, 3, 3, 5, 7, 5, 3, 6, 9, 8, 7, 5, 4, 4, 6, 5, 5, 2, 6, 3, 6, 1, 9, 7, 2, 7, 1, 7, 7, 6, 2, 2, 2, 2, 6, 8, 6, 6, 8, 1, 5, 6, 1, 6, 3, 6, 7, 5, 7, 5, 7, 2, 5, 2, 3, 4, 2, 4, 6, 1, 5, 8, 7, 0, 1, 5, 5, 2, 5, 7, 1, 7, 9, 3, 9, 3, 5, 3, 9, 8, 7, 8, 3, 2, 8, 8, 3, 9, 2, 7, 0, 3, 6, 2, 6, 7, 5, 6, 6, 6, 7, 7, 2, 3, 4, 1, 0, 8, 9, 5, 8, 2, 9, 3, 8, 9, 8, 4, 4, 9, 4, 5, 3, 2, 4, 1, 0, 3, 0, 1, 8, 2, 6, 0, 1, 1, 3, 0, 9, 7, 5, 4, 3, 0, 5, 1, 7, 2, 9, 5, 2, 1, 4, 5, 9, 3, 3, 5, 9, 7, 6, 9, 0, 9, 7, 7, 6, 3, 9, 6, 7, 9, 2, 7, 7, 5, 2, 7, 0, 0, 5, 1, 1, 5, 7, 6, 7, 1, 9, 3, 1, 0, 6, 8, 1, 3, 7, 3, 1, 5, 9, 5, 1, 9, 5, 0, 0, 1, 7, 8, 1, 8, 8, 3, 4, 3, 0, 4, 2, 2, 6, 6, 3, 3, 1, 9, 2, 5, 0, 5, 9, 6, 6, 0, 2, 2, 5, 9, 3, 7, 2, 6, 4, 2, 9, 5, 0, 0, 2, 4, 8, 2, 4, 9, 5, 1, 1, 5, 0, 9, 9, 7, 8, 4, 7, 0, 8, 4, 3, 7, 0, 3, 3, 4, 9, 4, 1, 2, 5, 8, 3, 8, 2, 6, 2, 3, 9, 7, 5, 4, 8, 5, 1, 4, 8, 8, 8, 0, 9, 6, 8, 9, 0, 0, 3, 1, 8, 1, 3, 6, 7, 2, 5, 3, 4, 7, 9, 4, 8, 4, 0, 0, 2, 4, 3, 0, 3, 3, 7, 2, 1, 3, 9, 4, 4, 2, 1, 3, 5, 9, 5, 4, 8, 7, 5, 8, 4, 7, 9, 7, 9, 3, 5, 0, 8, 0, 0, 6, 3, 8, 6, 7, 4, 2, 9, 9, 4, 0, 1, 0, 4, 0, 9, 9, 6, 7, 6, 4, 9, 7, 5, 5, 4, 4, 1, 5, 7, 3, 9, 9, 1, 8, 4, 0, 9, 6, 8, 1, 6, 5, 1, 6, 5, 2, 0, 4, 6, 6, 7, 6, 1, 2, 0, 5, 0, 9, 9, 3, 6, 3, 4, 7, 4, 7, 9, 0, 3, 5, 5, 0, 4, 3, 8, 0, 4, 5, 6, 7, 4, 4, 6, 7, 5, 4, 3, 8]\n"
          ]
        }
      ],
      "source": [
        "accuracy, f1, precision, recall, auroc = sisa_S5_R5.evaluate(test_loader, sisa_S5_R5.aggregate_majority_vote)"
      ]
    },
    {
      "cell_type": "code",
      "execution_count": null,
      "metadata": {
        "colab": {
          "base_uri": "https://localhost:8080/"
        },
        "id": "9OMDyU_6Oo_a",
        "outputId": "cb85a758-cf90-40ff-f595-7566f2ef15ff"
      },
      "outputs": [
        {
          "name": "stdout",
          "output_type": "stream",
          "text": [
            "Accuracy: 0.9220, F1-score: 0.9220, Precision: 0.9233, Recall: 0.9220, AUROC: 0.9827\n"
          ]
        }
      ],
      "source": [
        "print(f'Accuracy: {accuracy:.4f}, F1-score: {f1:.4f}, Precision: {precision:.4f}, Recall: {recall:.4f}, AUROC: {auroc:.4f}')"
      ]
    },
    {
      "cell_type": "markdown",
      "metadata": {
        "id": "5VlaDvOSZsKu"
      },
      "source": [
        "downloading:"
      ]
    },
    {
      "cell_type": "code",
      "execution_count": null,
      "metadata": {
        "colab": {
          "base_uri": "https://localhost:8080/"
        },
        "id": "_l0JZVM1UL8o",
        "outputId": "0f112049-1590-46e2-9df1-bed614f0d1e7"
      },
      "outputs": [
        {
          "name": "stdout",
          "output_type": "stream",
          "text": [
            "Mounted at /content/gdrive\n"
          ]
        }
      ],
      "source": [
        "from google.colab import drive\n",
        "drive.mount('/content/gdrive')"
      ]
    },
    {
      "cell_type": "code",
      "execution_count": null,
      "metadata": {
        "id": "6DRNeYOOa9Lu"
      },
      "outputs": [],
      "source": [
        "os.chdir('/content')"
      ]
    },
    {
      "cell_type": "code",
      "execution_count": null,
      "metadata": {
        "colab": {
          "base_uri": "https://localhost:8080/",
          "height": 17
        },
        "id": "uER-xSIqbFJm",
        "outputId": "7536b7c1-6048-4e2a-f187-16c18bf26496"
      },
      "outputs": [
        {
          "data": {
            "application/javascript": "\n    async function download(id, filename, size) {\n      if (!google.colab.kernel.accessAllowed) {\n        return;\n      }\n      const div = document.createElement('div');\n      const label = document.createElement('label');\n      label.textContent = `Downloading \"${filename}\": `;\n      div.appendChild(label);\n      const progress = document.createElement('progress');\n      progress.max = size;\n      div.appendChild(progress);\n      document.body.appendChild(div);\n\n      const buffers = [];\n      let downloaded = 0;\n\n      const channel = await google.colab.kernel.comms.open(id);\n      // Send a message to notify the kernel that we're ready.\n      channel.send({})\n\n      for await (const message of channel.messages) {\n        // Send a message to notify the kernel that we're ready.\n        channel.send({})\n        if (message.buffers) {\n          for (const buffer of message.buffers) {\n            buffers.push(buffer);\n            downloaded += buffer.byteLength;\n            progress.value = downloaded;\n          }\n        }\n      }\n      const blob = new Blob(buffers, {type: 'application/binary'});\n      const a = document.createElement('a');\n      a.href = window.URL.createObjectURL(blob);\n      a.download = filename;\n      div.appendChild(a);\n      a.click();\n      div.remove();\n    }\n  ",
            "text/plain": [
              "<IPython.core.display.Javascript object>"
            ]
          },
          "metadata": {},
          "output_type": "display_data"
        },
        {
          "data": {
            "application/javascript": "download(\"download_538456f0-21b7-492d-b57a-89c2b33597ea\", \"model_shard1_slice1.zip\", 22)",
            "text/plain": [
              "<IPython.core.display.Javascript object>"
            ]
          },
          "metadata": {},
          "output_type": "display_data"
        }
      ],
      "source": [
        "import shutil\n",
        "from google.colab import files\n",
        "\n",
        "# Create a zip archive of the folder\n",
        "shutil.make_archive('model_shard1_slice1', 'zip', '/content/models_S5_R2/model_shard1_slice1.pth')\n",
        "\n",
        "# Download the zip archive\n",
        "files.download('model_shard1_slice1.zip')\n"
      ]
    },
    {
      "cell_type": "markdown",
      "metadata": {
        "id": "GWkeUsNAdIi2"
      },
      "source": [
        "# **Simulation Question 2.**\n",
        "Implement the unlearning algorithm on all your trained models in the previous question and ”forget” 500 randomly chosen data of the whole dataset and measure the performance using your proposed metric, also report F1-score, accuracy, precision, recall and AUROC of all of your models with all of your proposed aggregation methods."
      ]
    },
    {
      "cell_type": "markdown",
      "metadata": {
        "id": "7BUTks_KyNjK"
      },
      "source": [
        "## **S=5 R=5:**"
      ]
    },
    {
      "cell_type": "code",
      "execution_count": null,
      "metadata": {
        "colab": {
          "base_uri": "https://localhost:8080/"
        },
        "id": "KroLkFfo2ie6",
        "outputId": "8b4a0970-5480-4e2f-848c-64ddaae1e2cc"
      },
      "outputs": [
        {
          "name": "stdout",
          "output_type": "stream",
          "text": [
            "50000\n"
          ]
        }
      ],
      "source": [
        "print(len(cifar10_train))"
      ]
    },
    {
      "cell_type": "code",
      "execution_count": null,
      "metadata": {
        "colab": {
          "base_uri": "https://localhost:8080/"
        },
        "id": "GTn0zLRu_L8L",
        "outputId": "9559f536-e18c-4979-dcf5-291f886d4ca1"
      },
      "outputs": [
        {
          "name": "stdout",
          "output_type": "stream",
          "text": [
            "29.289684057235718\n"
          ]
        }
      ],
      "source": [
        "print(sisa_S5_R5.unlearning_time)"
      ]
    },
    {
      "cell_type": "code",
      "execution_count": null,
      "metadata": {
        "colab": {
          "base_uri": "https://localhost:8080/"
        },
        "id": "XRlyfzsEmsby",
        "outputId": "714ecfc5-d0fa-44ff-ae75-98e8a2fce48d"
      },
      "outputs": [
        {
          "name": "stdout",
          "output_type": "stream",
          "text": [
            "[38022 19535 20514 30518 18589]\n",
            "0  --->  2000\n",
            "0  --->  4000\n",
            "0  --->  6000\n",
            "0  --->  8000\n",
            "0  --->  10000\n",
            "shard: 1  model dont change\n",
            "10000  --->  12000\n",
            "10000  --->  14000\n",
            "10000  --->  16000\n",
            "10000  --->  18000\n",
            "10000  --->  20000\n",
            "overlap:  {18589, 19535}\n",
            "difference:  {8589, 9535}\n"
          ]
        },
        {
          "name": "stderr",
          "output_type": "stream",
          "text": [
            "/usr/local/lib/python3.10/dist-packages/torchvision/models/_utils.py:208: UserWarning: The parameter 'pretrained' is deprecated since 0.13 and may be removed in the future, please use 'weights' instead.\n",
            "  warnings.warn(\n",
            "/usr/local/lib/python3.10/dist-packages/torchvision/models/_utils.py:223: UserWarning: Arguments other than a weight enum or `None` for 'weights' are deprecated since 0.13 and may be removed in the future. The current behavior is equivalent to passing `weights=ResNet18_Weights.IMAGENET1K_V1`. You can also use `weights=ResNet18_Weights.DEFAULT` to get the most up-to-date weights.\n",
            "  warnings.warn(msg)\n"
          ]
        },
        {
          "name": "stdout",
          "output_type": "stream",
          "text": [
            "@ shard: 2, @ slice: 5, @ epoch: 1, loss: 0.7749964594841003\n",
            "@ shard: 2, @ slice: 5, @ epoch: 2, loss: 0.32468366622924805\n",
            "@ shard: 2, @ slice: 5, @ epoch: 3, loss: 0.022222964093089104\n",
            "@ shard: 2, @ slice: 5, @ epoch: 4, loss: 0.009649545885622501\n",
            "@ shard: 2, @ slice: 5, @ epoch: 5, loss: 0.28403493762016296\n",
            "20000  --->  22000\n",
            "overlap:  {20514}\n",
            "difference:  {514}\n",
            "@ shard: 3, @ slice: 1, @ epoch: 1, loss: 1.3384274244308472\n",
            "@ shard: 3, @ slice: 1, @ epoch: 2, loss: 0.6571936011314392\n",
            "@ shard: 3, @ slice: 1, @ epoch: 3, loss: 1.1527689695358276\n",
            "@ shard: 3, @ slice: 1, @ epoch: 4, loss: 0.046080198138952255\n",
            "@ shard: 3, @ slice: 1, @ epoch: 5, loss: 0.01761472411453724\n",
            "20000  --->  24000\n",
            "overlap:  {20514}\n",
            "difference:  {514}\n",
            "@ shard: 3, @ slice: 2, @ epoch: 1, loss: 0.5684215426445007\n",
            "@ shard: 3, @ slice: 2, @ epoch: 2, loss: 0.05124233663082123\n",
            "@ shard: 3, @ slice: 2, @ epoch: 3, loss: 0.18143363296985626\n",
            "@ shard: 3, @ slice: 2, @ epoch: 4, loss: 0.019392868503928185\n",
            "@ shard: 3, @ slice: 2, @ epoch: 5, loss: 0.5890040993690491\n",
            "20000  --->  26000\n",
            "overlap:  {20514}\n",
            "difference:  {514}\n",
            "@ shard: 3, @ slice: 3, @ epoch: 1, loss: 0.5784806609153748\n",
            "@ shard: 3, @ slice: 3, @ epoch: 2, loss: 0.09323661029338837\n",
            "@ shard: 3, @ slice: 3, @ epoch: 3, loss: 0.06648312509059906\n",
            "@ shard: 3, @ slice: 3, @ epoch: 4, loss: 1.1579338312149048\n",
            "@ shard: 3, @ slice: 3, @ epoch: 5, loss: 0.04585449397563934\n",
            "20000  --->  28000\n",
            "overlap:  {20514}\n",
            "difference:  {514}\n",
            "@ shard: 3, @ slice: 4, @ epoch: 1, loss: 0.5745342969894409\n",
            "@ shard: 3, @ slice: 4, @ epoch: 2, loss: 0.7526112198829651\n",
            "@ shard: 3, @ slice: 4, @ epoch: 3, loss: 0.10094933211803436\n",
            "@ shard: 3, @ slice: 4, @ epoch: 4, loss: 0.004318175371736288\n",
            "@ shard: 3, @ slice: 4, @ epoch: 5, loss: 0.015984857454895973\n",
            "20000  --->  30000\n",
            "overlap:  {20514}\n",
            "difference:  {514}\n",
            "@ shard: 3, @ slice: 5, @ epoch: 1, loss: 0.6349406838417053\n",
            "@ shard: 3, @ slice: 5, @ epoch: 2, loss: 0.04366890341043472\n",
            "@ shard: 3, @ slice: 5, @ epoch: 3, loss: 0.139703169465065\n",
            "@ shard: 3, @ slice: 5, @ epoch: 4, loss: 0.24414728581905365\n",
            "@ shard: 3, @ slice: 5, @ epoch: 5, loss: 0.027632446959614754\n",
            "30000  --->  32000\n",
            "overlap:  {30518}\n",
            "difference:  {518}\n",
            "@ shard: 4, @ slice: 1, @ epoch: 1, loss: 1.0348104238510132\n",
            "@ shard: 4, @ slice: 1, @ epoch: 2, loss: 0.5781600475311279\n",
            "@ shard: 4, @ slice: 1, @ epoch: 3, loss: 0.41514506936073303\n",
            "@ shard: 4, @ slice: 1, @ epoch: 4, loss: 1.1861554384231567\n",
            "@ shard: 4, @ slice: 1, @ epoch: 5, loss: 0.7223008275032043\n",
            "30000  --->  34000\n",
            "overlap:  {30518}\n",
            "difference:  {518}\n",
            "@ shard: 4, @ slice: 2, @ epoch: 1, loss: 0.8440607786178589\n",
            "@ shard: 4, @ slice: 2, @ epoch: 2, loss: 0.13471613824367523\n",
            "@ shard: 4, @ slice: 2, @ epoch: 3, loss: 0.3713807165622711\n",
            "@ shard: 4, @ slice: 2, @ epoch: 4, loss: 0.016785990446805954\n",
            "@ shard: 4, @ slice: 2, @ epoch: 5, loss: 0.010669410228729248\n",
            "30000  --->  36000\n",
            "overlap:  {30518}\n",
            "difference:  {518}\n",
            "@ shard: 4, @ slice: 3, @ epoch: 1, loss: 0.8051758408546448\n",
            "@ shard: 4, @ slice: 3, @ epoch: 2, loss: 0.3062879741191864\n",
            "@ shard: 4, @ slice: 3, @ epoch: 3, loss: 0.7945307493209839\n",
            "@ shard: 4, @ slice: 3, @ epoch: 4, loss: 0.010193165391683578\n",
            "@ shard: 4, @ slice: 3, @ epoch: 5, loss: 0.002024284331128001\n",
            "30000  --->  38000\n",
            "overlap:  {30518}\n",
            "difference:  {518}\n",
            "@ shard: 4, @ slice: 4, @ epoch: 1, loss: 1.0261002779006958\n",
            "@ shard: 4, @ slice: 4, @ epoch: 2, loss: 0.18654637038707733\n",
            "@ shard: 4, @ slice: 4, @ epoch: 3, loss: 0.005648481193929911\n",
            "@ shard: 4, @ slice: 4, @ epoch: 4, loss: 0.1095733717083931\n",
            "@ shard: 4, @ slice: 4, @ epoch: 5, loss: 0.152769073843956\n",
            "30000  --->  40000\n",
            "overlap:  {30518, 38022}\n",
            "difference:  {8022, 518}\n",
            "@ shard: 4, @ slice: 5, @ epoch: 1, loss: 0.39012086391448975\n",
            "@ shard: 4, @ slice: 5, @ epoch: 2, loss: 0.1659829318523407\n",
            "@ shard: 4, @ slice: 5, @ epoch: 3, loss: 0.07321880757808685\n",
            "@ shard: 4, @ slice: 5, @ epoch: 4, loss: 0.010235925205051899\n",
            "@ shard: 4, @ slice: 5, @ epoch: 5, loss: 0.08662114292383194\n",
            "40000  --->  42000\n",
            "40000  --->  44000\n",
            "40000  --->  46000\n",
            "40000  --->  48000\n",
            "40000  --->  50000\n",
            "shard: 5  model dont change\n"
          ]
        }
      ],
      "source": [
        "sisa_S5_R5.unlearn(cifar10_train, 5)"
      ]
    },
    {
      "cell_type": "markdown",
      "metadata": {
        "id": "7T0f-_qbrHS_"
      },
      "source": [
        "*  **majority vote aggregation:**"
      ]
    },
    {
      "cell_type": "code",
      "execution_count": null,
      "metadata": {
        "colab": {
          "base_uri": "https://localhost:8080/"
        },
        "id": "rOKlQaxKrIIr",
        "outputId": "cba24c3d-02cc-48d9-a24d-44adea3a6a42"
      },
      "outputs": [
        {
          "name": "stdout",
          "output_type": "stream",
          "text": [
            "all_preds= [5, 7, 9, 4, 3, 3, 7, 0, 8, 5, 4, 4, 2, 3, 6, 7, 4, 3, 5, 0, 0, 4, 8, 0, 0, 1, 9, 2, 2, 3, 3, 8, 7, 3, 2, 3, 2, 2, 7, 7, 7, 9, 5, 5, 9, 1, 1, 9, 4, 7, 9, 4, 0, 2, 8, 3, 0, 6, 0, 6, 9, 7, 8, 6, 2, 7, 2, 8, 7, 3, 4, 8, 7, 2, 8, 5, 3, 9, 8, 8, 6, 4, 8, 1, 9, 0, 0, 7, 2, 9, 5, 8, 2, 8, 4, 2, 4, 8, 6, 7, 4, 3, 3, 4, 9, 7, 5, 9, 1, 6, 0, 5, 5, 1, 2, 7, 4, 2, 3, 4, 6, 8, 2, 7, 5, 6, 5, 7, 8, 7, 2, 6, 6, 7, 0, 7, 4, 8, 4, 0, 6, 3, 7, 5, 4, 1, 8, 9, 5, 2, 3, 4, 8, 4, 1, 0, 0, 9, 1, 1, 2, 9, 4, 8, 1, 9, 8, 3, 2, 9, 1, 4, 4, 4, 5, 3, 8, 6, 6, 7, 2, 4, 3, 9, 2, 8, 9, 1, 6, 0, 5, 5, 0, 4, 0, 4, 4, 9, 8, 1, 4, 1, 1, 6, 2, 5, 0, 4, 7, 0, 2, 8, 4, 7, 8, 8, 9, 9, 0, 3, 5, 9, 6, 1, 1, 9, 2, 9, 4, 1, 7, 7, 5, 2, 0, 0, 7, 7, 3, 8, 6, 3, 8, 2, 6, 1, 9, 1, 9, 4, 4, 3, 1, 5, 4, 3, 9, 0, 6, 7, 0, 6, 5, 0, 6, 2, 5, 1, 1, 1, 7, 9, 8, 4, 1, 9, 5, 2, 3, 2, 2, 7, 2, 1, 9, 9, 3, 4, 7, 1, 5, 9, 6, 6, 5, 9, 7, 9, 1, 2, 7, 5, 0, 7, 9, 8, 4, 8, 3, 9, 4, 2, 6, 8, 2, 7, 1, 3, 5, 5, 9, 3, 8, 2, 2, 0, 5, 3, 7, 7, 8, 3, 7, 8, 1, 3, 4, 9, 8, 3, 4, 6, 1, 8, 6, 9, 8, 5, 1, 6, 0, 2, 1, 9, 7, 4, 4, 0, 1, 0, 6, 1, 2, 8, 3, 6, 0, 0, 8, 8, 2, 0, 3, 3, 0, 4, 6, 6, 7, 6, 0, 0, 5, 8, 4, 3, 6, 8, 2, 4, 2, 9, 7, 7, 1, 6, 9, 4, 3, 4, 3, 8, 4, 5, 0, 9, 4, 5, 5, 9, 8, 1, 0, 7, 1, 3, 1, 5, 5, 4, 8, 9, 0, 0, 6, 7, 9, 6, 4, 1, 9, 9, 6, 0, 0, 7, 6, 9, 4, 0, 3, 3, 1, 2, 7, 3, 1, 3, 4, 0, 3, 8, 1, 0, 3, 6, 0, 3, 8, 6, 1, 3, 8, 4, 7, 7, 6, 2, 1, 6, 0, 7, 3, 6, 5, 9, 6, 4, 4, 2, 1, 5, 7, 4, 6, 2, 5, 0, 5, 0, 6, 0, 7, 0, 9, 4, 1, 3, 2, 7, 5, 4, 7, 3, 5, 5, 5, 8, 4, 8, 2, 9, 3, 4, 8, 0, 2, 9, 1, 9, 5, 1, 0, 8, 5, 8, 5, 5, 4, 9, 6, 1, 5, 3, 8, 0, 1, 4, 4, 9, 7, 8, 2, 4, 0, 1, 0, 9, 9, 1, 1, 1, 2, 2, 9, 5, 3, 5, 7, 5, 3, 6, 9, 8, 7, 5, 4, 4, 6, 5, 5, 2, 6, 3, 6, 1, 9, 7, 2, 7, 1, 7, 7, 6, 2, 2, 2, 2, 6, 8, 6, 6, 8, 1, 5, 6, 1, 6, 3, 6, 7, 5, 0, 5, 7, 2, 2, 2, 3, 4, 2, 3, 6, 1, 5, 8, 4, 0, 1, 5, 5, 2, 5, 7, 1, 7, 9, 3, 9, 3, 5, 3, 9, 8, 7, 8, 3, 2, 8, 8, 3, 9, 2, 7, 0, 3, 6, 2, 6, 7, 3, 6, 2, 6, 7, 7, 4, 5, 4, 1, 0, 5, 9, 2, 8, 2, 9, 3, 8, 9, 8, 4, 4, 9, 4, 3, 3, 2, 4, 1, 0, 3, 0, 1, 8, 2, 6, 0, 1, 1, 3, 0, 9, 7, 5, 4, 3, 0, 4, 9, 7, 2, 9, 5, 2, 1, 4, 5, 9, 3, 3, 5, 9, 7, 6, 9, 0, 9, 4, 7, 6, 3, 9, 6, 7, 9, 2, 4, 7, 3, 2, 7, 0, 0, 5, 1, 1, 3, 7, 6, 7, 1, 9, 3, 1, 0, 6, 8, 1, 3, 7, 3, 1, 5, 9, 5, 1, 9, 5, 0, 0, 1, 7, 8, 1, 8, 8, 6, 6, 3, 0, 4, 2, 2, 6, 6, 3, 5, 1, 8, 2, 5, 0, 5, 9, 6, 6, 0, 2, 2, 7, 9, 3, 7, 2, 6, 4, 2, 1, 5, 0, 0, 2, 4, 8, 2, 4, 9, 5, 1, 1, 5, 0, 9, 9, 7, 8, 4, 7, 0, 8, 4, 3, 7, 0, 3, 3, 4, 9, 4, 1, 2, 5, 8, 3, 8, 8, 6, 2, 3, 9, 7, 5, 4, 8, 5, 1, 4, 8, 8, 8, 0, 9, 6, 8, 9, 0, 8, 3, 1, 8, 1, 3, 6, 7, 2, 5, 3, 4, 7, 9, 4, 8, 4, 0, 0, 2, 4, 5, 0, 3, 3, 7, 2, 1, 3, 9, 4, 4, 2, 1, 3, 5, 9, 2, 4, 8, 7, 5, 8, 4, 7, 9, 7, 1, 3, 5, 0, 8, 0, 0, 6, 3, 0, 6, 7, 4, 2, 9, 9, 4, 0, 1, 0, 4, 0, 9, 9, 6, 7, 6, 4, 1, 7, 5, 5, 4, 4, 1, 5, 7, 3, 9, 9, 1, 1, 4, 0, 9, 6, 8, 1, 6, 5, 1, 6, 5, 2, 0, 4, 6, 5, 7, 6, 1, 2, 0, 5, 0, 9, 1, 3, 6, 3, 4, 7, 4, 7, 9, 0, 3, 5, 5, 8, 4, 6, 8, 0, 4, 5, 6, 7, 4, 4, 6, 7, 5, 4, 3, 8]\n",
            "all_labels [5, 7, 9, 4, 3, 3, 7, 0, 8, 3, 4, 2, 7, 3, 6, 7, 4, 3, 5, 9, 0, 4, 8, 0, 0, 1, 9, 2, 2, 3, 3, 8, 7, 3, 2, 3, 2, 2, 7, 7, 7, 9, 5, 5, 9, 1, 1, 9, 4, 7, 9, 4, 0, 2, 8, 3, 0, 6, 0, 6, 9, 7, 8, 6, 2, 7, 2, 8, 7, 4, 4, 8, 7, 2, 8, 5, 6, 9, 8, 8, 6, 4, 8, 1, 9, 0, 2, 7, 2, 9, 5, 8, 2, 8, 4, 2, 7, 8, 6, 7, 4, 3, 6, 4, 9, 7, 5, 9, 1, 6, 0, 5, 5, 1, 2, 7, 4, 2, 3, 4, 6, 8, 2, 7, 5, 6, 5, 7, 1, 7, 2, 6, 6, 7, 2, 5, 3, 8, 4, 9, 6, 3, 7, 5, 4, 1, 8, 9, 5, 2, 3, 4, 8, 4, 9, 3, 0, 9, 1, 1, 2, 9, 4, 8, 1, 9, 8, 3, 2, 9, 1, 4, 4, 4, 5, 3, 8, 6, 6, 7, 2, 3, 3, 9, 2, 8, 9, 1, 6, 0, 5, 5, 0, 5, 0, 4, 4, 9, 8, 1, 2, 1, 1, 6, 2, 5, 2, 4, 7, 0, 2, 8, 4, 7, 8, 8, 9, 9, 0, 3, 3, 9, 6, 1, 1, 9, 2, 9, 4, 1, 7, 7, 5, 5, 0, 0, 7, 7, 3, 8, 6, 3, 8, 2, 6, 1, 9, 1, 9, 4, 4, 5, 1, 5, 4, 3, 9, 0, 6, 7, 0, 6, 5, 0, 6, 2, 5, 1, 1, 1, 7, 9, 8, 5, 1, 9, 5, 2, 3, 2, 2, 7, 2, 1, 9, 9, 3, 4, 7, 1, 5, 9, 6, 6, 5, 9, 7, 9, 1, 2, 7, 5, 2, 7, 9, 8, 4, 8, 3, 9, 4, 2, 6, 8, 2, 7, 1, 3, 5, 5, 9, 3, 8, 2, 2, 0, 5, 3, 7, 7, 8, 3, 7, 8, 1, 3, 4, 9, 8, 3, 4, 6, 1, 8, 6, 9, 8, 5, 1, 6, 0, 2, 1, 9, 7, 4, 4, 0, 1, 2, 6, 1, 2, 8, 7, 6, 0, 0, 8, 8, 2, 0, 3, 3, 0, 4, 6, 6, 5, 6, 0, 0, 5, 8, 4, 3, 6, 0, 2, 6, 2, 1, 7, 7, 1, 6, 9, 4, 3, 4, 3, 8, 4, 3, 0, 9, 4, 5, 5, 9, 8, 1, 0, 7, 1, 3, 1, 5, 5, 4, 8, 9, 0, 0, 6, 7, 9, 6, 4, 1, 9, 9, 6, 0, 0, 7, 6, 9, 4, 0, 3, 5, 1, 2, 7, 3, 1, 5, 4, 0, 3, 8, 1, 0, 5, 6, 0, 3, 8, 6, 1, 3, 8, 4, 7, 7, 6, 2, 1, 6, 0, 7, 3, 6, 3, 9, 6, 4, 4, 2, 1, 5, 7, 4, 6, 2, 5, 0, 5, 0, 2, 0, 7, 0, 9, 4, 1, 3, 2, 7, 3, 4, 0, 3, 5, 5, 3, 8, 4, 8, 2, 9, 3, 4, 8, 0, 2, 9, 1, 9, 5, 1, 0, 8, 6, 8, 5, 5, 4, 9, 6, 1, 2, 3, 8, 0, 1, 4, 4, 1, 7, 8, 2, 4, 0, 1, 0, 9, 9, 1, 1, 1, 2, 2, 9, 3, 3, 5, 7, 5, 3, 6, 9, 8, 7, 5, 4, 4, 6, 5, 5, 2, 6, 3, 6, 1, 9, 7, 2, 7, 1, 7, 7, 6, 2, 2, 2, 2, 6, 8, 6, 6, 8, 1, 5, 6, 1, 6, 3, 6, 7, 5, 7, 5, 7, 2, 5, 2, 3, 4, 2, 4, 6, 1, 5, 8, 7, 0, 1, 5, 5, 2, 5, 7, 1, 7, 9, 3, 9, 3, 5, 3, 9, 8, 7, 8, 3, 2, 8, 8, 3, 9, 2, 7, 0, 3, 6, 2, 6, 7, 5, 6, 6, 6, 7, 7, 2, 3, 4, 1, 0, 8, 9, 5, 8, 2, 9, 3, 8, 9, 8, 4, 4, 9, 4, 5, 3, 2, 4, 1, 0, 3, 0, 1, 8, 2, 6, 0, 1, 1, 3, 0, 9, 7, 5, 4, 3, 0, 5, 1, 7, 2, 9, 5, 2, 1, 4, 5, 9, 3, 3, 5, 9, 7, 6, 9, 0, 9, 7, 7, 6, 3, 9, 6, 7, 9, 2, 7, 7, 5, 2, 7, 0, 0, 5, 1, 1, 5, 7, 6, 7, 1, 9, 3, 1, 0, 6, 8, 1, 3, 7, 3, 1, 5, 9, 5, 1, 9, 5, 0, 0, 1, 7, 8, 1, 8, 8, 3, 4, 3, 0, 4, 2, 2, 6, 6, 3, 3, 1, 9, 2, 5, 0, 5, 9, 6, 6, 0, 2, 2, 5, 9, 3, 7, 2, 6, 4, 2, 9, 5, 0, 0, 2, 4, 8, 2, 4, 9, 5, 1, 1, 5, 0, 9, 9, 7, 8, 4, 7, 0, 8, 4, 3, 7, 0, 3, 3, 4, 9, 4, 1, 2, 5, 8, 3, 8, 2, 6, 2, 3, 9, 7, 5, 4, 8, 5, 1, 4, 8, 8, 8, 0, 9, 6, 8, 9, 0, 0, 3, 1, 8, 1, 3, 6, 7, 2, 5, 3, 4, 7, 9, 4, 8, 4, 0, 0, 2, 4, 3, 0, 3, 3, 7, 2, 1, 3, 9, 4, 4, 2, 1, 3, 5, 9, 5, 4, 8, 7, 5, 8, 4, 7, 9, 7, 9, 3, 5, 0, 8, 0, 0, 6, 3, 8, 6, 7, 4, 2, 9, 9, 4, 0, 1, 0, 4, 0, 9, 9, 6, 7, 6, 4, 9, 7, 5, 5, 4, 4, 1, 5, 7, 3, 9, 9, 1, 8, 4, 0, 9, 6, 8, 1, 6, 5, 1, 6, 5, 2, 0, 4, 6, 6, 7, 6, 1, 2, 0, 5, 0, 9, 9, 3, 6, 3, 4, 7, 4, 7, 9, 0, 3, 5, 5, 0, 4, 3, 8, 0, 4, 5, 6, 7, 4, 4, 6, 7, 5, 4, 3, 8]\n"
          ]
        }
      ],
      "source": [
        "accuracy, f1, precision, recall, auroc = sisa_S5_R5.evaluate(test_loader, sisa_S5_R5.aggregate_majority_vote)"
      ]
    },
    {
      "cell_type": "code",
      "execution_count": null,
      "metadata": {
        "colab": {
          "base_uri": "https://localhost:8080/"
        },
        "id": "Nos6rSKMrIcD",
        "outputId": "06d95df6-448c-43e9-b3f5-78d6f829430f"
      },
      "outputs": [
        {
          "name": "stdout",
          "output_type": "stream",
          "text": [
            "Accuracy: 0.9210, F1-score: 0.9208, Precision: 0.9216, Recall: 0.9210, AUROC: 0.9833\n"
          ]
        }
      ],
      "source": [
        "print(f'Accuracy: {accuracy:.4f}, F1-score: {f1:.4f}, Precision: {precision:.4f}, Recall: {recall:.4f}, AUROC: {auroc:.4f}')"
      ]
    },
    {
      "cell_type": "code",
      "execution_count": null,
      "metadata": {
        "colab": {
          "base_uri": "https://localhost:8080/"
        },
        "id": "f9C2yoS4gE8e",
        "outputId": "5451b49d-bafa-4400-8b67-89dd89273783"
      },
      "outputs": [
        {
          "name": "stdout",
          "output_type": "stream",
          "text": [
            "[36769 19683 22466 21230 21823 33539  3314 37978 15854 18208 39273 37453\n",
            "  5926 41947 14920 10783 36018 33665 19284 45257  8427 18033 20316 39402\n",
            " 45022 15410  4234 34028 29366 49500 31068 14688 34620  2591  9000 45645\n",
            "  1225 16079 37586 12446 41216 10494 34355 31112 17919 30093  4937 22752\n",
            " 27755 32779]\n",
            "0  --->  2000\n",
            "overlap:  {1225}\n",
            "difference:  {1225}\n"
          ]
        },
        {
          "name": "stderr",
          "output_type": "stream",
          "text": [
            "/usr/local/lib/python3.10/dist-packages/torchvision/models/_utils.py:208: UserWarning: The parameter 'pretrained' is deprecated since 0.13 and may be removed in the future, please use 'weights' instead.\n",
            "  warnings.warn(\n",
            "/usr/local/lib/python3.10/dist-packages/torchvision/models/_utils.py:223: UserWarning: Arguments other than a weight enum or `None` for 'weights' are deprecated since 0.13 and may be removed in the future. The current behavior is equivalent to passing `weights=ResNet18_Weights.IMAGENET1K_V1`. You can also use `weights=ResNet18_Weights.DEFAULT` to get the most up-to-date weights.\n",
            "  warnings.warn(msg)\n"
          ]
        },
        {
          "name": "stdout",
          "output_type": "stream",
          "text": [
            "@ shard: 1, @ slice: 1, @ epoch: 1, loss: 0.9304810762405396\n",
            "@ shard: 1, @ slice: 1, @ epoch: 2, loss: 0.8235521912574768\n",
            "@ shard: 1, @ slice: 1, @ epoch: 3, loss: 0.3339286744594574\n",
            "@ shard: 1, @ slice: 1, @ epoch: 4, loss: 0.2153344452381134\n",
            "@ shard: 1, @ slice: 1, @ epoch: 5, loss: 0.034059133380651474\n",
            "0  --->  4000\n",
            "overlap:  {1225, 3314, 2591}\n",
            "difference:  {1225, 3314, 2591}\n",
            "@ shard: 1, @ slice: 2, @ epoch: 1, loss: 0.6817817091941833\n",
            "@ shard: 1, @ slice: 2, @ epoch: 2, loss: 0.44427862763404846\n",
            "@ shard: 1, @ slice: 2, @ epoch: 3, loss: 0.25425413250923157\n",
            "@ shard: 1, @ slice: 2, @ epoch: 4, loss: 0.026945875957608223\n",
            "@ shard: 1, @ slice: 2, @ epoch: 5, loss: 0.02449473738670349\n",
            "0  --->  6000\n",
            "overlap:  {5926, 1225, 4234, 4937, 3314, 2591}\n",
            "difference:  {5926, 4937, 1225, 4234, 3314, 2591}\n",
            "@ shard: 1, @ slice: 3, @ epoch: 1, loss: 0.4855729639530182\n",
            "@ shard: 1, @ slice: 3, @ epoch: 2, loss: 0.7400068640708923\n",
            "@ shard: 1, @ slice: 3, @ epoch: 3, loss: 0.12359306961297989\n",
            "@ shard: 1, @ slice: 3, @ epoch: 4, loss: 0.005569205153733492\n",
            "@ shard: 1, @ slice: 3, @ epoch: 5, loss: 0.24716401100158691\n",
            "0  --->  8000\n",
            "overlap:  {5926, 1225, 4234, 4937, 3314, 2591}\n",
            "difference:  {5926, 4937, 1225, 4234, 3314, 2591}\n",
            "@ shard: 1, @ slice: 4, @ epoch: 1, loss: 0.32962101697921753\n",
            "@ shard: 1, @ slice: 4, @ epoch: 2, loss: 0.023822808638215065\n",
            "@ shard: 1, @ slice: 4, @ epoch: 3, loss: 0.39731061458587646\n",
            "@ shard: 1, @ slice: 4, @ epoch: 4, loss: 0.10540114343166351\n",
            "@ shard: 1, @ slice: 4, @ epoch: 5, loss: 0.005116400308907032\n",
            "0  --->  10000\n",
            "overlap:  {5926, 9000, 1225, 4234, 8427, 4937, 3314, 2591}\n",
            "difference:  {5926, 9000, 1225, 4234, 8427, 4937, 3314, 2591}\n",
            "@ shard: 1, @ slice: 5, @ epoch: 1, loss: 0.34807491302490234\n",
            "@ shard: 1, @ slice: 5, @ epoch: 2, loss: 0.20554405450820923\n",
            "@ shard: 1, @ slice: 5, @ epoch: 3, loss: 0.04532245919108391\n",
            "@ shard: 1, @ slice: 5, @ epoch: 4, loss: 0.022973455488681793\n",
            "@ shard: 1, @ slice: 5, @ epoch: 5, loss: 0.0830530971288681\n",
            "10000  --->  12000\n",
            "overlap:  {10494, 10783}\n",
            "difference:  {494, 783}\n",
            "@ shard: 2, @ slice: 1, @ epoch: 1, loss: 1.4180828332901\n",
            "@ shard: 2, @ slice: 1, @ epoch: 2, loss: 0.9018741846084595\n",
            "@ shard: 2, @ slice: 1, @ epoch: 3, loss: 0.6455950140953064\n",
            "@ shard: 2, @ slice: 1, @ epoch: 4, loss: 0.029159069061279297\n",
            "@ shard: 2, @ slice: 1, @ epoch: 5, loss: 0.12723898887634277\n",
            "10000  --->  14000\n",
            "overlap:  {10494, 12446, 10783}\n",
            "difference:  {2446, 494, 783}\n",
            "@ shard: 2, @ slice: 2, @ epoch: 1, loss: 0.8448054194450378\n",
            "@ shard: 2, @ slice: 2, @ epoch: 2, loss: 0.3556196391582489\n",
            "@ shard: 2, @ slice: 2, @ epoch: 3, loss: 0.14676502346992493\n",
            "@ shard: 2, @ slice: 2, @ epoch: 4, loss: 0.020433086901903152\n",
            "@ shard: 2, @ slice: 2, @ epoch: 5, loss: 0.042247217148542404\n",
            "10000  --->  16000\n",
            "overlap:  {14688, 10494, 14920, 15854, 15410, 12446, 10783}\n",
            "difference:  {5410, 494, 2446, 4688, 783, 4920, 5854}\n",
            "@ shard: 2, @ slice: 3, @ epoch: 1, loss: 0.9080305099487305\n",
            "@ shard: 2, @ slice: 3, @ epoch: 2, loss: 0.5068414807319641\n",
            "@ shard: 2, @ slice: 3, @ epoch: 3, loss: 0.58182293176651\n",
            "@ shard: 2, @ slice: 3, @ epoch: 4, loss: 0.05545831471681595\n",
            "@ shard: 2, @ slice: 3, @ epoch: 5, loss: 0.031200451776385307\n",
            "10000  --->  18000\n",
            "overlap:  {14688, 10494, 14920, 17919, 15854, 16079, 15410, 12446, 10783}\n",
            "difference:  {5410, 494, 7919, 4688, 2446, 783, 4920, 5854, 6079}\n",
            "@ shard: 2, @ slice: 4, @ epoch: 1, loss: 0.36777907609939575\n",
            "@ shard: 2, @ slice: 4, @ epoch: 2, loss: 0.1934560388326645\n",
            "@ shard: 2, @ slice: 4, @ epoch: 3, loss: 0.13684196770191193\n",
            "@ shard: 2, @ slice: 4, @ epoch: 4, loss: 0.1216001883149147\n",
            "@ shard: 2, @ slice: 4, @ epoch: 5, loss: 0.06277920305728912\n",
            "10000  --->  20000\n",
            "overlap:  {18208, 14688, 10494, 19683, 14920, 17919, 15854, 16079, 18033, 15410, 19284, 12446, 10783}\n",
            "difference:  {8033, 5410, 9284, 494, 7919, 8208, 4688, 2446, 9683, 783, 4920, 5854, 6079}\n",
            "@ shard: 2, @ slice: 5, @ epoch: 1, loss: 0.71384197473526\n",
            "@ shard: 2, @ slice: 5, @ epoch: 2, loss: 0.5173426270484924\n",
            "@ shard: 2, @ slice: 5, @ epoch: 3, loss: 0.5870064496994019\n",
            "@ shard: 2, @ slice: 5, @ epoch: 4, loss: 0.13516102731227875\n",
            "@ shard: 2, @ slice: 5, @ epoch: 5, loss: 0.3643729090690613\n",
            "20000  --->  22000\n",
            "overlap:  {20316, 21230, 21823}\n",
            "difference:  {316, 1230, 1823}\n",
            "@ shard: 3, @ slice: 1, @ epoch: 1, loss: 0.5246902704238892\n",
            "@ shard: 3, @ slice: 1, @ epoch: 2, loss: 0.8408527374267578\n",
            "@ shard: 3, @ slice: 1, @ epoch: 3, loss: 0.1296069473028183\n",
            "@ shard: 3, @ slice: 1, @ epoch: 4, loss: 0.43336158990859985\n",
            "@ shard: 3, @ slice: 1, @ epoch: 5, loss: 0.6318287253379822\n",
            "20000  --->  24000\n",
            "overlap:  {22752, 22466, 21230, 20316, 21823}\n",
            "difference:  {2752, 2466, 1230, 316, 1823}\n",
            "@ shard: 3, @ slice: 2, @ epoch: 1, loss: 0.5943340063095093\n",
            "@ shard: 3, @ slice: 2, @ epoch: 2, loss: 0.21653446555137634\n",
            "@ shard: 3, @ slice: 2, @ epoch: 3, loss: 0.4809165298938751\n",
            "@ shard: 3, @ slice: 2, @ epoch: 4, loss: 0.13656550645828247\n",
            "@ shard: 3, @ slice: 2, @ epoch: 5, loss: 0.10857761651277542\n",
            "20000  --->  26000\n",
            "overlap:  {22752, 22466, 21230, 20316, 21823}\n",
            "difference:  {2752, 2466, 1230, 316, 1823}\n",
            "@ shard: 3, @ slice: 3, @ epoch: 1, loss: 1.3788107633590698\n",
            "@ shard: 3, @ slice: 3, @ epoch: 2, loss: 0.3485249876976013\n",
            "@ shard: 3, @ slice: 3, @ epoch: 3, loss: 0.031831931322813034\n",
            "@ shard: 3, @ slice: 3, @ epoch: 4, loss: 0.08278389275074005\n",
            "@ shard: 3, @ slice: 3, @ epoch: 5, loss: 0.005137472413480282\n",
            "20000  --->  28000\n",
            "overlap:  {22752, 22466, 27755, 21230, 20316, 21823}\n",
            "difference:  {2752, 2466, 7755, 1230, 316, 1823}\n",
            "@ shard: 3, @ slice: 4, @ epoch: 1, loss: 0.4109829366207123\n",
            "@ shard: 3, @ slice: 4, @ epoch: 2, loss: 0.09994109719991684\n",
            "@ shard: 3, @ slice: 4, @ epoch: 3, loss: 0.07700121402740479\n",
            "@ shard: 3, @ slice: 4, @ epoch: 4, loss: 0.023203549906611443\n",
            "@ shard: 3, @ slice: 4, @ epoch: 5, loss: 0.0427984818816185\n",
            "20000  --->  30000\n",
            "overlap:  {22752, 22466, 27755, 21230, 29366, 20316, 21823}\n",
            "difference:  {2752, 2466, 7755, 1230, 9366, 316, 1823}\n",
            "@ shard: 3, @ slice: 5, @ epoch: 1, loss: 0.8295344710350037\n",
            "@ shard: 3, @ slice: 5, @ epoch: 2, loss: 0.5047496557235718\n",
            "@ shard: 3, @ slice: 5, @ epoch: 3, loss: 0.002188869984820485\n",
            "@ shard: 3, @ slice: 5, @ epoch: 4, loss: 0.06348329037427902\n",
            "@ shard: 3, @ slice: 5, @ epoch: 5, loss: 0.1411896049976349\n",
            "30000  --->  32000\n",
            "overlap:  {31112, 31068, 30093}\n",
            "difference:  {1112, 1068, 93}\n",
            "@ shard: 4, @ slice: 1, @ epoch: 1, loss: 0.8928166031837463\n",
            "@ shard: 4, @ slice: 1, @ epoch: 2, loss: 0.7414926290512085\n",
            "@ shard: 4, @ slice: 1, @ epoch: 3, loss: 0.5602953433990479\n",
            "@ shard: 4, @ slice: 1, @ epoch: 4, loss: 0.21988306939601898\n",
            "@ shard: 4, @ slice: 1, @ epoch: 5, loss: 0.057022374123334885\n",
            "30000  --->  34000\n",
            "overlap:  {33665, 33539, 31112, 32779, 30093, 31068}\n",
            "difference:  {1068, 3665, 3539, 1112, 2779, 93}\n",
            "@ shard: 4, @ slice: 2, @ epoch: 1, loss: 0.9124831557273865\n",
            "@ shard: 4, @ slice: 2, @ epoch: 2, loss: 0.10275968909263611\n",
            "@ shard: 4, @ slice: 2, @ epoch: 3, loss: 0.18814826011657715\n",
            "@ shard: 4, @ slice: 2, @ epoch: 4, loss: 0.032963432371616364\n",
            "@ shard: 4, @ slice: 2, @ epoch: 5, loss: 0.0553482361137867\n",
            "30000  --->  36000\n",
            "overlap:  {33665, 33539, 31112, 32779, 34028, 30093, 34355, 31068, 34620}\n",
            "difference:  {4355, 1068, 4620, 3665, 3539, 1112, 2779, 4028, 93}\n",
            "@ shard: 4, @ slice: 3, @ epoch: 1, loss: 0.8198636770248413\n",
            "@ shard: 4, @ slice: 3, @ epoch: 2, loss: 0.011587042361497879\n",
            "@ shard: 4, @ slice: 3, @ epoch: 3, loss: 0.017121033743023872\n",
            "@ shard: 4, @ slice: 3, @ epoch: 4, loss: 0.05328148230910301\n",
            "@ shard: 4, @ slice: 3, @ epoch: 5, loss: 0.04063248261809349\n",
            "30000  --->  38000\n",
            "overlap:  {36769, 33665, 33539, 34620, 31112, 32779, 34028, 37453, 30093, 36018, 37586, 34355, 37978, 31068}\n",
            "difference:  {6018, 7586, 4355, 7978, 4620, 1068, 3665, 6769, 3539, 93, 1112, 2779, 4028, 7453}\n",
            "@ shard: 4, @ slice: 4, @ epoch: 1, loss: 0.7835757732391357\n",
            "@ shard: 4, @ slice: 4, @ epoch: 2, loss: 0.7083866596221924\n",
            "@ shard: 4, @ slice: 4, @ epoch: 3, loss: 0.030213994905352592\n",
            "@ shard: 4, @ slice: 4, @ epoch: 4, loss: 0.05716093257069588\n",
            "@ shard: 4, @ slice: 4, @ epoch: 5, loss: 0.04208482801914215\n",
            "30000  --->  40000\n",
            "overlap:  {36769, 33665, 33539, 34620, 31112, 39273, 39402, 32779, 34028, 37453, 30093, 36018, 37586, 34355, 37978, 31068}\n",
            "difference:  {6018, 7586, 4355, 7978, 4620, 1068, 3665, 6769, 3539, 93, 1112, 9273, 9402, 2779, 4028, 7453}\n",
            "@ shard: 4, @ slice: 5, @ epoch: 1, loss: 0.34964022040367126\n",
            "@ shard: 4, @ slice: 5, @ epoch: 2, loss: 0.2883484363555908\n",
            "@ shard: 4, @ slice: 5, @ epoch: 3, loss: 0.04674317687749863\n",
            "@ shard: 4, @ slice: 5, @ epoch: 4, loss: 0.016209416091442108\n",
            "@ shard: 4, @ slice: 5, @ epoch: 5, loss: 0.04548541083931923\n",
            "40000  --->  42000\n",
            "overlap:  {41216, 41947}\n",
            "difference:  {1216, 1947}\n",
            "@ shard: 5, @ slice: 1, @ epoch: 1, loss: 0.8865288496017456\n",
            "@ shard: 5, @ slice: 1, @ epoch: 2, loss: 0.33754754066467285\n",
            "@ shard: 5, @ slice: 1, @ epoch: 3, loss: 0.383815735578537\n",
            "@ shard: 5, @ slice: 1, @ epoch: 4, loss: 0.18831586837768555\n",
            "@ shard: 5, @ slice: 1, @ epoch: 5, loss: 0.07061084359884262\n",
            "40000  --->  44000\n",
            "overlap:  {41216, 41947}\n",
            "difference:  {1216, 1947}\n",
            "@ shard: 5, @ slice: 2, @ epoch: 1, loss: 0.8540131449699402\n",
            "@ shard: 5, @ slice: 2, @ epoch: 2, loss: 0.216294065117836\n",
            "@ shard: 5, @ slice: 2, @ epoch: 3, loss: 0.19089744985103607\n",
            "@ shard: 5, @ slice: 2, @ epoch: 4, loss: 0.19864825904369354\n",
            "@ shard: 5, @ slice: 2, @ epoch: 5, loss: 0.009133919142186642\n",
            "40000  --->  46000\n",
            "overlap:  {41216, 45257, 45645, 41947, 45022}\n",
            "difference:  {1216, 5257, 5645, 1947, 5022}\n",
            "@ shard: 5, @ slice: 3, @ epoch: 1, loss: 0.16894270479679108\n",
            "@ shard: 5, @ slice: 3, @ epoch: 2, loss: 0.11043690145015717\n",
            "@ shard: 5, @ slice: 3, @ epoch: 3, loss: 0.29987648129463196\n",
            "@ shard: 5, @ slice: 3, @ epoch: 4, loss: 0.37542062997817993\n",
            "@ shard: 5, @ slice: 3, @ epoch: 5, loss: 0.3604113459587097\n",
            "40000  --->  48000\n",
            "overlap:  {41216, 45257, 45645, 41947, 45022}\n",
            "difference:  {1216, 5257, 5645, 1947, 5022}\n",
            "@ shard: 5, @ slice: 4, @ epoch: 1, loss: 0.20056693255901337\n",
            "@ shard: 5, @ slice: 4, @ epoch: 2, loss: 0.45728689432144165\n",
            "@ shard: 5, @ slice: 4, @ epoch: 3, loss: 0.06421290338039398\n",
            "@ shard: 5, @ slice: 4, @ epoch: 4, loss: 0.49257808923721313\n",
            "@ shard: 5, @ slice: 4, @ epoch: 5, loss: 0.19803570210933685\n",
            "40000  --->  50000\n",
            "overlap:  {41216, 45257, 45645, 41947, 49500, 45022}\n",
            "difference:  {1216, 5257, 5645, 1947, 9500, 5022}\n",
            "@ shard: 5, @ slice: 5, @ epoch: 1, loss: 1.256941795349121\n",
            "@ shard: 5, @ slice: 5, @ epoch: 2, loss: 0.27181270718574524\n",
            "@ shard: 5, @ slice: 5, @ epoch: 3, loss: 0.22308264672756195\n",
            "@ shard: 5, @ slice: 5, @ epoch: 4, loss: 0.028974976390600204\n",
            "@ shard: 5, @ slice: 5, @ epoch: 5, loss: 0.06056593731045723\n"
          ]
        }
      ],
      "source": [
        "sisa_S5_R5.unlearn(cifar10_train, 50)"
      ]
    },
    {
      "cell_type": "markdown",
      "metadata": {
        "id": "03qZIK3GwKih"
      },
      "source": [
        "# **Add On. Simulation Question 1.**\n",
        "Randomly select 500 data points from a specific class in\n",
        "the training set. For each selected data point, turn a 3x3 block of pixels to black, with the\n",
        "position of the block chosen randomly. Train your best model of the previous questions, using\n",
        "the poisoned dataset. Evaluate the model’s performance, using all the same metrics as before,\n",
        "on clean test data to ensure general performance is not significantly degraded. Also, calculate\n",
        "the attack success rate (ASR) as the percentage of test samples misclassified as the target class."
      ]
    },
    {
      "cell_type": "code",
      "execution_count": null,
      "metadata": {
        "id": "KdQlLxCq4NLr"
      },
      "outputs": [],
      "source": [
        "# Step 1: Select 500 data points from a specific class in the training set\n",
        "def select_and_poison_data_inplace(dataset, target_class, num_samples=500, block_size=3):\n",
        "    class_indices = [i for i in range(len(dataset)) if dataset.targets[i] == target_class]\n",
        "    selected_indices = random.sample(class_indices, num_samples)\n",
        "    block_size = int(224 / 32) * block_size\n",
        "    if block_size != 0:\n",
        "      for idx in selected_indices:\n",
        "          #print(dataset.targets[idx])\n",
        "          img = dataset.data[idx]\n",
        "          img = np.copy(img)  # To avoid modifying the original image\n",
        "          # Randomly select a position for the 3x3 block\n",
        "          x = random.randint(0, img.shape[0] - block_size)\n",
        "          y = random.randint(0, img.shape[1] - block_size)\n",
        "          img[x:x+block_size, y:y+block_size, :] = 0  # Turn the block to black\n",
        "          dataset.data[idx] = img\n",
        "\n",
        "    return selected_indices"
      ]
    },
    {
      "cell_type": "code",
      "execution_count": null,
      "metadata": {
        "colab": {
          "base_uri": "https://localhost:8080/"
        },
        "id": "hQ6juC6gzydk",
        "outputId": "85d08441-0f21-4217-eb9f-a37878ce4a4d"
      },
      "outputs": [
        {
          "name": "stdout",
          "output_type": "stream",
          "text": [
            "Downloading https://www.cs.toronto.edu/~kriz/cifar-10-python.tar.gz to ./data/cifar-10-python.tar.gz\n"
          ]
        },
        {
          "name": "stderr",
          "output_type": "stream",
          "text": [
            "100%|██████████| 170498071/170498071 [00:03<00:00, 43744949.76it/s]\n"
          ]
        },
        {
          "name": "stdout",
          "output_type": "stream",
          "text": [
            "Extracting ./data/cifar-10-python.tar.gz to ./data\n"
          ]
        }
      ],
      "source": [
        "transform = transforms.Compose([\n",
        "    transforms.Resize((224, 224)),\n",
        "    transforms.ToTensor(),\n",
        "    transforms.Normalize((0.485, 0.456, 0.406), (0.229, 0.224, 0.225))\n",
        "])\n",
        "\n",
        "cifar10_train = datasets.CIFAR10(root='./data', train=True, download=True, transform=transform)"
      ]
    },
    {
      "cell_type": "code",
      "execution_count": null,
      "metadata": {
        "id": "-XdeOIqb0ays"
      },
      "outputs": [],
      "source": [
        "# Step 2: Poison the data\n",
        "poisoned_indices = select_and_poison_data_inplace(cifar10_train, target_class=0, num_samples=500, block_size=3)"
      ]
    },
    {
      "cell_type": "code",
      "execution_count": null,
      "metadata": {
        "id": "bYtbGJ98igTf"
      },
      "outputs": [],
      "source": [
        "poisoned_indices = [42044, 3880, 33447, 8392, 36106, 31756, 29884, 22665, 34318, 20985, 3515, 45156, 43775, 30172, 1434, 43454, 555, 48032, 9362, 44599, 20790, 23808, 6867, 48908, 14592, 18951, 48856, 39083, 34998, 371, 8748, 35162, 21777, 21863, 40807, 15580, 13238, 10867, 43525, 47336, 26723, 9714, 6393, 47931, 23056, 4270, 49344, 13181, 47994, 17884, 18630, 29513, 33386, 37962, 30914, 29641, 18599, 41613, 41277, 1340, 1593, 41731, 49236, 48851, 30595, 25789, 36886, 47207, 36155, 47375, 16825, 30959, 34313, 48470, 8086, 11078, 21758, 39650, 27850, 22418, 42952, 29497, 12409, 902, 11100, 15755, 17620, 3076, 2932, 14393, 22026, 5477, 9384, 17133, 19814, 29854, 2718, 23096, 4798, 7674, 7889, 20523, 35626, 12192, 11709, 42688, 38519, 37978, 16838, 5703, 38224, 42231, 1711, 47379, 10578, 1188, 42998, 29341, 35411, 27931, 28449, 44299, 24096, 6563, 6276, 36606, 22997, 2391, 7251, 8313, 29880, 18315, 46706, 46200, 34547, 41975, 36819, 48119, 8116, 30257, 39664, 5623, 19011, 44946, 8515, 2066, 25070, 16238, 29367, 43831, 35248, 32460, 47274, 35286, 49004, 49091, 10553, 9874, 24735, 39486, 15827, 8660, 16501, 16370, 13467, 2950, 19041, 5770, 36558, 9257, 12328, 35179, 27211, 28223, 40652, 14509, 41243, 35490, 25531, 20452, 22189, 23732, 30116, 46486, 6833, 22317, 20205, 11356, 4165, 44956, 43944, 18211, 2287, 7991, 11734, 34168, 11835, 965, 17015, 48291, 37371, 14341, 43664, 49006, 11479, 41609, 13326, 39739, 8096, 2233, 16487, 15258, 11783, 439, 44746, 41234, 7504, 2453, 27533, 18803, 39883, 497, 31947, 32505, 36312, 48071, 13069, 33647, 28675, 557, 1335, 35326, 7409, 37747, 9123, 26427, 21903, 33453, 22674, 15086, 8549, 4991, 17303, 33325, 481, 13649, 38190, 42678, 13627, 29860, 7530, 7979, 47486, 28665, 29364, 30645, 26776, 44820, 12420, 46822, 33058, 33419, 38053, 44426, 1709, 32631, 42493, 20295, 11216, 48777, 26322, 18847, 45233, 3335, 23002, 38574, 5404, 35798, 39049, 17233, 37905, 40479, 7792, 16624, 28897, 16245, 11849, 48209, 32247, 34017, 44637, 19339, 49359, 9945, 4387, 15870, 34026, 3184, 1594, 199, 23863, 37999, 10955, 38029, 49308, 20267, 31837, 8155, 46873, 5371, 29518, 49557, 47068, 21639, 11374, 3689, 12807, 38977, 25350, 4061, 7423, 2189, 44294, 20686, 16137, 23507, 13860, 31955, 25391, 11838, 5115, 20584, 7727, 26076, 5322, 4097, 14275, 49656, 39584, 11775, 49856, 9759, 44017, 24676, 31506, 39477, 47916, 31896, 7925, 39709, 43002, 5640, 38083, 19106, 19282, 32629, 20070, 2848, 36789, 10061, 20539, 32479, 18192, 26045, 10365, 26743, 36693, 18106, 16548, 15396, 22858, 43092, 45314, 332, 7757, 115, 32056, 21564, 33421, 29039, 8217, 10650, 11014, 35927, 32033, 18603, 25746, 8102, 22326, 31127, 42110, 23245, 46935, 43731, 25178, 47906, 16866, 38718, 23629, 26599, 14528, 4141, 4229, 18605, 27780, 9221, 24802, 38091, 24567, 30141, 9751, 28113, 39012, 7347, 17221, 8444, 29295, 35685, 3466, 14727, 13841, 44031, 41164, 27175, 49174, 44035, 35820, 17517, 37240, 34101, 12507, 20710, 33797, 33530, 3362, 8553, 40193, 9767, 17963, 47966, 48109, 35417, 34748, 5956, 27502, 49992, 39631, 47579, 42361, 4048, 16952, 25816, 12325, 42934, 30744, 18854, 39288, 43403, 44719, 23822, 5549, 5673, 36531, 44715, 46086, 5580, 12165, 20257, 22680, 10548, 39037, 40321, 42446, 48546, 3066, 43303, 13613, 9438, 43829, 35846, 36955, 26184, 28794, 6479, 23891, 46619, 25942, 28185, 3246, 7196, 1980, 16554, 35725, 15707, 13008, 32140, 22724, 28092, 6354, 8941]"
      ]
    },
    {
      "cell_type": "code",
      "execution_count": null,
      "metadata": {
        "colab": {
          "base_uri": "https://localhost:8080/"
        },
        "id": "4pVjnGj2Wew3",
        "outputId": "ed6ef049-f35d-4a32-c4ae-5ff78e07d69d"
      },
      "outputs": [
        {
          "name": "stdout",
          "output_type": "stream",
          "text": [
            "[42044, 3880, 33447, 8392, 36106, 31756, 29884, 22665, 34318, 20985, 3515, 45156, 43775, 30172, 1434, 43454, 555, 48032, 9362, 44599, 20790, 23808, 6867, 48908, 14592, 18951, 48856, 39083, 34998, 371, 8748, 35162, 21777, 21863, 40807, 15580, 13238, 10867, 43525, 47336, 26723, 9714, 6393, 47931, 23056, 4270, 49344, 13181, 47994, 17884, 18630, 29513, 33386, 37962, 30914, 29641, 18599, 41613, 41277, 1340, 1593, 41731, 49236, 48851, 30595, 25789, 36886, 47207, 36155, 47375, 16825, 30959, 34313, 48470, 8086, 11078, 21758, 39650, 27850, 22418, 42952, 29497, 12409, 902, 11100, 15755, 17620, 3076, 2932, 14393, 22026, 5477, 9384, 17133, 19814, 29854, 2718, 23096, 4798, 7674, 7889, 20523, 35626, 12192, 11709, 42688, 38519, 37978, 16838, 5703, 38224, 42231, 1711, 47379, 10578, 1188, 42998, 29341, 35411, 27931, 28449, 44299, 24096, 6563, 6276, 36606, 22997, 2391, 7251, 8313, 29880, 18315, 46706, 46200, 34547, 41975, 36819, 48119, 8116, 30257, 39664, 5623, 19011, 44946, 8515, 2066, 25070, 16238, 29367, 43831, 35248, 32460, 47274, 35286, 49004, 49091, 10553, 9874, 24735, 39486, 15827, 8660, 16501, 16370, 13467, 2950, 19041, 5770, 36558, 9257, 12328, 35179, 27211, 28223, 40652, 14509, 41243, 35490, 25531, 20452, 22189, 23732, 30116, 46486, 6833, 22317, 20205, 11356, 4165, 44956, 43944, 18211, 2287, 7991, 11734, 34168, 11835, 965, 17015, 48291, 37371, 14341, 43664, 49006, 11479, 41609, 13326, 39739, 8096, 2233, 16487, 15258, 11783, 439, 44746, 41234, 7504, 2453, 27533, 18803, 39883, 497, 31947, 32505, 36312, 48071, 13069, 33647, 28675, 557, 1335, 35326, 7409, 37747, 9123, 26427, 21903, 33453, 22674, 15086, 8549, 4991, 17303, 33325, 481, 13649, 38190, 42678, 13627, 29860, 7530, 7979, 47486, 28665, 29364, 30645, 26776, 44820, 12420, 46822, 33058, 33419, 38053, 44426, 1709, 32631, 42493, 20295, 11216, 48777, 26322, 18847, 45233, 3335, 23002, 38574, 5404, 35798, 39049, 17233, 37905, 40479, 7792, 16624, 28897, 16245, 11849, 48209, 32247, 34017, 44637, 19339, 49359, 9945, 4387, 15870, 34026, 3184, 1594, 199, 23863, 37999, 10955, 38029, 49308, 20267, 31837, 8155, 46873, 5371, 29518, 49557, 47068, 21639, 11374, 3689, 12807, 38977, 25350, 4061, 7423, 2189, 44294, 20686, 16137, 23507, 13860, 31955, 25391, 11838, 5115, 20584, 7727, 26076, 5322, 4097, 14275, 49656, 39584, 11775, 49856, 9759, 44017, 24676, 31506, 39477, 47916, 31896, 7925, 39709, 43002, 5640, 38083, 19106, 19282, 32629, 20070, 2848, 36789, 10061, 20539, 32479, 18192, 26045, 10365, 26743, 36693, 18106, 16548, 15396, 22858, 43092, 45314, 332, 7757, 115, 32056, 21564, 33421, 29039, 8217, 10650, 11014, 35927, 32033, 18603, 25746, 8102, 22326, 31127, 42110, 23245, 46935, 43731, 25178, 47906, 16866, 38718, 23629, 26599, 14528, 4141, 4229, 18605, 27780, 9221, 24802, 38091, 24567, 30141, 9751, 28113, 39012, 7347, 17221, 8444, 29295, 35685, 3466, 14727, 13841, 44031, 41164, 27175, 49174, 44035, 35820, 17517, 37240, 34101, 12507, 20710, 33797, 33530, 3362, 8553, 40193, 9767, 17963, 47966, 48109, 35417, 34748, 5956, 27502, 49992, 39631, 47579, 42361, 4048, 16952, 25816, 12325, 42934, 30744, 18854, 39288, 43403, 44719, 23822, 5549, 5673, 36531, 44715, 46086, 5580, 12165, 20257, 22680, 10548, 39037, 40321, 42446, 48546, 3066, 43303, 13613, 9438, 43829, 35846, 36955, 26184, 28794, 6479, 23891, 46619, 25942, 28185, 3246, 7196, 1980, 16554, 35725, 15707, 13008, 32140, 22724, 28092, 6354, 8941]\n"
          ]
        }
      ],
      "source": [
        "print(poisoned_indices)"
      ]
    },
    {
      "cell_type": "code",
      "execution_count": null,
      "metadata": {
        "id": "xP9R2oUHRc8x"
      },
      "outputs": [],
      "source": [
        "# Initialize SISA\n",
        "S = 5\n",
        "R = 5\n",
        "epochs = 5\n",
        "poisone_sisa = SISA(S, R, epochs)"
      ]
    },
    {
      "cell_type": "code",
      "execution_count": null,
      "metadata": {
        "colab": {
          "base_uri": "https://localhost:8080/"
        },
        "id": "C48gsK77lPta",
        "outputId": "42557480-dd86-4a3f-8473-8d036dd26381"
      },
      "outputs": [
        {
          "name": "stderr",
          "output_type": "stream",
          "text": [
            "/usr/local/lib/python3.10/dist-packages/torchvision/models/_utils.py:208: UserWarning: The parameter 'pretrained' is deprecated since 0.13 and may be removed in the future, please use 'weights' instead.\n",
            "  warnings.warn(\n",
            "/usr/local/lib/python3.10/dist-packages/torchvision/models/_utils.py:223: UserWarning: Arguments other than a weight enum or `None` for 'weights' are deprecated since 0.13 and may be removed in the future. The current behavior is equivalent to passing `weights=ResNet18_Weights.IMAGENET1K_V1`. You can also use `weights=ResNet18_Weights.DEFAULT` to get the most up-to-date weights.\n",
            "  warnings.warn(msg)\n"
          ]
        },
        {
          "name": "stdout",
          "output_type": "stream",
          "text": [
            "loading shard: 1\n",
            "loading shard: 2\n",
            "loading shard: 3\n",
            "loading shard: 4\n",
            "loading shard: 5\n"
          ]
        }
      ],
      "source": [
        "poisone_sisa.extract_and_load_model('/content/models_S5_R5.zip')"
      ]
    },
    {
      "cell_type": "code",
      "execution_count": null,
      "metadata": {
        "colab": {
          "base_uri": "https://localhost:8080/"
        },
        "id": "g-A7-Z6d6jm2",
        "outputId": "3021ebc7-60ce-412f-e7eb-f6339e8d2b4e"
      },
      "outputs": [
        {
          "name": "stderr",
          "output_type": "stream",
          "text": [
            "/usr/local/lib/python3.10/dist-packages/torchvision/models/_utils.py:208: UserWarning: The parameter 'pretrained' is deprecated since 0.13 and may be removed in the future, please use 'weights' instead.\n",
            "  warnings.warn(\n",
            "/usr/local/lib/python3.10/dist-packages/torchvision/models/_utils.py:223: UserWarning: Arguments other than a weight enum or `None` for 'weights' are deprecated since 0.13 and may be removed in the future. The current behavior is equivalent to passing `weights=ResNet18_Weights.IMAGENET1K_V1`. You can also use `weights=ResNet18_Weights.DEFAULT` to get the most up-to-date weights.\n",
            "  warnings.warn(msg)\n",
            "Downloading: \"https://download.pytorch.org/models/resnet18-f37072fd.pth\" to /root/.cache/torch/hub/checkpoints/resnet18-f37072fd.pth\n",
            "100%|██████████| 44.7M/44.7M [00:00<00:00, 178MB/s]\n"
          ]
        },
        {
          "name": "stdout",
          "output_type": "stream",
          "text": [
            "@ shard: 1  @ slice: 1 @ epoch: 0   loss= 0.8654252886772156\n",
            "@ shard: 1  @ slice: 1 @ epoch: 1   loss= 0.3747510015964508\n",
            "@ shard: 1  @ slice: 1 @ epoch: 2   loss= 0.3422948718070984\n",
            "@ shard: 1  @ slice: 1 @ epoch: 3   loss= 0.24503670632839203\n",
            "@ shard: 1  @ slice: 1 @ epoch: 4   loss= 0.08936162292957306\n",
            "@ shard: 1  @ slice: 2 @ epoch: 0   loss= 0.4068167805671692\n",
            "@ shard: 1  @ slice: 2 @ epoch: 1   loss= 0.2681864798069\n",
            "@ shard: 1  @ slice: 2 @ epoch: 2   loss= 0.4361494183540344\n",
            "@ shard: 1  @ slice: 2 @ epoch: 3   loss= 0.0647049993276596\n",
            "@ shard: 1  @ slice: 2 @ epoch: 4   loss= 0.22512809932231903\n",
            "@ shard: 1  @ slice: 3 @ epoch: 0   loss= 0.4825003147125244\n",
            "@ shard: 1  @ slice: 3 @ epoch: 1   loss= 0.3507573902606964\n",
            "@ shard: 1  @ slice: 3 @ epoch: 2   loss= 0.28768378496170044\n",
            "@ shard: 1  @ slice: 3 @ epoch: 3   loss= 0.008365673944354057\n",
            "@ shard: 1  @ slice: 3 @ epoch: 4   loss= 0.012603973038494587\n",
            "@ shard: 1  @ slice: 4 @ epoch: 0   loss= 0.5619994401931763\n",
            "@ shard: 1  @ slice: 4 @ epoch: 1   loss= 0.1288219839334488\n",
            "@ shard: 1  @ slice: 4 @ epoch: 2   loss= 0.11549315601587296\n",
            "@ shard: 1  @ slice: 4 @ epoch: 3   loss= 0.08657459169626236\n",
            "@ shard: 1  @ slice: 4 @ epoch: 4   loss= 0.005450626369565725\n",
            "@ shard: 1  @ slice: 5 @ epoch: 0   loss= 0.6969117522239685\n",
            "@ shard: 1  @ slice: 5 @ epoch: 1   loss= 0.3495602309703827\n",
            "@ shard: 1  @ slice: 5 @ epoch: 2   loss= 0.0336635448038578\n",
            "@ shard: 1  @ slice: 5 @ epoch: 3   loss= 0.1103423461318016\n",
            "@ shard: 1  @ slice: 5 @ epoch: 4   loss= 0.06922558695077896\n",
            "@ shard: 2  @ slice: 1 @ epoch: 0   loss= 1.3168554306030273\n",
            "@ shard: 2  @ slice: 1 @ epoch: 1   loss= 0.6931027770042419\n",
            "@ shard: 2  @ slice: 1 @ epoch: 2   loss= 0.8490106463432312\n",
            "@ shard: 2  @ slice: 1 @ epoch: 3   loss= 0.22766053676605225\n",
            "@ shard: 2  @ slice: 1 @ epoch: 4   loss= 0.3934605121612549\n",
            "@ shard: 2  @ slice: 2 @ epoch: 0   loss= 0.6897650957107544\n",
            "@ shard: 2  @ slice: 2 @ epoch: 1   loss= 0.17771413922309875\n",
            "@ shard: 2  @ slice: 2 @ epoch: 2   loss= 0.1016315221786499\n",
            "@ shard: 2  @ slice: 2 @ epoch: 3   loss= 0.03993361070752144\n",
            "@ shard: 2  @ slice: 2 @ epoch: 4   loss= 0.06479135900735855\n",
            "@ shard: 2  @ slice: 3 @ epoch: 0   loss= 0.2263411581516266\n",
            "@ shard: 2  @ slice: 3 @ epoch: 1   loss= 0.1696726530790329\n",
            "@ shard: 2  @ slice: 3 @ epoch: 2   loss= 0.18567737936973572\n",
            "@ shard: 2  @ slice: 3 @ epoch: 3   loss= 0.5934037566184998\n",
            "@ shard: 2  @ slice: 3 @ epoch: 4   loss= 0.4794611930847168\n",
            "@ shard: 2  @ slice: 4 @ epoch: 0   loss= 0.2563820779323578\n",
            "@ shard: 2  @ slice: 4 @ epoch: 1   loss= 0.6714386343955994\n",
            "@ shard: 2  @ slice: 4 @ epoch: 2   loss= 0.4507422149181366\n",
            "@ shard: 2  @ slice: 4 @ epoch: 3   loss= 0.015175375156104565\n",
            "@ shard: 2  @ slice: 4 @ epoch: 4   loss= 0.09228044748306274\n",
            "@ shard: 2  @ slice: 5 @ epoch: 0   loss= 0.8085103631019592\n",
            "@ shard: 2  @ slice: 5 @ epoch: 1   loss= 0.30301523208618164\n",
            "@ shard: 2  @ slice: 5 @ epoch: 2   loss= 0.3861388564109802\n",
            "@ shard: 2  @ slice: 5 @ epoch: 3   loss= 0.00160445854999125\n",
            "@ shard: 2  @ slice: 5 @ epoch: 4   loss= 0.007232187315821648\n",
            "@ shard: 3  @ slice: 1 @ epoch: 0   loss= 1.0602537393569946\n",
            "@ shard: 3  @ slice: 1 @ epoch: 1   loss= 0.9320446252822876\n",
            "@ shard: 3  @ slice: 1 @ epoch: 2   loss= 0.29107099771499634\n",
            "@ shard: 3  @ slice: 1 @ epoch: 3   loss= 0.25096219778060913\n",
            "@ shard: 3  @ slice: 1 @ epoch: 4   loss= 0.10123329609632492\n",
            "@ shard: 3  @ slice: 2 @ epoch: 0   loss= 0.16944818198680878\n",
            "@ shard: 3  @ slice: 2 @ epoch: 1   loss= 0.2084842324256897\n",
            "@ shard: 3  @ slice: 2 @ epoch: 2   loss= 0.015893086791038513\n",
            "@ shard: 3  @ slice: 2 @ epoch: 3   loss= 0.032550148665905\n",
            "@ shard: 3  @ slice: 2 @ epoch: 4   loss= 0.013809175230562687\n",
            "@ shard: 3  @ slice: 3 @ epoch: 0   loss= 1.2917237281799316\n",
            "@ shard: 3  @ slice: 3 @ epoch: 1   loss= 0.3379936218261719\n",
            "@ shard: 3  @ slice: 3 @ epoch: 2   loss= 0.381896436214447\n",
            "@ shard: 3  @ slice: 3 @ epoch: 3   loss= 0.3924483358860016\n",
            "@ shard: 3  @ slice: 3 @ epoch: 4   loss= 0.2151995748281479\n",
            "@ shard: 3  @ slice: 4 @ epoch: 0   loss= 0.34785783290863037\n",
            "@ shard: 3  @ slice: 4 @ epoch: 1   loss= 0.05802759528160095\n",
            "@ shard: 3  @ slice: 4 @ epoch: 2   loss= 0.07471295446157455\n",
            "@ shard: 3  @ slice: 4 @ epoch: 3   loss= 0.02651241049170494\n",
            "@ shard: 3  @ slice: 4 @ epoch: 4   loss= 0.014390775933861732\n",
            "@ shard: 3  @ slice: 5 @ epoch: 0   loss= 0.2445869743824005\n",
            "@ shard: 3  @ slice: 5 @ epoch: 1   loss= 0.07262130826711655\n",
            "@ shard: 3  @ slice: 5 @ epoch: 2   loss= 0.0765513926744461\n",
            "@ shard: 3  @ slice: 5 @ epoch: 3   loss= 0.12365791201591492\n",
            "@ shard: 3  @ slice: 5 @ epoch: 4   loss= 0.05306880176067352\n",
            "@ shard: 4  @ slice: 1 @ epoch: 0   loss= 0.958158016204834\n",
            "@ shard: 4  @ slice: 1 @ epoch: 1   loss= 0.41575977206230164\n",
            "@ shard: 4  @ slice: 1 @ epoch: 2   loss= 0.28415071964263916\n",
            "@ shard: 4  @ slice: 1 @ epoch: 3   loss= 0.12736955285072327\n",
            "@ shard: 4  @ slice: 1 @ epoch: 4   loss= 0.2334679663181305\n",
            "@ shard: 4  @ slice: 2 @ epoch: 0   loss= 0.4677283763885498\n",
            "@ shard: 4  @ slice: 2 @ epoch: 1   loss= 0.38963067531585693\n",
            "@ shard: 4  @ slice: 2 @ epoch: 2   loss= 0.7574648857116699\n",
            "@ shard: 4  @ slice: 2 @ epoch: 3   loss= 0.08288620412349701\n",
            "@ shard: 4  @ slice: 2 @ epoch: 4   loss= 0.158976748585701\n",
            "@ shard: 4  @ slice: 3 @ epoch: 0   loss= 0.7121870517730713\n",
            "@ shard: 4  @ slice: 3 @ epoch: 1   loss= 0.6180203557014465\n",
            "@ shard: 4  @ slice: 3 @ epoch: 2   loss= 0.08234189450740814\n",
            "@ shard: 4  @ slice: 3 @ epoch: 3   loss= 0.06455998122692108\n",
            "@ shard: 4  @ slice: 3 @ epoch: 4   loss= 0.013564595952630043\n",
            "@ shard: 4  @ slice: 4 @ epoch: 0   loss= 0.21858040988445282\n",
            "@ shard: 4  @ slice: 4 @ epoch: 1   loss= 0.21793898940086365\n",
            "@ shard: 4  @ slice: 4 @ epoch: 2   loss= 0.30339688062667847\n",
            "@ shard: 4  @ slice: 4 @ epoch: 3   loss= 0.015783140435814857\n",
            "@ shard: 4  @ slice: 4 @ epoch: 4   loss= 0.017609097063541412\n",
            "@ shard: 4  @ slice: 5 @ epoch: 0   loss= 0.7939643859863281\n",
            "@ shard: 4  @ slice: 5 @ epoch: 1   loss= 0.5548238158226013\n",
            "@ shard: 4  @ slice: 5 @ epoch: 2   loss= 0.5480755567550659\n",
            "@ shard: 4  @ slice: 5 @ epoch: 3   loss= 0.02420857734978199\n",
            "@ shard: 4  @ slice: 5 @ epoch: 4   loss= 0.0029817884787917137\n",
            "@ shard: 5  @ slice: 1 @ epoch: 0   loss= 1.3512041568756104\n",
            "@ shard: 5  @ slice: 1 @ epoch: 1   loss= 0.38798409700393677\n",
            "@ shard: 5  @ slice: 1 @ epoch: 2   loss= 0.5764238834381104\n",
            "@ shard: 5  @ slice: 1 @ epoch: 3   loss= 0.2533101439476013\n",
            "@ shard: 5  @ slice: 1 @ epoch: 4   loss= 0.1690410077571869\n",
            "@ shard: 5  @ slice: 2 @ epoch: 0   loss= 0.9304193258285522\n",
            "@ shard: 5  @ slice: 2 @ epoch: 1   loss= 0.8715952634811401\n",
            "@ shard: 5  @ slice: 2 @ epoch: 2   loss= 0.05553022399544716\n",
            "@ shard: 5  @ slice: 2 @ epoch: 3   loss= 0.03984991833567619\n",
            "@ shard: 5  @ slice: 2 @ epoch: 4   loss= 0.020495066419243813\n",
            "@ shard: 5  @ slice: 3 @ epoch: 0   loss= 0.5503975749015808\n",
            "@ shard: 5  @ slice: 3 @ epoch: 1   loss= 0.06953168660402298\n",
            "@ shard: 5  @ slice: 3 @ epoch: 2   loss= 0.07475422322750092\n",
            "@ shard: 5  @ slice: 3 @ epoch: 3   loss= 0.00662155682221055\n",
            "@ shard: 5  @ slice: 3 @ epoch: 4   loss= 0.06940662860870361\n",
            "@ shard: 5  @ slice: 4 @ epoch: 0   loss= 0.4342343211174011\n",
            "@ shard: 5  @ slice: 4 @ epoch: 1   loss= 0.5512023568153381\n",
            "@ shard: 5  @ slice: 4 @ epoch: 2   loss= 0.024889614433050156\n",
            "@ shard: 5  @ slice: 4 @ epoch: 3   loss= 0.0033090056385844946\n",
            "@ shard: 5  @ slice: 4 @ epoch: 4   loss= 0.04234185442328453\n",
            "@ shard: 5  @ slice: 5 @ epoch: 0   loss= 0.4522891640663147\n",
            "@ shard: 5  @ slice: 5 @ epoch: 1   loss= 0.5819540023803711\n",
            "@ shard: 5  @ slice: 5 @ epoch: 2   loss= 0.014177010394632816\n",
            "@ shard: 5  @ slice: 5 @ epoch: 3   loss= 0.15292805433273315\n",
            "@ shard: 5  @ slice: 5 @ epoch: 4   loss= 0.020520450547337532\n"
          ]
        }
      ],
      "source": [
        "# Train the model\n",
        "poisone_sisa.train(cifar10_train)"
      ]
    },
    {
      "cell_type": "markdown",
      "metadata": {
        "id": "vV3-wZDeFc_B"
      },
      "source": [
        "***UPLOADING:***"
      ]
    },
    {
      "cell_type": "code",
      "execution_count": null,
      "metadata": {
        "colab": {
          "base_uri": "https://localhost:8080/",
          "height": 53
        },
        "id": "VJU9cmtUFco5",
        "outputId": "f6be8e8d-6cad-4068-d081-b86a10edffff"
      },
      "outputs": [
        {
          "name": "stdout",
          "output_type": "stream",
          "text": [
            "Uploaded file with ID 1HdZyTSCZiA8sycdg-RAb3oJi6XgDNCcp\n"
          ]
        },
        {
          "data": {
            "application/vnd.google.colaboratory.intrinsic+json": {
              "type": "string"
            },
            "text/plain": [
              "'1HdZyTSCZiA8sycdg-RAb3oJi6XgDNCcp'"
            ]
          },
          "execution_count": 13,
          "metadata": {},
          "output_type": "execute_result"
        }
      ],
      "source": [
        "poisone_sisa.upload_models_to_drive()"
      ]
    },
    {
      "cell_type": "code",
      "execution_count": null,
      "metadata": {
        "colab": {
          "base_uri": "https://localhost:8080/"
        },
        "id": "3HzxbrPkRjjY",
        "outputId": "4ab9667f-e7ed-4d30-ed1d-3f61bd6bba34"
      },
      "outputs": [
        {
          "name": "stdout",
          "output_type": "stream",
          "text": [
            "Downloaded models_S5_R5.zip from Google Drive\n"
          ]
        },
        {
          "name": "stderr",
          "output_type": "stream",
          "text": [
            "/usr/local/lib/python3.10/dist-packages/torchvision/models/_utils.py:208: UserWarning: The parameter 'pretrained' is deprecated since 0.13 and may be removed in the future, please use 'weights' instead.\n",
            "  warnings.warn(\n",
            "/usr/local/lib/python3.10/dist-packages/torchvision/models/_utils.py:223: UserWarning: Arguments other than a weight enum or `None` for 'weights' are deprecated since 0.13 and may be removed in the future. The current behavior is equivalent to passing `weights=ResNet18_Weights.IMAGENET1K_V1`. You can also use `weights=ResNet18_Weights.DEFAULT` to get the most up-to-date weights.\n",
            "  warnings.warn(msg)\n"
          ]
        },
        {
          "name": "stdout",
          "output_type": "stream",
          "text": [
            "loading shard: 1\n",
            "loading shard: 2\n",
            "loading shard: 3\n",
            "loading shard: 4\n",
            "loading shard: 5\n"
          ]
        }
      ],
      "source": [
        "# Google Drive file ID of the saved model zip file (replace this with your actual file ID)\n",
        "file_id = '1HdZyTSCZiA8sycdg-RAb3oJi6XgDNCcp'\n",
        "\n",
        "# Download and extract models\n",
        "poisone_sisa.download_and_extract_models_from_drive(file_id)"
      ]
    },
    {
      "cell_type": "code",
      "execution_count": null,
      "metadata": {
        "colab": {
          "base_uri": "https://localhost:8080/"
        },
        "id": "LoTbnn2UegQ0",
        "outputId": "c34f1f72-045b-4fc6-943d-837f2a7fc307"
      },
      "outputs": [
        {
          "name": "stdout",
          "output_type": "stream",
          "text": [
            "Files already downloaded and verified\n"
          ]
        }
      ],
      "source": [
        "# Step 4: Evaluate the model's performance on clean test data\n",
        "cifar10_test = datasets.CIFAR10(root='./data', train=False, download=True, transform=transform)"
      ]
    },
    {
      "cell_type": "code",
      "execution_count": null,
      "metadata": {
        "id": "Ru5gWV2SeJRO"
      },
      "outputs": [],
      "source": [
        "# Get a sample of 1000 test examples from class 3\n",
        "class_3_indices = [i for i, (_, label) in enumerate(cifar10_test) if label == 0]\n",
        "sample_indices = torch.randperm(len(class_3_indices))[:1000]\n",
        "sampled_class_3_indices = [class_3_indices[i] for i in sample_indices]\n",
        "test_data = torch.utils.data.Subset(cifar10_test, class_3_indices)\n",
        "\n",
        "test_loader = torch.utils.data.DataLoader(cifar10_test, batch_size=64, shuffle=False)"
      ]
    },
    {
      "cell_type": "code",
      "execution_count": null,
      "metadata": {
        "colab": {
          "base_uri": "https://localhost:8080/"
        },
        "id": "GURuFTn6km2O",
        "outputId": "3005f1bb-ee63-4f45-df8f-b6338746fc60"
      },
      "outputs": [
        {
          "name": "stdout",
          "output_type": "stream",
          "text": [
            "[2, 3, 4]\n"
          ]
        }
      ],
      "source": [
        "# Get a sample of 100 test examples\n",
        "sample_indices = [2,3,4]\n",
        "print(sample_indices)\n",
        "test_data = torch.utils.data.Subset(cifar10_test, sample_indices)\n",
        "\n",
        "test_loader = torch.utils.data.DataLoader(cifar10_test, batch_size=64, shuffle=False)"
      ]
    },
    {
      "cell_type": "code",
      "execution_count": null,
      "metadata": {
        "id": "GtEki3gB_q4Y"
      },
      "outputs": [],
      "source": [
        "\n",
        "\n",
        "# Get a sample of 100 test examples\n",
        "sample_indices = torch.randperm(len(cifar10_test))[:1]\n",
        "test_data = torch.utils.data.Subset(cifar10_test, sample_indices)\n",
        "\n",
        "test_loader = torch.utils.data.DataLoader(test_data, batch_size=64, shuffle=False)"
      ]
    },
    {
      "cell_type": "code",
      "execution_count": null,
      "metadata": {
        "id": "RyWxmHPuf9IE"
      },
      "outputs": [],
      "source": [
        "accuracy, f1, precision, recall, auroc = poisone_sisa.evaluate(test_loader, poisone_sisa.aggregate_majority_vote)\n",
        "\n",
        "print(f'Accuracy: {accuracy}, F1-score: {f1}, Precision: {precision}, Recall: {recall}, AUROC: {auroc}')"
      ]
    },
    {
      "cell_type": "code",
      "execution_count": null,
      "metadata": {
        "colab": {
          "base_uri": "https://localhost:8080/"
        },
        "id": "4kwr2v-27UlK",
        "outputId": "68942208-3202-4f19-da02-16748a2da5b9"
      },
      "outputs": [
        {
          "name": "stdout",
          "output_type": "stream",
          "text": [
            "all_preds= [3, 8, 8, 0, 6, 6, 1, 6, 3, 1, 0, 9, 5, 7, 9, 8, 5, 7, 8, 6, 7, 0, 4, 9, 5, 2, 4, 0, 9, 6, 6, 5, 4, 5, 9, 8, 4, 9, 9, 5, 4, 6, 5, 6, 0, 9, 3, 8, 7, 6, 9, 8, 0, 3, 8, 8, 7, 7, 3, 6, 7, 5, 6, 3, 6, 2, 1, 2, 5, 7, 2, 6, 8, 8, 0, 2, 9, 3, 5, 8, 8, 1, 1, 7, 2, 5, 2, 7, 8, 9, 0, 3, 8, 6, 4, 6, 6, 0, 0, 7, 4, 5, 6, 3, 1, 1, 3, 6, 8, 7, 4, 0, 6, 2, 1, 3, 0, 4, 6, 7, 8, 3, 1, 2, 8, 0, 8, 3, 3, 2, 4, 1, 8, 9, 1, 2, 9, 7, 2, 8, 6, 5, 6, 5, 8, 2, 6, 5, 5, 2, 8, 9, 6, 0, 0, 5, 2, 9, 3, 4, 0, 1, 5, 6, 0, 4, 8, 4, 5, 0, 9, 0, 9, 8, 9, 9, 3, 7, 5, 0, 0, 5, 2, 2, 3, 8, 6, 3, 3, 0, 5, 8, 0, 1, 7, 2, 8, 8, 7, 8, 5, 0, 8, 7, 1, 3, 0, 5, 7, 9, 3, 4, 5, 9, 8, 0, 7, 9, 8, 2, 7, 6, 9, 4, 4, 9, 6, 4, 6, 6, 5, 1, 3, 8, 8, 0, 4, 0, 5, 5, 1, 1, 8, 9, 0, 3, 1, 9, 2, 2, 5, 3, 9, 9, 4, 8, 3, 0, 0, 9, 8, 1, 5, 3, 8, 8, 2, 4, 7, 0, 2, 3, 6, 3, 8, 5, 0, 2, 4, 3, 9, 0, 6, 1, 0, 9, 1, 0, 7, 9, 1, 2, 6, 1, 3, 4, 6, 0, 0, 6, 6, 6, 3, 2, 6, 0, 9, 2, 1, 6, 8, 6, 0, 0, 4, 0, 7, 7, 5, 5, 3, 3, 2, 3, 5, 1, 7, 5, 4, 6, 1, 9, 3, 6, 6, 9, 3, 8, 0, 7, 2, 6, 0, 5, 0, 5, 4, 6, 8, 9, 9, 1, 0, 2, 2, 2, 5, 2, 8, 0, 9, 5, 8, 1, 9, 4, 1, 3, 8, 1, 4, 7, 9, 4, 2, 7, 0, 7, 8, 6, 6, 9, 0, 9, 5, 8, 7, 2, 2, 5, 1, 2, 6, 2, 9, 6, 2, 3, 0, 3, 9, 8, 7, 8, 8, 4, 0, 1, 8, 2, 7, 0, 3, 6, 1, 9, 0, 7, 2, 7, 4, 5, 0, 0, 2, 9, 3, 4, 0, 6, 2, 5, 3, 7, 3, 7, 2, 5, 3, 1, 1, 4, 9, 9, 5, 7, 5, 0, 2, 0, 2, 9, 7, 3, 9, 2, 4, 5, 3, 6, 5, 6, 1, 4, 3, 4, 4, 3, 7, 8, 5, 7, 8, 0, 5, 7, 6, 0, 5, 4, 8, 6, 8, 5, 5, 9, 9, 9, 4, 0, 1, 0, 8, 1, 1, 8, 0, 2, 2, 0, 4, 6, 5, 4, 9, 4, 7, 9, 0, 4, 5, 6, 6, 1, 5, 3, 8, 9, 3, 8, 5, 7, 0, 7, 0, 5, 0, 0, 4, 6, 9, 0, 9, 5, 6, 6, 6, 6, 9, 0, 1, 7, 6, 7, 5, 9, 1, 6, 2, 5, 5, 3, 8, 5, 9, 4, 6, 4, 3, 2, 0, 7, 6, 2, 2, 3, 9, 3, 9, 2, 6, 7, 1, 3, 6, 6, 8, 9, 7, 5, 4, 0, 8, 4, 0, 9, 3, 4, 8, 9, 6, 9, 2, 6, 1, 4, 7, 3, 3, 3, 8, 5, 0, 2, 1, 6, 4, 2, 3, 9, 6, 9, 8, 8, 5, 8, 6, 6, 2, 1, 7, 7, 1, 2, 7, 9, 9, 4, 4, 1, 2, 2, 6, 8, 7, 6, 8, 3, 0, 5, 3, 3, 0, 7, 9, 1, 3, 4, 4, 5, 3, 9, 5, 6, 9, 0, 1, 1, 4, 1, 9, 4, 7, 6, 3, 0, 9, 0, 1, 3, 6, 3, 2, 3, 2, 0, 3, 1, 0, 5, 9, 6, 7, 0, 9, 6, 9, 6, 3, 0, 3, 2, 0, 7, 8, 3, 8, 2, 7, 5, 7, 2, 4, 8, 7, 4, 2, 9, 8, 8, 6, 8, 8, 7, 4, 3, 3, 8, 4, 9, 4, 8, 8, 1, 8, 0, 1, 2, 6, 5, 4, 0, 7, 9, 1, 0, 1, 4, 1, 5, 2, 7, 0, 7, 9, 7, 6, 6, 2, 3, 9, 0, 9, 1, 2, 2, 6, 8, 2, 1, 3, 6, 6, 0, 1, 2, 7, 9, 5, 4, 3, 1, 6, 4, 0, 2, 2, 6, 0, 6, 9, 1, 7, 6, 7, 0, 3, 9, 6, 8, 3, 0, 3, 4, 7, 7, 1, 4, 7, 2, 7, 1, 4, 7, 4, 4, 8, 4, 7, 7, 2, 5, 7, 2, 0, 8, 9, 5, 8, 3, 6, 2, 0, 8, 7, 3, 7, 6, 5, 3, 1, 3, 2, 2, 5, 4, 9, 2, 9, 2, 7, 0, 7, 2, 1, 0, 2, 0, 2, 4, 7, 9, 8, 1, 0, 7, 7, 0, 7, 8, 4, 6, 4, 3, 0, 1, 3, 7, 0, 1, 3, 1, 4, 2, 3, 8, 4, 2, 3, 7, 8, 4, 3, 0, 9, 0, 0, 1, 1, 4, 4, 6, 7, 7, 1, 1, 3, 7, 3, 5, 2, 6, 6, 5, 0, 7, 1, 6, 8, 8, 3, 3, 0, 4, 0, 1, 2, 8, 8, 0, 6, 9, 9, 9, 7, 3, 8, 6, 0, 0, 4, 2, 3, 2, 7, 2, 2, 5, 1, 8, 9, 1, 7, 4, 0, 3, 0, 1, 3, 8, 3, 9, 6, 1, 4, 7, 0, 3, 7, 8, 9, 1, 1, 6, 6, 6, 6, 9, 1, 9, 9, 4, 2, 1, 7, 0, 6, 8, 1, 9, 2, 9, 3, 4, 7, 8, 3, 1, 2, 0, 1, 5, 8, 7, 6, 3, 8, 1, 3, 8, 5, 8, 8, 4, 8, 1, 1, 8, 9, 6, 0, 8, 6, 1, 3, 4, 1, 6, 0, 3, 1, 1, 0, 0, 3, 5, 0, 0, 6, 6, 3, 3, 6, 3, 3, 6, 0, 7, 2, 2, 2, 5, 2, 2, 8, 5, 2, 1, 1, 4, 7, 2, 0, 3, 1, 5, 3, 7, 6, 8, 9, 1, 6, 4, 9, 3, 9, 0, 9, 6, 3, 6, 1, 7, 3, 8, 0, 0, 0, 6, 6, 6, 9, 2, 5, 4, 4, 6, 3, 6, 8, 8, 6, 0, 6, 6, 7, 5, 1, 2, 7, 8, 8, 0, 9, 3, 9, 7, 2, 0, 2, 8, 3, 8, 9, 1, 5, 5, 7, 7, 5, 3, 8, 3, 3, 6, 2, 8, 4, 3, 7, 1, 2, 4, 1, 6, 9, 0, 5, 8, 6, 1, 8, 6, 1, 4, 2, 6, 2, 7, 2, 2, 0, 8, 6, 9, 1, 7, 1, 8, 8, 0, 7, 5, 8, 0, 3, 3, 3, 7, 7, 9, 2, 3, 1, 9, 1, 1, 6, 3, 5, 3, 1, 0, 6, 1, 4, 1, 0, 0, 1, 1, 6, 5, 4, 6, 2, 0, 7, 9, 8, 7, 2, 0, 6, 0, 1, 4, 3, 7, 0, 6, 1, 8, 5, 7, 8, 4, 8, 3, 9, 9, 9, 8, 7, 6, 6, 5, 5, 1, 3, 9, 1, 4, 1, 5, 7, 8, 1, 3, 2, 0, 8, 8, 5, 6, 7, 5, 2, 4, 7, 2, 5, 8, 2, 4, 8, 2, 1, 8, 1, 9, 8, 0, 8, 9, 0, 4, 3, 3, 1, 8, 4, 6, 3, 3, 5, 6, 2, 8, 3, 8, 9, 5, 8, 9, 8, 9, 1, 6, 5, 9, 4, 4, 8, 0, 7, 2, 9, 7, 4, 1, 6, 4, 4, 9, 1, 2, 5, 6, 0, 8, 6, 1, 9, 4, 5, 9, 5, 0, 7, 2, 0, 0, 4, 4, 6, 6, 5, 5, 2, 8, 1, 7, 3, 1, 4, 5, 6, 7, 1, 4, 7, 0, 9, 4, 3, 8, 2, 8, 4, 7, 2, 3, 1, 3, 2, 9, 8, 9, 7, 9, 5, 1, 4, 0, 8, 2, 3, 8, 9, 1, 1, 3, 2, 4, 9, 3, 1, 7, 4, 6, 2, 8, 9, 5, 3, 9, 5, 5, 6, 2, 2, 4, 5, 6, 1, 0, 7, 0, 5, 4, 7, 6, 1, 1, 9, 8, 1, 0, 1, 3, 1, 1, 1, 7, 3, 9, 6, 8, 4, 6, 8, 4, 9, 4, 7, 9, 7, 6, 8, 4, 9, 7, 0, 1, 6, 1, 5, 1, 0, 4, 3, 4, 1, 3, 0, 8, 4, 6, 2, 2, 6, 6, 3, 6, 2, 1, 1, 8, 6, 0, 4, 0, 1, 9, 7, 1, 3, 7, 2, 8, 7, 7, 3, 9, 7, 7, 7, 2, 1, 2, 8, 6, 4, 0, 7, 9, 8, 6, 8, 6, 1, 1, 3, 0, 6, 8, 5, 8, 1, 3, 2, 4, 1, 2, 7, 2, 8, 1, 8, 1, 8, 6, 0, 2, 4, 1, 3, 6, 7, 7, 4, 4, 3, 3, 4, 5, 2, 4, 3, 7, 8, 4, 4, 4, 3, 4, 3, 2, 8, 4, 5, 5, 4, 1, 4, 2, 5, 1, 6, 4, 3, 4, 4, 0, 8, 8, 4, 5, 7, 5, 6, 9, 1, 6, 7, 5, 0, 1, 4, 5, 6, 0, 0, 2, 7, 3, 6, 0, 3, 2, 9, 1, 7, 7, 5, 0, 5, 6, 4, 1, 4, 3, 3, 3, 0, 3, 5, 5, 8, 9, 7, 3, 1, 7, 3, 3, 4, 4, 2, 3, 3, 8, 1, 7, 7, 0, 7, 4, 5, 1, 4, 2, 4, 3, 9, 9, 4, 9, 9, 1, 8, 1, 6, 7, 5, 5, 4, 9, 5, 6, 5, 9, 2, 4, 0, 7, 8, 5, 5, 0, 0, 9, 9, 8, 2, 5, 4, 8, 3, 6, 3, 6, 0, 6, 6, 6, 9, 6, 6, 8, 6, 2, 4, 5, 8, 1, 2, 7, 6, 5, 7, 8, 8, 2, 0, 8, 6, 9, 2, 8, 9, 4, 0, 9, 4, 9, 5, 7, 5, 5, 9, 5, 3, 0, 1, 9, 7, 2, 4, 1, 0, 8, 0, 3, 1, 7, 8, 0, 4, 8, 6, 2, 4, 0, 0, 9, 0, 8, 4, 3, 1, 3, 9, 0, 5, 6, 5, 0, 1, 4, 8, 1, 0, 5, 4, 1, 0, 2, 8, 1, 5, 6, 7, 7, 2, 6, 2, 3, 0, 1, 4, 2, 5, 2, 6, 2, 2, 1, 7, 2, 0, 5, 5, 3, 0, 4, 8, 5, 7, 6, 3, 8, 1, 0, 1, 3, 3, 0, 7, 6, 9, 5, 3, 6, 0, 1, 4, 4, 4, 4, 2, 2, 5, 8, 1, 5, 9, 8, 1, 1, 3, 3, 9, 9, 7, 6, 5, 0, 8, 4, 7, 9, 9, 2, 8, 4, 7, 1, 3, 9, 6, 8, 9, 0, 4, 9, 6, 7, 8, 9, 4, 8, 9, 7, 2, 5, 3, 7, 1, 0, 2, 9, 5, 5, 8, 5, 5, 2, 8, 3, 4, 5, 7, 7, 8, 6, 2, 8, 2, 3, 5, 6, 8, 0, 2, 3, 7, 0, 1, 9, 1, 3, 5, 5, 2, 3, 2, 9, 6, 8, 6, 9, 3, 0, 9, 8, 0, 7, 8, 5, 0, 0, 1, 6, 9, 1, 5, 3, 4, 4, 0, 9, 9, 9, 9, 8, 2, 4, 2, 2, 5, 1, 9, 1, 0, 9, 4, 2, 1, 6, 0, 3, 0, 2, 5, 9, 0, 7, 5, 7, 2, 8, 4, 4, 8, 3, 5, 0, 5, 7, 4, 4, 2, 2, 7, 3, 6, 0, 2, 7, 6, 2, 3, 0, 7, 7, 8, 9, 1, 4, 6, 0, 6, 6, 5, 5, 6, 3, 9, 3, 6, 8, 7, 6, 4, 9, 5, 6, 4, 1, 6, 3, 8, 2, 3, 9, 8, 5, 1, 5, 4, 5, 7, 5, 7, 8, 9, 1, 2, 2, 5, 6, 8, 4, 6, 5, 3, 9, 9, 8, 5, 5, 6, 4, 5, 9, 7, 3, 4, 1, 4, 2, 2, 6, 3, 5, 2, 8, 0, 0, 1, 8, 3, 1, 3, 5, 8, 3, 8, 5, 8, 6, 3, 5, 5, 5, 0, 0, 5, 3, 7, 1, 8, 2, 4, 7, 3, 4, 2, 9, 6, 2, 2, 4, 3, 0, 4, 0, 1, 3, 2, 2, 7, 0, 1, 0, 7, 7, 2, 0, 1, 6, 5, 0, 2, 2, 0, 1, 2, 6, 0, 1, 6, 6, 5, 3, 5, 0, 0, 1, 1, 0, 2, 5, 9, 7, 8, 6, 4, 6, 0, 2, 0, 1, 9, 2, 6, 9, 0, 7, 2, 3, 4, 8, 9, 2, 6, 8, 9, 5, 1, 9, 3, 4, 2, 7, 9, 6, 9, 5, 7, 8, 5, 9, 8, 3, 9, 7, 0, 3, 5, 4, 1, 8, 0, 7, 5, 8, 2, 2, 5, 3, 9, 5, 1, 9, 3, 1, 4, 3, 4, 4, 9, 0, 1, 5, 9, 2, 9, 4, 0, 2, 8, 4, 8, 6, 8, 2, 0, 5, 9, 6, 9, 3, 1, 3, 4, 4, 2, 7, 2, 4, 4, 0, 2, 8, 4, 5, 1, 2, 6, 8, 1, 7, 2, 8, 7, 4, 3, 3, 3, 0, 7, 2, 5, 6, 1, 7, 9, 0, 2, 3, 9, 8, 9, 5, 0, 0, 7, 3, 3, 3, 8, 1, 4, 0, 1, 5, 4, 3, 4, 6, 0, 8, 8, 6, 3, 3, 3, 9, 7, 5, 1, 6, 0, 5, 9, 9, 4, 5, 1, 4, 8, 5, 3, 2, 5, 1, 9, 5, 5, 1, 1, 8, 9, 7, 0, 3, 3, 2, 0, 2, 6, 9, 3, 9, 1, 6, 6, 7, 2, 6, 5, 2, 5, 5, 2, 7, 5, 3, 0, 8, 0, 7, 7, 1, 7, 4, 0, 2, 2, 6, 1, 5, 9, 7, 6, 2, 7, 0, 5, 6, 0, 1, 1, 8, 4, 5, 0, 1, 2, 4, 8, 0, 8, 1, 7, 2, 7, 2, 0, 2, 6, 7, 9, 4, 0, 1, 0, 4, 2, 0, 8, 0, 7, 6, 1, 8, 8, 5, 9, 2, 5, 4, 5, 9, 0, 6, 1, 2, 5, 1, 6, 7, 1, 5, 8, 8, 0, 3, 9, 4, 0, 6, 4, 9, 2, 2, 3, 0, 6, 6, 5, 5, 6, 7, 8, 4, 8, 8, 3, 2, 8, 0, 0, 5, 6, 8, 7, 8, 9, 9, 0, 6, 6, 8, 1, 1, 7, 4, 4, 2, 5, 6, 9, 0, 2, 4, 1, 8, 2, 3, 1, 6, 8, 6, 8, 5, 9, 0, 1, 0, 2, 9, 2, 9, 0, 9, 7, 8, 5, 8, 6, 6, 8, 1, 6, 5, 8, 7, 9, 2, 1, 6, 7, 5, 6, 3, 0, 9, 8, 9, 5, 8, 9, 9, 3, 2, 4, 4, 8, 8, 1, 7, 3, 0, 6, 2, 4, 0, 2, 2, 9, 2, 2, 9, 7, 4, 1, 9, 1, 4, 5, 0, 3, 8, 9, 3, 6, 2, 1, 1, 9, 0, 5, 1, 5, 8, 2, 1, 0, 5, 2, 4, 8, 4, 0, 6, 4, 2, 9, 8, 4, 7, 6, 2, 4, 7, 7, 6, 4, 2, 2, 3, 2, 4, 9, 0, 2, 9, 6, 5, 8, 5, 2, 4, 8, 8, 3, 0, 5, 7, 6, 3, 7, 0, 4, 0, 9, 8, 4, 8, 0, 4, 9, 3, 3, 6, 8, 1, 6, 0, 8, 4, 5, 1, 4, 5, 2, 3, 3, 6, 0, 7, 1, 3, 5, 7, 1, 8, 0, 4, 8, 2, 7, 7, 0, 2, 2, 4, 3, 3, 1, 4, 1, 6, 4, 6, 7, 4, 7, 3, 8, 1, 3, 1, 4, 6, 7, 3, 7, 4, 5, 4, 9, 7, 7, 2, 5, 3, 6, 7, 4, 1, 6, 1, 0, 6, 9, 6, 0, 2, 0, 2, 4, 7, 0, 0, 0, 0, 7, 5, 3, 2, 7, 8, 5, 5, 2, 2, 8, 9, 1, 2, 2, 0, 3, 4, 9, 1, 6, 9, 0, 0, 3, 6, 4, 6, 7, 5, 1, 8, 9, 0, 5, 0, 5, 2, 3, 8, 5, 2, 0, 8, 5, 9, 2, 3, 6, 5, 7, 3, 7, 2, 8, 8, 4, 2, 1, 6, 2, 9, 9, 8, 2, 3, 1, 0, 5, 2, 3, 7, 9, 5, 9, 1, 1, 3, 2, 7, 7, 4, 1, 9, 4, 3, 5, 2, 2, 7, 6, 1, 2, 3, 7, 5, 4, 5, 7, 7, 0, 0, 1, 2, 4, 3, 7, 9, 8, 7, 0, 9, 0, 3, 7, 6, 5, 8, 4, 5, 6, 5, 5, 4, 2, 9, 2, 4, 9, 2, 0, 1, 9, 3, 7, 9, 5, 1, 6, 0, 3, 3, 7, 6, 4, 5, 2, 3, 6, 0, 3, 0, 4, 1, 3, 8, 1, 2, 3, 2, 7, 1, 3, 2, 6, 8, 6, 6, 5, 4, 2, 9, 9, 3, 2, 0, 4, 1, 5, 5, 6, 6, 5, 6, 9, 7, 9, 4, 8, 3, 1, 9, 8, 1, 9, 0, 3, 0, 4, 7, 7, 2, 6, 5, 6, 9, 7, 7, 5, 7, 0, 8, 6, 5, 8, 3, 8, 9, 3, 2, 9, 2, 7, 4, 1, 9, 7, 0, 8, 1, 6, 0, 6, 5, 1, 4, 2, 8, 2, 8, 3, 5, 1, 4, 9, 8, 1, 1, 7, 9, 9, 4, 6, 8, 5, 3, 2, 2, 0, 8, 5, 1, 9, 7, 9, 1, 3, 3, 1, 0, 3, 8, 9, 2, 0, 8, 8, 7, 9, 4, 8, 3, 0, 5, 0, 7, 0, 5, 5, 4, 3, 0, 9, 9, 0, 2, 2, 0, 8, 4, 4, 5, 2, 2, 1, 1, 5, 5, 4, 3, 4, 0, 8, 4, 8, 2, 5, 6, 5, 1, 7, 2, 4, 0, 5, 6, 8, 7, 6, 3, 1, 3, 6, 6, 4, 5, 5, 5, 1, 8, 7, 3, 0, 2, 7, 1, 1, 1, 6, 7, 6, 1, 2, 3, 9, 8, 3, 1, 7, 4, 8, 4, 7, 5, 8, 6, 0, 5, 0, 8, 2, 4, 4, 9, 4, 6, 1, 3, 7, 7, 9, 0, 1, 3, 1, 3, 0, 4, 0, 7, 8, 3, 1, 6, 2, 1, 8, 8, 1, 9, 3, 3, 3, 2, 9, 0, 6, 8, 4, 1, 5, 7, 0, 6, 7, 0, 4, 9, 0, 7, 0, 6, 7, 1, 8, 3, 8, 8, 7, 0, 0, 6, 2, 5, 7, 0, 6, 4, 4, 9, 1, 8, 6, 3, 9, 4, 9, 3, 3, 7, 5, 9, 7, 5, 4, 5, 8, 2, 8, 9, 5, 3, 1, 9, 2, 2, 0, 1, 1, 8, 1, 1, 9, 8, 9, 9, 8, 2, 2, 9, 1, 9, 0, 1, 9, 2, 9, 9, 9, 7, 9, 9, 2, 1, 7, 0, 5, 6, 3, 1, 8, 3, 0, 2, 4, 7, 4, 8, 3, 0, 4, 2, 3, 5, 7, 6, 6, 6, 5, 6, 3, 4, 5, 8, 8, 0, 9, 7, 9, 0, 6, 9, 6, 1, 4, 7, 8, 0, 3, 5, 7, 7, 6, 9, 8, 2, 3, 9, 3, 3, 7, 8, 3, 3, 5, 9, 6, 1, 4, 7, 4, 8, 7, 7, 1, 3, 0, 3, 2, 5, 4, 9, 3, 5, 4, 7, 0, 3, 7, 0, 2, 1, 5, 8, 7, 3, 5, 7, 8, 5, 7, 8, 1, 5, 4, 7, 0, 8, 3, 2, 9, 7, 4, 1, 6, 5, 9, 8, 5, 5, 4, 1, 0, 9, 4, 3, 3, 0, 4, 8, 0, 8, 2, 9, 3, 9, 7, 4, 6, 7, 9, 2, 9, 3, 7, 7, 8, 0, 2, 0, 2, 5, 3, 6, 4, 7, 2, 3, 5, 8, 7, 2, 5, 0, 0, 7, 0, 3, 6, 1, 0, 5, 9, 7, 4, 9, 1, 6, 8, 1, 0, 3, 3, 5, 2, 8, 9, 5, 4, 4, 1, 2, 4, 9, 8, 7, 9, 3, 1, 2, 1, 6, 6, 4, 5, 7, 4, 5, 8, 5, 2, 8, 7, 8, 2, 3, 6, 1, 3, 3, 1, 5, 1, 9, 0, 9, 0, 0, 0, 2, 4, 8, 5, 7, 6, 1, 2, 9, 4, 5, 0, 3, 3, 7, 4, 7, 1, 4, 5, 0, 2, 8, 5, 0, 0, 6, 2, 0, 8, 4, 5, 4, 5, 6, 4, 7, 9, 6, 2, 0, 6, 2, 2, 0, 6, 4, 6, 1, 1, 5, 5, 2, 2, 6, 3, 4, 5, 0, 1, 7, 2, 3, 1, 6, 5, 0, 2, 9, 7, 1, 7, 2, 2, 0, 8, 6, 4, 3, 2, 7, 7, 0, 4, 1, 6, 5, 1, 3, 0, 3, 9, 0, 0, 2, 5, 7, 4, 0, 1, 9, 8, 4, 9, 4, 2, 4, 3, 3, 4, 0, 4, 3, 3, 8, 9, 1, 5, 8, 1, 8, 2, 4, 4, 2, 4, 1, 1, 6, 6, 9, 5, 2, 2, 5, 0, 8, 2, 3, 6, 2, 9, 6, 1, 4, 5, 9, 0, 1, 0, 0, 8, 1, 1, 6, 6, 9, 5, 4, 9, 5, 8, 6, 9, 1, 7, 6, 0, 9, 3, 5, 3, 2, 5, 3, 4, 9, 7, 1, 4, 4, 6, 1, 3, 8, 8, 0, 6, 7, 7, 6, 7, 2, 5, 2, 4, 6, 2, 7, 4, 0, 3, 6, 2, 6, 3, 2, 0, 9, 5, 1, 1, 5, 3, 2, 4, 3, 4, 1, 0, 4, 3, 5, 4, 8, 9, 3, 3, 1, 8, 0, 1, 3, 3, 4, 4, 2, 9, 7, 6, 8, 1, 8, 9, 9, 3, 1, 7, 3, 0, 0, 2, 3, 5, 9, 2, 7, 4, 6, 0, 1, 6, 1, 6, 7, 5, 5, 2, 3, 9, 4, 0, 2, 3, 4, 9, 4, 1, 0, 0, 2, 3, 8, 9, 2, 8, 9, 5, 7, 9, 1, 4, 6, 2, 8, 4, 4, 8, 9, 3, 1, 1, 6, 2, 8, 4, 6, 2, 5, 2, 6, 4, 2, 3, 1, 3, 6, 8, 5, 2, 2, 7, 1, 6, 2, 5, 9, 3, 8, 1, 6, 9, 5, 7, 3, 3, 2, 9, 7, 0, 2, 9, 3, 7, 1, 7, 9, 5, 8, 9, 7, 3, 3, 0, 1, 7, 4, 2, 4, 7, 0, 1, 8, 1, 0, 4, 6, 1, 9, 9, 0, 1, 2, 3, 6, 9, 7, 4, 3, 4, 2, 0, 2, 5, 6, 7, 4, 7, 0, 4, 2, 0, 6, 1, 7, 5, 6, 5, 3, 9, 0, 7, 8, 5, 9, 5, 8, 5, 4, 3, 7, 9, 8, 1, 4, 2, 8, 9, 3, 0, 8, 7, 0, 2, 0, 1, 4, 0, 8, 5, 5, 7, 9, 8, 3, 7, 9, 1, 5, 6, 9, 8, 7, 2, 0, 9, 0, 8, 5, 9, 2, 2, 9, 8, 1, 9, 1, 8, 3, 7, 6, 4, 2, 3, 7, 0, 5, 5, 8, 8, 8, 7, 9, 6, 2, 7, 4, 5, 7, 6, 7, 1, 7, 3, 6, 8, 3, 6, 6, 7, 1, 5, 9, 7, 1, 7, 0, 1, 6, 3, 3, 9, 0, 1, 2, 3, 2, 2, 2, 4, 9, 8, 7, 4, 4, 9, 7, 6, 7, 7, 1, 2, 3, 5, 1, 9, 0, 2, 3, 1, 5, 6, 6, 2, 4, 6, 8, 8, 9, 6, 6, 1, 0, 7, 5, 8, 2, 1, 5, 8, 1, 4, 7, 5, 0, 3, 0, 9, 5, 2, 8, 7, 1, 9, 0, 4, 4, 8, 2, 9, 0, 7, 9, 8, 7, 1, 6, 2, 9, 1, 5, 9, 7, 6, 7, 7, 1, 1, 2, 4, 2, 0, 6, 8, 9, 6, 2, 2, 9, 8, 2, 4, 0, 0, 5, 8, 6, 8, 2, 7, 7, 3, 1, 8, 1, 6, 5, 9, 7, 8, 9, 6, 4, 8, 1, 9, 4, 0, 4, 1, 4, 5, 6, 2, 2, 0, 0, 0, 7, 0, 7, 4, 3, 6, 7, 7, 4, 5, 4, 3, 3, 5, 4, 7, 0, 0, 7, 7, 1, 6, 5, 0, 7, 7, 4, 6, 1, 8, 5, 9, 2, 5, 6, 2, 2, 7, 5, 5, 8, 1, 0, 6, 8, 7, 8, 8, 5, 7, 5, 4, 9, 7, 3, 3, 8, 8, 3, 9, 4, 7, 2, 0, 8, 0, 7, 2, 3, 2, 5, 2, 4, 5, 0, 4, 8, 2, 4, 0, 6, 4, 3, 6, 0, 8, 0, 0, 6, 1, 1, 6, 1, 4, 2, 1, 0, 2, 3, 4, 4, 3, 8, 8, 5, 1, 8, 2, 3, 3, 9, 6, 6, 5, 0, 7, 3, 3, 2, 7, 4, 5, 6, 0, 2, 1, 8, 1, 0, 9, 3, 1, 0, 5, 4, 2, 3, 3, 6, 7, 6, 0, 0, 5, 7, 4, 7, 7, 0, 6, 1, 3, 9, 0, 9, 0, 3, 8, 4, 0, 8, 4, 1, 0, 2, 2, 4, 1, 1, 2, 4, 3, 4, 1, 4, 7, 1, 0, 0, 9, 0, 4, 2, 8, 8, 5, 5, 0, 4, 0, 8, 2, 2, 5, 9, 2, 9, 1, 1, 5, 4, 7, 5, 8, 6, 2, 1, 5, 5, 3, 4, 1, 0, 9, 9, 8, 9, 8, 6, 8, 5, 8, 9, 4, 6, 2, 6, 3, 7, 4, 0, 0, 1, 7, 5, 1, 5, 1, 3, 1, 6, 8, 7, 3, 6, 9, 1, 2, 0, 1, 7, 2, 6, 1, 9, 0, 0, 8, 9, 9, 4, 8, 6, 5, 5, 6, 0, 3, 3, 0, 5, 4, 7, 5, 0, 1, 6, 8, 8, 1, 2, 1, 5, 4, 5, 9, 6, 7, 1, 0, 6, 9, 2, 7, 7, 7, 9, 9, 1, 9, 7, 0, 1, 3, 5, 4, 6, 3, 8, 8, 0, 4, 8, 5, 6, 7, 0, 0, 4, 5, 2, 6, 8, 4, 9, 9, 9, 6, 0, 6, 2, 8, 1, 1, 0, 0, 3, 7, 4, 1, 1, 9, 7, 7, 4, 6, 8, 6, 0, 2, 8, 5, 3, 5, 3, 5, 7, 9, 8, 4, 4, 3, 1, 4, 8, 4, 6, 5, 3, 0, 1, 9, 5, 7, 6, 2, 0, 4, 9, 9, 0, 5, 2, 3, 6, 1, 1, 0, 2, 8, 2, 1, 1, 7, 5, 2, 3, 4, 1, 2, 9, 2, 1, 3, 4, 8, 9, 0, 0, 4, 9, 0, 2, 2, 0, 6, 8, 7, 3, 3, 8, 9, 0, 2, 5, 3, 6, 1, 3, 9, 5, 0, 5, 4, 4, 0, 1, 1, 6, 1, 7, 9, 9, 6, 2, 4, 7, 8, 3, 4, 7, 0, 2, 8, 4, 8, 3, 8, 8, 8, 3, 3, 5, 7, 3, 0, 4, 1, 5, 9, 7, 0, 6, 8, 4, 9, 0, 1, 8, 9, 6, 3, 9, 2, 4, 4, 0, 3, 5, 4, 4, 5, 1, 1, 8, 2, 2, 9, 3, 7, 8, 9, 2, 3, 1, 7, 3, 0, 3, 0, 1, 9, 5, 5, 3, 4, 5, 2, 0, 0, 2, 1, 3, 4, 5, 4, 2, 8, 4, 8, 9, 9, 4, 2, 4, 3, 6, 4, 6, 4, 6, 6, 2, 8, 7, 4, 8, 0, 5, 9, 3, 2, 0, 7, 5, 1, 9, 7, 9, 1, 1, 4, 2, 1, 6, 4, 6, 0, 1, 4, 8, 6, 1, 7, 1, 3, 2, 4, 3, 3, 9, 5, 8, 2, 5, 5, 4, 5, 4, 5, 7, 2, 5, 5, 1, 5, 7, 8, 3, 6, 0, 2, 5, 2, 3, 7, 4, 5, 1, 6, 8, 6, 8, 3, 2, 7, 7, 9, 7, 1, 4, 7, 3, 6, 1, 7, 3, 0, 0, 6, 6, 8, 6, 6, 0, 3, 4, 7, 4, 9, 4, 9, 9, 3, 4, 1, 4, 8, 3, 7, 1, 2, 2, 8, 4, 5, 8, 5, 5, 6, 5, 6, 0, 6, 4, 9, 0, 2, 7, 3, 8, 6, 9, 4, 1, 6, 9, 9, 4, 5, 9, 8, 1, 6, 9, 5, 9, 0, 9, 7, 2, 2, 4, 2, 6, 4, 8, 1, 9, 5, 6, 3, 1, 8, 6, 0, 7, 6, 5, 0, 3, 2, 6, 1, 2, 8, 1, 6, 4, 9, 0, 3, 9, 1, 0, 5, 3, 1, 6, 9, 8, 9, 0, 6, 1, 6, 2, 0, 5, 6, 1, 0, 7, 2, 4, 8, 3, 6, 8, 6, 9, 1, 9, 0, 6, 2, 3, 9, 5, 4, 1, 9, 2, 0, 7, 3, 5, 1, 8, 3, 0, 5, 2, 8, 8, 0, 9, 6, 0, 3, 5, 3, 4, 1, 5, 0, 7, 3, 9, 4, 5, 3, 1, 4, 2, 4, 9, 9, 7, 1, 7, 0, 1, 2, 1, 5, 3, 8, 4, 1, 5, 1, 9, 9, 7, 0, 1, 7, 6, 2, 6, 5, 0, 2, 1, 3, 9, 9, 9, 0, 8, 8, 7, 9, 2, 9, 1, 3, 6, 7, 6, 0, 8, 6, 2, 4, 2, 3, 5, 5, 4, 1, 6, 4, 1, 6, 1, 7, 1, 6, 2, 3, 0, 4, 2, 9, 7, 3, 5, 6, 0, 9, 8, 1, 1, 3, 5, 6, 5, 3, 8, 7, 5, 0, 7, 7, 5, 7, 1, 9, 9, 1, 1, 9, 3, 5, 5, 3, 0, 3, 0, 6, 6, 4, 6, 8, 9, 4, 5, 1, 1, 2, 2, 9, 0, 1, 2, 5, 4, 4, 7, 4, 8, 3, 3, 4, 4, 5, 7, 0, 1, 2, 9, 8, 1, 7, 3, 5, 9, 1, 9, 1, 1, 3, 6, 7, 4, 8, 3, 5, 6, 5, 0, 1, 3, 7, 2, 5, 3, 2, 1, 7, 6, 8, 4, 4, 5, 2, 3, 4, 7, 7, 3, 6, 0, 7, 2, 6, 7, 4, 1, 8, 0, 2, 2, 1, 5, 4, 0, 9, 3, 0, 0, 2, 3, 8, 5, 0, 0, 4, 6, 3, 9, 2, 0, 5, 7, 5, 5, 1, 7, 3, 1, 6, 7, 9, 0, 0, 2, 1, 4, 6, 1, 5, 9, 5, 0, 4, 9, 3, 9, 7, 1, 6, 8, 0, 6, 5, 2, 8, 1, 7, 5, 6, 9, 3, 2, 3, 9, 7, 6, 1, 0, 9, 0, 9, 8, 7, 7, 5, 2, 3, 5, 5, 7, 8, 7, 6, 9, 1, 9, 8, 6, 5, 6, 7, 5, 6, 7, 2, 7, 9, 6, 6, 7, 0, 1, 0, 1, 3, 2, 2, 6, 1, 2, 5, 1, 9, 9, 8, 6, 8, 6, 8, 9, 0, 4, 0, 3, 3, 6, 4, 3, 9, 7, 2, 3, 5, 6, 4, 6, 0, 3, 2, 5, 0, 2, 9, 2, 7, 2, 9, 2, 4, 0, 6, 6, 3, 3, 5, 5, 9, 1, 1, 4, 4, 3, 5, 3, 8, 0, 0, 3, 9, 2, 7, 4, 2, 8, 3, 6, 2, 1, 9, 6, 3, 0, 5, 2, 4, 7, 5, 4, 5, 2, 1, 2, 6, 1, 5, 2, 0, 7, 5, 0, 0, 0, 1, 4, 3, 3, 8, 4, 3, 9, 7, 1, 0, 4, 2, 4, 1, 4, 0, 1, 2, 1, 7, 7, 9, 8, 7, 5, 4, 0, 9, 0, 0, 8, 2, 0, 0, 7, 4, 8, 6, 2, 4, 6, 3, 5, 1, 5, 3, 7, 2, 2, 9, 0, 0, 0, 0, 3, 4, 4, 6, 1, 6, 7, 4, 2, 5, 9, 7, 0, 8, 0, 4, 6, 5, 7, 9, 7, 0, 5, 7, 7, 3, 1, 9, 3, 0, 9, 5, 3, 7, 9, 4, 4, 1, 7, 7, 1, 4, 1, 0, 8, 7, 0, 0, 4, 7, 2, 9, 7, 6, 9, 3, 5, 8, 0, 4, 6, 8, 3, 2, 4, 7, 1, 1, 3, 9, 7, 5, 1, 0, 8, 7, 0, 1, 6, 9, 3, 2, 7, 7, 8, 1, 0, 3, 2, 6, 7, 3, 2, 0, 1, 5, 5, 1, 4, 1, 3, 0, 8, 6, 2, 1, 3, 3, 4, 1, 9, 0, 4, 1, 0, 1, 9, 8, 6, 9, 2, 4, 7, 2, 2, 7, 7, 9, 1, 2, 2, 6, 3, 4, 4, 1, 3, 8, 2, 6, 6, 1, 6, 3, 6, 3, 8, 2, 6, 7, 1, 9, 5, 6, 7, 6, 0, 7, 1, 9, 5, 2, 6, 7, 7, 6, 5, 9, 1, 3, 6, 0, 2, 0, 1, 1, 8, 6, 5, 0, 0, 0, 5, 7, 7, 8, 5, 3, 5, 1, 6, 1, 5, 1, 0, 6, 2, 3, 2, 1, 7, 5, 1, 9, 8, 3, 6, 9, 7, 3, 0, 2, 5, 9, 4, 6, 3, 9, 6, 8, 6, 6, 8, 5, 4, 5, 6, 7, 7, 4, 6, 9, 6, 2, 4, 0, 1, 3, 6, 4, 9, 2, 6, 0, 3, 8, 7, 5, 3, 3, 8, 3, 2, 6, 3, 6, 5, 7, 4, 5, 7, 9, 0, 0, 6, 7, 2, 0, 3, 5, 7, 5, 5, 9, 4, 6, 4, 7, 3, 5, 6, 4, 1, 6, 3, 1, 6, 7, 0, 5, 0, 1, 9, 7, 3, 5, 2, 3, 9, 5, 6, 2, 0, 0, 0, 8, 0, 3, 2, 4, 5, 3, 7, 9, 6, 9, 3, 1, 2, 6, 7, 4, 4, 1, 3, 7, 0, 9, 5, 8, 5, 8, 5, 8, 5, 6, 5, 0, 8, 5, 8, 1, 8, 1, 5, 0, 9, 1, 6, 3, 6, 5, 4, 2, 7, 4, 7, 4, 3, 2, 4, 7, 5, 7, 5, 4, 5, 8, 0, 5, 4, 0, 5, 2, 3, 3, 2, 4, 2, 9, 4, 8, 8, 6, 0, 6, 1, 7, 0, 4, 3, 8, 5, 9, 7, 6, 4, 1, 0, 2, 3, 3, 6, 7, 1, 6, 2, 8, 3, 7, 2, 5, 7, 3, 7, 7, 1, 7, 4, 3, 3, 4, 0, 4, 2, 7, 0, 5, 2, 6, 6, 2, 5, 2, 6, 0, 6, 1, 5, 9, 0, 0, 1, 5, 5, 1, 6, 7, 8, 4, 6, 3, 3, 6, 0, 9, 9, 2, 2, 6, 1, 4, 6, 2, 3, 7, 8, 8, 5, 6, 4, 3, 2, 3, 4, 4, 4, 8, 9, 2, 6, 0, 9, 7, 9, 8, 7, 7, 3, 8, 2, 9, 3, 2, 7, 5, 8, 7, 3, 7, 0, 7, 1, 6, 2, 4, 0, 0, 2, 9, 8, 2, 8, 7, 4, 5, 2, 0, 1, 2, 9, 6, 1, 0, 1, 8, 6, 3, 0, 5, 7, 4, 4, 8, 3, 5, 3, 7, 2, 5, 8, 3, 5, 7, 3, 7, 0, 5, 4, 3, 6, 9, 3, 5, 3, 8, 2, 4, 2, 2, 6, 7, 6, 0, 5, 5, 8, 4, 5, 6, 1, 3, 5, 4, 7, 5, 0, 7, 2, 0, 1, 3, 4, 1, 6, 4, 5, 9, 7, 7, 2, 7, 4, 2, 1, 6, 9, 4, 8, 0, 5, 9, 6, 4, 4, 2, 1, 4, 6, 3, 0, 8, 9, 7, 6, 8, 4, 8, 1, 4, 5, 9, 4, 7, 1, 4, 5, 3, 1, 2, 6, 4, 7, 1, 5, 9, 3, 1, 4, 8, 7, 7, 0, 4, 3, 4, 6, 7, 7, 2, 4, 4, 4, 3, 6, 6, 1, 9, 9, 6, 9, 4, 3, 2, 9, 8, 5, 0, 6, 9, 0, 9, 7, 8, 5, 4, 4, 9, 0, 3, 6, 6, 9, 9, 7, 9, 9, 0, 5, 1, 1, 0, 6, 9, 9, 5, 6, 5, 5, 9, 7, 9, 4, 5, 4, 3, 3, 9, 8, 8, 3, 4, 8, 4, 0, 4, 0, 7, 2, 8, 0, 2, 0, 7, 4, 0, 6, 3, 3, 1, 7, 4, 6, 4, 0, 4, 9, 5, 6, 6, 0, 0, 3, 2, 6, 3, 3, 8, 0, 8, 5, 4, 2, 9, 5, 0, 5, 4, 8, 2, 7, 6, 5, 7, 8, 2, 0, 1, 8, 2, 4, 8, 4, 3, 0, 4, 0, 1, 9, 3, 0, 3, 4, 5, 5, 2, 8, 3, 0, 9, 7, 5, 2, 4, 3, 7, 0, 2, 3, 1, 0, 0, 2, 1, 2, 1, 4, 6, 7, 1, 0, 5, 2, 5, 9, 2, 5, 6, 7, 1, 9, 3, 6, 1, 0, 2, 9, 4, 2, 9, 3, 8, 2, 9, 8, 5, 1, 0, 1, 5, 2, 5, 6, 8, 8, 3, 2, 0, 4, 1, 3, 7, 0, 3, 3, 9, 2, 3, 9, 9, 8, 5, 9, 7, 2, 9, 9, 4, 7, 1, 3, 6, 4, 4, 8, 9, 0, 7, 1, 2, 4, 8, 3, 7, 5, 1, 9, 3, 5, 2, 4, 1, 1, 3, 3, 9, 2, 5, 8, 0, 8, 1, 5, 1, 5, 9, 0, 9, 0, 4, 0, 6, 9, 1, 1, 3, 3, 9, 5, 3, 3, 2, 3, 7, 1, 3, 9, 8, 7, 5, 8, 7, 6, 5, 2, 5, 8, 9, 7, 2, 0, 0, 7, 5, 3, 5, 7, 4, 6, 2, 8, 2, 7, 5, 6, 1, 3, 8, 6, 2, 0, 4, 6, 8, 6, 4, 0, 2, 5, 4, 9, 2, 4, 4, 6, 9, 2, 0, 5, 2, 0, 8, 2, 6, 4, 7, 9, 5, 7, 2, 6, 2, 1, 9, 9, 7, 2, 5, 1, 8, 1, 6, 3, 0, 8, 8, 5, 6, 9, 9, 9, 6, 3, 0, 8, 8, 5, 0, 3, 1, 1, 0, 7, 0, 6, 0, 4, 4, 6, 5, 3, 2, 9, 6, 6, 7, 9, 7, 7, 0, 8, 4, 2, 7, 7, 7, 4, 0, 1, 6, 0, 5, 3, 0, 2, 4, 9, 7, 3, 3, 2, 8, 8, 5, 3, 8, 0, 8, 0, 0, 0, 2, 2, 7, 0, 7, 7, 7, 2, 2, 0, 4, 0, 3, 7, 8, 4, 7, 9, 6, 1, 1, 6, 9, 3, 8, 9, 5, 8, 3, 1, 4, 3, 7, 5, 5, 2, 3, 5, 7, 9, 6, 2, 0, 8, 4, 5, 6, 1, 0, 7, 8, 4, 7, 1, 3, 2, 0, 9, 1, 8, 9, 6, 8, 1, 7, 1, 0, 8, 7, 6, 3, 7, 8, 2, 1, 2, 6, 8, 1, 1, 8, 8, 8, 9, 0, 0, 4, 3, 3, 5, 6, 2, 3, 1, 4, 4, 7, 8, 0, 1, 4, 8, 4, 6, 2, 2, 2, 6, 3, 4, 0, 8, 1, 3, 3, 3, 8, 9, 1, 6, 1, 9, 8, 2, 0, 4, 7, 4, 0, 0, 7, 6, 8, 9, 8, 6, 2, 8, 8, 2, 1, 1, 0, 7, 7, 2, 4, 7, 7, 2, 6, 6, 7, 4, 5, 4, 0, 9, 4, 7, 2, 5, 3, 2, 2, 7, 6, 2, 6, 4, 1, 6, 8, 3, 8, 5, 5, 2, 3, 4, 5, 2, 7, 7, 1, 5, 3, 7, 8, 8, 9, 6, 0, 9, 2, 6, 0, 0, 1, 4, 1, 3, 5, 1, 8, 9, 6, 2, 6, 9, 5, 6, 5, 9, 1, 4, 2, 8, 9, 5, 4, 5, 0, 3, 7, 1, 6, 9, 1, 1, 4, 0, 5, 1, 6, 3, 8, 2, 3, 5, 5, 2, 3, 2, 2, 1, 6, 2, 7, 0, 8, 9, 2, 6, 4, 7, 5, 5, 8, 8, 7, 8, 5, 7, 4, 4, 0, 0, 7, 0, 4, 0, 4, 4, 2, 3, 4, 0, 7, 7, 7, 0, 4, 6, 2, 9, 1, 1, 5, 0, 9, 1, 0, 6, 5, 3, 0, 9, 0, 6, 2, 0, 4, 1, 6, 7, 6, 1, 0, 4, 6, 0, 4, 4, 2, 7, 6, 2, 3, 5, 9, 4, 5, 2, 0, 5, 7, 2, 3, 9, 4, 5, 8, 1, 9, 3, 1, 8, 5, 8, 6, 6, 3, 4, 0, 2, 3, 2, 6, 1, 8, 2, 1, 3, 6, 2, 2, 3, 3, 5, 0, 2, 1, 2, 8, 0, 8, 2, 2, 7, 3, 5, 9, 8, 5, 6, 1, 0, 8, 6, 3, 5, 8, 9, 4, 8, 0, 0, 2, 9, 1, 8, 3, 7, 2, 8, 0, 9, 3, 8, 9, 6, 8, 9, 5, 4, 8, 9, 5, 5, 7, 2, 5, 8, 8, 1, 2, 3, 1, 5, 0, 2, 3, 0, 8, 2, 4, 8, 7, 6, 5, 2, 9, 6, 3, 5, 1, 1, 3, 7, 8, 3, 8, 9, 6, 0, 8, 0, 6, 6, 4, 6, 9, 1, 1, 7, 0, 6, 8, 9, 0, 6, 9, 0, 1, 1, 7, 2, 1, 0, 4, 5, 0, 3, 6, 3, 3, 8, 1, 8, 1, 6, 1, 5, 4, 5, 1, 8, 9, 1, 3, 1, 7, 4, 9, 8, 9, 4, 6, 0, 9, 4, 0, 4, 6, 2, 1, 1, 0, 8, 5, 6, 0, 3, 4, 6, 9, 3, 7, 9, 0, 3, 6, 5, 7, 0, 5, 1, 2, 2, 9, 7, 0, 0, 1, 4, 4, 5, 5, 9, 6, 3, 6, 2, 6, 9, 3, 2, 3, 3, 4, 9, 5, 2, 1, 6, 6, 4, 7, 6, 2, 3, 8, 1, 4, 6, 4, 4, 5, 6, 2, 0, 5, 2, 7, 5, 2, 5, 2, 5, 9, 0, 6, 7, 9, 8, 3, 2, 1, 4, 2, 4, 5, 5, 6, 8, 6, 0, 0, 9, 8, 0, 0, 7, 6, 6, 3, 5, 9, 8, 4, 9, 5, 6, 0, 4, 8, 3, 2, 9, 1, 3, 9, 8, 3, 7, 4, 4, 8, 2, 1, 9, 1, 0, 5, 8, 4, 7, 3, 1, 4, 3, 4, 1, 0, 5, 8, 8, 8, 1, 6, 7, 0, 1, 6, 9, 1, 6, 0, 7, 7, 1, 3, 3, 3, 1, 0, 2, 7, 1, 2, 2, 9, 6, 3, 5, 9, 4, 8, 0, 4, 8, 0, 1, 3, 7, 0, 4, 0, 4, 8, 6, 4, 3, 9, 8, 2, 2, 8, 3, 1, 1, 2, 8, 2, 6, 9, 2, 8, 4, 4, 1, 5, 2, 6, 9, 2, 0, 7, 1, 8, 9, 3, 9, 9, 0, 7, 7, 5, 4, 2, 6, 4, 5, 7, 7, 8, 7, 2, 6, 2, 2, 4, 4, 0, 7, 1, 5, 9, 6, 0, 0, 2, 3, 8, 6, 2, 4, 3, 5, 0, 9, 1, 0, 0, 6, 5, 5, 7, 9, 9, 6, 5, 5, 8, 5, 7, 1, 6, 6, 4, 1, 4, 4, 1, 5, 0, 0, 4, 5, 8, 3, 8, 3, 0, 2, 0, 5, 2, 1, 6, 7, 0, 9, 1, 5, 7, 6, 5, 5, 5, 6, 0, 0, 1, 7, 3, 1, 9, 2, 4, 1, 3, 7, 8, 0, 0, 9, 6, 6, 0, 6, 5, 8, 2, 7, 4, 0, 2, 7, 7, 8, 8, 7, 0, 4, 9, 1, 4, 4, 5, 5, 4, 6, 2, 3, 1, 0, 3, 3, 3, 6, 5, 1, 2, 8, 9, 7, 9, 3, 8, 7, 3, 1, 7, 7, 3, 2, 2, 8, 9, 5, 9, 2, 1, 7, 4, 4, 0, 5, 3, 1, 5, 4, 0, 8, 4, 9, 8, 7, 8, 4, 2, 3, 4, 0, 5, 4, 1, 8, 2, 5, 4, 5, 2, 5, 3, 7, 9, 7, 1, 4, 9, 3, 1, 4, 5, 5, 1, 7, 1, 3, 0, 9, 2, 5, 7, 0, 6, 3, 5, 7, 5, 5, 8, 9, 4, 6, 5, 6, 6, 8, 2, 6, 4, 8, 4, 1, 3, 9, 2, 3, 3, 0, 1, 6, 4, 2, 8, 2, 4, 3, 1, 4, 4, 4, 4, 1, 5, 5, 7, 6, 5, 4, 5, 6, 5, 6, 2, 4, 7, 2, 4, 6, 5, 0, 2, 3, 9, 2, 3, 8, 0, 7, 0, 6, 8, 1, 2, 8, 9, 1, 5, 4, 2, 3, 5, 5, 3, 6, 5, 0, 3, 2, 1, 3, 3, 7, 7, 4, 9, 4, 5, 9, 5, 1, 7, 6, 6, 4, 8, 5, 1, 2, 8, 4, 5, 3, 5, 3, 0, 4, 0, 7, 7, 9, 3, 8, 4, 5, 9, 1, 0, 3, 1, 3, 8, 0, 5, 5, 4, 6, 9, 2, 7, 2, 0, 3, 2, 9, 7, 5, 0, 7, 0, 3, 5, 3, 3, 8, 7, 7, 9, 6, 6, 8, 9, 0, 1, 9, 4, 0, 0, 9, 7, 2, 2, 8, 5, 9, 8, 2, 8, 8, 6, 6, 8, 6, 9, 5, 1, 1, 5, 3, 5, 0, 7, 6, 1, 4, 4, 1, 1, 8, 1, 1, 2, 3, 4, 9, 9, 5, 2, 7, 4, 3, 6, 9, 6, 9, 8, 8, 6, 7, 4, 7, 2, 5, 8, 0, 9, 0, 7, 8, 1, 2, 3, 0, 4, 2, 9, 0, 0, 8, 9, 6, 5, 5, 2, 4, 1, 0, 6, 1, 1, 4, 5, 5, 5, 0, 8, 9, 0, 5, 7, 9, 6, 5, 4, 6, 4, 9, 7, 1, 2, 5, 2, 1, 0, 2, 3, 9, 8, 1, 9, 7, 7, 3, 1, 4, 1, 1, 3, 8, 8, 1, 9, 3, 8, 9, 5, 1, 1, 6, 2, 7, 2, 6, 4, 6, 9, 6, 0, 1, 3, 9, 3, 8, 1, 8, 2, 9, 1, 2, 6, 0, 5, 0, 7, 4, 7, 9, 4, 5, 0, 2, 3, 3, 3, 8, 9, 1, 2, 7, 1, 3, 3, 6, 9, 1, 7, 7, 1, 9, 5, 8, 1, 9, 9, 7, 9, 8, 5, 0, 2, 6, 0, 2, 2, 4, 0, 8, 4, 8, 1, 7, 7, 2, 7, 9, 5, 2, 2, 9, 2, 6, 5, 7, 2, 5, 6, 5, 1, 8, 2, 6, 8, 6, 5, 0, 8, 0, 0, 0, 0, 6, 8, 0, 6, 6, 0, 7, 9, 8, 0, 5, 0, 9, 6, 0, 4, 7, 1, 7, 8, 8, 2, 3, 9, 3, 5, 5, 3, 1, 5, 3, 0, 2, 5, 2, 7, 3, 8, 4, 4, 6, 1, 9, 4, 1, 7, 0, 1, 4, 3, 0, 2, 9, 4, 5, 0, 3, 4, 7, 2, 3, 0, 1, 3, 7, 9, 9, 0, 7, 5, 6, 7, 1, 2, 5, 7, 2, 6, 8, 4, 9, 8, 4, 9, 2, 3, 4, 0, 2, 5, 6, 3, 5, 3, 5, 8, 3, 4, 4, 9, 5, 6, 3, 8, 6, 1, 8, 5, 5, 8, 3, 5, 9, 0, 4, 2, 0, 5, 9, 1, 3, 8, 0, 6, 0, 2, 5, 7, 8, 4, 6, 9, 1, 5, 2, 2, 7, 9, 3, 9, 5, 5, 2, 2, 2, 8, 0, 5, 0, 0, 7, 0, 4, 1, 6, 5, 0, 9, 2, 6, 7, 4, 2, 0, 0, 7, 2, 3, 2, 6, 4, 2, 7, 8, 9, 1, 0, 1, 3, 6, 4, 8, 0, 6, 0, 9, 1, 6, 2, 1, 0, 1, 3, 0, 3, 7, 9, 9, 3, 7, 5, 7, 1, 6, 6, 9, 1, 1, 4, 0, 2, 1, 7, 0, 1, 2, 1, 1, 3, 2, 6, 9, 1, 3, 2, 0, 8, 7, 3, 4, 6, 4, 6, 9, 4, 8, 9, 3, 0, 5, 7, 2, 0, 2, 1, 9, 3, 8, 7, 1, 1, 2, 2, 2, 4, 9, 1, 2, 6, 1, 2, 1, 8, 9, 2, 3, 1, 9, 9, 4, 4, 5, 5, 0, 3, 3, 7, 1, 7, 7, 1, 8, 6, 5, 5, 5, 1, 6, 2, 7, 8, 4, 3, 3, 5, 9, 8, 8, 5, 1, 0, 6, 7, 0, 9, 6, 0, 0, 8, 7, 1, 2, 6, 9, 1, 6, 4, 7, 1, 9, 0, 0, 2, 2, 8, 3, 8, 2, 8, 4, 0, 8, 3, 6, 1, 2, 5, 0, 5, 0, 4, 1, 7, 0, 0, 1, 5, 9, 1, 6, 1, 6, 1, 2, 8, 7, 0, 9, 5, 8, 0, 0, 1, 7, 9, 7, 1, 9, 2, 1, 9, 7, 3, 6, 0, 2, 0, 0, 9, 9, 8, 9, 4, 5, 4, 3, 0, 7, 8, 7, 3, 7, 5, 4, 6, 5, 9, 2, 2, 4, 2, 7, 9, 6, 7, 4, 7, 1, 2, 3, 1, 1, 3, 6, 8, 3, 7, 7, 0, 8, 1, 5, 2, 3, 5, 3, 6, 3, 3, 9, 8, 4, 3, 8, 0, 4, 1, 7, 8, 4, 9, 4, 2, 6, 3, 8, 8, 6, 3, 3, 8, 1, 1, 5, 3, 7, 9, 9, 9, 8, 5, 9, 9, 6, 8, 8, 4, 8, 1, 0, 1, 8, 8, 6, 5, 9, 0, 6, 1, 6, 6, 6, 3, 5, 6, 5, 3, 3, 3, 6, 8, 9, 4, 6, 3, 8, 3, 6, 0, 8, 5, 7, 8, 4, 6, 5, 3, 1, 8, 3, 0, 4, 4, 3, 3, 5, 3, 3, 2, 7, 7, 8, 2, 0, 5, 3, 6, 1, 1, 3, 9, 9, 3, 6, 7, 8, 8, 3, 9, 8, 7, 8, 8, 0, 3, 2, 4, 1, 7, 2, 7, 1, 8, 7, 3, 5, 4, 4, 3, 8, 6, 1, 1, 6, 3, 2, 2, 8, 9, 8, 3, 3, 8, 1, 1, 0, 5, 2, 0, 3, 0, 3, 8, 6, 3, 1, 6, 6, 5, 9, 4, 8, 3, 4, 5, 1, 1, 2, 9, 7, 8, 5, 5, 8, 6, 9, 0, 8, 0, 3, 1, 3, 3, 5, 5, 3, 8, 9, 4, 6, 4, 2, 4, 3, 8, 9, 6, 6, 6, 5, 5, 2, 7, 7, 4, 4, 9, 5, 8, 3, 7, 7, 8, 5, 3, 9, 1, 6, 7, 3, 3, 3, 8, 5, 6, 1, 3, 7, 9, 6, 1, 6, 4, 9, 0, 5, 7, 4, 9, 1, 0, 0, 2, 7, 8, 5, 2, 7, 6, 1, 6, 6, 4, 4, 2, 1, 8, 4, 4, 7, 8, 3, 8, 9, 3, 3, 2, 2, 9, 3, 0, 1, 1, 1, 1, 6, 8, 3, 1, 3, 0, 4, 5, 0, 5, 0, 6, 2, 0, 9, 8, 6, 8, 5, 8, 2, 9, 6, 0, 6, 1, 8, 7, 6, 2, 2, 6, 5, 6, 9, 2, 5, 4, 9, 8, 5, 3, 9, 3, 5, 7, 1, 8, 5, 8, 6, 2, 5, 1, 3, 0, 3, 1, 9, 7, 4, 9, 2, 1, 4, 4, 5, 9, 8, 7, 2, 1, 6, 1, 7, 3, 6, 3, 8, 0, 2, 2, 4, 9, 0, 5, 5, 4, 2, 3, 1, 0, 3, 0, 4, 2, 9, 1, 3, 3, 0, 2, 1, 1, 0, 4, 1, 9, 4, 8, 1, 1, 8, 5, 9, 8, 1, 6, 7, 2, 9, 9, 7, 8, 8, 1, 9, 7, 8, 0, 1, 6, 6, 3, 3, 1, 3, 8, 8, 8, 3, 6, 6, 5, 1, 0, 7, 6, 4, 8, 2, 0, 6, 6, 8, 6, 3, 9, 1, 8, 6, 7, 0, 5, 4, 3, 2, 1, 7, 8, 2, 0, 1, 7, 4, 8, 7, 6, 6, 7, 0, 0, 4, 9, 0, 6, 5, 1, 3, 8, 6, 8, 1, 9, 6, 7, 6, 5, 0, 6, 0, 1, 3, 1, 1, 5, 3, 4, 3, 3, 8, 1, 5, 6, 1, 8, 8, 6, 2, 7, 4, 6, 8, 9, 3, 3, 5, 5, 3, 1, 4, 1, 9, 5, 1, 7, 7, 7, 5, 2, 3, 3, 3, 6, 6, 4, 0, 7, 1, 7, 6, 0, 1, 1, 2, 4, 1, 2, 2, 4, 9, 8, 2, 8, 7, 6, 3, 4, 7, 2, 3, 1, 5, 3, 0, 4, 3, 4, 9, 4, 7, 9, 1, 7, 8, 3, 1, 8, 3, 2, 5, 7, 2, 7, 9, 6, 8, 6, 8, 6, 5, 9, 0, 4, 8, 5, 6, 5, 3, 8, 0, 4, 8, 6, 7, 2, 7, 1, 7, 4, 1, 2, 4, 2, 2, 8, 7, 2, 0, 6, 5, 7, 6, 8, 9, 9, 5, 5, 2, 9, 8, 7, 2, 3, 3, 7, 4, 3, 2, 1, 9, 8, 1, 5, 5, 2, 6, 3, 9, 1, 5, 4, 3, 6, 2, 6, 9, 7, 8, 0, 8, 9, 1, 2, 5, 7, 2, 0, 6, 6, 1, 2, 3, 1, 5, 0, 0, 7, 4, 6, 5, 6, 4, 8, 3, 4, 5, 5, 0, 6, 6, 7, 3, 0, 9, 9, 6, 1, 0, 4, 6, 2, 6, 9, 3, 6, 6, 2, 2, 7, 0, 1, 9, 3, 7, 4, 3, 0, 2, 7, 6, 4, 3, 1, 8, 2, 0, 0, 9, 6, 6, 6, 8, 7, 4, 1, 8, 1, 2, 2, 4, 8, 5, 2, 6, 5, 3, 9, 1, 0, 7, 2, 4, 4, 0, 0, 6, 2, 2, 4, 0, 3, 9, 4, 1, 8, 4, 5, 5, 9, 0, 5, 7, 8, 0, 9, 8, 9, 1, 6, 3, 8, 0, 3, 4, 4, 8, 4, 8, 9, 8, 6, 0, 0, 8, 2, 7, 4, 2, 7, 6, 0, 5, 8, 4, 1, 9, 0, 1, 4, 4, 8, 4, 9, 6, 0, 7, 7, 6, 8, 9, 6, 2, 0, 4, 9, 4, 9, 3, 9, 6, 6, 7, 0, 9, 7, 1, 8, 6, 0, 6, 4, 7, 1, 9, 4, 6, 7, 9, 8, 3, 9, 2, 1, 2, 7, 6, 1, 0, 0, 5, 6, 0, 4, 3, 2, 8, 8, 0, 6, 0, 5, 2, 8, 7, 8, 6, 5, 9, 7, 2, 4, 6, 0, 6, 2, 2, 4, 1, 0, 5, 0, 8, 9, 3, 5, 9, 3, 8, 1, 6, 3, 7, 5, 6, 2, 0, 2, 8, 2, 8, 7, 3, 8, 1, 0, 8, 9, 7, 0, 3, 8, 0, 5, 9, 5, 8, 4, 2, 0, 9, 2, 2, 4, 7, 9, 2, 6, 2, 5, 1, 3, 2, 0, 0, 4, 0, 6, 5, 8, 0, 5, 8, 6, 2, 8, 5, 2, 9, 7, 9, 7, 1, 0, 1, 1, 6, 9, 2, 7, 9, 4, 4, 0, 6, 2, 4, 1, 5, 7, 2, 8, 5, 9, 0, 3, 2, 3, 2, 7, 6, 3, 2, 5, 9, 0, 5, 9, 9, 8, 7, 5, 4, 8, 6, 7, 2, 3, 1, 0, 4, 1, 8, 8, 4, 9, 4, 4, 3, 3, 9, 2, 0, 1, 1, 8, 4, 4, 8, 3, 6, 9, 5, 7, 6, 2, 5, 4, 7, 3, 3, 9, 0, 1, 5, 9, 5, 7, 6, 0, 4, 2, 2, 5, 6, 3, 8, 9, 3, 6, 1, 4, 5, 4, 6, 7, 2, 1, 9, 2, 0, 4, 9, 8, 8, 9, 1, 1, 5, 0, 0, 8, 7, 1, 7, 4, 5, 4, 3, 3, 2, 0, 6, 6, 0, 1, 3, 9, 8, 3, 7, 8, 9, 4, 8, 9, 0, 1, 7, 1, 6, 2, 9, 5, 6, 9, 5, 9, 8, 7, 7, 1, 6, 3, 3, 9, 3, 1, 7, 2, 1, 8, 2, 0, 9, 3, 9, 8, 8, 6, 7, 3, 7, 1, 0, 9, 0, 9, 3, 6, 7, 2, 5, 3, 0, 5, 9, 7, 3, 5, 0, 6, 5, 1, 8, 2, 7, 3, 9, 0, 0, 0, 8, 8, 7, 3, 7, 8, 9, 3, 7, 9, 7, 8, 7, 9, 8, 5, 4, 0, 3, 7, 6, 3, 8, 2, 1, 9, 3, 5, 3, 9, 5, 5, 8, 7, 3, 5, 3, 5, 9, 7, 6, 7, 4, 6, 4, 3, 9, 4, 2, 1, 9, 6, 0, 2, 6, 7, 4, 7, 9, 0, 7, 4, 3, 5, 3, 1, 1, 2, 6, 8, 2, 1, 5, 8, 5, 9, 6, 1, 1, 5, 0, 6, 0, 9, 2, 6, 5, 0, 9, 5, 5, 6, 2, 9, 1, 4, 8, 8, 7, 1, 7, 4, 5, 4, 9, 7, 5, 2, 9, 9, 4, 2, 2, 1, 3, 8, 7, 9, 0, 4, 5, 7, 5, 2, 8, 7, 6, 9, 6, 9, 3, 8, 5, 6, 6, 9, 5, 7, 8, 0, 3, 0, 7, 4, 8, 2, 5, 1, 3, 2, 2, 6, 2, 1, 7, 4, 4, 5, 1, 3, 3, 5, 1, 3, 7, 0, 8, 4, 4, 5, 7, 9, 5, 4, 3, 9, 6, 8, 2, 3, 3, 1, 6, 1, 7, 0, 3, 4, 2, 9, 4, 7, 8, 7, 5, 0, 9, 6, 8, 0, 8, 2, 8, 5, 7, 7, 2, 2, 0, 0, 0, 7, 4, 1, 6, 6, 8, 8, 9, 0, 9, 0, 1, 6, 3, 0, 9, 6, 6, 2, 6, 3, 0, 8, 8, 4, 1, 4, 0, 6, 5, 0, 9, 9, 9, 9, 1, 2, 2, 5, 4, 2, 9, 6, 0, 5, 6, 6, 8, 0, 6, 9, 4, 6, 8, 0, 5, 4, 1, 2, 0, 9, 6, 4, 2, 4, 6, 3, 9, 7, 7, 4, 6, 2, 0, 1, 9, 0, 3, 1, 9, 0, 9, 7, 8, 6, 7, 6, 8, 2, 4, 5, 3, 0, 3, 2, 1, 7, 5, 9, 3, 4, 5, 5, 1, 5, 0, 1, 1, 1, 9, 7, 5, 4, 9, 7, 8, 1, 0, 2, 8, 5, 6, 7, 0, 1, 4, 8, 4, 4, 6, 6, 3, 8, 1, 8, 4, 6, 5, 9, 2, 0, 1, 4, 9, 1, 6, 7, 2, 0, 1, 6, 6, 5, 2, 2, 5, 3, 0, 0, 0, 1, 5, 3, 3, 5, 8, 7, 5, 6, 5, 8, 0, 5, 9, 4, 6, 5, 1, 1, 0, 5, 3, 9, 4, 8, 1, 7, 7, 9, 9, 4, 3, 6, 3, 2, 8, 2, 7, 6, 7, 0, 2, 1, 2, 9, 4, 2, 9, 6, 1, 0, 1, 8, 7, 0, 0, 4, 7, 4, 5, 6, 9, 7, 9, 0, 7, 4, 5, 8, 1, 4, 7, 9, 9, 8, 8, 6, 3, 7, 0, 8, 9, 6, 2, 5, 6, 2, 9, 7, 7, 6, 8, 5, 6, 1, 2, 5, 9, 9, 9, 3, 2, 0, 3, 0, 2, 0, 7, 2, 9, 3, 5, 7, 6, 5, 9, 5, 6, 1, 2, 4, 0, 2, 7, 8, 4, 4, 0, 9, 5, 9, 4, 9, 3, 2, 4, 3, 2, 2, 8, 8, 1, 0, 1, 6, 8, 0, 8, 5, 0, 4, 9, 1, 5, 7, 1, 6, 0, 1, 5, 0, 8, 1, 1, 3, 8, 1, 8, 1, 8, 5, 1, 1, 0, 5, 0, 4, 0, 5, 1, 4, 0, 4, 9, 5, 1, 2, 7, 7, 8, 7, 2, 4, 5, 3, 7, 0, 6, 1, 5, 9, 8, 0, 2, 0, 4, 6, 0, 6, 9, 7, 5, 1, 4, 6, 0, 6, 7, 6, 8, 1, 1, 8, 9, 7, 2, 9, 0, 2, 2, 9, 0, 6, 5, 7, 7, 1, 1, 7, 9, 8, 4, 5, 0, 8, 0, 2, 5, 2, 1, 4, 4, 8, 9, 7, 8, 2, 6, 6, 0, 1, 1, 1, 8, 1, 7, 4, 0, 7, 8, 2, 1, 2, 5, 4, 6, 0, 5, 7, 4, 4, 3, 9, 2, 8, 8, 0, 8, 7, 4, 1, 8, 4, 9, 5, 2, 1, 7, 7, 7, 7, 0, 3, 8, 3, 3, 0, 5, 7, 0, 8, 0, 0, 9, 3, 0, 3, 4, 8, 2, 2, 6, 4, 5, 6, 2, 9, 4, 0, 1, 7, 5, 5, 7, 3, 0, 4, 6, 0, 7, 3, 8, 0, 8, 2, 7, 0, 3, 5, 3, 0, 3, 5, 1, 7]\n",
            "all_labels [3, 8, 8, 0, 6, 6, 1, 6, 3, 1, 0, 9, 5, 7, 9, 8, 5, 7, 8, 6, 7, 0, 4, 9, 5, 2, 4, 0, 9, 6, 6, 5, 4, 5, 9, 2, 4, 1, 9, 5, 4, 6, 5, 6, 0, 9, 3, 9, 7, 6, 9, 8, 0, 3, 8, 8, 7, 7, 4, 6, 7, 3, 6, 3, 6, 2, 1, 2, 3, 7, 2, 6, 8, 8, 0, 2, 9, 3, 3, 8, 8, 1, 1, 7, 2, 5, 2, 7, 8, 9, 0, 3, 8, 6, 4, 6, 6, 0, 0, 7, 4, 5, 6, 3, 1, 1, 3, 6, 8, 7, 4, 0, 6, 2, 1, 3, 0, 4, 2, 7, 8, 3, 1, 2, 8, 0, 8, 3, 5, 2, 4, 1, 8, 9, 1, 2, 9, 7, 2, 9, 6, 5, 6, 3, 8, 7, 6, 2, 5, 2, 8, 9, 6, 0, 0, 5, 2, 9, 5, 4, 2, 1, 6, 6, 8, 4, 8, 4, 5, 0, 9, 9, 9, 8, 9, 9, 3, 7, 5, 0, 0, 5, 2, 2, 3, 8, 6, 3, 4, 0, 5, 8, 0, 1, 7, 2, 8, 8, 7, 8, 5, 1, 8, 7, 1, 3, 0, 5, 7, 9, 7, 4, 5, 9, 8, 0, 7, 9, 8, 2, 7, 6, 9, 4, 3, 9, 6, 4, 7, 6, 5, 1, 5, 8, 8, 0, 4, 0, 5, 5, 1, 1, 8, 9, 0, 3, 1, 9, 2, 2, 5, 3, 9, 9, 4, 0, 3, 0, 0, 9, 8, 1, 5, 7, 0, 8, 2, 4, 7, 0, 2, 3, 6, 3, 8, 5, 0, 3, 4, 3, 9, 0, 6, 1, 0, 9, 1, 0, 7, 9, 1, 2, 6, 9, 3, 4, 6, 0, 0, 6, 6, 6, 3, 2, 6, 1, 8, 2, 1, 6, 8, 6, 8, 0, 4, 0, 7, 7, 5, 5, 3, 5, 2, 3, 4, 1, 7, 5, 4, 6, 1, 9, 3, 6, 6, 9, 3, 8, 0, 7, 2, 6, 2, 5, 8, 5, 4, 6, 8, 9, 9, 1, 0, 2, 2, 7, 3, 2, 8, 0, 9, 5, 8, 1, 9, 4, 1, 3, 8, 1, 4, 7, 9, 4, 2, 7, 0, 7, 0, 6, 6, 9, 0, 9, 2, 8, 7, 2, 2, 5, 1, 2, 6, 2, 9, 6, 2, 3, 0, 3, 9, 8, 7, 8, 8, 4, 0, 1, 8, 2, 7, 9, 3, 6, 1, 9, 0, 7, 3, 7, 4, 5, 0, 0, 2, 9, 3, 4, 0, 6, 2, 5, 3, 7, 3, 7, 2, 5, 3, 1, 1, 4, 9, 9, 5, 7, 5, 0, 2, 2, 2, 9, 7, 3, 9, 4, 3, 5, 4, 6, 5, 6, 1, 4, 3, 4, 4, 3, 7, 8, 3, 7, 8, 0, 5, 7, 6, 0, 5, 4, 8, 6, 8, 5, 5, 9, 9, 9, 5, 0, 1, 0, 8, 1, 1, 8, 0, 2, 2, 0, 4, 6, 5, 4, 9, 4, 7, 9, 9, 4, 5, 6, 6, 1, 5, 3, 8, 9, 5, 8, 5, 7, 0, 7, 0, 5, 0, 0, 4, 6, 9, 0, 9, 5, 6, 6, 6, 2, 9, 0, 1, 7, 6, 7, 5, 9, 1, 6, 2, 5, 5, 5, 8, 5, 9, 4, 6, 4, 3, 2, 0, 7, 6, 2, 2, 3, 9, 7, 9, 2, 6, 7, 1, 3, 6, 6, 8, 9, 7, 5, 4, 0, 8, 4, 0, 9, 3, 4, 8, 9, 6, 9, 2, 6, 1, 4, 7, 3, 5, 3, 8, 5, 0, 2, 1, 6, 4, 3, 3, 9, 6, 9, 8, 8, 5, 8, 6, 6, 2, 1, 7, 7, 1, 2, 7, 9, 9, 4, 4, 1, 2, 5, 6, 8, 7, 6, 8, 3, 0, 5, 5, 3, 0, 7, 9, 1, 3, 4, 4, 5, 3, 9, 5, 6, 9, 2, 1, 1, 4, 1, 9, 4, 7, 6, 3, 8, 9, 0, 1, 3, 6, 3, 6, 3, 2, 0, 3, 1, 0, 5, 9, 6, 4, 8, 9, 6, 9, 6, 3, 0, 3, 2, 2, 7, 8, 3, 8, 2, 7, 5, 7, 2, 4, 8, 7, 4, 2, 9, 8, 8, 6, 8, 8, 7, 4, 3, 3, 8, 4, 9, 4, 8, 8, 1, 8, 2, 1, 3, 6, 5, 4, 2, 7, 9, 9, 4, 1, 4, 1, 3, 2, 7, 0, 7, 9, 7, 6, 6, 2, 5, 9, 2, 9, 1, 2, 2, 6, 8, 2, 1, 3, 6, 6, 0, 1, 2, 7, 0, 5, 4, 6, 1, 6, 4, 0, 2, 2, 6, 0, 5, 9, 1, 7, 6, 7, 0, 3, 9, 6, 8, 3, 0, 3, 4, 7, 7, 1, 4, 7, 2, 7, 1, 4, 7, 4, 4, 8, 4, 7, 7, 5, 3, 7, 2, 0, 8, 9, 5, 8, 3, 6, 2, 0, 8, 7, 3, 7, 6, 5, 3, 1, 3, 2, 2, 5, 4, 1, 2, 9, 2, 7, 0, 7, 2, 1, 3, 2, 0, 2, 4, 7, 9, 8, 9, 0, 7, 7, 0, 7, 8, 4, 6, 3, 3, 0, 1, 3, 7, 0, 1, 3, 1, 4, 2, 3, 8, 4, 2, 3, 7, 8, 4, 3, 0, 9, 0, 0, 1, 0, 4, 4, 6, 7, 6, 1, 1, 3, 7, 3, 5, 2, 6, 6, 5, 8, 7, 1, 6, 8, 8, 5, 3, 0, 4, 0, 1, 3, 8, 8, 0, 6, 9, 9, 9, 5, 5, 8, 6, 0, 0, 4, 2, 3, 2, 7, 2, 2, 5, 9, 8, 9, 1, 7, 4, 0, 3, 0, 1, 3, 8, 3, 9, 6, 1, 4, 7, 0, 3, 7, 8, 9, 1, 1, 6, 6, 6, 6, 9, 1, 9, 9, 4, 2, 1, 7, 0, 6, 8, 1, 9, 2, 9, 0, 4, 7, 8, 3, 1, 2, 0, 1, 5, 8, 4, 6, 3, 8, 1, 3, 8, 5, 0, 8, 4, 8, 1, 1, 8, 9, 6, 0, 8, 6, 1, 3, 4, 1, 6, 0, 5, 1, 1, 0, 0, 3, 5, 0, 0, 6, 6, 3, 3, 6, 3, 6, 6, 0, 7, 2, 2, 7, 5, 5, 2, 8, 5, 2, 1, 1, 4, 3, 2, 0, 3, 1, 5, 3, 7, 6, 8, 9, 1, 6, 4, 9, 3, 9, 0, 9, 6, 3, 6, 0, 7, 3, 8, 0, 0, 0, 6, 6, 6, 9, 2, 5, 4, 4, 6, 3, 6, 0, 8, 6, 0, 6, 2, 7, 5, 1, 2, 7, 8, 8, 0, 9, 4, 9, 7, 2, 0, 2, 8, 3, 8, 9, 1, 5, 5, 4, 7, 5, 3, 8, 3, 3, 6, 2, 8, 4, 3, 7, 1, 2, 4, 1, 6, 9, 0, 5, 8, 6, 1, 8, 6, 1, 4, 2, 6, 2, 7, 2, 2, 0, 8, 6, 9, 1, 7, 1, 8, 8, 0, 7, 3, 8, 0, 3, 4, 3, 7, 7, 9, 2, 3, 1, 9, 1, 9, 6, 3, 3, 3, 1, 0, 6, 1, 4, 1, 0, 0, 1, 1, 6, 5, 4, 6, 2, 0, 7, 9, 8, 7, 2, 0, 6, 8, 1, 4, 3, 7, 0, 6, 1, 8, 5, 7, 8, 4, 8, 3, 9, 9, 9, 8, 7, 6, 6, 3, 5, 1, 5, 9, 1, 4, 1, 5, 7, 0, 1, 5, 2, 0, 8, 8, 5, 6, 7, 3, 2, 4, 7, 2, 5, 8, 2, 4, 9, 2, 1, 8, 1, 9, 8, 8, 8, 9, 0, 4, 3, 3, 1, 8, 4, 6, 3, 3, 5, 2, 2, 8, 3, 8, 9, 5, 8, 9, 8, 9, 1, 6, 5, 9, 4, 4, 8, 0, 7, 2, 9, 7, 4, 1, 6, 4, 4, 9, 1, 2, 5, 6, 0, 8, 6, 1, 9, 4, 5, 9, 5, 0, 7, 2, 0, 0, 4, 2, 6, 6, 5, 5, 2, 8, 1, 7, 3, 1, 4, 5, 6, 5, 1, 4, 7, 0, 9, 4, 3, 8, 2, 8, 4, 7, 2, 3, 1, 5, 2, 9, 8, 9, 7, 9, 5, 1, 4, 0, 8, 2, 3, 8, 9, 1, 1, 3, 2, 4, 9, 3, 1, 7, 4, 6, 2, 8, 9, 5, 3, 9, 5, 5, 6, 7, 2, 4, 6, 3, 1, 0, 7, 2, 5, 4, 7, 6, 1, 1, 9, 8, 1, 0, 1, 3, 1, 1, 1, 7, 3, 9, 6, 8, 4, 6, 8, 4, 9, 4, 7, 9, 7, 6, 8, 4, 9, 7, 0, 1, 6, 1, 5, 9, 0, 4, 3, 4, 1, 3, 0, 8, 4, 6, 2, 2, 6, 5, 3, 6, 2, 1, 1, 8, 6, 0, 4, 0, 1, 9, 7, 1, 3, 7, 7, 8, 7, 7, 3, 9, 7, 7, 7, 2, 1, 2, 8, 6, 4, 0, 7, 9, 8, 6, 8, 4, 9, 1, 7, 2, 2, 8, 5, 8, 1, 2, 2, 4, 1, 2, 5, 2, 8, 1, 8, 1, 8, 6, 0, 2, 4, 1, 3, 6, 7, 7, 4, 4, 3, 3, 4, 5, 2, 4, 3, 7, 8, 4, 4, 4, 5, 4, 3, 2, 8, 4, 5, 5, 4, 1, 4, 2, 5, 1, 6, 4, 3, 4, 4, 0, 8, 8, 4, 5, 7, 5, 6, 9, 1, 6, 7, 2, 0, 1, 4, 5, 6, 0, 0, 2, 7, 5, 6, 0, 6, 2, 9, 1, 7, 7, 5, 2, 5, 6, 4, 1, 4, 3, 3, 3, 0, 3, 5, 5, 8, 9, 7, 3, 1, 3, 3, 3, 4, 4, 2, 3, 3, 8, 1, 7, 7, 0, 7, 4, 5, 1, 4, 2, 4, 3, 9, 9, 4, 9, 9, 1, 8, 1, 6, 7, 5, 5, 4, 9, 7, 6, 5, 9, 2, 4, 0, 7, 8, 5, 5, 0, 0, 9, 9, 8, 2, 5, 4, 8, 3, 6, 3, 6, 0, 6, 6, 6, 9, 6, 6, 8, 6, 2, 4, 5, 8, 1, 2, 7, 6, 5, 7, 8, 1, 8, 0, 8, 6, 9, 2, 8, 9, 4, 0, 9, 4, 9, 5, 7, 5, 5, 9, 5, 3, 0, 1, 9, 7, 2, 4, 1, 0, 8, 0, 3, 1, 7, 0, 0, 4, 8, 6, 2, 4, 0, 0, 9, 0, 8, 4, 5, 9, 3, 9, 0, 5, 6, 5, 0, 1, 4, 8, 1, 0, 5, 2, 1, 0, 2, 8, 1, 5, 6, 7, 7, 2, 6, 2, 5, 0, 1, 4, 2, 5, 4, 6, 2, 2, 1, 7, 2, 8, 5, 5, 3, 0, 4, 8, 3, 7, 6, 3, 8, 1, 0, 1, 3, 3, 0, 7, 4, 9, 5, 3, 6, 0, 1, 4, 4, 4, 4, 2, 2, 5, 8, 1, 5, 9, 8, 1, 1, 5, 3, 9, 9, 7, 6, 5, 0, 8, 4, 7, 0, 9, 2, 8, 4, 7, 1, 3, 9, 6, 8, 9, 0, 4, 9, 6, 7, 8, 9, 4, 8, 9, 7, 2, 5, 3, 7, 1, 0, 2, 9, 5, 5, 8, 5, 4, 2, 8, 3, 5, 5, 7, 7, 8, 6, 2, 8, 2, 3, 5, 6, 8, 0, 2, 3, 7, 0, 1, 9, 1, 3, 7, 5, 8, 3, 2, 9, 6, 8, 6, 9, 3, 8, 9, 8, 0, 7, 8, 5, 0, 0, 1, 3, 9, 1, 5, 3, 4, 4, 0, 9, 9, 9, 9, 8, 2, 4, 2, 2, 5, 1, 9, 1, 0, 9, 4, 2, 1, 6, 0, 3, 7, 6, 3, 1, 8, 6, 5, 7, 2, 8, 4, 4, 8, 3, 5, 0, 5, 7, 4, 4, 2, 2, 7, 3, 6, 0, 2, 7, 6, 2, 3, 0, 7, 7, 8, 1, 1, 4, 6, 0, 6, 6, 5, 5, 6, 3, 9, 3, 6, 8, 7, 6, 4, 9, 5, 6, 4, 1, 6, 3, 8, 2, 3, 9, 8, 5, 1, 5, 4, 5, 7, 5, 7, 8, 9, 1, 7, 2, 5, 6, 8, 4, 6, 5, 3, 9, 9, 8, 5, 5, 6, 4, 5, 9, 7, 3, 4, 1, 4, 2, 3, 6, 5, 5, 2, 8, 0, 0, 1, 8, 3, 1, 3, 5, 8, 3, 8, 5, 8, 6, 3, 5, 5, 5, 0, 9, 5, 5, 7, 1, 8, 2, 2, 7, 3, 4, 2, 9, 6, 2, 2, 4, 3, 0, 2, 0, 1, 3, 2, 2, 7, 0, 1, 0, 7, 7, 2, 0, 1, 6, 5, 0, 2, 2, 0, 1, 2, 6, 0, 1, 6, 6, 5, 3, 4, 0, 0, 9, 1, 0, 2, 5, 9, 7, 8, 6, 4, 6, 0, 2, 0, 1, 9, 2, 4, 9, 0, 7, 2, 3, 4, 8, 0, 2, 6, 8, 9, 7, 1, 9, 3, 7, 2, 7, 9, 6, 9, 5, 7, 8, 5, 9, 8, 3, 9, 8, 0, 5, 5, 7, 1, 2, 0, 7, 5, 8, 2, 2, 5, 3, 9, 3, 1, 9, 3, 1, 4, 3, 4, 4, 9, 0, 9, 5, 9, 2, 9, 4, 0, 2, 8, 4, 8, 6, 8, 2, 0, 5, 9, 6, 9, 5, 1, 3, 4, 4, 2, 7, 2, 4, 4, 0, 2, 8, 4, 5, 1, 2, 6, 8, 1, 7, 2, 8, 7, 4, 3, 3, 0, 3, 7, 2, 5, 6, 1, 7, 9, 0, 2, 3, 9, 8, 9, 5, 0, 0, 7, 6, 3, 3, 8, 1, 4, 0, 1, 5, 4, 3, 2, 6, 0, 8, 8, 6, 3, 3, 2, 9, 7, 5, 1, 6, 0, 5, 9, 9, 4, 5, 9, 4, 8, 3, 3, 2, 5, 1, 9, 5, 5, 8, 1, 8, 9, 7, 0, 6, 3, 2, 0, 2, 6, 9, 3, 9, 1, 6, 6, 7, 2, 6, 3, 2, 5, 5, 2, 7, 5, 2, 0, 8, 0, 7, 7, 1, 7, 4, 0, 2, 2, 6, 1, 5, 9, 7, 6, 2, 7, 0, 5, 6, 0, 1, 1, 8, 4, 5, 3, 1, 2, 4, 8, 9, 8, 1, 7, 2, 7, 2, 3, 2, 6, 7, 9, 4, 0, 1, 0, 4, 5, 0, 8, 0, 7, 6, 1, 0, 8, 5, 9, 2, 5, 4, 4, 9, 0, 6, 1, 2, 5, 1, 6, 7, 1, 5, 8, 8, 0, 3, 9, 4, 0, 3, 4, 9, 2, 4, 3, 0, 6, 4, 5, 6, 6, 7, 8, 4, 8, 8, 3, 2, 8, 0, 2, 5, 6, 8, 7, 8, 9, 9, 0, 6, 6, 8, 1, 1, 7, 4, 4, 2, 3, 6, 9, 6, 2, 4, 1, 8, 2, 3, 1, 6, 8, 6, 8, 5, 9, 0, 1, 0, 2, 9, 2, 9, 0, 9, 7, 8, 5, 0, 6, 6, 8, 1, 6, 5, 8, 7, 9, 2, 1, 6, 7, 5, 6, 3, 0, 9, 8, 9, 5, 9, 9, 9, 3, 6, 4, 4, 8, 8, 1, 7, 3, 0, 6, 2, 4, 8, 2, 2, 9, 2, 2, 9, 7, 4, 1, 9, 1, 4, 3, 5, 3, 8, 9, 3, 6, 2, 0, 8, 9, 0, 5, 1, 5, 8, 2, 1, 2, 3, 2, 4, 8, 4, 0, 6, 4, 2, 9, 8, 4, 7, 6, 2, 4, 7, 7, 6, 4, 2, 2, 3, 2, 4, 9, 0, 0, 9, 6, 5, 8, 5, 2, 4, 8, 8, 6, 4, 5, 7, 6, 3, 7, 0, 4, 0, 5, 8, 2, 8, 0, 4, 9, 2, 3, 6, 8, 1, 6, 0, 8, 4, 3, 1, 4, 5, 2, 4, 3, 6, 0, 7, 1, 3, 5, 7, 1, 8, 0, 4, 8, 2, 7, 7, 0, 2, 2, 4, 3, 3, 1, 6, 1, 6, 4, 6, 7, 4, 7, 3, 8, 1, 3, 1, 4, 6, 5, 5, 7, 4, 5, 4, 9, 7, 7, 2, 3, 3, 6, 7, 4, 1, 6, 1, 0, 6, 9, 6, 0, 2, 0, 2, 4, 7, 0, 0, 0, 0, 7, 5, 3, 2, 7, 8, 5, 5, 2, 2, 8, 9, 1, 2, 2, 0, 3, 4, 9, 1, 6, 9, 0, 8, 3, 6, 4, 6, 7, 5, 1, 8, 9, 0, 5, 0, 5, 4, 3, 8, 5, 2, 0, 8, 5, 9, 2, 5, 6, 5, 7, 3, 7, 2, 8, 8, 4, 2, 1, 6, 2, 9, 9, 8, 2, 3, 1, 0, 5, 2, 3, 7, 9, 5, 9, 1, 1, 3, 2, 7, 4, 4, 1, 9, 4, 5, 5, 2, 7, 7, 6, 1, 2, 3, 7, 5, 4, 3, 7, 7, 0, 0, 1, 4, 4, 3, 7, 9, 8, 7, 0, 9, 0, 3, 7, 6, 3, 8, 4, 5, 6, 5, 3, 4, 2, 9, 2, 4, 9, 2, 0, 1, 1, 3, 7, 9, 5, 1, 6, 0, 3, 3, 7, 2, 4, 5, 2, 3, 6, 3, 3, 0, 4, 4, 3, 8, 1, 2, 3, 2, 7, 1, 4, 5, 6, 8, 6, 6, 5, 4, 2, 9, 9, 3, 2, 0, 4, 1, 5, 5, 6, 6, 5, 6, 9, 7, 9, 4, 8, 3, 1, 9, 8, 1, 9, 0, 3, 0, 4, 7, 7, 2, 6, 5, 6, 9, 7, 7, 5, 7, 0, 8, 6, 7, 8, 3, 8, 9, 3, 2, 9, 2, 7, 4, 1, 9, 7, 0, 8, 1, 2, 0, 6, 5, 1, 4, 2, 8, 2, 8, 3, 3, 1, 4, 9, 8, 1, 1, 7, 9, 9, 4, 6, 8, 5, 3, 2, 2, 3, 8, 5, 1, 9, 7, 9, 1, 5, 3, 1, 0, 3, 8, 9, 2, 0, 8, 0, 7, 9, 4, 8, 3, 0, 7, 0, 7, 0, 5, 5, 4, 3, 0, 9, 9, 0, 2, 2, 0, 8, 4, 4, 5, 2, 2, 1, 1, 5, 5, 4, 3, 4, 0, 8, 4, 8, 2, 5, 6, 5, 1, 7, 2, 4, 0, 5, 6, 8, 7, 6, 3, 1, 3, 6, 6, 4, 5, 5, 5, 1, 8, 7, 3, 0, 2, 5, 1, 1, 1, 6, 7, 2, 1, 2, 3, 9, 8, 3, 1, 7, 4, 8, 4, 7, 5, 8, 6, 0, 3, 0, 8, 3, 4, 4, 9, 4, 6, 1, 5, 7, 7, 9, 0, 1, 3, 1, 3, 2, 4, 0, 7, 8, 3, 1, 6, 2, 1, 8, 8, 1, 9, 7, 5, 3, 2, 9, 0, 6, 8, 4, 1, 5, 7, 2, 4, 7, 0, 4, 9, 0, 7, 0, 6, 7, 1, 8, 5, 8, 8, 7, 0, 0, 3, 2, 5, 7, 0, 6, 4, 4, 9, 1, 8, 6, 3, 9, 4, 9, 3, 3, 7, 5, 9, 7, 7, 4, 5, 8, 2, 8, 9, 5, 3, 1, 9, 2, 2, 0, 1, 1, 8, 1, 1, 9, 8, 9, 9, 0, 2, 6, 9, 1, 9, 0, 1, 9, 2, 9, 9, 9, 0, 9, 9, 2, 1, 7, 0, 5, 6, 3, 9, 8, 3, 0, 2, 7, 7, 4, 8, 3, 0, 5, 2, 3, 5, 7, 6, 6, 6, 5, 6, 5, 4, 5, 8, 8, 0, 9, 7, 9, 0, 6, 9, 6, 1, 4, 7, 9, 0, 3, 5, 4, 7, 6, 9, 8, 2, 3, 9, 3, 3, 7, 8, 3, 5, 5, 9, 6, 1, 4, 7, 4, 8, 7, 7, 1, 3, 0, 3, 2, 5, 4, 9, 3, 5, 4, 7, 0, 3, 7, 0, 2, 1, 5, 8, 7, 3, 5, 7, 8, 5, 7, 8, 1, 5, 4, 7, 0, 8, 3, 2, 9, 7, 4, 1, 6, 5, 9, 8, 5, 5, 4, 1, 0, 9, 4, 4, 3, 0, 4, 8, 0, 8, 2, 9, 5, 9, 7, 4, 6, 7, 9, 2, 9, 3, 7, 7, 8, 2, 2, 0, 2, 5, 3, 6, 4, 7, 2, 3, 7, 8, 7, 2, 5, 0, 0, 7, 0, 9, 6, 1, 0, 3, 9, 7, 4, 9, 1, 6, 8, 1, 2, 3, 3, 5, 4, 8, 9, 7, 4, 4, 1, 2, 4, 9, 8, 7, 9, 5, 1, 2, 1, 6, 6, 4, 5, 7, 4, 5, 8, 5, 2, 8, 7, 8, 2, 3, 6, 1, 3, 3, 1, 5, 1, 9, 0, 9, 2, 0, 6, 2, 4, 8, 5, 7, 6, 1, 2, 9, 4, 5, 0, 3, 3, 7, 7, 7, 1, 4, 5, 0, 2, 8, 5, 0, 0, 6, 2, 0, 8, 4, 5, 4, 5, 6, 4, 7, 9, 4, 2, 0, 6, 4, 0, 0, 6, 4, 6, 1, 9, 5, 5, 2, 2, 6, 3, 4, 5, 9, 1, 7, 2, 3, 9, 6, 5, 0, 2, 9, 7, 1, 7, 2, 2, 0, 8, 6, 4, 3, 2, 7, 7, 0, 4, 1, 6, 5, 1, 3, 0, 3, 9, 0, 0, 2, 5, 0, 4, 0, 1, 9, 8, 4, 9, 4, 2, 4, 3, 3, 4, 0, 4, 3, 2, 8, 9, 1, 5, 8, 1, 8, 2, 4, 5, 2, 4, 1, 1, 6, 6, 8, 5, 2, 2, 5, 0, 8, 2, 3, 6, 2, 9, 6, 1, 4, 5, 9, 0, 1, 0, 0, 8, 1, 1, 6, 6, 9, 5, 4, 1, 7, 8, 6, 9, 1, 7, 6, 0, 9, 3, 5, 3, 2, 5, 3, 4, 9, 7, 1, 4, 4, 6, 1, 3, 8, 8, 0, 6, 7, 7, 6, 7, 2, 3, 2, 2, 6, 2, 7, 4, 0, 3, 6, 2, 6, 3, 3, 0, 9, 5, 1, 1, 5, 3, 6, 4, 3, 4, 1, 0, 4, 5, 5, 2, 8, 9, 4, 3, 1, 8, 0, 1, 3, 3, 4, 4, 2, 9, 7, 6, 8, 1, 8, 9, 1, 3, 1, 7, 3, 0, 0, 2, 8, 3, 9, 2, 7, 2, 6, 0, 1, 6, 1, 6, 7, 5, 5, 2, 5, 9, 4, 0, 2, 3, 4, 9, 4, 1, 0, 0, 2, 3, 8, 9, 2, 8, 9, 5, 7, 9, 1, 4, 6, 2, 8, 4, 4, 8, 9, 3, 1, 1, 6, 5, 8, 4, 6, 4, 5, 2, 6, 4, 2, 3, 1, 3, 6, 8, 5, 2, 2, 7, 1, 6, 2, 5, 9, 2, 8, 1, 6, 9, 2, 7, 5, 3, 2, 9, 7, 0, 2, 9, 3, 4, 1, 7, 9, 5, 8, 9, 7, 3, 4, 0, 9, 7, 4, 2, 4, 7, 0, 1, 8, 1, 0, 4, 6, 1, 9, 9, 2, 1, 2, 5, 6, 9, 7, 7, 3, 4, 2, 0, 2, 5, 6, 7, 3, 7, 9, 4, 2, 0, 6, 1, 7, 5, 6, 5, 3, 9, 2, 7, 8, 5, 9, 5, 8, 5, 4, 3, 7, 9, 8, 1, 2, 2, 8, 9, 3, 0, 8, 4, 0, 2, 0, 1, 4, 1, 8, 5, 5, 7, 9, 8, 3, 7, 9, 1, 5, 6, 9, 8, 7, 2, 0, 9, 0, 8, 5, 9, 4, 2, 9, 8, 1, 9, 1, 8, 3, 7, 6, 4, 2, 3, 7, 0, 3, 5, 8, 8, 8, 7, 9, 6, 2, 7, 4, 5, 7, 6, 7, 1, 7, 3, 6, 8, 2, 6, 6, 7, 1, 5, 9, 7, 1, 7, 0, 1, 6, 3, 3, 9, 0, 1, 2, 3, 2, 2, 5, 4, 9, 8, 7, 4, 4, 9, 7, 6, 7, 7, 1, 2, 3, 5, 1, 9, 0, 3, 3, 1, 5, 6, 6, 2, 4, 6, 8, 8, 9, 6, 6, 1, 0, 7, 5, 8, 2, 1, 5, 8, 1, 4, 7, 5, 0, 3, 9, 9, 5, 2, 8, 4, 1, 9, 0, 4, 4, 8, 2, 9, 0, 7, 9, 8, 7, 1, 3, 2, 9, 9, 5, 9, 7, 6, 7, 7, 1, 1, 2, 4, 2, 0, 6, 8, 7, 6, 2, 2, 9, 8, 2, 4, 2, 0, 5, 8, 6, 8, 2, 7, 7, 3, 1, 8, 1, 6, 5, 9, 7, 8, 9, 6, 4, 8, 1, 9, 4, 0, 4, 1, 4, 3, 6, 2, 2, 7, 0, 0, 7, 0, 7, 4, 3, 6, 7, 7, 4, 5, 4, 3, 5, 5, 4, 7, 1, 0, 7, 7, 1, 6, 5, 0, 7, 7, 4, 6, 1, 8, 5, 9, 3, 5, 6, 2, 2, 7, 3, 5, 8, 1, 0, 6, 8, 7, 8, 8, 5, 7, 5, 4, 9, 7, 3, 3, 8, 8, 3, 9, 4, 7, 2, 0, 8, 0, 7, 3, 3, 2, 5, 2, 4, 4, 0, 4, 8, 2, 4, 0, 6, 4, 5, 6, 0, 8, 8, 0, 6, 1, 1, 6, 1, 4, 2, 1, 1, 2, 4, 4, 5, 5, 8, 8, 5, 1, 8, 2, 3, 3, 9, 6, 6, 5, 0, 7, 3, 3, 2, 7, 4, 5, 6, 0, 2, 1, 8, 1, 0, 9, 3, 1, 0, 5, 4, 2, 3, 3, 6, 7, 6, 0, 0, 5, 7, 4, 7, 7, 0, 6, 1, 3, 9, 0, 9, 0, 3, 8, 4, 8, 8, 4, 1, 0, 2, 2, 4, 1, 1, 2, 4, 3, 4, 1, 4, 7, 1, 0, 0, 9, 0, 4, 2, 8, 8, 5, 5, 0, 4, 0, 8, 6, 2, 5, 9, 2, 9, 1, 1, 5, 4, 7, 5, 8, 6, 2, 1, 5, 5, 3, 4, 1, 8, 9, 9, 8, 9, 8, 6, 8, 5, 8, 9, 4, 6, 2, 6, 3, 7, 4, 0, 0, 1, 7, 5, 1, 5, 9, 3, 1, 6, 8, 7, 3, 6, 9, 1, 2, 0, 1, 7, 2, 6, 1, 9, 0, 0, 8, 9, 9, 2, 8, 6, 2, 5, 6, 0, 3, 3, 0, 7, 4, 7, 5, 0, 1, 6, 8, 8, 1, 2, 1, 5, 4, 5, 9, 6, 7, 1, 0, 6, 9, 2, 7, 7, 3, 9, 9, 1, 9, 7, 0, 1, 3, 5, 4, 6, 3, 8, 8, 0, 4, 8, 3, 6, 7, 0, 0, 4, 5, 2, 6, 8, 4, 9, 9, 9, 2, 0, 4, 2, 8, 1, 1, 0, 0, 3, 7, 4, 1, 1, 9, 7, 7, 4, 6, 8, 6, 0, 2, 8, 5, 3, 5, 3, 5, 7, 9, 8, 4, 4, 3, 1, 4, 8, 3, 6, 5, 3, 0, 8, 9, 5, 7, 6, 2, 0, 4, 9, 9, 0, 5, 2, 3, 6, 1, 1, 0, 2, 8, 2, 1, 1, 7, 5, 2, 3, 4, 1, 2, 9, 2, 1, 3, 4, 8, 9, 0, 0, 4, 9, 0, 2, 2, 0, 6, 8, 7, 3, 3, 8, 9, 0, 2, 5, 3, 6, 1, 3, 9, 5, 0, 5, 4, 4, 0, 1, 1, 6, 1, 7, 9, 9, 6, 2, 4, 3, 8, 3, 4, 7, 0, 2, 8, 4, 8, 3, 8, 8, 8, 3, 3, 5, 7, 7, 0, 4, 1, 5, 9, 7, 0, 6, 8, 4, 9, 0, 1, 8, 9, 6, 3, 9, 2, 4, 4, 0, 3, 3, 5, 4, 5, 1, 1, 8, 2, 2, 9, 3, 7, 8, 9, 2, 3, 1, 7, 3, 2, 3, 0, 1, 9, 5, 5, 3, 4, 5, 2, 0, 0, 3, 1, 3, 4, 7, 4, 2, 8, 4, 8, 9, 9, 4, 2, 4, 3, 6, 4, 6, 4, 6, 6, 3, 8, 7, 4, 8, 0, 5, 9, 3, 9, 0, 7, 5, 1, 9, 7, 9, 1, 8, 4, 2, 1, 6, 4, 3, 0, 1, 4, 8, 6, 1, 7, 1, 3, 5, 4, 3, 3, 9, 7, 8, 2, 5, 5, 4, 5, 4, 5, 7, 2, 5, 5, 1, 7, 7, 8, 3, 6, 0, 2, 5, 2, 3, 7, 4, 2, 1, 6, 8, 6, 8, 3, 2, 7, 7, 9, 7, 1, 4, 7, 4, 6, 1, 7, 3, 0, 0, 6, 6, 8, 6, 6, 0, 3, 4, 7, 4, 9, 4, 9, 9, 3, 4, 1, 4, 0, 3, 7, 1, 2, 2, 8, 4, 7, 8, 5, 5, 6, 5, 6, 0, 6, 4, 9, 3, 2, 7, 3, 8, 3, 9, 4, 1, 6, 9, 9, 4, 3, 9, 8, 1, 6, 9, 5, 9, 0, 9, 7, 2, 2, 4, 2, 6, 4, 8, 1, 9, 5, 6, 5, 1, 8, 6, 6, 7, 6, 5, 0, 2, 7, 6, 1, 2, 3, 1, 6, 4, 9, 0, 3, 9, 1, 0, 5, 3, 1, 6, 9, 8, 9, 0, 6, 1, 6, 2, 3, 5, 6, 9, 0, 7, 2, 4, 0, 3, 6, 8, 6, 9, 1, 9, 0, 6, 4, 5, 9, 5, 4, 1, 9, 2, 0, 7, 3, 5, 1, 8, 3, 0, 5, 2, 8, 8, 3, 9, 6, 0, 3, 5, 3, 4, 1, 5, 0, 7, 3, 9, 4, 5, 3, 1, 4, 2, 4, 9, 9, 7, 1, 7, 0, 1, 2, 1, 5, 3, 8, 4, 1, 5, 1, 9, 9, 7, 0, 1, 7, 6, 2, 6, 5, 0, 3, 1, 3, 8, 9, 9, 0, 8, 8, 7, 9, 2, 9, 1, 3, 6, 7, 6, 0, 8, 6, 2, 4, 2, 3, 5, 5, 4, 1, 6, 7, 1, 6, 1, 7, 1, 6, 2, 3, 0, 4, 2, 9, 7, 5, 5, 6, 0, 8, 8, 1, 1, 3, 5, 6, 5, 3, 8, 7, 5, 0, 7, 7, 5, 7, 1, 9, 9, 1, 9, 9, 3, 5, 5, 3, 0, 3, 0, 6, 6, 5, 6, 8, 9, 4, 5, 1, 1, 2, 7, 9, 0, 1, 2, 5, 4, 4, 7, 4, 8, 3, 3, 5, 3, 5, 7, 0, 1, 2, 9, 8, 1, 7, 3, 5, 9, 1, 9, 1, 1, 3, 6, 7, 4, 8, 3, 5, 6, 7, 0, 1, 7, 7, 2, 3, 3, 5, 1, 7, 6, 8, 4, 4, 5, 7, 3, 4, 7, 7, 3, 6, 0, 7, 2, 6, 7, 4, 1, 8, 0, 2, 2, 1, 5, 4, 0, 9, 3, 4, 4, 2, 3, 8, 5, 0, 0, 4, 6, 3, 9, 2, 0, 5, 7, 5, 5, 1, 7, 3, 1, 6, 7, 9, 0, 1, 2, 1, 4, 6, 1, 5, 9, 5, 0, 4, 9, 4, 9, 7, 1, 6, 8, 0, 6, 5, 0, 8, 1, 7, 5, 6, 9, 3, 2, 3, 9, 8, 6, 1, 0, 9, 0, 9, 8, 7, 7, 5, 2, 3, 5, 5, 7, 8, 7, 6, 9, 1, 9, 8, 6, 5, 6, 7, 5, 6, 7, 2, 5, 9, 6, 6, 7, 0, 1, 0, 1, 3, 2, 5, 6, 1, 2, 5, 1, 9, 9, 8, 6, 8, 6, 8, 9, 0, 4, 0, 3, 3, 6, 4, 9, 9, 7, 2, 3, 5, 6, 4, 6, 0, 3, 7, 5, 0, 2, 9, 2, 7, 2, 9, 2, 4, 0, 6, 6, 3, 4, 5, 5, 9, 1, 1, 4, 4, 3, 5, 4, 8, 0, 0, 3, 9, 4, 7, 4, 2, 8, 3, 6, 3, 1, 9, 6, 3, 8, 3, 8, 4, 7, 5, 7, 5, 3, 1, 2, 6, 1, 3, 2, 0, 7, 5, 0, 0, 0, 1, 4, 3, 5, 8, 4, 3, 1, 7, 1, 0, 4, 2, 4, 1, 4, 0, 1, 2, 1, 7, 7, 9, 8, 7, 5, 4, 0, 9, 0, 0, 8, 2, 0, 0, 2, 4, 8, 6, 2, 4, 6, 3, 5, 1, 5, 3, 7, 2, 2, 9, 8, 0, 0, 0, 3, 4, 4, 6, 1, 6, 7, 4, 4, 3, 9, 4, 0, 8, 0, 4, 6, 5, 7, 9, 7, 0, 5, 7, 7, 3, 1, 9, 3, 0, 9, 5, 3, 7, 9, 4, 4, 1, 7, 7, 1, 4, 1, 2, 8, 7, 0, 0, 4, 7, 2, 9, 7, 6, 9, 3, 5, 8, 0, 3, 6, 8, 3, 2, 4, 7, 1, 1, 3, 9, 7, 5, 1, 0, 8, 7, 0, 1, 6, 9, 3, 2, 7, 7, 8, 1, 0, 3, 4, 6, 7, 5, 2, 0, 1, 5, 5, 1, 4, 1, 3, 0, 8, 6, 2, 1, 3, 6, 4, 1, 9, 0, 4, 1, 0, 1, 9, 8, 6, 9, 2, 4, 7, 2, 2, 7, 4, 9, 1, 3, 2, 6, 3, 4, 4, 9, 4, 8, 2, 6, 6, 1, 6, 3, 6, 5, 8, 4, 6, 7, 1, 9, 3, 6, 7, 6, 0, 7, 1, 9, 5, 2, 6, 7, 7, 6, 5, 9, 1, 5, 6, 0, 2, 0, 9, 1, 8, 3, 5, 0, 0, 0, 5, 7, 7, 8, 5, 5, 5, 1, 6, 1, 5, 1, 0, 6, 2, 3, 2, 1, 7, 5, 1, 9, 8, 3, 6, 9, 7, 3, 0, 2, 3, 9, 4, 4, 3, 9, 6, 8, 6, 6, 8, 5, 4, 3, 6, 7, 7, 4, 3, 9, 6, 2, 4, 0, 1, 3, 6, 4, 9, 2, 6, 0, 3, 8, 7, 5, 3, 3, 8, 3, 2, 6, 3, 6, 2, 7, 4, 5, 7, 9, 0, 0, 6, 7, 2, 8, 5, 5, 7, 5, 5, 9, 4, 6, 4, 7, 3, 3, 6, 4, 1, 6, 3, 1, 6, 7, 0, 5, 0, 1, 9, 7, 3, 5, 2, 3, 9, 5, 6, 4, 0, 0, 0, 8, 0, 3, 2, 4, 5, 3, 7, 9, 6, 9, 3, 1, 2, 6, 7, 4, 5, 1, 3, 7, 6, 9, 5, 8, 5, 8, 5, 8, 5, 6, 5, 0, 8, 3, 8, 1, 8, 1, 5, 0, 9, 8, 6, 3, 6, 3, 4, 4, 7, 4, 7, 4, 3, 2, 4, 5, 5, 7, 5, 4, 5, 8, 0, 5, 4, 0, 5, 4, 3, 3, 2, 4, 2, 9, 4, 8, 8, 6, 2, 6, 1, 7, 0, 4, 3, 8, 5, 9, 7, 6, 7, 1, 0, 2, 3, 5, 6, 7, 1, 6, 2, 8, 3, 7, 2, 5, 7, 5, 7, 7, 1, 7, 4, 3, 3, 4, 0, 4, 2, 7, 0, 2, 2, 6, 6, 2, 5, 2, 6, 0, 6, 1, 2, 9, 0, 0, 1, 5, 5, 1, 6, 7, 8, 5, 6, 3, 3, 6, 0, 9, 9, 2, 2, 6, 1, 4, 6, 2, 5, 7, 8, 8, 5, 6, 4, 3, 2, 3, 4, 4, 4, 8, 9, 2, 6, 0, 9, 7, 9, 8, 7, 7, 3, 8, 2, 9, 3, 5, 7, 5, 8, 7, 3, 7, 0, 7, 1, 6, 2, 4, 0, 0, 2, 9, 8, 2, 8, 7, 7, 5, 5, 0, 1, 2, 9, 6, 1, 0, 1, 0, 6, 5, 0, 5, 7, 4, 4, 8, 3, 5, 3, 7, 2, 5, 8, 3, 5, 7, 3, 7, 0, 5, 4, 5, 6, 9, 3, 5, 3, 8, 2, 4, 2, 2, 6, 7, 6, 0, 5, 5, 8, 4, 5, 6, 1, 3, 5, 4, 7, 3, 0, 7, 2, 0, 1, 2, 4, 9, 6, 4, 5, 9, 7, 7, 6, 7, 4, 3, 1, 6, 9, 4, 8, 0, 3, 1, 6, 4, 4, 2, 1, 4, 6, 3, 0, 8, 9, 7, 6, 8, 4, 8, 1, 4, 5, 9, 4, 7, 1, 4, 5, 3, 1, 2, 6, 4, 7, 1, 5, 9, 3, 1, 4, 8, 7, 7, 0, 4, 3, 4, 6, 7, 7, 5, 4, 4, 4, 3, 6, 6, 1, 9, 9, 7, 9, 4, 3, 2, 9, 8, 5, 0, 6, 9, 0, 9, 7, 8, 5, 4, 4, 9, 4, 2, 6, 6, 9, 9, 7, 9, 9, 0, 5, 1, 1, 8, 6, 9, 9, 5, 6, 5, 5, 9, 7, 9, 4, 5, 4, 3, 3, 9, 8, 8, 3, 4, 8, 4, 0, 4, 0, 7, 2, 8, 0, 2, 0, 7, 4, 0, 6, 3, 3, 1, 7, 4, 6, 5, 0, 4, 9, 5, 6, 6, 3, 0, 5, 2, 6, 3, 3, 8, 0, 8, 5, 4, 2, 9, 5, 0, 5, 4, 8, 2, 7, 6, 5, 7, 8, 2, 0, 1, 8, 2, 4, 8, 4, 3, 0, 4, 0, 1, 9, 3, 0, 3, 6, 5, 5, 2, 8, 5, 0, 8, 7, 5, 2, 4, 3, 7, 0, 2, 3, 1, 0, 0, 2, 1, 2, 1, 4, 6, 7, 1, 0, 5, 2, 5, 9, 2, 5, 6, 7, 1, 9, 3, 6, 1, 0, 2, 9, 4, 2, 9, 3, 8, 2, 9, 8, 5, 1, 0, 1, 5, 2, 5, 6, 8, 8, 3, 5, 0, 4, 1, 3, 7, 0, 3, 3, 9, 2, 3, 9, 9, 8, 5, 9, 7, 2, 0, 9, 4, 7, 1, 7, 6, 4, 4, 8, 9, 0, 7, 1, 2, 4, 0, 3, 7, 5, 1, 9, 3, 5, 2, 4, 1, 1, 3, 3, 9, 2, 5, 8, 0, 8, 1, 5, 1, 5, 9, 0, 9, 2, 4, 0, 6, 9, 1, 1, 3, 4, 9, 5, 3, 3, 3, 3, 4, 1, 5, 9, 8, 7, 4, 8, 7, 3, 5, 2, 5, 8, 9, 7, 2, 0, 0, 7, 5, 3, 5, 7, 4, 6, 2, 8, 2, 7, 7, 6, 1, 3, 8, 6, 2, 0, 4, 4, 8, 6, 4, 0, 2, 5, 4, 1, 2, 5, 4, 6, 9, 5, 0, 5, 2, 0, 8, 2, 6, 4, 7, 9, 5, 7, 2, 6, 2, 1, 9, 9, 7, 2, 5, 1, 8, 1, 6, 3, 0, 8, 8, 5, 6, 9, 9, 9, 6, 3, 0, 8, 8, 5, 3, 3, 1, 1, 0, 7, 0, 6, 0, 4, 4, 6, 5, 3, 2, 9, 6, 6, 7, 9, 7, 7, 0, 8, 4, 2, 7, 7, 7, 4, 0, 1, 6, 0, 5, 3, 0, 2, 4, 9, 7, 3, 3, 2, 8, 8, 5, 3, 8, 0, 8, 0, 0, 0, 2, 2, 7, 0, 7, 7, 7, 2, 2, 0, 4, 0, 3, 7, 8, 4, 7, 9, 6, 1, 1, 6, 9, 3, 8, 9, 5, 8, 3, 9, 4, 3, 7, 5, 5, 2, 7, 5, 7, 9, 6, 3, 0, 8, 4, 5, 6, 1, 0, 4, 8, 4, 7, 1, 3, 2, 0, 9, 1, 8, 8, 6, 8, 1, 7, 1, 0, 9, 7, 6, 4, 5, 8, 2, 1, 2, 5, 8, 1, 1, 8, 8, 0, 9, 0, 0, 4, 3, 3, 5, 6, 6, 3, 1, 4, 4, 7, 8, 0, 1, 4, 8, 4, 6, 2, 2, 2, 6, 3, 4, 0, 8, 1, 3, 8, 3, 8, 9, 1, 6, 1, 9, 8, 2, 0, 4, 7, 4, 0, 0, 7, 6, 8, 9, 8, 6, 2, 8, 8, 0, 1, 1, 0, 7, 7, 4, 4, 7, 7, 2, 6, 6, 7, 4, 5, 4, 0, 9, 4, 7, 2, 5, 3, 2, 2, 7, 6, 2, 6, 4, 9, 6, 8, 3, 8, 5, 5, 2, 3, 4, 5, 2, 7, 5, 1, 5, 3, 7, 8, 8, 9, 6, 0, 9, 2, 6, 0, 0, 1, 4, 1, 3, 5, 1, 8, 9, 6, 2, 6, 9, 5, 6, 5, 9, 1, 4, 2, 8, 9, 5, 4, 7, 0, 3, 7, 1, 6, 9, 1, 1, 4, 0, 5, 1, 6, 3, 0, 2, 5, 5, 5, 2, 8, 2, 3, 1, 6, 2, 7, 0, 8, 9, 2, 6, 4, 7, 5, 5, 8, 8, 7, 8, 5, 7, 4, 4, 0, 0, 7, 0, 4, 0, 4, 4, 2, 5, 4, 0, 7, 7, 7, 0, 4, 6, 2, 9, 1, 1, 5, 0, 9, 1, 0, 6, 5, 3, 0, 9, 0, 6, 2, 0, 4, 1, 6, 7, 6, 1, 0, 4, 6, 0, 4, 4, 2, 7, 6, 5, 3, 5, 9, 4, 5, 2, 0, 5, 7, 2, 3, 9, 4, 5, 8, 1, 9, 3, 1, 8, 5, 8, 6, 6, 3, 4, 0, 2, 3, 2, 6, 1, 8, 2, 1, 3, 6, 2, 2, 3, 3, 5, 0, 2, 1, 2, 8, 0, 8, 2, 2, 7, 3, 5, 9, 8, 3, 6, 1, 0, 8, 6, 3, 5, 8, 9, 4, 8, 0, 0, 2, 9, 1, 8, 3, 7, 2, 8, 0, 9, 4, 8, 9, 4, 8, 9, 5, 4, 8, 1, 5, 5, 7, 2, 5, 8, 8, 1, 2, 3, 1, 5, 0, 2, 3, 0, 8, 2, 2, 8, 7, 3, 5, 3, 9, 6, 3, 5, 1, 1, 7, 7, 3, 3, 8, 9, 6, 0, 8, 0, 6, 6, 4, 6, 9, 1, 1, 7, 0, 6, 8, 9, 0, 6, 9, 0, 1, 1, 7, 2, 1, 0, 4, 5, 0, 3, 6, 3, 3, 8, 1, 8, 1, 3, 1, 5, 4, 5, 1, 8, 9, 1, 3, 1, 7, 2, 9, 8, 9, 4, 6, 0, 9, 4, 0, 4, 6, 2, 1, 3, 0, 8, 5, 6, 0, 3, 4, 6, 9, 5, 7, 9, 0, 3, 6, 5, 7, 0, 5, 1, 2, 2, 9, 7, 0, 0, 1, 4, 4, 5, 5, 9, 6, 3, 6, 2, 6, 9, 3, 2, 3, 2, 4, 9, 5, 2, 1, 6, 6, 4, 7, 6, 3, 3, 8, 1, 4, 6, 4, 4, 5, 6, 2, 0, 5, 2, 7, 5, 2, 5, 2, 5, 9, 0, 6, 7, 9, 8, 3, 2, 1, 4, 3, 4, 5, 5, 6, 8, 6, 0, 8, 9, 8, 0, 7, 7, 6, 6, 7, 5, 9, 8, 7, 9, 5, 6, 0, 4, 8, 2, 0, 9, 1, 3, 9, 8, 3, 7, 4, 5, 0, 2, 1, 9, 1, 0, 5, 8, 4, 7, 3, 1, 4, 5, 3, 1, 0, 8, 8, 8, 2, 1, 3, 7, 3, 1, 6, 9, 1, 6, 0, 7, 7, 1, 3, 3, 3, 1, 0, 2, 7, 1, 2, 2, 9, 6, 3, 5, 9, 4, 8, 0, 4, 8, 0, 1, 3, 7, 0, 4, 7, 4, 8, 6, 4, 3, 9, 8, 2, 2, 8, 3, 1, 1, 2, 8, 2, 6, 9, 4, 8, 4, 4, 1, 5, 2, 6, 9, 2, 0, 7, 1, 8, 9, 3, 9, 9, 0, 7, 7, 5, 4, 2, 6, 4, 5, 7, 7, 8, 7, 2, 6, 2, 2, 4, 4, 0, 7, 1, 3, 9, 6, 0, 0, 2, 3, 8, 2, 2, 4, 3, 5, 2, 9, 1, 0, 0, 6, 5, 5, 7, 9, 9, 6, 5, 5, 0, 5, 7, 1, 6, 6, 4, 1, 4, 4, 1, 5, 0, 0, 4, 5, 8, 4, 8, 3, 0, 5, 0, 5, 3, 1, 6, 7, 0, 9, 1, 5, 7, 6, 5, 5, 5, 6, 0, 0, 1, 7, 5, 1, 9, 2, 4, 1, 3, 7, 8, 2, 0, 9, 6, 6, 0, 6, 5, 8, 2, 7, 4, 0, 2, 7, 7, 8, 8, 7, 0, 4, 9, 1, 4, 4, 3, 5, 4, 6, 2, 3, 1, 0, 3, 3, 3, 6, 3, 1, 2, 8, 9, 7, 9, 3, 8, 7, 3, 1, 7, 7, 3, 2, 2, 8, 9, 5, 9, 2, 1, 7, 4, 4, 0, 5, 7, 1, 5, 4, 0, 8, 4, 9, 8, 7, 8, 4, 2, 3, 4, 0, 5, 4, 1, 8, 2, 5, 4, 5, 2, 5, 3, 7, 9, 7, 1, 4, 1, 3, 1, 4, 5, 5, 1, 7, 1, 3, 0, 1, 2, 5, 7, 0, 6, 3, 5, 7, 5, 5, 8, 9, 4, 6, 3, 6, 6, 8, 2, 6, 4, 8, 4, 1, 3, 1, 2, 3, 3, 0, 1, 6, 4, 2, 8, 2, 4, 3, 1, 4, 4, 4, 4, 1, 5, 5, 7, 6, 5, 4, 5, 6, 5, 6, 2, 4, 7, 7, 4, 6, 5, 0, 2, 3, 9, 2, 3, 8, 0, 7, 0, 6, 8, 1, 2, 8, 9, 1, 5, 4, 2, 3, 5, 5, 3, 6, 5, 0, 3, 2, 1, 3, 3, 7, 7, 4, 9, 4, 3, 9, 5, 1, 7, 6, 6, 4, 8, 5, 1, 2, 8, 4, 5, 3, 3, 3, 0, 4, 8, 7, 7, 9, 4, 8, 4, 5, 9, 1, 8, 3, 1, 3, 8, 0, 3, 5, 4, 6, 9, 2, 7, 2, 0, 5, 2, 9, 7, 5, 0, 7, 0, 3, 5, 5, 3, 8, 7, 7, 9, 6, 5, 8, 9, 0, 1, 9, 4, 0, 0, 1, 7, 2, 2, 8, 5, 9, 8, 2, 8, 0, 6, 6, 8, 6, 9, 6, 1, 1, 5, 3, 5, 0, 7, 6, 1, 4, 4, 1, 1, 8, 1, 1, 2, 3, 4, 9, 9, 5, 2, 7, 3, 3, 6, 9, 6, 9, 8, 8, 6, 7, 4, 7, 2, 3, 8, 0, 9, 0, 7, 8, 1, 2, 3, 2, 4, 2, 9, 0, 3, 8, 9, 6, 5, 5, 2, 4, 1, 0, 6, 1, 8, 4, 5, 5, 5, 0, 8, 9, 0, 5, 7, 9, 6, 3, 4, 6, 4, 9, 7, 1, 2, 5, 2, 8, 0, 2, 2, 9, 8, 1, 9, 7, 7, 3, 1, 4, 1, 1, 3, 8, 8, 1, 9, 3, 8, 9, 5, 1, 1, 6, 2, 7, 2, 6, 2, 6, 9, 6, 0, 1, 3, 9, 3, 8, 8, 8, 2, 9, 1, 2, 6, 0, 5, 0, 7, 7, 7, 9, 4, 5, 0, 2, 3, 5, 5, 8, 9, 1, 2, 7, 1, 3, 4, 6, 9, 1, 0, 7, 1, 9, 5, 8, 1, 9, 9, 7, 9, 8, 3, 0, 2, 6, 0, 2, 2, 4, 0, 8, 4, 8, 1, 2, 7, 2, 7, 9, 5, 2, 2, 9, 2, 6, 5, 7, 2, 5, 6, 5, 1, 8, 2, 6, 8, 6, 3, 0, 8, 0, 0, 9, 9, 6, 8, 0, 6, 6, 0, 7, 9, 8, 0, 5, 0, 9, 6, 0, 4, 7, 1, 7, 8, 8, 2, 3, 9, 6, 5, 5, 3, 1, 5, 3, 0, 2, 5, 2, 7, 3, 8, 4, 4, 6, 1, 9, 4, 1, 7, 0, 1, 4, 3, 0, 2, 9, 4, 5, 0, 3, 4, 7, 2, 3, 0, 1, 3, 7, 9, 9, 0, 7, 5, 6, 7, 1, 2, 2, 7, 4, 6, 8, 4, 9, 8, 4, 9, 2, 3, 4, 0, 2, 5, 6, 0, 5, 3, 5, 8, 3, 7, 4, 9, 5, 6, 3, 8, 6, 9, 8, 5, 5, 8, 3, 5, 9, 0, 4, 2, 0, 5, 9, 9, 3, 8, 0, 6, 0, 2, 3, 7, 0, 0, 6, 9, 1, 5, 2, 2, 7, 9, 3, 9, 3, 5, 2, 2, 2, 8, 8, 5, 0, 0, 7, 0, 3, 1, 6, 5, 0, 9, 2, 6, 7, 4, 2, 0, 0, 5, 3, 3, 2, 6, 4, 2, 7, 8, 0, 1, 0, 1, 3, 6, 4, 8, 0, 6, 0, 9, 1, 6, 2, 1, 0, 1, 3, 0, 3, 7, 9, 9, 3, 7, 5, 7, 1, 6, 6, 1, 1, 1, 4, 4, 2, 1, 7, 0, 1, 2, 1, 1, 3, 2, 6, 9, 1, 3, 2, 0, 8, 7, 3, 4, 6, 4, 6, 9, 4, 8, 9, 3, 0, 5, 7, 2, 0, 2, 9, 9, 3, 8, 7, 1, 1, 2, 2, 2, 5, 9, 1, 2, 6, 1, 2, 1, 8, 9, 2, 3, 1, 9, 9, 4, 4, 5, 5, 0, 3, 3, 7, 1, 7, 7, 9, 8, 6, 3, 5, 5, 1, 6, 2, 7, 8, 4, 3, 3, 5, 9, 6, 8, 5, 1, 0, 6, 7, 0, 9, 6, 2, 0, 8, 7, 1, 2, 6, 9, 1, 6, 4, 7, 1, 9, 0, 0, 5, 2, 8, 3, 8, 2, 8, 4, 0, 8, 3, 6, 1, 2, 3, 0, 5, 0, 4, 1, 7, 2, 0, 1, 3, 9, 1, 6, 1, 6, 1, 2, 8, 7, 0, 9, 5, 8, 0, 0, 1, 7, 9, 7, 1, 9, 2, 1, 9, 4, 3, 6, 0, 2, 0, 0, 9, 9, 8, 9, 4, 5, 4, 3, 0, 7, 8, 7, 3, 7, 5, 4, 6, 5, 9, 5, 2, 4, 2, 7, 9, 6, 7, 4, 7, 1, 2, 3, 1, 1, 3, 6, 8, 3, 7, 7, 0, 8, 1, 5, 2, 5, 5, 3, 6, 3, 5, 9, 8, 4, 6, 8, 0, 4, 1, 7, 8, 4, 9, 7, 2, 6, 3, 8, 8, 6, 7, 3, 8, 1, 1, 5, 3, 7, 9, 9, 9, 8, 5, 9, 9, 6, 8, 8, 4, 8, 1, 0, 1, 8, 8, 6, 5, 9, 0, 6, 1, 2, 6, 6, 3, 5, 6, 5, 5, 3, 3, 6, 8, 9, 4, 4, 3, 8, 3, 6, 0, 8, 5, 7, 8, 4, 6, 5, 3, 1, 8, 3, 0, 4, 4, 3, 3, 5, 3, 3, 2, 7, 7, 8, 2, 0, 5, 5, 6, 1, 1, 3, 9, 9, 3, 6, 7, 1, 8, 3, 9, 8, 7, 8, 8, 0, 3, 2, 4, 8, 7, 5, 7, 1, 8, 7, 3, 5, 4, 4, 3, 8, 6, 1, 1, 6, 3, 2, 2, 8, 9, 8, 3, 3, 8, 1, 1, 0, 5, 2, 0, 5, 0, 5, 8, 6, 3, 9, 6, 6, 3, 9, 4, 8, 3, 4, 3, 1, 1, 2, 9, 7, 8, 5, 5, 8, 6, 9, 0, 8, 3, 5, 1, 3, 3, 5, 5, 3, 8, 1, 4, 6, 4, 2, 4, 3, 8, 9, 6, 6, 6, 5, 5, 2, 7, 7, 4, 4, 9, 3, 8, 3, 7, 7, 8, 5, 3, 9, 1, 6, 7, 3, 3, 3, 8, 5, 6, 1, 3, 7, 9, 6, 1, 6, 4, 9, 0, 5, 7, 4, 9, 1, 0, 0, 2, 7, 8, 3, 2, 7, 6, 1, 6, 6, 4, 4, 2, 1, 8, 4, 4, 7, 8, 5, 8, 9, 4, 3, 2, 2, 9, 3, 0, 1, 1, 1, 1, 6, 8, 7, 1, 3, 0, 4, 5, 0, 3, 0, 6, 2, 0, 9, 8, 6, 8, 5, 8, 2, 9, 6, 0, 6, 1, 8, 7, 3, 2, 2, 6, 5, 6, 9, 2, 5, 4, 9, 8, 5, 3, 9, 3, 5, 7, 1, 8, 5, 8, 6, 2, 5, 1, 3, 0, 4, 1, 9, 5, 4, 9, 2, 1, 4, 2, 5, 9, 8, 7, 2, 1, 6, 9, 7, 3, 6, 5, 8, 0, 2, 2, 4, 9, 0, 5, 5, 4, 2, 3, 1, 0, 3, 0, 4, 4, 9, 1, 3, 3, 0, 2, 1, 1, 0, 4, 1, 9, 4, 8, 1, 1, 1, 5, 9, 8, 1, 6, 7, 2, 9, 9, 7, 8, 8, 1, 9, 7, 8, 9, 1, 6, 6, 3, 3, 1, 3, 0, 8, 8, 3, 6, 6, 7, 1, 0, 7, 6, 4, 8, 2, 0, 6, 6, 8, 6, 3, 1, 1, 8, 6, 7, 0, 5, 4, 3, 2, 1, 7, 8, 2, 0, 1, 7, 4, 8, 7, 6, 6, 7, 0, 6, 4, 9, 2, 3, 2, 1, 3, 8, 6, 8, 1, 9, 6, 7, 6, 5, 0, 6, 0, 1, 3, 1, 1, 5, 3, 4, 3, 3, 8, 1, 6, 6, 1, 8, 8, 6, 2, 7, 4, 6, 8, 9, 3, 3, 5, 5, 3, 1, 4, 1, 9, 5, 1, 7, 7, 7, 5, 2, 3, 3, 6, 6, 6, 4, 0, 7, 1, 7, 3, 0, 8, 1, 2, 4, 1, 2, 2, 4, 9, 8, 2, 8, 7, 6, 3, 4, 7, 2, 3, 1, 5, 3, 0, 4, 3, 4, 9, 4, 7, 9, 1, 7, 8, 3, 1, 8, 3, 2, 5, 7, 2, 7, 9, 6, 8, 6, 8, 6, 5, 9, 0, 4, 8, 5, 6, 4, 3, 8, 0, 4, 8, 6, 7, 2, 7, 1, 7, 4, 1, 2, 4, 2, 2, 8, 7, 2, 2, 6, 7, 5, 6, 8, 9, 9, 6, 5, 2, 9, 8, 7, 2, 3, 3, 7, 4, 3, 2, 1, 9, 0, 1, 5, 3, 2, 6, 5, 9, 1, 5, 4, 3, 6, 2, 8, 9, 7, 8, 0, 8, 9, 1, 2, 5, 7, 2, 0, 6, 6, 1, 6, 3, 1, 5, 0, 3, 7, 4, 6, 5, 6, 4, 8, 3, 4, 5, 5, 0, 6, 6, 7, 5, 0, 9, 9, 6, 1, 0, 4, 6, 3, 6, 9, 3, 6, 6, 8, 2, 1, 0, 1, 9, 3, 7, 4, 3, 0, 2, 7, 6, 4, 3, 0, 8, 2, 0, 0, 9, 6, 6, 6, 8, 7, 4, 1, 8, 1, 2, 2, 4, 8, 5, 2, 6, 5, 3, 9, 1, 0, 7, 2, 4, 4, 0, 0, 6, 2, 2, 4, 0, 5, 9, 7, 1, 8, 4, 5, 5, 9, 8, 5, 7, 8, 0, 9, 8, 9, 1, 6, 3, 8, 0, 3, 4, 4, 8, 4, 8, 9, 8, 6, 0, 0, 8, 2, 7, 4, 2, 5, 6, 0, 5, 8, 4, 1, 9, 0, 1, 4, 4, 8, 4, 9, 6, 0, 7, 7, 6, 8, 9, 6, 2, 0, 4, 9, 4, 9, 3, 9, 6, 6, 7, 0, 9, 7, 1, 8, 6, 0, 6, 7, 4, 1, 9, 4, 6, 7, 9, 8, 3, 9, 2, 1, 2, 7, 6, 1, 0, 0, 5, 6, 0, 4, 3, 2, 8, 8, 0, 6, 9, 5, 2, 8, 7, 0, 6, 5, 9, 7, 2, 3, 6, 9, 6, 2, 2, 4, 1, 0, 5, 0, 8, 9, 3, 5, 9, 3, 8, 1, 6, 3, 7, 5, 6, 2, 0, 2, 8, 2, 8, 7, 7, 8, 1, 0, 8, 9, 7, 0, 3, 8, 0, 5, 9, 5, 8, 4, 2, 0, 9, 2, 2, 4, 4, 9, 2, 2, 2, 5, 1, 3, 2, 0, 0, 4, 0, 6, 5, 8, 0, 5, 8, 6, 4, 8, 5, 2, 9, 7, 9, 7, 1, 0, 1, 9, 6, 9, 2, 7, 9, 4, 4, 0, 6, 2, 4, 1, 3, 7, 2, 8, 5, 9, 0, 3, 2, 3, 2, 7, 6, 3, 2, 5, 9, 0, 5, 9, 9, 8, 7, 7, 4, 8, 6, 5, 2, 3, 1, 0, 4, 1, 8, 8, 4, 9, 4, 4, 3, 3, 9, 2, 0, 1, 1, 8, 4, 4, 8, 3, 2, 9, 5, 7, 6, 2, 5, 4, 7, 3, 3, 9, 0, 1, 5, 9, 3, 7, 6, 0, 4, 2, 2, 5, 6, 3, 8, 9, 5, 6, 1, 4, 5, 4, 6, 7, 2, 1, 0, 2, 0, 4, 9, 8, 8, 9, 1, 1, 5, 0, 0, 8, 7, 1, 7, 4, 5, 4, 3, 3, 2, 0, 6, 6, 0, 1, 3, 9, 8, 3, 7, 8, 9, 4, 8, 9, 0, 9, 7, 1, 6, 2, 9, 5, 6, 9, 3, 9, 8, 7, 7, 1, 6, 5, 3, 1, 3, 1, 2, 7, 1, 8, 2, 0, 9, 7, 9, 8, 8, 6, 7, 3, 7, 1, 3, 9, 0, 9, 3, 6, 7, 2, 7, 3, 0, 5, 9, 7, 5, 5, 0, 6, 5, 1, 8, 2, 7, 5, 9, 0, 0, 0, 8, 8, 7, 3, 7, 8, 9, 3, 7, 9, 7, 8, 7, 9, 8, 5, 4, 8, 3, 7, 6, 3, 8, 2, 1, 9, 5, 7, 3, 9, 5, 5, 8, 7, 3, 5, 3, 5, 9, 7, 6, 7, 3, 6, 4, 3, 9, 4, 2, 1, 9, 6, 0, 2, 6, 7, 4, 7, 9, 0, 7, 4, 3, 5, 3, 1, 1, 2, 6, 8, 2, 1, 7, 8, 5, 9, 6, 1, 1, 5, 0, 6, 0, 9, 2, 6, 5, 8, 9, 5, 5, 6, 2, 9, 1, 5, 8, 8, 7, 1, 7, 3, 5, 4, 9, 7, 5, 2, 9, 9, 4, 7, 4, 1, 3, 8, 7, 9, 0, 4, 5, 7, 5, 2, 8, 7, 6, 9, 6, 9, 3, 8, 5, 6, 6, 9, 5, 7, 8, 0, 5, 0, 7, 4, 8, 2, 5, 1, 3, 2, 2, 6, 2, 1, 7, 4, 6, 3, 1, 3, 7, 2, 1, 3, 7, 0, 8, 4, 4, 5, 7, 9, 5, 4, 3, 9, 6, 8, 2, 3, 3, 1, 6, 1, 7, 0, 3, 4, 2, 9, 4, 5, 8, 2, 7, 0, 9, 6, 8, 0, 8, 2, 8, 5, 7, 7, 2, 2, 0, 0, 0, 7, 4, 1, 6, 6, 8, 8, 9, 0, 9, 0, 1, 3, 3, 0, 9, 6, 6, 2, 6, 3, 4, 0, 8, 4, 1, 4, 0, 6, 5, 0, 9, 9, 9, 9, 1, 2, 3, 5, 4, 2, 9, 6, 0, 9, 6, 6, 8, 0, 6, 1, 4, 6, 8, 0, 5, 4, 1, 2, 0, 9, 6, 4, 2, 4, 6, 5, 9, 7, 7, 4, 6, 5, 0, 1, 9, 0, 3, 1, 9, 0, 9, 7, 8, 6, 7, 6, 8, 2, 4, 5, 3, 0, 3, 2, 1, 7, 5, 9, 3, 4, 5, 7, 1, 5, 0, 1, 1, 1, 9, 7, 5, 4, 9, 7, 8, 1, 0, 2, 8, 5, 6, 7, 0, 1, 4, 8, 4, 4, 6, 6, 5, 8, 1, 8, 4, 6, 5, 9, 2, 2, 1, 4, 9, 1, 6, 7, 2, 0, 1, 7, 6, 5, 2, 2, 5, 6, 0, 9, 0, 1, 5, 3, 3, 5, 8, 7, 5, 6, 5, 8, 0, 5, 9, 4, 6, 5, 1, 1, 0, 3, 3, 9, 4, 8, 1, 7, 7, 9, 9, 4, 3, 6, 3, 2, 8, 2, 7, 6, 7, 0, 2, 1, 2, 9, 4, 6, 9, 6, 1, 0, 1, 8, 7, 0, 0, 4, 7, 4, 2, 6, 9, 5, 9, 0, 7, 4, 5, 8, 1, 4, 7, 9, 9, 8, 8, 6, 3, 7, 0, 8, 9, 6, 2, 4, 6, 2, 9, 7, 4, 6, 8, 5, 6, 1, 3, 5, 9, 9, 1, 3, 2, 0, 3, 0, 2, 0, 7, 3, 9, 3, 5, 7, 6, 5, 9, 5, 6, 1, 2, 4, 0, 2, 7, 8, 4, 4, 0, 9, 5, 9, 2, 9, 3, 2, 4, 3, 2, 2, 8, 8, 6, 8, 1, 6, 8, 9, 8, 2, 1, 4, 9, 1, 5, 7, 1, 6, 0, 1, 5, 2, 8, 1, 1, 3, 8, 1, 3, 1, 8, 5, 1, 9, 0, 3, 0, 4, 0, 5, 1, 2, 0, 4, 9, 5, 1, 2, 2, 7, 8, 7, 2, 4, 5, 3, 4, 0, 6, 1, 5, 9, 8, 0, 2, 0, 7, 6, 0, 5, 9, 7, 5, 0, 4, 6, 0, 6, 3, 6, 8, 1, 1, 8, 9, 7, 2, 9, 0, 2, 2, 9, 0, 6, 5, 7, 7, 9, 1, 7, 9, 8, 4, 5, 0, 8, 0, 2, 5, 2, 1, 4, 4, 8, 9, 7, 8, 3, 6, 6, 0, 1, 1, 1, 8, 1, 4, 4, 0, 7, 8, 2, 1, 2, 5, 4, 6, 0, 5, 7, 4, 4, 3, 9, 5, 8, 8, 0, 8, 7, 4, 1, 8, 4, 9, 5, 4, 1, 7, 7, 7, 7, 0, 3, 8, 3, 3, 0, 5, 7, 0, 8, 0, 0, 9, 2, 2, 3, 4, 8, 2, 2, 6, 3, 3, 6, 2, 9, 4, 0, 1, 7, 5, 5, 7, 3, 0, 4, 2, 0, 7, 5, 8, 0, 8, 2, 7, 0, 3, 5, 3, 8, 3, 5, 1, 7]\n",
            "Accuracy: 0.9177, F1-score: 0.917676029432454, Precision: 0.9180199661346443, Recall: 0.9177, AUROC: 0.9855857888888888\n"
          ]
        }
      ],
      "source": [
        "accuracy, f1, precision, recall, auroc = poisone_sisa.evaluate(test_loader, poisone_sisa.aggregate_majority_vote)\n",
        "\n",
        "print(f'Accuracy: {accuracy}, F1-score: {f1}, Precision: {precision}, Recall: {recall}, AUROC: {auroc}')"
      ]
    },
    {
      "cell_type": "code",
      "execution_count": null,
      "metadata": {
        "id": "eVSpZ5slbzfF"
      },
      "outputs": [],
      "source": [
        "# Step 5: Calculate the Attack Success Rate (ASR)\n",
        "def calculate_asr(sisa, dataset, num_samples, target_class=0):\n",
        "    # Prepare poisoned images from other classes\n",
        "    poisoned_datasets = []\n",
        "\n",
        "    for i in range(1, 10):\n",
        "        if i != target_class:\n",
        "            poisoned_indices = select_and_poison_data_inplace(dataset, target_class=i, num_samples=num_samples, block_size=3)\n",
        "            poisoned_subset = Subset(dataset, poisoned_indices)\n",
        "            poisoned_datasets.append(poisoned_subset)\n",
        "\n",
        "\n",
        "    # Concatenate all poisoned subsets into one dataset\n",
        "    poisoned_dataset = ConcatDataset(poisoned_datasets)\n",
        "    poisoned_loader = DataLoader(poisoned_dataset, batch_size=64, shuffle=False)\n",
        "\n",
        "    aggregated_predictions, _ = sisa.aggregate_simple_average(poisoned_loader)\n",
        "    #accuracy, f1, precision, recall, auroc = poisone_sisa.evaluate(poisoned_loader, poisone_sisa.aggregate_simple_average)\n",
        "\n",
        "\n",
        "\n",
        "    print(aggregated_predictions)\n",
        "\n",
        "    misclassified_count = (aggregated_predictions == target_class).sum().item()\n",
        "    total_count = len(poisoned_dataset)\n",
        "\n",
        "    return misclassified_count / total_count"
      ]
    },
    {
      "cell_type": "code",
      "execution_count": null,
      "metadata": {
        "colab": {
          "base_uri": "https://localhost:8080/"
        },
        "id": "rRHP4laEwKLq",
        "outputId": "8cf57597-18ab-483e-926e-512b068a31ac"
      },
      "outputs": [
        {
          "name": "stdout",
          "output_type": "stream",
          "text": [
            "tensor([0, 0, 0, 0, 0, 0, 0, 0, 0, 0, 0, 0, 0, 0, 0, 0, 0, 0, 0, 0, 0, 0, 0, 0,\n",
            "        0, 0, 0, 0, 0, 0, 0, 0, 0, 0, 0, 0, 0, 9, 0, 0, 0, 0, 0, 0, 0, 0, 0, 0,\n",
            "        0, 1, 0, 0, 0, 0, 0, 0, 0, 0, 0, 0, 0, 0, 0, 0, 0, 0, 0, 0, 0, 0, 0, 0,\n",
            "        0, 9, 0, 0, 0, 0, 0, 0, 0, 0, 0, 0, 0, 0, 0, 0, 0, 0, 0, 0, 0, 0, 0, 0,\n",
            "        0, 9, 0, 0, 0, 0, 0, 0, 0, 0, 0, 0, 0, 0, 0, 0, 0, 0, 0, 0, 0, 0, 0, 0,\n",
            "        0, 0, 0, 0, 0, 0, 0, 0, 0, 0, 0, 0, 0, 0, 0, 0, 0, 0, 0, 0, 2, 0, 0, 0,\n",
            "        0, 0, 0, 0, 0, 0, 0, 0, 0, 0, 0, 0, 0, 0, 0, 0, 0, 0, 0, 0, 0, 0, 0, 0,\n",
            "        0, 0, 0, 0, 0, 0, 0, 0, 0, 0, 0, 0, 0, 0, 0, 0, 0, 0, 0, 0, 0, 0, 0, 0,\n",
            "        0, 0, 0, 0, 0, 0, 0, 0, 0, 0, 0, 0, 0, 0, 0, 0, 0, 0, 0, 0, 0, 0, 0, 0,\n",
            "        0, 0, 0, 0, 0, 0, 0, 0, 0, 0, 0, 0, 0, 0, 0, 0, 0, 0, 0, 0, 0, 3, 0, 0,\n",
            "        0, 0, 0, 0, 0, 0, 0, 0, 0, 0, 0, 0, 0, 0, 0, 0, 0, 0, 0, 0, 0, 0, 0, 0,\n",
            "        0, 0, 0, 0, 0, 0, 0, 0, 0, 0, 0, 0, 0, 0, 0, 0, 0, 0, 0, 0, 0, 0, 0, 0,\n",
            "        0, 0, 0, 0, 0, 0, 0, 0, 0, 3, 0, 0, 0, 0, 0, 0, 0, 0, 0, 0, 0, 0, 0, 0,\n",
            "        0, 0, 0, 0, 0, 0, 0, 0, 0, 0, 0, 0, 0, 0, 0, 0, 0, 0, 0, 0, 0, 0, 0, 0,\n",
            "        0, 0, 0, 0, 0, 0, 0, 0, 0, 0, 0, 0, 0, 0, 0, 0, 0, 0, 0, 0, 0, 0, 0, 0,\n",
            "        0, 0, 0, 0, 0, 0, 0, 0, 0, 0, 0, 0, 0, 0, 0, 0, 0, 0, 0, 0, 0, 0, 0, 0,\n",
            "        0, 0, 0, 0, 0, 0, 0, 0, 0, 0, 0, 0, 0, 0, 0, 0, 0, 0, 0, 0, 0, 0, 0, 0,\n",
            "        0, 0, 0, 0, 0, 0, 0, 0, 0, 0, 0, 0, 5, 0, 0, 0, 0, 0, 0, 0, 3, 0, 0, 0,\n",
            "        0, 0, 0, 0, 0, 0, 0, 0, 0, 0, 0, 0, 0, 0, 0, 0, 0, 0, 0, 0, 0, 0, 0, 0,\n",
            "        0, 0, 0, 0, 0, 0, 0, 0, 0, 0, 0, 0, 0, 0, 0, 3, 0, 0, 0, 0, 0, 0, 0, 0,\n",
            "        0, 0, 0, 0, 0, 0, 0, 0, 0, 0, 0, 0, 0, 0, 0, 0, 0, 0, 0, 0, 0, 0, 0, 0,\n",
            "        0, 0, 2, 0, 0, 0, 0, 0, 0, 0, 0, 0, 0, 0, 0, 0, 0, 0, 0, 0, 0, 0, 0, 0,\n",
            "        0, 0, 0, 0, 6, 0, 0, 0, 0, 0, 0, 0, 0, 0, 0, 0, 0, 0, 0, 0, 0, 0, 0, 0,\n",
            "        0, 0, 0, 0, 0, 0, 0, 0, 0, 0, 0, 0, 0, 0, 0, 0, 0, 6, 0, 0, 6, 0, 0, 0,\n",
            "        0, 0, 0, 0, 0, 0, 0, 0, 0, 0, 0, 0, 0, 0, 0, 0, 0, 0, 0, 0, 0, 0, 0, 0,\n",
            "        0, 0, 0, 0, 0, 0, 0, 0, 0, 0, 0, 0, 0, 7, 0, 0, 0, 0, 0, 0, 0, 0, 0, 0,\n",
            "        0, 7, 0, 0, 0, 0, 0, 0, 0, 0, 0, 0, 0, 0, 0, 0, 0, 0, 0, 0, 0, 0, 0, 0,\n",
            "        0, 0, 0, 0, 0, 0, 0, 0, 0, 0, 0, 0, 0, 0, 0, 0, 0, 0, 0, 0, 0, 0, 0, 0,\n",
            "        0, 7, 0, 0, 0, 0, 0, 0, 0, 0, 0, 0, 0, 0, 0, 7, 0, 0, 0, 0, 0, 0, 0, 0,\n",
            "        0, 0, 0, 0, 0, 0, 0, 0, 0, 0, 0, 0, 0, 0, 0, 0, 0, 0, 0, 0, 0, 0, 0, 0,\n",
            "        0, 0, 0, 0, 0, 0, 0, 0, 0, 0, 0, 0, 0, 0, 0, 0, 0, 0, 0, 0, 0, 0, 0, 0,\n",
            "        0, 0, 0, 0, 0, 0, 0, 0, 0, 0, 0, 0, 0, 0, 0, 0, 0, 0, 0, 0, 0, 0, 0, 0,\n",
            "        0, 0, 0, 0, 0, 0, 0, 0, 0, 0, 0, 0, 0, 0, 0, 0, 0, 0, 0, 0, 0, 0, 0, 0,\n",
            "        0, 0, 0, 0, 0, 0, 0, 0, 0, 0, 0, 0, 0, 9, 0, 0, 0, 0, 0, 0, 0, 0, 0, 9,\n",
            "        0, 0, 9, 0, 0, 0, 0, 0, 0, 0, 0, 0, 0, 0, 0, 0, 0, 0, 9, 0, 0, 0, 0, 0,\n",
            "        0, 0, 0, 9, 0, 0, 9, 0, 0, 0, 0, 0, 0, 0, 0, 0, 0, 0, 0, 0, 0, 0, 0, 0,\n",
            "        0, 0, 0, 0, 0, 0, 0, 0, 0, 9, 0, 9, 9, 0, 9, 0, 0, 0, 0, 0, 0, 9, 0, 0,\n",
            "        0, 0, 0, 0, 0, 0, 0, 0, 0, 0, 0, 0])\n",
            "Attack Success Rate (ASR): 96.78%\n"
          ]
        }
      ],
      "source": [
        "asr = calculate_asr(poisone_sisa, cifar10_test, 100, 0)\n",
        "print(f'Attack Success Rate (ASR): {asr * 100:.2f}%')\n"
      ]
    },
    {
      "cell_type": "markdown",
      "metadata": {
        "id": "9p16Q8fCXX4L"
      },
      "source": [
        "# **Add On. Simulation Question 2.**\n",
        " Unlearn the same 500 data, and evaluate the model’s\n",
        "performance, using all the same metrics ass before, on clean test data to ensure general performance is not significantly degraded. Also, calculate the attack success rate (ASR) as the\n",
        "percentage of test samples misclassified as the target class."
      ]
    },
    {
      "cell_type": "code",
      "execution_count": null,
      "metadata": {
        "colab": {
          "base_uri": "https://localhost:8080/"
        },
        "id": "0otjRd5WBkLE",
        "outputId": "fa3f08a9-c7a8-4dec-d0a1-5948edd6333c"
      },
      "outputs": [
        {
          "name": "stdout",
          "output_type": "stream",
          "text": [
            "[42044, 3880, 33447, 8392, 36106, 31756, 29884, 22665, 34318, 20985, 3515, 45156, 43775, 30172, 1434, 43454, 555, 48032, 9362, 44599, 20790, 23808, 6867, 48908, 14592, 18951, 48856, 39083, 34998, 371, 8748, 35162, 21777, 21863, 40807, 15580, 13238, 10867, 43525, 47336, 26723, 9714, 6393, 47931, 23056, 4270, 49344, 13181, 47994, 17884, 18630, 29513, 33386, 37962, 30914, 29641, 18599, 41613, 41277, 1340, 1593, 41731, 49236, 48851, 30595, 25789, 36886, 47207, 36155, 47375, 16825, 30959, 34313, 48470, 8086, 11078, 21758, 39650, 27850, 22418, 42952, 29497, 12409, 902, 11100, 15755, 17620, 3076, 2932, 14393, 22026, 5477, 9384, 17133, 19814, 29854, 2718, 23096, 4798, 7674, 7889, 20523, 35626, 12192, 11709, 42688, 38519, 37978, 16838, 5703, 38224, 42231, 1711, 47379, 10578, 1188, 42998, 29341, 35411, 27931, 28449, 44299, 24096, 6563, 6276, 36606, 22997, 2391, 7251, 8313, 29880, 18315, 46706, 46200, 34547, 41975, 36819, 48119, 8116, 30257, 39664, 5623, 19011, 44946, 8515, 2066, 25070, 16238, 29367, 43831, 35248, 32460, 47274, 35286, 49004, 49091, 10553, 9874, 24735, 39486, 15827, 8660, 16501, 16370, 13467, 2950, 19041, 5770, 36558, 9257, 12328, 35179, 27211, 28223, 40652, 14509, 41243, 35490, 25531, 20452, 22189, 23732, 30116, 46486, 6833, 22317, 20205, 11356, 4165, 44956, 43944, 18211, 2287, 7991, 11734, 34168, 11835, 965, 17015, 48291, 37371, 14341, 43664, 49006, 11479, 41609, 13326, 39739, 8096, 2233, 16487, 15258, 11783, 439, 44746, 41234, 7504, 2453, 27533, 18803, 39883, 497, 31947, 32505, 36312, 48071, 13069, 33647, 28675, 557, 1335, 35326, 7409, 37747, 9123, 26427, 21903, 33453, 22674, 15086, 8549, 4991, 17303, 33325, 481, 13649, 38190, 42678, 13627, 29860, 7530, 7979, 47486, 28665, 29364, 30645, 26776, 44820, 12420, 46822, 33058, 33419, 38053, 44426, 1709, 32631, 42493, 20295, 11216, 48777, 26322, 18847, 45233, 3335, 23002, 38574, 5404, 35798, 39049, 17233, 37905, 40479, 7792, 16624, 28897, 16245, 11849, 48209, 32247, 34017, 44637, 19339, 49359, 9945, 4387, 15870, 34026, 3184, 1594, 199, 23863, 37999, 10955, 38029, 49308, 20267, 31837, 8155, 46873, 5371, 29518, 49557, 47068, 21639, 11374, 3689, 12807, 38977, 25350, 4061, 7423, 2189, 44294, 20686, 16137, 23507, 13860, 31955, 25391, 11838, 5115, 20584, 7727, 26076, 5322, 4097, 14275, 49656, 39584, 11775, 49856, 9759, 44017, 24676, 31506, 39477, 47916, 31896, 7925, 39709, 43002, 5640, 38083, 19106, 19282, 32629, 20070, 2848, 36789, 10061, 20539, 32479, 18192, 26045, 10365, 26743, 36693, 18106, 16548, 15396, 22858, 43092, 45314, 332, 7757, 115, 32056, 21564, 33421, 29039, 8217, 10650, 11014, 35927, 32033, 18603, 25746, 8102, 22326, 31127, 42110, 23245, 46935, 43731, 25178, 47906, 16866, 38718, 23629, 26599, 14528, 4141, 4229, 18605, 27780, 9221, 24802, 38091, 24567, 30141, 9751, 28113, 39012, 7347, 17221, 8444, 29295, 35685, 3466, 14727, 13841, 44031, 41164, 27175, 49174, 44035, 35820, 17517, 37240, 34101, 12507, 20710, 33797, 33530, 3362, 8553, 40193, 9767, 17963, 47966, 48109, 35417, 34748, 5956, 27502, 49992, 39631, 47579, 42361, 4048, 16952, 25816, 12325, 42934, 30744, 18854, 39288, 43403, 44719, 23822, 5549, 5673, 36531, 44715, 46086, 5580, 12165, 20257, 22680, 10548, 39037, 40321, 42446, 48546, 3066, 43303, 13613, 9438, 43829, 35846, 36955, 26184, 28794, 6479, 23891, 46619, 25942, 28185, 3246, 7196, 1980, 16554, 35725, 15707, 13008, 32140, 22724, 28092, 6354, 8941]\n",
            "0  --->  2000\n",
            "overlap:  {902, 1434, 1188, 555, 557, 1709, 1711, 439, 1335, 1593, 1594, 1340, 1980, 965, 199, 332, 481, 497, 371, 115}\n",
            "difference:  {902, 1434, 1188, 555, 557, 1709, 1711, 439, 1335, 1593, 1594, 1980, 1340, 965, 199, 332, 481, 497, 371, 115}\n"
          ]
        },
        {
          "name": "stderr",
          "output_type": "stream",
          "text": [
            "/usr/local/lib/python3.10/dist-packages/torchvision/models/_utils.py:208: UserWarning: The parameter 'pretrained' is deprecated since 0.13 and may be removed in the future, please use 'weights' instead.\n",
            "  warnings.warn(\n",
            "/usr/local/lib/python3.10/dist-packages/torchvision/models/_utils.py:223: UserWarning: Arguments other than a weight enum or `None` for 'weights' are deprecated since 0.13 and may be removed in the future. The current behavior is equivalent to passing `weights=ResNet18_Weights.IMAGENET1K_V1`. You can also use `weights=ResNet18_Weights.DEFAULT` to get the most up-to-date weights.\n",
            "  warnings.warn(msg)\n"
          ]
        },
        {
          "name": "stdout",
          "output_type": "stream",
          "text": [
            "@ shard: 1, @ slice: 1, @ epoch: 1, loss: 0.9033203125\n",
            "@ shard: 1, @ slice: 1, @ epoch: 2, loss: 0.5717366933822632\n",
            "@ shard: 1, @ slice: 1, @ epoch: 3, loss: 0.13786204159259796\n",
            "@ shard: 1, @ slice: 1, @ epoch: 4, loss: 0.09931378811597824\n",
            "@ shard: 1, @ slice: 1, @ epoch: 5, loss: 0.08478694409132004\n",
            "0  --->  4000\n",
            "overlap:  {3076, 902, 2950, 3335, 3466, 2189, 2066, 2453, 1434, 2718, 2848, 3362, 1188, 3880, 555, 557, 1709, 1711, 3246, 439, 1335, 2233, 1593, 3515, 1340, 1594, 1980, 965, 199, 332, 2391, 481, 3689, 2287, 3184, 497, 371, 2932, 115, 3066}\n",
            "difference:  {3076, 2950, 902, 3335, 3466, 2189, 2066, 2453, 1434, 2718, 2848, 3362, 1188, 3880, 555, 557, 1709, 1711, 3246, 439, 1335, 2233, 1593, 3515, 1340, 1594, 1980, 965, 199, 332, 2391, 481, 3689, 2287, 3184, 497, 371, 2932, 115, 3066}\n",
            "idx_slice != 1\n",
            "@ shard: 1, @ slice: 2, @ epoch: 1, loss: 0.6657801270484924\n",
            "@ shard: 1, @ slice: 2, @ epoch: 2, loss: 0.25337472558021545\n",
            "@ shard: 1, @ slice: 2, @ epoch: 3, loss: 0.04309507831931114\n",
            "@ shard: 1, @ slice: 2, @ epoch: 4, loss: 0.05871879681944847\n",
            "@ shard: 1, @ slice: 2, @ epoch: 5, loss: 0.02941855974495411\n",
            "0  --->  6000\n",
            "overlap:  {4097, 3076, 4229, 902, 2950, 3335, 5115, 5770, 5640, 3466, 2189, 2066, 2453, 1434, 5404, 2718, 2848, 3362, 4387, 1188, 3880, 5673, 555, 557, 4270, 1711, 1709, 4141, 5549, 3246, 439, 1335, 1593, 2233, 3515, 1340, 1594, 4798, 1980, 5956, 4165, 965, 5703, 199, 5322, 332, 5580, 4048, 2391, 4061, 481, 5477, 3689, 2287, 3184, 497, 371, 2932, 115, 5623, 3066, 5371, 4991}\n",
            "difference:  {4097, 3076, 4229, 2950, 902, 3335, 5640, 5770, 3466, 2189, 5371, 2066, 2453, 1434, 5404, 2718, 2848, 3362, 4387, 1188, 3880, 5673, 555, 557, 4270, 1711, 1709, 4141, 5549, 3246, 439, 1335, 1593, 2233, 3515, 1340, 1594, 4798, 1980, 5956, 4165, 965, 5703, 199, 5322, 332, 5580, 4048, 2391, 4061, 481, 5477, 3689, 2287, 3184, 497, 371, 2932, 115, 5623, 3066, 5115, 4991}\n",
            "idx_slice != 1\n",
            "@ shard: 1, @ slice: 3, @ epoch: 1, loss: 0.8155748248100281\n",
            "@ shard: 1, @ slice: 3, @ epoch: 2, loss: 0.14209502935409546\n",
            "@ shard: 1, @ slice: 3, @ epoch: 3, loss: 0.0546116940677166\n",
            "@ shard: 1, @ slice: 3, @ epoch: 4, loss: 0.029645252972841263\n",
            "@ shard: 1, @ slice: 3, @ epoch: 5, loss: 0.008233938366174698\n",
            "0  --->  8000\n",
            "overlap:  {4097, 3076, 5640, 2066, 7196, 5673, 555, 557, 4141, 7727, 1593, 1594, 3066, 4165, 5703, 7757, 7251, 3689, 7792, 3184, 115, 6276, 4229, 5770, 2189, 2718, 1188, 1709, 4270, 1711, 3246, 6833, 7347, 2233, 4798, 199, 5322, 7889, 6354, 6867, 2287, 7409, 7925, 6393, 5371, 7423, 3335, 5404, 2848, 3362, 4387, 3880, 7979, 7991, 1335, 1340, 5956, 332, 6479, 7504, 2391, 5477, 7530, 371, 2932, 4991, 902, 2950, 3466, 2453, 1434, 6563, 5549, 439, 3515, 1980, 965, 5580, 4048, 4061, 481, 497, 5623, 7674, 5115}\n",
            "difference:  {4097, 3076, 5640, 2066, 7196, 5673, 555, 557, 4141, 7727, 1593, 1594, 4165, 5703, 7757, 7251, 3689, 7792, 3184, 115, 6276, 4229, 5770, 2189, 2718, 1188, 1709, 4270, 1711, 3246, 6833, 7347, 2233, 4798, 199, 5322, 7889, 6354, 6867, 7674, 2287, 7409, 7925, 6393, 5371, 7423, 3335, 5404, 2848, 3362, 4387, 3880, 7979, 7991, 1335, 1340, 5956, 332, 6479, 7504, 2391, 5477, 7530, 371, 2932, 4991, 902, 2950, 3466, 2453, 1434, 6563, 5549, 439, 3515, 1980, 965, 5580, 4048, 4061, 481, 497, 5623, 3066, 5115}\n",
            "idx_slice != 1\n",
            "@ shard: 1, @ slice: 4, @ epoch: 1, loss: 0.5134571194648743\n",
            "@ shard: 1, @ slice: 4, @ epoch: 2, loss: 0.147650808095932\n",
            "@ shard: 1, @ slice: 4, @ epoch: 3, loss: 0.051543183624744415\n",
            "@ shard: 1, @ slice: 4, @ epoch: 4, loss: 0.10548684000968933\n",
            "@ shard: 1, @ slice: 4, @ epoch: 5, loss: 0.006732409819960594\n",
            "0  --->  10000\n",
            "overlap:  {4097, 3076, 9221, 5640, 2066, 9751, 8217, 7196, 9759, 9767, 9257, 5673, 555, 8748, 557, 4141, 7727, 1593, 1594, 3066, 4165, 5703, 7757, 7251, 3689, 7792, 3184, 115, 8313, 6276, 4229, 5770, 2189, 9362, 9874, 2718, 1188, 9384, 1709, 4270, 1711, 3246, 6833, 7347, 2233, 4798, 199, 8392, 5322, 7889, 6354, 6867, 9945, 9438, 8941, 2287, 7409, 7925, 6393, 5371, 8444, 7423, 3335, 5404, 2848, 3362, 4387, 3880, 7979, 7991, 1335, 1340, 8515, 5956, 332, 6479, 7504, 2391, 5477, 8549, 8553, 7530, 371, 2932, 4991, 902, 2950, 3466, 2453, 8086, 1434, 8096, 6563, 9123, 8102, 5549, 8116, 439, 3515, 1980, 965, 5580, 4048, 8660, 8155, 4061, 481, 497, 9714, 5623, 7674, 5115}\n",
            "difference:  {4097, 3076, 9221, 5640, 2066, 9751, 8217, 7196, 9759, 9767, 9257, 5673, 555, 8748, 557, 4141, 7727, 1593, 1594, 4165, 5703, 7757, 7251, 3689, 7792, 3184, 115, 8313, 6276, 4229, 5770, 2189, 9362, 9874, 2718, 1188, 9384, 1709, 4270, 1711, 3246, 6833, 7347, 2233, 4798, 199, 8392, 5322, 7889, 6354, 6867, 7674, 9945, 9438, 8941, 2287, 7409, 7925, 6393, 5371, 8444, 7423, 3335, 5404, 2848, 3362, 4387, 3880, 7979, 7991, 1335, 1340, 8515, 5956, 332, 6479, 7504, 2391, 5477, 8549, 8553, 7530, 371, 2932, 4991, 902, 2950, 3466, 2453, 8086, 1434, 8096, 6563, 9123, 8102, 5549, 8116, 439, 3515, 1980, 965, 5580, 4048, 8660, 8155, 4061, 481, 497, 9714, 5623, 3066, 5115}\n",
            "idx_slice != 1\n",
            "@ shard: 1, @ slice: 5, @ epoch: 1, loss: 0.5599705576896667\n",
            "@ shard: 1, @ slice: 5, @ epoch: 2, loss: 0.07619700580835342\n",
            "@ shard: 1, @ slice: 5, @ epoch: 3, loss: 0.04162580519914627\n",
            "@ shard: 1, @ slice: 5, @ epoch: 4, loss: 0.07571811228990555\n",
            "@ shard: 1, @ slice: 5, @ epoch: 5, loss: 0.0028661952819675207\n",
            "10000  --->  12000\n",
            "overlap:  {11014, 11783, 10650, 10548, 10553, 11835, 11709, 11838, 11078, 11849, 10955, 10061, 11216, 10578, 11734, 11479, 11356, 11100, 11374, 10867, 10365, 11775}\n",
            "difference:  {650, 548, 553, 1835, 1709, 1838, 1078, 1849, 955, 61, 1216, 578, 1734, 1479, 1356, 1100, 1374, 867, 365, 1775, 1014, 1783}\n",
            "@ shard: 2, @ slice: 1, @ epoch: 1, loss: 1.0459305047988892\n",
            "@ shard: 2, @ slice: 1, @ epoch: 2, loss: 0.8086993098258972\n",
            "@ shard: 2, @ slice: 1, @ epoch: 3, loss: 0.22305063903331757\n",
            "@ shard: 2, @ slice: 1, @ epoch: 4, loss: 0.12631574273109436\n",
            "@ shard: 2, @ slice: 1, @ epoch: 5, loss: 0.0611860454082489\n",
            "10000  --->  14000\n",
            "overlap:  {12420, 12165, 11014, 11783, 12807, 13069, 13326, 13841, 10650, 13467, 12192, 13860, 12325, 12328, 13613, 10548, 10365, 13238, 10553, 11835, 13627, 11709, 11838, 11078, 11849, 10955, 10061, 11216, 13649, 10578, 13008, 11734, 11479, 12507, 11356, 11100, 11374, 10867, 12409, 13181, 11775}\n",
            "difference:  {3841, 650, 3467, 2192, 3860, 2325, 2328, 3613, 548, 3238, 553, 2807, 1835, 3627, 1709, 1838, 1078, 1849, 955, 61, 1216, 3649, 578, 3008, 1734, 1479, 2507, 1356, 1100, 1374, 867, 2409, 365, 3181, 1775, 2420, 2165, 1014, 1783, 3069, 3326}\n",
            "idx_slice != 1\n",
            "@ shard: 2, @ slice: 2, @ epoch: 1, loss: 0.8279462456703186\n",
            "@ shard: 2, @ slice: 2, @ epoch: 2, loss: 0.2108551561832428\n",
            "@ shard: 2, @ slice: 2, @ epoch: 3, loss: 0.10864600539207458\n",
            "@ shard: 2, @ slice: 2, @ epoch: 4, loss: 0.034791525453329086\n",
            "@ shard: 2, @ slice: 2, @ epoch: 5, loss: 0.00289266393519938\n",
            "10000  --->  16000\n",
            "overlap:  {14592, 12420, 14341, 11014, 11783, 12807, 14727, 12165, 15755, 13069, 13326, 13841, 15258, 13467, 10650, 12192, 13860, 15396, 12325, 12328, 14509, 13613, 10548, 10365, 13238, 10553, 14393, 11835, 13627, 11709, 11838, 14528, 14275, 11078, 11849, 10955, 10061, 11216, 13649, 10578, 15827, 13008, 11734, 11479, 12507, 11100, 11356, 15580, 15707, 15086, 11374, 10867, 12409, 13181, 15870, 11775}\n",
            "difference:  {3841, 5258, 3467, 650, 1783, 2192, 3860, 5396, 2325, 2328, 4509, 3613, 548, 3238, 553, 4393, 2807, 1835, 3627, 1709, 1838, 4528, 4275, 1078, 1849, 955, 61, 1216, 3649, 578, 5827, 3008, 1734, 1479, 2507, 1100, 1356, 5580, 5707, 5086, 1374, 867, 2409, 365, 3181, 5870, 4592, 1775, 2420, 4341, 1014, 4727, 2165, 5755, 3069, 3326}\n",
            "idx_slice != 1\n",
            "@ shard: 2, @ slice: 3, @ epoch: 1, loss: 0.5958861708641052\n",
            "@ shard: 2, @ slice: 3, @ epoch: 2, loss: 0.3734667897224426\n",
            "@ shard: 2, @ slice: 3, @ epoch: 3, loss: 0.10618257522583008\n",
            "@ shard: 2, @ slice: 3, @ epoch: 4, loss: 0.017605703324079514\n",
            "@ shard: 2, @ slice: 3, @ epoch: 5, loss: 0.0070222290232777596\n",
            "10000  --->  18000\n",
            "overlap:  {14341, 11783, 12807, 13326, 13841, 13860, 15396, 12325, 12328, 17963, 16952, 14393, 11835, 11838, 11849, 11356, 16487, 17517, 11374, 10867, 16501, 17015, 12409, 10365, 12420, 13467, 16548, 16554, 14509, 14528, 10955, 13008, 17620, 11479, 12507, 15580, 17133, 15086, 16624, 14592, 11014, 16137, 13069, 13613, 10548, 10553, 13627, 17221, 11078, 10061, 13649, 10578, 17233, 15707, 11100, 16238, 16245, 13181, 12165, 14727, 15755, 17303, 15258, 10650, 12192, 13238, 16825, 11709, 14275, 16838, 11216, 15827, 11734, 17884, 16866, 16370, 15870, 11775}\n",
            "difference:  {3613, 548, 553, 3627, 7221, 1078, 61, 3649, 578, 7233, 5707, 1100, 6238, 6245, 3181, 2165, 4727, 5755, 7303, 5258, 650, 2192, 3238, 6825, 1709, 4275, 6838, 1216, 5827, 1734, 7884, 6866, 6370, 5870, 1775, 4341, 2807, 1783, 3326, 3841, 3860, 5396, 2325, 2328, 7963, 6952, 4393, 1835, 1838, 1849, 1356, 6487, 7517, 1374, 867, 6501, 7015, 2409, 365, 2420, 3467, 6548, 6554, 4509, 4528, 955, 3008, 7620, 1479, 2507, 5580, 7133, 5086, 6624, 4592, 1014, 6137, 3069}\n",
            "idx_slice != 1\n",
            "@ shard: 2, @ slice: 4, @ epoch: 1, loss: 0.45562103390693665\n",
            "@ shard: 2, @ slice: 4, @ epoch: 2, loss: 0.21954908967018127\n",
            "@ shard: 2, @ slice: 4, @ epoch: 3, loss: 0.04346977174282074\n",
            "@ shard: 2, @ slice: 4, @ epoch: 4, loss: 0.03553271293640137\n",
            "@ shard: 2, @ slice: 4, @ epoch: 5, loss: 0.0034980701748281717\n",
            "10000  --->  20000\n",
            "overlap:  {14341, 18951, 11783, 12807, 13326, 13841, 13860, 15396, 12325, 12328, 17963, 16952, 14393, 11835, 11838, 19011, 11849, 11356, 19041, 16487, 17517, 11374, 10867, 16501, 17015, 12409, 10365, 12420, 13467, 19106, 16548, 18599, 16554, 18603, 14509, 18605, 18106, 14528, 18630, 10955, 13008, 17620, 11479, 12507, 15580, 17133, 15086, 16624, 14592, 11014, 16137, 13069, 18192, 18211, 13613, 10548, 10553, 13627, 17221, 11078, 10061, 13649, 10578, 17233, 19282, 15707, 11100, 19814, 16238, 18803, 16245, 13181, 12165, 14727, 15755, 18315, 19339, 17303, 15258, 10650, 18847, 12192, 18854, 13238, 16825, 11709, 14275, 16838, 11216, 15827, 11734, 17884, 16866, 16370, 15870, 11775}\n",
            "difference:  {8192, 8211, 3613, 548, 553, 3627, 7221, 1078, 61, 3649, 578, 7233, 9282, 5707, 1100, 9814, 6238, 8803, 6245, 3181, 2165, 4727, 9339, 8315, 5755, 7303, 5258, 650, 8847, 2192, 8854, 3238, 6825, 1709, 4275, 6838, 1216, 5827, 1734, 7884, 6866, 6370, 5870, 1775, 4341, 2807, 8951, 1783, 3326, 3841, 3860, 5396, 2325, 2328, 7963, 6952, 4393, 1835, 1838, 9011, 1849, 1356, 9041, 6487, 7517, 1374, 867, 6501, 7015, 2409, 365, 2420, 3467, 9106, 6548, 8599, 6554, 8603, 4509, 8605, 8106, 4528, 8630, 955, 3008, 7620, 1479, 2507, 5580, 7133, 5086, 6624, 4592, 1014, 6137, 3069}\n",
            "idx_slice != 1\n",
            "@ shard: 2, @ slice: 5, @ epoch: 1, loss: 0.6554511785507202\n",
            "@ shard: 2, @ slice: 5, @ epoch: 2, loss: 0.1187460869550705\n",
            "@ shard: 2, @ slice: 5, @ epoch: 3, loss: 0.08238141238689423\n",
            "@ shard: 2, @ slice: 5, @ epoch: 4, loss: 0.018694985657930374\n",
            "@ shard: 2, @ slice: 5, @ epoch: 5, loss: 0.003911553416401148\n",
            "20000  --->  22000\n",
            "overlap:  {21639, 21903, 21777, 20257, 20523, 20267, 20790, 20539, 21564, 20295, 20686, 20452, 20070, 21863, 20584, 20710, 20205, 20985, 21758}\n",
            "difference:  {257, 523, 267, 790, 539, 1564, 295, 686, 452, 70, 1863, 584, 710, 205, 985, 1758, 1639, 1903, 1777}\n",
            "@ shard: 3, @ slice: 1, @ epoch: 1, loss: 1.0753599405288696\n",
            "@ shard: 3, @ slice: 1, @ epoch: 2, loss: 0.4812740385532379\n",
            "@ shard: 3, @ slice: 1, @ epoch: 3, loss: 0.23824024200439453\n",
            "@ shard: 3, @ slice: 1, @ epoch: 4, loss: 0.12845496833324432\n",
            "@ shard: 3, @ slice: 1, @ epoch: 5, loss: 0.13893218338489532\n",
            "20000  --->  24000\n",
            "overlap:  {23808, 21639, 22665, 22026, 23822, 21903, 23056, 21777, 22418, 22674, 22680, 20257, 20523, 20267, 22189, 22317, 23732, 20790, 23863, 23096, 22326, 20539, 21564, 22724, 20295, 22858, 23245, 20686, 23629, 23507, 23891, 22997, 23002, 20452, 20070, 21863, 20584, 20710, 20205, 20985, 21758}\n",
            "difference:  {257, 523, 267, 2189, 2317, 3732, 790, 3863, 3096, 2326, 539, 1564, 2724, 295, 2858, 3245, 686, 3629, 3507, 3891, 2997, 3002, 452, 70, 1863, 584, 710, 205, 985, 1758, 3808, 1639, 2665, 2026, 3822, 1903, 3056, 1777, 2418, 2674, 2680}\n",
            "idx_slice != 1\n",
            "@ shard: 3, @ slice: 2, @ epoch: 1, loss: 0.7361263036727905\n",
            "@ shard: 3, @ slice: 2, @ epoch: 2, loss: 0.16470028460025787\n",
            "@ shard: 3, @ slice: 2, @ epoch: 3, loss: 0.03021652065217495\n",
            "@ shard: 3, @ slice: 2, @ epoch: 4, loss: 0.021485460922122\n",
            "@ shard: 3, @ slice: 2, @ epoch: 5, loss: 0.020773952826857567\n",
            "20000  --->  26000\n",
            "overlap:  {23808, 25350, 21639, 22665, 22026, 23822, 21903, 23056, 21777, 22418, 22674, 25746, 22680, 24735, 24096, 20257, 20523, 20267, 22189, 22317, 25391, 23732, 20790, 23863, 23096, 22326, 25531, 20539, 25789, 21564, 22724, 20295, 22858, 23245, 20686, 23629, 23507, 23891, 22997, 25942, 25816, 23002, 25178, 24802, 20452, 24676, 20070, 21863, 20584, 20710, 20205, 25070, 24567, 20985, 21758}\n",
            "difference:  {4096, 257, 523, 267, 2189, 2317, 5391, 3732, 790, 3863, 3096, 2326, 5531, 539, 5789, 1564, 2724, 295, 2858, 3245, 686, 3629, 3507, 3891, 2997, 5942, 5816, 3002, 5178, 4802, 452, 4676, 70, 1863, 584, 710, 205, 5070, 4567, 985, 1758, 3808, 5350, 1639, 2665, 2026, 3822, 1903, 3056, 1777, 2418, 2674, 5746, 2680, 4735}\n",
            "idx_slice != 1\n",
            "@ shard: 3, @ slice: 3, @ epoch: 1, loss: 0.2735001742839813\n",
            "@ shard: 3, @ slice: 3, @ epoch: 2, loss: 0.15555796027183533\n",
            "@ shard: 3, @ slice: 3, @ epoch: 3, loss: 0.08021970093250275\n",
            "@ shard: 3, @ slice: 3, @ epoch: 4, loss: 0.0161695946007967\n",
            "@ shard: 3, @ slice: 3, @ epoch: 5, loss: 0.03900806978344917\n",
            "20000  --->  28000\n",
            "overlap:  {23808, 27780, 25350, 21639, 22665, 22026, 27533, 23822, 21903, 23056, 21777, 22418, 22674, 25746, 26776, 22680, 27931, 24735, 24096, 20257, 27175, 20523, 20267, 22189, 22317, 25391, 23732, 20790, 23863, 23096, 22326, 25531, 26427, 25789, 20539, 26045, 21564, 22724, 20295, 26184, 27850, 27211, 22858, 23245, 20686, 23629, 26322, 23507, 24567, 22997, 23891, 25942, 25816, 23002, 25178, 26076, 24802, 26723, 20452, 24676, 20070, 21863, 20584, 26599, 20710, 20205, 25070, 27502, 26743, 20985, 21758}\n",
            "difference:  {4096, 257, 7175, 523, 267, 2189, 2317, 5391, 3732, 790, 3863, 3096, 2326, 5531, 6427, 5789, 539, 6045, 1564, 2724, 295, 6184, 7850, 7211, 6776, 2858, 3245, 686, 3629, 6322, 3507, 3891, 2997, 5942, 5816, 3002, 5178, 6076, 4802, 6723, 452, 4676, 70, 1863, 584, 6599, 710, 205, 5070, 7502, 4567, 6743, 985, 1758, 3808, 7780, 5350, 1639, 2665, 2026, 7533, 3822, 1903, 3056, 1777, 2418, 2674, 5746, 2680, 7931, 4735}\n",
            "idx_slice != 1\n",
            "@ shard: 3, @ slice: 4, @ epoch: 1, loss: 0.5423356890678406\n",
            "@ shard: 3, @ slice: 4, @ epoch: 2, loss: 0.0686807706952095\n",
            "@ shard: 3, @ slice: 4, @ epoch: 3, loss: 0.05381743982434273\n",
            "@ shard: 3, @ slice: 4, @ epoch: 4, loss: 0.03473027050495148\n",
            "@ shard: 3, @ slice: 4, @ epoch: 5, loss: 0.010933435522019863\n",
            "20000  --->  30000\n",
            "overlap:  {28675, 22026, 23056, 28185, 24096, 27175, 20523, 23096, 20539, 21564, 28223, 26184, 27211, 23629, 25178, 26723, 24676, 20070, 20584, 20985, 29295, 26743, 28794, 27780, 21639, 22665, 22674, 25746, 26776, 22680, 29341, 29854, 24735, 29860, 22189, 23732, 29364, 29367, 29880, 29884, 25789, 22724, 27850, 23245, 20686, 26322, 25816, 28897, 24802, 20710, 20205, 21758, 23808, 25350, 23822, 21777, 27931, 28449, 20257, 20267, 22317, 25391, 20790, 23863, 22326, 29497, 26427, 20295, 29513, 22858, 29518, 23891, 25942, 21863, 27502, 29039, 27533, 21903, 22418, 25531, 28092, 26045, 29641, 28113, 23507, 22997, 23002, 26076, 20452, 26599, 25070, 24567, 28665}\n",
            "difference:  {4096, 7175, 523, 3096, 539, 1564, 8223, 6184, 7211, 3629, 5178, 6723, 4676, 70, 584, 9295, 6743, 8794, 7780, 1639, 2665, 2674, 5746, 2680, 6776, 9341, 9854, 4735, 9860, 2189, 3732, 9364, 9367, 9880, 9884, 5789, 2724, 7850, 3245, 686, 6322, 5816, 8897, 4802, 710, 205, 1758, 3808, 5350, 3822, 1777, 7931, 8449, 257, 267, 2317, 5391, 790, 3863, 2326, 9497, 6427, 295, 9513, 2858, 9518, 3891, 5942, 1863, 7502, 9039, 7533, 1903, 2418, 5531, 8092, 6045, 9641, 8113, 3507, 2997, 3002, 6076, 452, 6599, 5070, 4567, 985, 8665, 8675, 2026, 3056, 8185}\n",
            "idx_slice != 1\n",
            "@ shard: 3, @ slice: 5, @ epoch: 1, loss: 0.339767187833786\n",
            "@ shard: 3, @ slice: 5, @ epoch: 2, loss: 0.1953406184911728\n",
            "@ shard: 3, @ slice: 5, @ epoch: 3, loss: 0.045850686728954315\n",
            "@ shard: 3, @ slice: 5, @ epoch: 4, loss: 0.005241007544100285\n",
            "@ shard: 3, @ slice: 5, @ epoch: 5, loss: 0.0014606817858293653\n",
            "30000  --->  32000\n",
            "overlap:  {30914, 30595, 30116, 31947, 31756, 30959, 30257, 31506, 31955, 30645, 31127, 31896, 30744, 30172, 31837, 30141}\n",
            "difference:  {257, 1506, 1955, 645, 1127, 1896, 744, 172, 1837, 141, 914, 595, 116, 1947, 1756, 959}\n",
            "@ shard: 4, @ slice: 1, @ epoch: 1, loss: 0.8624758720397949\n",
            "@ shard: 4, @ slice: 1, @ epoch: 2, loss: 0.6238354444503784\n",
            "@ shard: 4, @ slice: 1, @ epoch: 3, loss: 0.2503407895565033\n",
            "@ shard: 4, @ slice: 1, @ epoch: 4, loss: 0.19936704635620117\n",
            "@ shard: 4, @ slice: 1, @ epoch: 5, loss: 0.01985347457230091\n",
            "30000  --->  34000\n",
            "overlap:  {30595, 33797, 33419, 31756, 33421, 32140, 31506, 31127, 31896, 30744, 32033, 33058, 30116, 33447, 33453, 33325, 30257, 30645, 32056, 30141, 30914, 32247, 31947, 32460, 31955, 30172, 31837, 32479, 33386, 30959, 33647, 32629, 32631, 32505, 33530}\n",
            "difference:  {257, 645, 2056, 141, 914, 1947, 2460, 1955, 172, 1837, 2479, 3386, 959, 3647, 2629, 2247, 2631, 2505, 3530, 595, 3797, 3325, 3419, 2140, 1756, 3421, 1506, 1127, 1896, 744, 2033, 3058, 116, 3447, 3453}\n",
            "idx_slice != 1\n",
            "@ shard: 4, @ slice: 2, @ epoch: 1, loss: 0.6988990902900696\n",
            "@ shard: 4, @ slice: 2, @ epoch: 2, loss: 0.27654555439949036\n",
            "@ shard: 4, @ slice: 2, @ epoch: 3, loss: 0.11545413732528687\n",
            "@ shard: 4, @ slice: 2, @ epoch: 4, loss: 0.04860454797744751\n",
            "@ shard: 4, @ slice: 2, @ epoch: 5, loss: 0.008841345086693764\n",
            "30000  --->  36000\n",
            "overlap:  {30595, 33797, 35846, 34313, 33419, 31756, 33421, 34318, 35725, 32140, 31506, 31127, 31896, 30744, 32033, 35490, 33058, 30116, 33447, 35626, 33453, 33325, 35248, 30257, 30645, 34998, 34101, 32056, 34748, 30141, 30914, 32247, 31947, 32460, 35411, 31955, 35286, 35798, 35927, 35417, 35162, 30172, 31837, 32479, 34017, 35685, 33386, 35179, 34026, 35820, 30959, 33647, 34547, 32629, 32631, 34168, 32505, 33530, 35326}\n",
            "difference:  {5248, 257, 645, 4998, 4101, 2056, 4748, 141, 914, 1947, 2460, 5411, 1955, 5286, 5798, 5927, 5417, 5162, 172, 1837, 2479, 4017, 5685, 3386, 5179, 4026, 5820, 959, 3647, 4547, 2629, 2247, 2631, 4168, 2505, 3530, 5326, 595, 3797, 5846, 4313, 3325, 3419, 2140, 5725, 1756, 3421, 4318, 1506, 1127, 1896, 744, 2033, 5490, 3058, 116, 3447, 5626, 3453}\n",
            "idx_slice != 1\n",
            "@ shard: 4, @ slice: 3, @ epoch: 1, loss: 0.4744774401187897\n",
            "@ shard: 4, @ slice: 3, @ epoch: 2, loss: 0.13806118071079254\n",
            "@ shard: 4, @ slice: 3, @ epoch: 3, loss: 0.09453099220991135\n",
            "@ shard: 4, @ slice: 3, @ epoch: 4, loss: 0.028625797480344772\n",
            "@ shard: 4, @ slice: 3, @ epoch: 5, loss: 0.005949938669800758\n",
            "30000  --->  38000\n",
            "overlap:  {33797, 35846, 34313, 31756, 34318, 37905, 36886, 30744, 33325, 30257, 37962, 35411, 35927, 35417, 37978, 36955, 31837, 33386, 37999, 33419, 33421, 31896, 35490, 33447, 33453, 36531, 34998, 30914, 31947, 32460, 36558, 31955, 32479, 34017, 34026, 30959, 34547, 32505, 33530, 36606, 36106, 31506, 32033, 33058, 35626, 34101, 32056, 36155, 36693, 35162, 35685, 35179, 33647, 37747, 32629, 32631, 37240, 34168, 30595, 32140, 35725, 31127, 30116, 35248, 30645, 36789, 34748, 30141, 36819, 35286, 35798, 36312, 30172, 35820, 32247, 37371, 35326}\n",
            "difference:  {4101, 2056, 6155, 6693, 5162, 5685, 5179, 3647, 7747, 2629, 2631, 7240, 4168, 595, 2140, 5725, 1127, 116, 5248, 645, 6789, 4748, 141, 6819, 5286, 5798, 6312, 172, 5820, 2247, 7371, 5326, 3797, 5846, 4313, 1756, 4318, 7905, 6886, 744, 3325, 257, 7962, 5411, 5927, 5417, 7978, 6955, 1837, 3386, 7999, 3419, 3421, 1896, 5490, 3447, 3453, 6531, 4998, 914, 1947, 2460, 6558, 1955, 2479, 4017, 4026, 959, 4547, 2505, 3530, 6606, 6106, 1506, 2033, 3058, 5626}\n",
            "idx_slice != 1\n",
            "@ shard: 4, @ slice: 4, @ epoch: 1, loss: 0.595676839351654\n",
            "@ shard: 4, @ slice: 4, @ epoch: 2, loss: 0.20436345040798187\n",
            "@ shard: 4, @ slice: 4, @ epoch: 3, loss: 0.1298874467611313\n",
            "@ shard: 4, @ slice: 4, @ epoch: 4, loss: 0.010058335959911346\n",
            "@ shard: 4, @ slice: 4, @ epoch: 5, loss: 0.013934946618974209\n",
            "30000  --->  40000\n",
            "overlap:  {33797, 35846, 34313, 31756, 34318, 37905, 36886, 30744, 33325, 30257, 39477, 39486, 38977, 37962, 35411, 35927, 35417, 37978, 36955, 31837, 39012, 33386, 37999, 38519, 39037, 39049, 33419, 38029, 33421, 31896, 39584, 35490, 38053, 33447, 39083, 33453, 38574, 36531, 34998, 30914, 38083, 31947, 32460, 38091, 36558, 39631, 31955, 32479, 34017, 39650, 34026, 30959, 39664, 34547, 32505, 33530, 36606, 36106, 31506, 39709, 32033, 33058, 35626, 38190, 34101, 32056, 36155, 39739, 38718, 38224, 36693, 35162, 35685, 35179, 33647, 37747, 32629, 32631, 34168, 37240, 39288, 30595, 32140, 35725, 31127, 30116, 35248, 30645, 36789, 34748, 30141, 39883, 36819, 35286, 35798, 36312, 30172, 35820, 32247, 37371, 35326}\n",
            "difference:  {4101, 2056, 6155, 9739, 8718, 8224, 6693, 5162, 5685, 5179, 3647, 7747, 2629, 2631, 4168, 7240, 9288, 595, 2140, 5725, 1127, 116, 5248, 645, 6789, 4748, 141, 9883, 6819, 5286, 5798, 6312, 172, 5820, 2247, 7371, 5326, 3797, 5846, 4313, 1756, 4318, 7905, 6886, 744, 3325, 257, 9477, 9486, 8977, 7962, 5411, 5927, 5417, 7978, 6955, 1837, 9012, 3386, 7999, 8519, 9037, 9049, 3419, 8029, 3421, 1896, 9584, 5490, 8053, 3447, 9083, 3453, 8574, 6531, 4998, 914, 8083, 1947, 2460, 8091, 6558, 9631, 1955, 2479, 4017, 9650, 4026, 959, 9664, 4547, 2505, 3530, 6606, 6106, 1506, 9709, 2033, 3058, 5626, 8190}\n",
            "idx_slice != 1\n",
            "@ shard: 4, @ slice: 5, @ epoch: 1, loss: 0.5595595836639404\n",
            "@ shard: 4, @ slice: 5, @ epoch: 2, loss: 0.07603023946285248\n",
            "@ shard: 4, @ slice: 5, @ epoch: 3, loss: 0.08894088119268417\n",
            "@ shard: 4, @ slice: 5, @ epoch: 4, loss: 0.007871167734265327\n",
            "@ shard: 4, @ slice: 5, @ epoch: 5, loss: 0.0037232637405395508\n",
            "40000  --->  42000\n",
            "overlap:  {40193, 40321, 41731, 40807, 41609, 40652, 41613, 41164, 41234, 41975, 41243, 41277, 40479}\n",
            "difference:  {321, 193, 1731, 807, 1609, 652, 1613, 1164, 1234, 1975, 1243, 1277, 479}\n",
            "@ shard: 5, @ slice: 1, @ epoch: 1, loss: 1.6290444135665894\n",
            "@ shard: 5, @ slice: 1, @ epoch: 2, loss: 0.6719862818717957\n",
            "@ shard: 5, @ slice: 1, @ epoch: 3, loss: 1.3777121305465698\n",
            "@ shard: 5, @ slice: 1, @ epoch: 4, loss: 0.10697200149297714\n",
            "@ shard: 5, @ slice: 1, @ epoch: 5, loss: 1.490923523902893\n",
            "40000  --->  44000\n",
            "overlap:  {40193, 40321, 41731, 43525, 41609, 43403, 41613, 43664, 41234, 41243, 40479, 43303, 43944, 43829, 42678, 43831, 42934, 42044, 41277, 43454, 42688, 42952, 40652, 41164, 42446, 43731, 43092, 40807, 42998, 41975, 42361, 43002, 42231, 42493, 42110, 43775}\n",
            "difference:  {2688, 2952, 652, 1164, 2446, 3731, 3092, 807, 2998, 1975, 2231, 2361, 3002, 2493, 2110, 3775, 321, 193, 1731, 3525, 1609, 3403, 1613, 3664, 1234, 1243, 479, 3303, 3944, 3829, 2678, 3831, 2934, 2044, 1277, 3454}\n",
            "idx_slice != 1\n",
            "@ shard: 5, @ slice: 2, @ epoch: 1, loss: 0.8425496220588684\n",
            "@ shard: 5, @ slice: 2, @ epoch: 2, loss: 0.5237851738929749\n",
            "@ shard: 5, @ slice: 2, @ epoch: 3, loss: 0.9903510212898254\n",
            "@ shard: 5, @ slice: 2, @ epoch: 4, loss: 5.803531646728516\n",
            "@ shard: 5, @ slice: 2, @ epoch: 5, loss: 1.056932806968689\n",
            "40000  --->  46000\n",
            "overlap:  {40193, 45314, 41731, 44035, 43525, 44294, 40321, 41609, 44426, 44299, 43403, 41613, 43664, 44946, 41234, 44820, 41243, 44956, 40479, 43303, 43944, 44715, 44719, 45233, 43829, 42678, 43831, 44599, 42934, 42044, 41277, 43454, 42688, 42952, 44746, 40652, 41164, 42446, 43731, 43092, 44031, 44637, 45156, 40807, 44017, 42998, 41975, 42361, 43002, 42231, 42493, 42110, 43775}\n",
            "difference:  {2688, 2952, 4746, 652, 1164, 2446, 3731, 3092, 4637, 5156, 807, 4017, 2998, 1975, 2231, 2361, 3002, 2493, 2110, 4031, 3775, 193, 5314, 1731, 4035, 3525, 4294, 321, 1609, 4426, 4299, 3403, 1613, 3664, 4946, 1234, 4820, 1243, 4956, 479, 4599, 3303, 3944, 4715, 4719, 5233, 3829, 2678, 3831, 2934, 2044, 1277, 3454}\n",
            "idx_slice != 1\n",
            "@ shard: 5, @ slice: 3, @ epoch: 1, loss: 1.426762580871582\n",
            "@ shard: 5, @ slice: 3, @ epoch: 2, loss: 0.2309802770614624\n",
            "@ shard: 5, @ slice: 3, @ epoch: 3, loss: 0.07789237052202225\n",
            "@ shard: 5, @ slice: 3, @ epoch: 4, loss: 0.5621911883354187\n",
            "@ shard: 5, @ slice: 3, @ epoch: 5, loss: 2.0093331336975098\n",
            "40000  --->  48000\n",
            "overlap:  {40193, 45314, 41731, 44035, 43525, 44294, 46086, 40321, 41609, 44426, 44299, 43403, 41613, 47375, 43664, 44946, 47379, 41234, 44820, 46486, 46873, 42110, 41243, 44956, 46619, 40479, 43002, 47906, 43303, 43944, 47274, 44715, 47916, 44719, 45233, 43829, 42678, 44599, 43831, 42934, 47931, 42044, 41277, 43454, 42688, 42952, 44746, 40652, 41164, 42446, 43731, 43092, 46935, 44031, 47068, 44637, 47966, 47579, 45156, 46822, 40807, 47336, 47207, 44017, 46706, 41975, 42998, 42231, 46200, 42361, 47994, 42493, 47486, 43775}\n",
            "difference:  {2688, 2952, 4746, 652, 1164, 2446, 3731, 3092, 6935, 7579, 7068, 4637, 7966, 5156, 6822, 807, 7336, 7207, 4017, 6706, 3775, 2998, 1975, 2231, 6200, 3002, 2361, 7994, 2493, 2110, 4031, 7486, 193, 5314, 1731, 4035, 3525, 4294, 6086, 321, 1609, 4426, 4299, 3403, 1613, 3831, 7375, 3664, 4946, 7379, 1234, 4820, 6486, 6873, 1243, 4956, 6619, 479, 7906, 3303, 3944, 7274, 4715, 7916, 4719, 5233, 3829, 2678, 4599, 2934, 7931, 2044, 1277, 3454}\n",
            "idx_slice != 1\n",
            "@ shard: 5, @ slice: 4, @ epoch: 1, loss: 2.97660756111145\n",
            "@ shard: 5, @ slice: 4, @ epoch: 2, loss: 0.44639134407043457\n",
            "@ shard: 5, @ slice: 4, @ epoch: 3, loss: 2.63498854637146\n",
            "@ shard: 5, @ slice: 4, @ epoch: 4, loss: 0.744088888168335\n",
            "@ shard: 5, @ slice: 4, @ epoch: 5, loss: 0.5035693049430847\n",
            "40000  --->  50000\n",
            "overlap:  {44035, 43525, 46086, 49174, 46619, 40479, 44599, 42044, 48209, 49236, 43092, 44637, 45156, 47207, 46706, 46200, 42110, 41609, 48777, 41613, 43664, 49308, 48291, 47274, 44715, 44719, 45233, 42678, 49344, 42688, 49856, 44746, 40652, 41164, 49359, 48851, 43731, 48856, 46822, 47336, 41975, 42231, 43775, 40193, 45314, 41731, 44294, 44299, 48908, 47375, 41234, 47379, 44820, 46873, 41243, 47906, 43303, 47916, 43829, 43831, 47931, 41277, 49992, 48470, 46935, 47966, 40807, 49004, 49006, 42361, 47994, 47486, 40321, 44426, 43403, 44946, 49557, 46486, 44956, 48032, 48546, 43944, 42934, 43454, 49091, 48071, 42952, 42446, 47579, 47068, 48109, 44017, 42998, 48119, 49656, 43002, 42493, 44031}\n",
            "difference:  {8209, 9236, 3092, 4637, 5156, 7207, 6706, 6200, 2110, 1609, 8777, 1613, 3664, 9308, 8291, 7274, 4715, 4719, 5233, 2678, 9344, 2688, 9856, 4746, 652, 1164, 9359, 8851, 3731, 8856, 6822, 7336, 2231, 3775, 193, 5314, 1731, 4294, 4299, 8908, 7375, 1234, 7379, 4820, 6873, 1243, 7906, 3303, 7916, 3829, 3831, 7931, 1277, 9992, 8470, 6935, 7966, 807, 9004, 9006, 2361, 7994, 7486, 321, 4426, 3403, 4946, 9557, 6486, 4956, 8032, 8546, 3944, 2934, 3454, 9091, 8071, 2952, 2446, 7579, 7068, 8109, 4017, 2998, 1975, 8119, 9656, 3002, 2493, 4031, 4035, 3525, 6086, 9174, 6619, 479, 4599, 2044}\n",
            "idx_slice != 1\n",
            "@ shard: 5, @ slice: 5, @ epoch: 1, loss: 1.0186357498168945\n",
            "@ shard: 5, @ slice: 5, @ epoch: 2, loss: 1.3860586881637573\n",
            "@ shard: 5, @ slice: 5, @ epoch: 3, loss: 0.4819459915161133\n",
            "@ shard: 5, @ slice: 5, @ epoch: 4, loss: 1.652480125427246\n",
            "@ shard: 5, @ slice: 5, @ epoch: 5, loss: 1.241835594177246\n"
          ]
        }
      ],
      "source": [
        "poisone_sisa.unlearn_with_indices(cifar10_train, poisoned_indices)"
      ]
    },
    {
      "cell_type": "markdown",
      "metadata": {
        "id": "n5gHoN6rYIDH"
      },
      "source": []
    },
    {
      "cell_type": "code",
      "execution_count": null,
      "metadata": {
        "colab": {
          "base_uri": "https://localhost:8080/"
        },
        "id": "zQb8317-YI1Z",
        "outputId": "b9f84a1e-2ce2-4ef3-c20f-17d71ddbae2a"
      },
      "outputs": [
        {
          "name": "stdout",
          "output_type": "stream",
          "text": [
            "Files already downloaded and verified\n"
          ]
        }
      ],
      "source": [
        "# Step 4: Evaluate the model's performance on clean test data\n",
        "cifar10_test = datasets.CIFAR10(root='./data', train=False, download=True, transform=transform)"
      ]
    },
    {
      "cell_type": "code",
      "execution_count": null,
      "metadata": {
        "id": "mGCqubzoYPUu"
      },
      "outputs": [],
      "source": [
        "test_loader = torch.utils.data.DataLoader(cifar10_test, batch_size=64, shuffle=False)"
      ]
    },
    {
      "cell_type": "code",
      "execution_count": null,
      "metadata": {
        "colab": {
          "base_uri": "https://localhost:8080/"
        },
        "id": "mhKOs_YZYc8o",
        "outputId": "a914e660-5c38-4616-e042-ac9de68e124b"
      },
      "outputs": [
        {
          "name": "stdout",
          "output_type": "stream",
          "text": [
            "all_preds= [3, 8, 8, 0, 6, 6, 1, 6, 3, 1, 0, 9, 5, 7, 9, 8, 5, 7, 8, 6, 7, 0, 4, 9, 5, 2, 4, 0, 9, 6, 6, 5, 4, 5, 9, 8, 4, 9, 9, 5, 4, 6, 5, 6, 0, 9, 3, 8, 7, 6, 9, 8, 0, 3, 8, 8, 7, 7, 3, 6, 7, 5, 6, 3, 6, 2, 1, 2, 5, 7, 2, 6, 8, 8, 0, 2, 9, 3, 5, 8, 8, 1, 1, 7, 2, 5, 2, 7, 8, 9, 0, 3, 8, 6, 4, 6, 6, 0, 0, 7, 4, 5, 6, 3, 1, 1, 3, 6, 8, 7, 4, 0, 6, 2, 1, 3, 0, 4, 6, 7, 8, 3, 1, 2, 8, 0, 8, 3, 3, 2, 4, 1, 8, 9, 1, 2, 9, 7, 2, 8, 6, 5, 6, 5, 8, 2, 6, 5, 5, 2, 8, 9, 6, 0, 0, 5, 2, 9, 3, 4, 0, 1, 5, 6, 0, 4, 8, 4, 5, 0, 9, 0, 9, 8, 9, 9, 3, 7, 5, 0, 0, 5, 2, 2, 3, 8, 6, 3, 3, 0, 5, 8, 0, 1, 7, 2, 8, 8, 7, 8, 5, 0, 8, 7, 1, 3, 0, 5, 7, 9, 3, 4, 5, 9, 8, 0, 7, 9, 8, 2, 7, 6, 9, 4, 4, 9, 6, 4, 6, 6, 5, 1, 3, 8, 8, 0, 4, 0, 5, 5, 1, 1, 8, 9, 0, 3, 1, 9, 2, 2, 5, 3, 9, 9, 4, 8, 3, 0, 0, 9, 8, 1, 5, 3, 8, 8, 2, 4, 7, 0, 2, 3, 6, 3, 8, 5, 0, 2, 4, 3, 9, 0, 6, 1, 0, 9, 1, 0, 7, 9, 1, 2, 6, 1, 3, 4, 6, 0, 0, 6, 6, 6, 3, 2, 6, 0, 9, 2, 1, 6, 8, 6, 0, 0, 4, 0, 7, 7, 5, 5, 3, 3, 2, 3, 5, 1, 7, 5, 4, 6, 1, 9, 3, 6, 6, 9, 3, 8, 0, 7, 2, 6, 0, 5, 0, 5, 4, 6, 8, 9, 9, 1, 0, 2, 2, 2, 5, 2, 8, 0, 9, 5, 8, 1, 9, 4, 1, 3, 8, 1, 4, 7, 9, 4, 2, 7, 0, 7, 8, 6, 6, 9, 0, 9, 5, 8, 7, 2, 2, 5, 1, 2, 6, 2, 9, 6, 2, 3, 0, 3, 9, 8, 7, 8, 8, 4, 0, 1, 8, 2, 7, 0, 3, 6, 1, 9, 0, 7, 2, 7, 4, 5, 0, 0, 2, 9, 3, 4, 0, 6, 2, 5, 3, 7, 3, 7, 2, 5, 3, 1, 1, 4, 9, 9, 5, 7, 5, 0, 2, 0, 2, 9, 7, 3, 9, 2, 4, 5, 3, 6, 5, 6, 1, 4, 3, 4, 4, 3, 7, 8, 5, 7, 8, 0, 5, 7, 6, 0, 5, 4, 8, 6, 8, 5, 5, 9, 9, 9, 4, 0, 1, 0, 8, 1, 1, 8, 0, 2, 2, 0, 4, 6, 5, 4, 9, 4, 7, 9, 0, 4, 5, 6, 6, 1, 5, 3, 8, 9, 3, 8, 5, 7, 0, 7, 0, 5, 0, 0, 4, 6, 9, 0, 9, 5, 6, 6, 6, 6, 9, 0, 1, 7, 6, 7, 5, 9, 1, 6, 2, 5, 5, 3, 8, 5, 9, 4, 6, 4, 3, 2, 0, 7, 6, 2, 2, 3, 9, 3, 9, 2, 6, 7, 1, 3, 6, 6, 8, 9, 7, 5, 4, 0, 8, 4, 0, 9, 3, 4, 8, 9, 6, 9, 2, 6, 1, 4, 7, 3, 3, 3, 8, 5, 0, 2, 1, 6, 4, 2, 3, 9, 6, 9, 8, 8, 5, 8, 6, 6, 2, 1, 7, 7, 1, 2, 7, 9, 9, 4, 4, 1, 2, 2, 6, 8, 7, 6, 8, 3, 0, 5, 3, 3, 0, 7, 9, 1, 3, 4, 4, 5, 3, 9, 5, 6, 9, 0, 1, 1, 4, 1, 9, 4, 7, 6, 3, 0, 9, 0, 1, 3, 6, 3, 2, 3, 2, 0, 3, 1, 0, 5, 9, 6, 7, 0, 9, 6, 9, 6, 3, 0, 3, 2, 0, 7, 8, 3, 8, 2, 7, 5, 7, 2, 4, 8, 7, 4, 2, 9, 8, 8, 6, 8, 8, 7, 4, 3, 3, 8, 4, 9, 4, 8, 8, 1, 8, 0, 1, 2, 6, 5, 4, 0, 7, 9, 1, 0, 1, 4, 1, 5, 2, 7, 0, 7, 9, 7, 6, 6, 2, 3, 9, 0, 9, 1, 2, 2, 6, 8, 2, 1, 3, 6, 6, 0, 1, 2, 7, 9, 5, 4, 3, 1, 6, 4, 0, 2, 2, 6, 0, 6, 9, 1, 7, 6, 7, 0, 3, 9, 6, 8, 3, 0, 3, 4, 7, 7, 1, 4, 7, 2, 7, 1, 4, 7, 4, 4, 8, 4, 7, 7, 2, 5, 7, 2, 0, 8, 9, 5, 8, 3, 6, 2, 0, 8, 7, 3, 7, 6, 5, 3, 1, 3, 2, 2, 5, 4, 9, 2, 9, 2, 7, 0, 7, 2, 1, 0, 2, 0, 2, 4, 7, 9, 8, 1, 0, 7, 7, 0, 7, 8, 4, 6, 4, 3, 0, 1, 3, 7, 0, 1, 3, 1, 4, 2, 3, 8, 4, 2, 3, 7, 8, 4, 3, 0, 9, 0, 0, 1, 1, 4, 4, 6, 7, 7, 1, 1, 3, 7, 3, 5, 2, 6, 6, 5, 0, 7, 1, 6, 8, 8, 3, 3, 0, 4, 0, 1, 2, 8, 8, 0, 6, 9, 9, 9, 7, 3, 8, 6, 0, 0, 4, 2, 3, 2, 7, 2, 2, 5, 1, 8, 9, 1, 7, 4, 0, 3, 0, 1, 3, 8, 3, 9, 6, 1, 4, 7, 0, 3, 7, 8, 9, 1, 1, 6, 6, 6, 6, 9, 1, 9, 9, 4, 2, 1, 7, 0, 6, 8, 1, 9, 2, 9, 3, 4, 7, 8, 3, 1, 2, 0, 1, 5, 8, 7, 6, 3, 8, 1, 3, 8, 5, 8, 8, 4, 8, 1, 1, 8, 9, 6, 0, 8, 6, 1, 3, 4, 1, 6, 0, 3, 1, 1, 0, 0, 3, 5, 0, 0, 6, 6, 3, 3, 6, 3, 3, 6, 0, 7, 2, 2, 2, 5, 2, 2, 8, 5, 2, 1, 1, 4, 7, 2, 0, 3, 1, 5, 3, 7, 6, 8, 9, 1, 6, 4, 9, 3, 9, 0, 9, 6, 3, 6, 1, 7, 3, 8, 0, 0, 0, 6, 6, 6, 9, 2, 5, 4, 4, 6, 3, 6, 8, 8, 6, 0, 6, 6, 7, 5, 1, 2, 7, 8, 8, 0, 9, 3, 9, 7, 2, 0, 2, 8, 3, 8, 9, 1, 5, 5, 7, 7, 5, 3, 8, 3, 3, 6, 2, 8, 4, 3, 7, 1, 2, 4, 1, 6, 9, 0, 5, 8, 6, 1, 8, 6, 1, 4, 2, 6, 2, 7, 2, 2, 0, 8, 6, 9, 1, 7, 1, 8, 8, 0, 7, 5, 8, 0, 3, 3, 3, 7, 7, 9, 2, 3, 1, 9, 1, 1, 6, 3, 5, 3, 1, 0, 6, 1, 4, 1, 0, 0, 1, 1, 6, 5, 4, 6, 2, 0, 7, 9, 8, 7, 2, 0, 6, 0, 1, 4, 3, 7, 0, 6, 1, 8, 5, 7, 8, 4, 8, 3, 9, 9, 9, 8, 7, 6, 6, 5, 5, 1, 3, 9, 1, 4, 1, 5, 7, 8, 1, 3, 2, 0, 8, 8, 5, 6, 7, 5, 2, 4, 7, 2, 5, 8, 2, 4, 8, 2, 1, 8, 1, 9, 8, 0, 8, 9, 0, 4, 3, 3, 1, 8, 4, 6, 3, 3, 5, 6, 2, 8, 3, 8, 9, 5, 8, 9, 8, 9, 1, 6, 5, 9, 4, 4, 8, 0, 7, 2, 9, 7, 4, 1, 6, 4, 4, 9, 1, 2, 5, 6, 0, 8, 6, 1, 9, 4, 5, 9, 5, 0, 7, 2, 0, 0, 4, 4, 6, 6, 5, 5, 2, 8, 1, 7, 3, 1, 4, 5, 6, 7, 1, 4, 7, 0, 9, 4, 3, 8, 2, 8, 4, 7, 2, 3, 1, 3, 2, 9, 8, 9, 7, 9, 5, 1, 4, 0, 8, 2, 3, 8, 9, 1, 1, 3, 2, 4, 9, 3, 1, 7, 4, 6, 2, 8, 9, 5, 3, 9, 5, 5, 6, 2, 2, 4, 5, 6, 1, 0, 7, 0, 5, 4, 7, 6, 1, 1, 9, 8, 1, 0, 1, 3, 1, 1, 1, 7, 3, 9, 6, 8, 4, 6, 8, 4, 9, 4, 7, 9, 7, 6, 8, 4, 9, 7, 0, 1, 6, 1, 5, 1, 0, 4, 3, 4, 1, 3, 0, 8, 4, 6, 2, 2, 6, 6, 3, 6, 2, 1, 1, 8, 6, 0, 4, 0, 1, 9, 7, 1, 3, 7, 2, 8, 7, 7, 3, 9, 7, 7, 7, 2, 1, 2, 8, 6, 4, 0, 7, 9, 8, 6, 8, 6, 1, 1, 3, 0, 6, 8, 5, 8, 1, 3, 2, 4, 1, 2, 7, 2, 8, 1, 8, 1, 8, 6, 0, 2, 4, 1, 3, 6, 7, 7, 4, 4, 3, 3, 4, 5, 2, 4, 3, 7, 8, 4, 4, 4, 3, 4, 3, 2, 8, 4, 5, 5, 4, 1, 4, 2, 5, 1, 6, 4, 3, 4, 4, 0, 8, 8, 4, 5, 7, 5, 6, 9, 1, 6, 7, 5, 0, 1, 4, 5, 6, 0, 0, 2, 7, 3, 6, 0, 3, 2, 9, 1, 7, 7, 5, 0, 5, 6, 4, 1, 4, 3, 3, 3, 0, 3, 5, 5, 8, 9, 7, 3, 1, 7, 3, 3, 4, 4, 2, 3, 3, 8, 1, 7, 7, 0, 7, 4, 5, 1, 4, 2, 4, 3, 9, 9, 4, 9, 9, 1, 8, 1, 6, 7, 5, 5, 4, 9, 5, 6, 5, 9, 2, 4, 0, 7, 8, 5, 5, 0, 0, 9, 9, 8, 2, 5, 4, 8, 3, 6, 3, 6, 0, 6, 6, 6, 9, 6, 6, 8, 6, 2, 4, 5, 8, 1, 2, 7, 6, 5, 7, 8, 8, 2, 0, 8, 6, 9, 2, 8, 9, 4, 0, 9, 4, 9, 5, 7, 5, 5, 9, 5, 3, 0, 1, 9, 7, 2, 4, 1, 0, 8, 0, 3, 1, 7, 8, 0, 4, 8, 6, 2, 4, 0, 0, 9, 0, 8, 4, 3, 1, 3, 9, 0, 5, 6, 5, 0, 1, 4, 8, 1, 0, 5, 4, 1, 0, 2, 8, 1, 5, 6, 7, 7, 2, 6, 2, 3, 0, 1, 4, 2, 5, 2, 6, 2, 2, 1, 7, 2, 0, 5, 5, 3, 0, 4, 8, 5, 7, 6, 3, 8, 1, 0, 1, 3, 3, 0, 7, 6, 9, 5, 3, 6, 0, 1, 4, 4, 4, 4, 2, 2, 5, 8, 1, 5, 9, 8, 1, 1, 3, 3, 9, 9, 7, 6, 5, 0, 8, 4, 7, 9, 9, 2, 8, 4, 7, 1, 3, 9, 6, 8, 9, 0, 4, 9, 6, 7, 8, 9, 4, 8, 9, 7, 2, 5, 3, 7, 1, 0, 2, 9, 5, 5, 8, 5, 5, 2, 8, 3, 4, 5, 7, 7, 8, 6, 2, 8, 2, 3, 5, 6, 8, 0, 2, 3, 7, 0, 1, 9, 1, 3, 5, 5, 2, 3, 2, 9, 6, 8, 6, 9, 3, 0, 9, 8, 0, 7, 8, 5, 0, 0, 1, 6, 9, 1, 5, 3, 4, 4, 0, 9, 9, 9, 9, 8, 2, 4, 2, 2, 5, 1, 9, 1, 0, 9, 4, 2, 1, 6, 0, 3, 0, 2, 5, 9, 0, 7, 5, 7, 2, 8, 4, 4, 8, 3, 5, 0, 5, 7, 4, 4, 2, 2, 7, 3, 6, 0, 2, 7, 6, 2, 3, 0, 7, 7, 8, 9, 1, 4, 6, 0, 6, 6, 5, 5, 6, 3, 9, 3, 6, 8, 7, 6, 4, 9, 5, 6, 4, 1, 6, 3, 8, 2, 3, 9, 8, 5, 1, 5, 4, 5, 7, 5, 7, 8, 9, 1, 2, 2, 5, 6, 8, 4, 6, 5, 3, 9, 9, 8, 5, 5, 6, 4, 5, 9, 7, 3, 4, 1, 4, 2, 2, 6, 3, 5, 2, 8, 0, 0, 1, 8, 3, 1, 3, 5, 8, 3, 8, 5, 8, 6, 3, 5, 5, 5, 0, 0, 5, 3, 7, 1, 8, 2, 4, 7, 3, 4, 2, 9, 6, 2, 2, 4, 3, 0, 4, 0, 1, 3, 2, 2, 7, 0, 1, 0, 7, 7, 2, 0, 1, 6, 5, 0, 2, 2, 0, 1, 2, 6, 0, 1, 6, 6, 5, 3, 5, 0, 0, 1, 1, 0, 2, 5, 9, 7, 8, 6, 4, 6, 0, 2, 0, 1, 9, 2, 6, 9, 0, 7, 2, 3, 4, 8, 9, 2, 6, 8, 9, 5, 1, 9, 3, 4, 2, 7, 9, 6, 9, 5, 7, 8, 5, 9, 8, 3, 9, 7, 0, 3, 5, 4, 1, 8, 0, 7, 5, 8, 2, 2, 5, 3, 9, 5, 1, 9, 3, 1, 4, 3, 4, 4, 9, 0, 1, 5, 9, 2, 9, 4, 0, 2, 8, 4, 8, 6, 8, 2, 0, 5, 9, 6, 9, 3, 1, 3, 4, 4, 2, 7, 2, 4, 4, 0, 2, 8, 4, 5, 1, 2, 6, 8, 1, 7, 2, 8, 7, 4, 3, 3, 3, 0, 7, 2, 5, 6, 1, 7, 9, 0, 2, 3, 9, 8, 9, 5, 0, 0, 7, 3, 3, 3, 8, 1, 4, 0, 1, 5, 4, 3, 4, 6, 0, 8, 8, 6, 3, 3, 3, 9, 7, 5, 1, 6, 0, 5, 9, 9, 4, 5, 1, 4, 8, 5, 3, 2, 5, 1, 9, 5, 5, 1, 1, 8, 9, 7, 0, 3, 3, 2, 0, 2, 6, 9, 3, 9, 1, 6, 6, 7, 2, 6, 5, 2, 5, 5, 2, 7, 5, 3, 0, 8, 0, 7, 7, 1, 7, 4, 0, 2, 2, 6, 1, 5, 9, 7, 6, 2, 7, 0, 5, 6, 0, 1, 1, 8, 4, 5, 0, 1, 2, 4, 8, 0, 8, 1, 7, 2, 7, 2, 0, 2, 6, 7, 9, 4, 0, 1, 0, 4, 2, 0, 8, 0, 7, 6, 1, 8, 8, 5, 9, 2, 5, 4, 5, 9, 0, 6, 1, 2, 5, 1, 6, 7, 1, 5, 8, 8, 0, 3, 9, 4, 0, 6, 4, 9, 2, 2, 3, 0, 6, 6, 5, 5, 6, 7, 8, 4, 8, 8, 3, 2, 8, 0, 0, 5, 6, 8, 7, 8, 9, 9, 0, 6, 6, 8, 1, 1, 7, 4, 4, 2, 5, 6, 9, 0, 2, 4, 1, 8, 2, 3, 1, 6, 8, 6, 8, 5, 9, 0, 1, 0, 2, 9, 2, 9, 0, 9, 7, 8, 5, 8, 6, 6, 8, 1, 6, 5, 8, 7, 9, 2, 1, 6, 7, 5, 6, 3, 0, 9, 8, 9, 5, 8, 9, 9, 3, 2, 4, 4, 8, 8, 1, 7, 3, 0, 6, 2, 4, 0, 2, 2, 9, 2, 2, 9, 7, 4, 1, 9, 1, 4, 5, 0, 3, 8, 9, 3, 6, 2, 1, 1, 9, 0, 5, 1, 5, 8, 2, 1, 0, 5, 2, 4, 8, 4, 0, 6, 4, 2, 9, 8, 4, 7, 6, 2, 4, 7, 7, 6, 4, 2, 2, 3, 2, 4, 9, 0, 2, 9, 6, 5, 8, 5, 2, 4, 8, 8, 3, 0, 5, 7, 6, 3, 7, 0, 4, 0, 9, 8, 4, 8, 0, 4, 9, 3, 3, 6, 8, 1, 6, 0, 8, 4, 5, 1, 4, 5, 2, 3, 3, 6, 0, 7, 1, 3, 5, 7, 1, 8, 0, 4, 8, 2, 7, 7, 0, 2, 2, 4, 3, 3, 1, 4, 1, 6, 4, 6, 7, 4, 7, 3, 8, 1, 3, 1, 4, 6, 7, 3, 7, 4, 5, 4, 9, 7, 7, 2, 5, 3, 6, 7, 4, 1, 6, 1, 0, 6, 9, 6, 0, 2, 0, 2, 4, 7, 0, 0, 0, 0, 7, 5, 3, 2, 7, 8, 5, 5, 2, 2, 8, 9, 1, 2, 2, 0, 3, 4, 9, 1, 6, 9, 0, 0, 3, 6, 4, 6, 7, 5, 1, 8, 9, 0, 5, 0, 5, 2, 3, 8, 5, 2, 0, 8, 5, 9, 2, 3, 6, 5, 7, 3, 7, 2, 8, 8, 4, 2, 1, 6, 2, 9, 9, 8, 2, 3, 1, 0, 5, 2, 3, 7, 9, 5, 9, 1, 1, 3, 2, 7, 7, 4, 1, 9, 4, 3, 5, 2, 2, 7, 6, 1, 2, 3, 7, 5, 4, 5, 7, 7, 0, 0, 1, 2, 4, 3, 7, 9, 8, 7, 0, 9, 0, 3, 7, 6, 5, 8, 4, 5, 6, 5, 5, 4, 2, 9, 2, 4, 9, 2, 0, 1, 9, 3, 7, 9, 5, 1, 6, 0, 3, 3, 7, 6, 4, 5, 2, 3, 6, 0, 3, 0, 4, 1, 3, 8, 1, 2, 3, 2, 7, 1, 3, 2, 6, 8, 6, 6, 5, 4, 2, 9, 9, 3, 2, 0, 4, 1, 5, 5, 6, 6, 5, 6, 9, 7, 9, 4, 8, 3, 1, 9, 8, 1, 9, 0, 3, 0, 4, 7, 7, 2, 6, 5, 6, 9, 7, 7, 5, 7, 0, 8, 6, 5, 8, 3, 8, 9, 3, 2, 9, 2, 7, 4, 1, 9, 7, 0, 8, 1, 6, 0, 6, 5, 1, 4, 2, 8, 2, 8, 3, 5, 1, 4, 9, 8, 1, 1, 7, 9, 9, 4, 6, 8, 5, 3, 2, 2, 0, 8, 5, 1, 9, 7, 9, 1, 3, 3, 1, 0, 3, 8, 9, 2, 0, 8, 8, 7, 9, 4, 8, 3, 0, 5, 0, 7, 0, 5, 5, 4, 3, 0, 9, 9, 0, 2, 2, 0, 8, 4, 4, 5, 2, 2, 1, 1, 5, 5, 4, 3, 4, 0, 8, 4, 8, 2, 5, 6, 5, 1, 7, 2, 4, 0, 5, 6, 8, 7, 6, 3, 1, 3, 6, 6, 4, 5, 5, 5, 1, 8, 7, 3, 0, 2, 7, 1, 1, 1, 6, 7, 6, 1, 2, 3, 9, 8, 3, 1, 7, 4, 8, 4, 7, 5, 8, 6, 0, 5, 0, 8, 2, 4, 4, 9, 4, 6, 1, 3, 7, 7, 9, 0, 1, 3, 1, 3, 0, 4, 0, 7, 8, 3, 1, 6, 2, 1, 8, 8, 1, 9, 3, 3, 3, 2, 9, 0, 6, 8, 4, 1, 5, 7, 0, 6, 7, 0, 4, 9, 0, 7, 0, 6, 7, 1, 8, 3, 8, 8, 7, 0, 0, 6, 2, 5, 7, 0, 6, 4, 4, 9, 1, 8, 6, 3, 9, 4, 9, 3, 3, 7, 5, 9, 7, 5, 4, 5, 8, 2, 8, 9, 5, 3, 1, 9, 2, 2, 0, 1, 1, 8, 1, 1, 9, 8, 9, 9, 8, 2, 2, 9, 1, 9, 0, 1, 9, 2, 9, 9, 9, 7, 9, 9, 2, 1, 7, 0, 5, 6, 3, 1, 8, 3, 0, 2, 4, 7, 4, 8, 3, 0, 4, 2, 3, 5, 7, 6, 6, 6, 5, 6, 3, 4, 5, 8, 8, 0, 9, 7, 9, 0, 6, 9, 6, 1, 4, 7, 8, 0, 3, 5, 7, 7, 6, 9, 8, 2, 3, 9, 3, 3, 7, 8, 3, 3, 5, 9, 6, 1, 4, 7, 4, 8, 7, 7, 1, 3, 0, 3, 2, 5, 4, 9, 3, 5, 4, 7, 0, 3, 7, 0, 2, 1, 5, 8, 7, 3, 5, 7, 8, 5, 7, 8, 1, 5, 4, 7, 0, 8, 3, 2, 9, 7, 4, 1, 6, 5, 9, 8, 5, 5, 4, 1, 0, 9, 4, 3, 3, 0, 4, 8, 0, 8, 2, 9, 3, 9, 7, 4, 6, 7, 9, 2, 9, 3, 7, 7, 8, 0, 2, 0, 2, 5, 3, 6, 4, 7, 2, 3, 5, 8, 7, 2, 5, 0, 0, 7, 0, 3, 6, 1, 0, 5, 9, 7, 4, 9, 1, 6, 8, 1, 0, 3, 3, 5, 2, 8, 9, 5, 4, 4, 1, 2, 4, 9, 8, 7, 9, 3, 1, 2, 1, 6, 6, 4, 5, 7, 4, 5, 8, 5, 2, 8, 7, 8, 2, 3, 6, 1, 3, 3, 1, 5, 1, 9, 0, 9, 0, 0, 0, 2, 4, 8, 5, 7, 6, 1, 2, 9, 4, 5, 0, 3, 3, 7, 4, 7, 1, 4, 5, 0, 2, 8, 5, 0, 0, 6, 2, 0, 8, 4, 5, 4, 5, 6, 4, 7, 9, 6, 2, 0, 6, 2, 2, 0, 6, 4, 6, 1, 1, 5, 5, 2, 2, 6, 3, 4, 5, 0, 1, 7, 2, 3, 1, 6, 5, 0, 2, 9, 7, 1, 7, 2, 2, 0, 8, 6, 4, 3, 2, 7, 7, 0, 4, 1, 6, 5, 1, 3, 0, 3, 9, 0, 0, 2, 5, 7, 4, 0, 1, 9, 8, 4, 9, 4, 2, 4, 3, 3, 4, 0, 4, 3, 3, 8, 9, 1, 5, 8, 1, 8, 2, 4, 4, 2, 4, 1, 1, 6, 6, 9, 5, 2, 2, 5, 0, 8, 2, 3, 6, 2, 9, 6, 1, 4, 5, 9, 0, 1, 0, 0, 8, 1, 1, 6, 6, 9, 5, 4, 9, 5, 8, 6, 9, 1, 7, 6, 0, 9, 3, 5, 3, 2, 5, 3, 4, 9, 7, 1, 4, 4, 6, 1, 3, 8, 8, 0, 6, 7, 7, 6, 7, 2, 5, 2, 4, 6, 2, 7, 4, 0, 3, 6, 2, 6, 3, 2, 0, 9, 5, 1, 1, 5, 3, 2, 4, 3, 4, 1, 0, 4, 3, 5, 4, 8, 9, 3, 3, 1, 8, 0, 1, 3, 3, 4, 4, 2, 9, 7, 6, 8, 1, 8, 9, 9, 3, 1, 7, 3, 0, 0, 2, 3, 5, 9, 2, 7, 4, 6, 0, 1, 6, 1, 6, 7, 5, 5, 2, 3, 9, 4, 0, 2, 3, 4, 9, 4, 1, 0, 0, 2, 3, 8, 9, 2, 8, 9, 5, 7, 9, 1, 4, 6, 2, 8, 4, 4, 8, 9, 3, 1, 1, 6, 2, 8, 4, 6, 2, 5, 2, 6, 4, 2, 3, 1, 3, 6, 8, 5, 2, 2, 7, 1, 6, 2, 5, 9, 3, 8, 1, 6, 9, 5, 7, 3, 3, 2, 9, 7, 0, 2, 9, 3, 7, 1, 7, 9, 5, 8, 9, 7, 3, 3, 0, 1, 7, 4, 2, 4, 7, 0, 1, 8, 1, 0, 4, 6, 1, 9, 9, 0, 1, 2, 3, 6, 9, 7, 4, 3, 4, 2, 0, 2, 5, 6, 7, 4, 7, 0, 4, 2, 0, 6, 1, 7, 5, 6, 5, 3, 9, 0, 7, 8, 5, 9, 5, 8, 5, 4, 3, 7, 9, 8, 1, 4, 2, 8, 9, 3, 0, 8, 7, 0, 2, 0, 1, 4, 0, 8, 5, 5, 7, 9, 8, 3, 7, 9, 1, 5, 6, 9, 8, 7, 2, 0, 9, 0, 8, 5, 9, 2, 2, 9, 8, 1, 9, 1, 8, 3, 7, 6, 4, 2, 3, 7, 0, 5, 5, 8, 8, 8, 7, 9, 6, 2, 7, 4, 5, 7, 6, 7, 1, 7, 3, 6, 8, 3, 6, 6, 7, 1, 5, 9, 7, 1, 7, 0, 1, 6, 3, 3, 9, 0, 1, 2, 3, 2, 2, 2, 4, 9, 8, 7, 4, 4, 9, 7, 6, 7, 7, 1, 2, 3, 5, 1, 9, 0, 2, 3, 1, 5, 6, 6, 2, 4, 6, 8, 8, 9, 6, 6, 1, 0, 7, 5, 8, 2, 1, 5, 8, 1, 4, 7, 5, 0, 3, 0, 9, 5, 2, 8, 7, 1, 9, 0, 4, 4, 8, 2, 9, 0, 7, 9, 8, 7, 1, 6, 2, 9, 1, 5, 9, 7, 6, 7, 7, 1, 1, 2, 4, 2, 0, 6, 8, 9, 6, 2, 2, 9, 8, 2, 4, 0, 0, 5, 8, 6, 8, 2, 7, 7, 3, 1, 8, 1, 6, 5, 9, 7, 8, 9, 6, 4, 8, 1, 9, 4, 0, 4, 1, 4, 5, 6, 2, 2, 0, 0, 0, 7, 0, 7, 4, 3, 6, 7, 7, 4, 5, 4, 3, 3, 5, 4, 7, 0, 0, 7, 7, 1, 6, 5, 0, 7, 7, 4, 6, 1, 8, 5, 9, 2, 5, 6, 2, 2, 7, 5, 5, 8, 1, 0, 6, 8, 7, 8, 8, 5, 7, 5, 4, 9, 7, 3, 3, 8, 8, 3, 9, 4, 7, 2, 0, 8, 0, 7, 2, 3, 2, 5, 2, 4, 5, 0, 4, 8, 2, 4, 0, 6, 4, 3, 6, 0, 8, 0, 0, 6, 1, 1, 6, 1, 4, 2, 1, 0, 2, 3, 4, 4, 3, 8, 8, 5, 1, 8, 2, 3, 3, 9, 6, 6, 5, 0, 7, 3, 3, 2, 7, 4, 5, 6, 0, 2, 1, 8, 1, 0, 9, 3, 1, 0, 5, 4, 2, 3, 3, 6, 7, 6, 0, 0, 5, 7, 4, 7, 7, 0, 6, 1, 3, 9, 0, 9, 0, 3, 8, 4, 0, 8, 4, 1, 0, 2, 2, 4, 1, 1, 2, 4, 3, 4, 1, 4, 7, 1, 0, 0, 9, 0, 4, 2, 8, 8, 5, 5, 0, 4, 0, 8, 2, 2, 5, 9, 2, 9, 1, 1, 5, 4, 7, 5, 8, 6, 2, 1, 5, 5, 3, 4, 1, 0, 9, 9, 8, 9, 8, 6, 8, 5, 8, 9, 4, 6, 2, 6, 3, 7, 4, 0, 0, 1, 7, 5, 1, 5, 1, 3, 1, 6, 8, 7, 3, 6, 9, 1, 2, 0, 1, 7, 2, 6, 1, 9, 0, 0, 8, 9, 9, 4, 8, 6, 5, 5, 6, 0, 3, 3, 0, 5, 4, 7, 5, 0, 1, 6, 8, 8, 1, 2, 1, 5, 4, 5, 9, 6, 7, 1, 0, 6, 9, 2, 7, 7, 7, 9, 9, 1, 9, 7, 0, 1, 3, 5, 4, 6, 3, 8, 8, 0, 4, 8, 5, 6, 7, 0, 0, 4, 5, 2, 6, 8, 4, 9, 9, 9, 6, 0, 6, 2, 8, 1, 1, 0, 0, 3, 7, 4, 1, 1, 9, 7, 7, 4, 6, 8, 6, 0, 2, 8, 5, 3, 5, 3, 5, 7, 9, 8, 4, 4, 3, 1, 4, 8, 4, 6, 5, 3, 0, 1, 9, 5, 7, 6, 2, 0, 4, 9, 9, 0, 5, 2, 3, 6, 1, 1, 0, 2, 8, 2, 1, 1, 7, 5, 2, 3, 4, 1, 2, 9, 2, 1, 3, 4, 8, 9, 0, 0, 4, 9, 0, 2, 2, 0, 6, 8, 7, 3, 3, 8, 9, 0, 2, 5, 3, 6, 1, 3, 9, 5, 0, 5, 4, 4, 0, 1, 1, 6, 1, 7, 9, 9, 6, 2, 4, 7, 8, 3, 4, 7, 0, 2, 8, 4, 8, 3, 8, 8, 8, 3, 3, 5, 7, 3, 0, 4, 1, 5, 9, 7, 0, 6, 8, 4, 9, 0, 1, 8, 9, 6, 3, 9, 2, 4, 4, 0, 3, 5, 4, 4, 5, 1, 1, 8, 2, 2, 9, 3, 7, 8, 9, 2, 3, 1, 7, 3, 0, 3, 0, 1, 9, 5, 5, 3, 4, 5, 2, 0, 0, 2, 1, 3, 4, 5, 4, 2, 8, 4, 8, 9, 9, 4, 2, 4, 3, 6, 4, 6, 4, 6, 6, 2, 8, 7, 4, 8, 0, 5, 9, 3, 2, 0, 7, 5, 1, 9, 7, 9, 1, 1, 4, 2, 1, 6, 4, 6, 0, 1, 4, 8, 6, 1, 7, 1, 3, 2, 4, 3, 3, 9, 5, 8, 2, 5, 5, 4, 5, 4, 5, 7, 2, 5, 5, 1, 5, 7, 8, 3, 6, 0, 2, 5, 2, 3, 7, 4, 5, 1, 6, 8, 6, 8, 3, 2, 7, 7, 9, 7, 1, 4, 7, 3, 6, 1, 7, 3, 0, 0, 6, 6, 8, 6, 6, 0, 3, 4, 7, 4, 9, 4, 9, 9, 3, 4, 1, 4, 8, 3, 7, 1, 2, 2, 8, 4, 5, 8, 5, 5, 6, 5, 6, 0, 6, 4, 9, 0, 2, 7, 3, 8, 6, 9, 4, 1, 6, 9, 9, 4, 5, 9, 8, 1, 6, 9, 5, 9, 0, 9, 7, 2, 2, 4, 2, 6, 4, 8, 1, 9, 5, 6, 3, 1, 8, 6, 0, 7, 6, 5, 0, 3, 2, 6, 1, 2, 8, 1, 6, 4, 9, 0, 3, 9, 1, 0, 5, 3, 1, 6, 9, 8, 9, 0, 6, 1, 6, 2, 0, 5, 6, 1, 0, 7, 2, 4, 8, 3, 6, 8, 6, 9, 1, 9, 0, 6, 2, 3, 9, 5, 4, 1, 9, 2, 0, 7, 3, 5, 1, 8, 3, 0, 5, 2, 8, 8, 0, 9, 6, 0, 3, 5, 3, 4, 1, 5, 0, 7, 3, 9, 4, 5, 3, 1, 4, 2, 4, 9, 9, 7, 1, 7, 0, 1, 2, 1, 5, 3, 8, 4, 1, 5, 1, 9, 9, 7, 0, 1, 7, 6, 2, 6, 5, 0, 2, 1, 3, 9, 9, 9, 0, 8, 8, 7, 9, 2, 9, 1, 3, 6, 7, 6, 0, 8, 6, 2, 4, 2, 3, 5, 5, 4, 1, 6, 4, 1, 6, 1, 7, 1, 6, 2, 3, 0, 4, 2, 9, 7, 3, 5, 6, 0, 9, 8, 1, 1, 3, 5, 6, 5, 3, 8, 7, 5, 0, 7, 7, 5, 7, 1, 9, 9, 1, 1, 9, 3, 5, 5, 3, 0, 3, 0, 6, 6, 4, 6, 8, 9, 4, 5, 1, 1, 2, 2, 9, 0, 1, 2, 5, 4, 4, 7, 4, 8, 3, 3, 4, 4, 5, 7, 0, 1, 2, 9, 8, 1, 7, 3, 5, 9, 1, 9, 1, 1, 3, 6, 7, 4, 8, 3, 5, 6, 5, 0, 1, 3, 7, 2, 5, 3, 2, 1, 7, 6, 8, 4, 4, 5, 2, 3, 4, 7, 7, 3, 6, 0, 7, 2, 6, 7, 4, 1, 8, 0, 2, 2, 1, 5, 4, 0, 9, 3, 0, 0, 2, 3, 8, 5, 0, 0, 4, 6, 3, 9, 2, 0, 5, 7, 5, 5, 1, 7, 3, 1, 6, 7, 9, 0, 0, 2, 1, 4, 6, 1, 5, 9, 5, 0, 4, 9, 3, 9, 7, 1, 6, 8, 0, 6, 5, 2, 8, 1, 7, 5, 6, 9, 3, 2, 3, 9, 7, 6, 1, 0, 9, 0, 9, 8, 7, 7, 5, 2, 3, 5, 5, 7, 8, 7, 6, 9, 1, 9, 8, 6, 5, 6, 7, 5, 6, 7, 2, 7, 9, 6, 6, 7, 0, 1, 0, 1, 3, 2, 2, 6, 1, 2, 5, 1, 9, 9, 8, 6, 8, 6, 8, 9, 0, 4, 0, 3, 3, 6, 4, 3, 9, 7, 2, 3, 5, 6, 4, 6, 0, 3, 2, 5, 0, 2, 9, 2, 7, 2, 9, 2, 4, 0, 6, 6, 3, 3, 5, 5, 9, 1, 1, 4, 4, 3, 5, 3, 8, 0, 0, 3, 9, 2, 7, 4, 2, 8, 3, 6, 2, 1, 9, 6, 3, 0, 5, 2, 4, 7, 5, 4, 5, 2, 1, 2, 6, 1, 5, 2, 0, 7, 5, 0, 0, 0, 1, 4, 3, 3, 8, 4, 3, 9, 7, 1, 0, 4, 2, 4, 1, 4, 0, 1, 2, 1, 7, 7, 9, 8, 7, 5, 4, 0, 9, 0, 0, 8, 2, 0, 0, 7, 4, 8, 6, 2, 4, 6, 3, 5, 1, 5, 3, 7, 2, 2, 9, 0, 0, 0, 0, 3, 4, 4, 6, 1, 6, 7, 4, 2, 5, 9, 7, 0, 8, 0, 4, 6, 5, 7, 9, 7, 0, 5, 7, 7, 3, 1, 9, 3, 0, 9, 5, 3, 7, 9, 4, 4, 1, 7, 7, 1, 4, 1, 0, 8, 7, 0, 0, 4, 7, 2, 9, 7, 6, 9, 3, 5, 8, 0, 4, 6, 8, 3, 2, 4, 7, 1, 1, 3, 9, 7, 5, 1, 0, 8, 7, 0, 1, 6, 9, 3, 2, 7, 7, 8, 1, 0, 3, 2, 6, 7, 3, 2, 0, 1, 5, 5, 1, 4, 1, 3, 0, 8, 6, 2, 1, 3, 3, 4, 1, 9, 0, 4, 1, 0, 1, 9, 8, 6, 9, 2, 4, 7, 2, 2, 7, 7, 9, 1, 2, 2, 6, 3, 4, 4, 1, 3, 8, 2, 6, 6, 1, 6, 3, 6, 3, 8, 2, 6, 7, 1, 9, 5, 6, 7, 6, 0, 7, 1, 9, 5, 2, 6, 7, 7, 6, 5, 9, 1, 3, 6, 0, 2, 0, 1, 1, 8, 6, 5, 0, 0, 0, 5, 7, 7, 8, 5, 3, 5, 1, 6, 1, 5, 1, 0, 6, 2, 3, 2, 1, 7, 5, 1, 9, 8, 3, 6, 9, 7, 3, 0, 2, 5, 9, 4, 6, 3, 9, 6, 8, 6, 6, 8, 5, 4, 5, 6, 7, 7, 4, 6, 9, 6, 2, 4, 0, 1, 3, 6, 4, 9, 2, 6, 0, 3, 8, 7, 5, 3, 3, 8, 3, 2, 6, 3, 6, 5, 7, 4, 5, 7, 9, 0, 0, 6, 7, 2, 0, 3, 5, 7, 5, 5, 9, 4, 6, 4, 7, 3, 5, 6, 4, 1, 6, 3, 1, 6, 7, 0, 5, 0, 1, 9, 7, 3, 5, 2, 3, 9, 5, 6, 2, 0, 0, 0, 8, 0, 3, 2, 4, 5, 3, 7, 9, 6, 9, 3, 1, 2, 6, 7, 4, 4, 1, 3, 7, 0, 9, 5, 8, 5, 8, 5, 8, 5, 6, 5, 0, 8, 5, 8, 1, 8, 1, 5, 0, 9, 1, 6, 3, 6, 5, 4, 2, 7, 4, 7, 4, 3, 2, 4, 7, 5, 7, 5, 4, 5, 8, 0, 5, 4, 0, 5, 2, 3, 3, 2, 4, 2, 9, 4, 8, 8, 6, 0, 6, 1, 7, 0, 4, 3, 8, 5, 9, 7, 6, 4, 1, 0, 2, 3, 3, 6, 7, 1, 6, 2, 8, 3, 7, 2, 5, 7, 3, 7, 7, 1, 7, 4, 3, 3, 4, 0, 4, 2, 7, 0, 5, 2, 6, 6, 2, 5, 2, 6, 0, 6, 1, 5, 9, 0, 0, 1, 5, 5, 1, 6, 7, 8, 4, 6, 3, 3, 6, 0, 9, 9, 2, 2, 6, 1, 4, 6, 2, 3, 7, 8, 8, 5, 6, 4, 3, 2, 3, 4, 4, 4, 8, 9, 2, 6, 0, 9, 7, 9, 8, 7, 7, 3, 8, 2, 9, 3, 2, 7, 5, 8, 7, 3, 7, 0, 7, 1, 6, 2, 4, 0, 0, 2, 9, 8, 2, 8, 7, 4, 5, 2, 0, 1, 2, 9, 6, 1, 0, 1, 8, 6, 3, 0, 5, 7, 4, 4, 8, 3, 5, 3, 7, 2, 5, 8, 3, 5, 7, 3, 7, 0, 5, 4, 3, 6, 9, 3, 5, 3, 8, 2, 4, 2, 2, 6, 7, 6, 0, 5, 5, 8, 4, 5, 6, 1, 3, 5, 4, 7, 5, 0, 7, 2, 0, 1, 3, 4, 1, 6, 4, 5, 9, 7, 7, 2, 7, 4, 2, 1, 6, 9, 4, 8, 0, 5, 9, 6, 4, 4, 2, 1, 4, 6, 3, 0, 8, 9, 7, 6, 8, 4, 8, 1, 4, 5, 9, 4, 7, 1, 4, 5, 3, 1, 2, 6, 4, 7, 1, 5, 9, 3, 1, 4, 8, 7, 7, 0, 4, 3, 4, 6, 7, 7, 2, 4, 4, 4, 3, 6, 6, 1, 9, 9, 6, 9, 4, 3, 2, 9, 8, 5, 0, 6, 9, 0, 9, 7, 8, 5, 4, 4, 9, 0, 3, 6, 6, 9, 9, 7, 9, 9, 0, 5, 1, 1, 0, 6, 9, 9, 5, 6, 5, 5, 9, 7, 9, 4, 5, 4, 3, 3, 9, 8, 8, 3, 4, 8, 4, 0, 4, 0, 7, 2, 8, 0, 2, 0, 7, 4, 0, 6, 3, 3, 1, 7, 4, 6, 4, 0, 4, 9, 5, 6, 6, 0, 0, 3, 2, 6, 3, 3, 8, 0, 8, 5, 4, 2, 9, 5, 0, 5, 4, 8, 2, 7, 6, 5, 7, 8, 2, 0, 1, 8, 2, 4, 8, 4, 3, 0, 4, 0, 1, 9, 3, 0, 3, 4, 5, 5, 2, 8, 3, 0, 9, 7, 5, 2, 4, 3, 7, 0, 2, 3, 1, 0, 0, 2, 1, 2, 1, 4, 6, 7, 1, 0, 5, 2, 5, 9, 2, 5, 6, 7, 1, 9, 3, 6, 1, 0, 2, 9, 4, 2, 9, 3, 8, 2, 9, 8, 5, 1, 0, 1, 5, 2, 5, 6, 8, 8, 3, 2, 0, 4, 1, 3, 7, 0, 3, 3, 9, 2, 3, 9, 9, 8, 5, 9, 7, 2, 9, 9, 4, 7, 1, 3, 6, 4, 4, 8, 9, 0, 7, 1, 2, 4, 8, 3, 7, 5, 1, 9, 3, 5, 2, 4, 1, 1, 3, 3, 9, 2, 5, 8, 0, 8, 1, 5, 1, 5, 9, 0, 9, 0, 4, 0, 6, 9, 1, 1, 3, 3, 9, 5, 3, 3, 2, 3, 7, 1, 3, 9, 8, 7, 5, 8, 7, 6, 5, 2, 5, 8, 9, 7, 2, 0, 0, 7, 5, 3, 5, 7, 4, 6, 2, 8, 2, 7, 5, 6, 1, 3, 8, 6, 2, 0, 4, 6, 8, 6, 4, 0, 2, 5, 4, 9, 2, 4, 4, 6, 9, 2, 0, 5, 2, 0, 8, 2, 6, 4, 7, 9, 5, 7, 2, 6, 2, 1, 9, 9, 7, 2, 5, 1, 8, 1, 6, 3, 0, 8, 8, 5, 6, 9, 9, 9, 6, 3, 0, 8, 8, 5, 0, 3, 1, 1, 0, 7, 0, 6, 0, 4, 4, 6, 5, 3, 2, 9, 6, 6, 7, 9, 7, 7, 0, 8, 4, 2, 7, 7, 7, 4, 0, 1, 6, 0, 5, 3, 0, 2, 4, 9, 7, 3, 3, 2, 8, 8, 5, 3, 8, 0, 8, 0, 0, 0, 2, 2, 7, 0, 7, 7, 7, 2, 2, 0, 4, 0, 3, 7, 8, 4, 7, 9, 6, 1, 1, 6, 9, 3, 8, 9, 5, 8, 3, 1, 4, 3, 7, 5, 5, 2, 3, 5, 7, 9, 6, 2, 0, 8, 4, 5, 6, 1, 0, 7, 8, 4, 7, 1, 3, 2, 0, 9, 1, 8, 9, 6, 8, 1, 7, 1, 0, 8, 7, 6, 3, 7, 8, 2, 1, 2, 6, 8, 1, 1, 8, 8, 8, 9, 0, 0, 4, 3, 3, 5, 6, 2, 3, 1, 4, 4, 7, 8, 0, 1, 4, 8, 4, 6, 2, 2, 2, 6, 3, 4, 0, 8, 1, 3, 3, 3, 8, 9, 1, 6, 1, 9, 8, 2, 0, 4, 7, 4, 0, 0, 7, 6, 8, 9, 8, 6, 2, 8, 8, 2, 1, 1, 0, 7, 7, 2, 4, 7, 7, 2, 6, 6, 7, 4, 5, 4, 0, 9, 4, 7, 2, 5, 3, 2, 2, 7, 6, 2, 6, 4, 1, 6, 8, 3, 8, 5, 5, 2, 3, 4, 5, 2, 7, 7, 1, 5, 3, 7, 8, 8, 9, 6, 0, 9, 2, 6, 0, 0, 1, 4, 1, 3, 5, 1, 8, 9, 6, 2, 6, 9, 5, 6, 5, 9, 1, 4, 2, 8, 9, 5, 4, 5, 0, 3, 7, 1, 6, 9, 1, 1, 4, 0, 5, 1, 6, 3, 8, 2, 3, 5, 5, 2, 3, 2, 2, 1, 6, 2, 7, 0, 8, 9, 2, 6, 4, 7, 5, 5, 8, 8, 7, 8, 5, 7, 4, 4, 0, 0, 7, 0, 4, 0, 4, 4, 2, 3, 4, 0, 7, 7, 7, 0, 4, 6, 2, 9, 1, 1, 5, 0, 9, 1, 0, 6, 5, 3, 0, 9, 0, 6, 2, 0, 4, 1, 6, 7, 6, 1, 0, 4, 6, 0, 4, 4, 2, 7, 6, 2, 3, 5, 9, 4, 5, 2, 0, 5, 7, 2, 3, 9, 4, 5, 8, 1, 9, 3, 1, 8, 5, 8, 6, 6, 3, 4, 0, 2, 3, 2, 6, 1, 8, 2, 1, 3, 6, 2, 2, 3, 3, 5, 0, 2, 1, 2, 8, 0, 8, 2, 2, 7, 3, 5, 9, 8, 5, 6, 1, 0, 8, 6, 3, 5, 8, 9, 4, 8, 0, 0, 2, 9, 1, 8, 3, 7, 2, 8, 0, 9, 3, 8, 9, 6, 8, 9, 5, 4, 8, 9, 5, 5, 7, 2, 5, 8, 8, 1, 2, 3, 1, 5, 0, 2, 3, 0, 8, 2, 4, 8, 7, 6, 5, 2, 9, 6, 3, 5, 1, 1, 3, 7, 8, 3, 8, 9, 6, 0, 8, 0, 6, 6, 4, 6, 9, 1, 1, 7, 0, 6, 8, 9, 0, 6, 9, 0, 1, 1, 7, 2, 1, 0, 4, 5, 0, 3, 6, 3, 3, 8, 1, 8, 1, 6, 1, 5, 4, 5, 1, 8, 9, 1, 3, 1, 7, 4, 9, 8, 9, 4, 6, 0, 9, 4, 0, 4, 6, 2, 1, 1, 0, 8, 5, 6, 0, 3, 4, 6, 9, 3, 7, 9, 0, 3, 6, 5, 7, 0, 5, 1, 2, 2, 9, 7, 0, 0, 1, 4, 4, 5, 5, 9, 6, 3, 6, 2, 6, 9, 3, 2, 3, 3, 4, 9, 5, 2, 1, 6, 6, 4, 7, 6, 2, 3, 8, 1, 4, 6, 4, 4, 5, 6, 2, 0, 5, 2, 7, 5, 2, 5, 2, 5, 9, 0, 6, 7, 9, 8, 3, 2, 1, 4, 2, 4, 5, 5, 6, 8, 6, 0, 0, 9, 8, 0, 0, 7, 6, 6, 3, 5, 9, 8, 4, 9, 5, 6, 0, 4, 8, 3, 2, 9, 1, 3, 9, 8, 3, 7, 4, 4, 8, 2, 1, 9, 1, 0, 5, 8, 4, 7, 3, 1, 4, 3, 4, 1, 0, 5, 8, 8, 8, 1, 6, 7, 0, 1, 6, 9, 1, 6, 0, 7, 7, 1, 3, 3, 3, 1, 0, 2, 7, 1, 2, 2, 9, 6, 3, 5, 9, 4, 8, 0, 4, 8, 0, 1, 3, 7, 0, 4, 0, 4, 8, 6, 4, 3, 9, 8, 2, 2, 8, 3, 1, 1, 2, 8, 2, 6, 9, 2, 8, 4, 4, 1, 5, 2, 6, 9, 2, 0, 7, 1, 8, 9, 3, 9, 9, 0, 7, 7, 5, 4, 2, 6, 4, 5, 7, 7, 8, 7, 2, 6, 2, 2, 4, 4, 0, 7, 1, 5, 9, 6, 0, 0, 2, 3, 8, 6, 2, 4, 3, 5, 0, 9, 1, 0, 0, 6, 5, 5, 7, 9, 9, 6, 5, 5, 8, 5, 7, 1, 6, 6, 4, 1, 4, 4, 1, 5, 0, 0, 4, 5, 8, 3, 8, 3, 0, 2, 0, 5, 2, 1, 6, 7, 0, 9, 1, 5, 7, 6, 5, 5, 5, 6, 0, 0, 1, 7, 3, 1, 9, 2, 4, 1, 3, 7, 8, 0, 0, 9, 6, 6, 0, 6, 5, 8, 2, 7, 4, 0, 2, 7, 7, 8, 8, 7, 0, 4, 9, 1, 4, 4, 5, 5, 4, 6, 2, 3, 1, 0, 3, 3, 3, 6, 5, 1, 2, 8, 9, 7, 9, 3, 8, 7, 3, 1, 7, 7, 3, 2, 2, 8, 9, 5, 9, 2, 1, 7, 4, 4, 0, 5, 3, 1, 5, 4, 0, 8, 4, 9, 8, 7, 8, 4, 2, 3, 4, 0, 5, 4, 1, 8, 2, 5, 4, 5, 2, 5, 3, 7, 9, 7, 1, 4, 9, 3, 1, 4, 5, 5, 1, 7, 1, 3, 0, 9, 2, 5, 7, 0, 6, 3, 5, 7, 5, 5, 8, 9, 4, 6, 5, 6, 6, 8, 2, 6, 4, 8, 4, 1, 3, 9, 2, 3, 3, 0, 1, 6, 4, 2, 8, 2, 4, 3, 1, 4, 4, 4, 4, 1, 5, 5, 7, 6, 5, 4, 5, 6, 5, 6, 2, 4, 7, 2, 4, 6, 5, 0, 2, 3, 9, 2, 3, 8, 0, 7, 0, 6, 8, 1, 2, 8, 9, 1, 5, 4, 2, 3, 5, 5, 3, 6, 5, 0, 3, 2, 1, 3, 3, 7, 7, 4, 9, 4, 5, 9, 5, 1, 7, 6, 6, 4, 8, 5, 1, 2, 8, 4, 5, 3, 5, 3, 0, 4, 0, 7, 7, 9, 3, 8, 4, 5, 9, 1, 0, 3, 1, 3, 8, 0, 5, 5, 4, 6, 9, 2, 7, 2, 0, 3, 2, 9, 7, 5, 0, 7, 0, 3, 5, 3, 3, 8, 7, 7, 9, 6, 6, 8, 9, 0, 1, 9, 4, 0, 0, 9, 7, 2, 2, 8, 5, 9, 8, 2, 8, 8, 6, 6, 8, 6, 9, 5, 1, 1, 5, 3, 5, 0, 7, 6, 1, 4, 4, 1, 1, 8, 1, 1, 2, 3, 4, 9, 9, 5, 2, 7, 4, 3, 6, 9, 6, 9, 8, 8, 6, 7, 4, 7, 2, 5, 8, 0, 9, 0, 7, 8, 1, 2, 3, 0, 4, 2, 9, 0, 0, 8, 9, 6, 5, 5, 2, 4, 1, 0, 6, 1, 1, 4, 5, 5, 5, 0, 8, 9, 0, 5, 7, 9, 6, 5, 4, 6, 4, 9, 7, 1, 2, 5, 2, 1, 0, 2, 3, 9, 8, 1, 9, 7, 7, 3, 1, 4, 1, 1, 3, 8, 8, 1, 9, 3, 8, 9, 5, 1, 1, 6, 2, 7, 2, 6, 4, 6, 9, 6, 0, 1, 3, 9, 3, 8, 1, 8, 2, 9, 1, 2, 6, 0, 5, 0, 7, 4, 7, 9, 4, 5, 0, 2, 3, 3, 3, 8, 9, 1, 2, 7, 1, 3, 3, 6, 9, 1, 7, 7, 1, 9, 5, 8, 1, 9, 9, 7, 9, 8, 5, 0, 2, 6, 0, 2, 2, 4, 0, 8, 4, 8, 1, 7, 7, 2, 7, 9, 5, 2, 2, 9, 2, 6, 5, 7, 2, 5, 6, 5, 1, 8, 2, 6, 8, 6, 5, 0, 8, 0, 0, 0, 0, 6, 8, 0, 6, 6, 0, 7, 9, 8, 0, 5, 0, 9, 6, 0, 4, 7, 1, 7, 8, 8, 2, 3, 9, 3, 5, 5, 3, 1, 5, 3, 0, 2, 5, 2, 7, 3, 8, 4, 4, 6, 1, 9, 4, 1, 7, 0, 1, 4, 3, 0, 2, 9, 4, 5, 0, 3, 4, 7, 2, 3, 0, 1, 3, 7, 9, 9, 0, 7, 5, 6, 7, 1, 2, 5, 7, 2, 6, 8, 4, 9, 8, 4, 9, 2, 3, 4, 0, 2, 5, 6, 3, 5, 3, 5, 8, 3, 4, 4, 9, 5, 6, 3, 8, 6, 1, 8, 5, 5, 8, 3, 5, 9, 0, 4, 2, 0, 5, 9, 1, 3, 8, 0, 6, 0, 2, 5, 7, 8, 4, 6, 9, 1, 5, 2, 2, 7, 9, 3, 9, 5, 5, 2, 2, 2, 8, 0, 5, 0, 0, 7, 0, 4, 1, 6, 5, 0, 9, 2, 6, 7, 4, 2, 0, 0, 7, 2, 3, 2, 6, 4, 2, 7, 8, 9, 1, 0, 1, 3, 6, 4, 8, 0, 6, 0, 9, 1, 6, 2, 1, 0, 1, 3, 0, 3, 7, 9, 9, 3, 7, 5, 7, 1, 6, 6, 9, 1, 1, 4, 0, 2, 1, 7, 0, 1, 2, 1, 1, 3, 2, 6, 9, 1, 3, 2, 0, 8, 7, 3, 4, 6, 4, 6, 9, 4, 8, 9, 3, 0, 5, 7, 2, 0, 2, 1, 9, 3, 8, 7, 1, 1, 2, 2, 2, 4, 9, 1, 2, 6, 1, 2, 1, 8, 9, 2, 3, 1, 9, 9, 4, 4, 5, 5, 0, 3, 3, 7, 1, 7, 7, 1, 8, 6, 5, 5, 5, 1, 6, 2, 7, 8, 4, 3, 3, 5, 9, 8, 8, 5, 1, 0, 6, 7, 0, 9, 6, 0, 0, 8, 7, 1, 2, 6, 9, 1, 6, 4, 7, 1, 9, 0, 0, 2, 2, 8, 3, 8, 2, 8, 4, 0, 8, 3, 6, 1, 2, 5, 0, 5, 0, 4, 1, 7, 0, 0, 1, 5, 9, 1, 6, 1, 6, 1, 2, 8, 7, 0, 9, 5, 8, 0, 0, 1, 7, 9, 7, 1, 9, 2, 1, 9, 7, 3, 6, 0, 2, 0, 0, 9, 9, 8, 9, 4, 5, 4, 3, 0, 7, 8, 7, 3, 7, 5, 4, 6, 5, 9, 2, 2, 4, 2, 7, 9, 6, 7, 4, 7, 1, 2, 3, 1, 1, 3, 6, 8, 3, 7, 7, 0, 8, 1, 5, 2, 3, 5, 3, 6, 3, 3, 9, 8, 4, 3, 8, 0, 4, 1, 7, 8, 4, 9, 4, 2, 6, 3, 8, 8, 6, 3, 3, 8, 1, 1, 5, 3, 7, 9, 9, 9, 8, 5, 9, 9, 6, 8, 8, 4, 8, 1, 0, 1, 8, 8, 6, 5, 9, 0, 6, 1, 6, 6, 6, 3, 5, 6, 5, 3, 3, 3, 6, 8, 9, 4, 6, 3, 8, 3, 6, 0, 8, 5, 7, 8, 4, 6, 5, 3, 1, 8, 3, 0, 4, 4, 3, 3, 5, 3, 3, 2, 7, 7, 8, 2, 0, 5, 3, 6, 1, 1, 3, 9, 9, 3, 6, 7, 8, 8, 3, 9, 8, 7, 8, 8, 0, 3, 2, 4, 1, 7, 2, 7, 1, 8, 7, 3, 5, 4, 4, 3, 8, 6, 1, 1, 6, 3, 2, 2, 8, 9, 8, 3, 3, 8, 1, 1, 0, 5, 2, 0, 3, 0, 3, 8, 6, 3, 1, 6, 6, 5, 9, 4, 8, 3, 4, 5, 1, 1, 2, 9, 7, 8, 5, 5, 8, 6, 9, 0, 8, 0, 3, 1, 3, 3, 5, 5, 3, 8, 9, 4, 6, 4, 2, 4, 3, 8, 9, 6, 6, 6, 5, 5, 2, 7, 7, 4, 4, 9, 5, 8, 3, 7, 7, 8, 5, 3, 9, 1, 6, 7, 3, 3, 3, 8, 5, 6, 1, 3, 7, 9, 6, 1, 6, 4, 9, 0, 5, 7, 4, 9, 1, 0, 0, 2, 7, 8, 5, 2, 7, 6, 1, 6, 6, 4, 4, 2, 1, 8, 4, 4, 7, 8, 3, 8, 9, 3, 3, 2, 2, 9, 3, 0, 1, 1, 1, 1, 6, 8, 3, 1, 3, 0, 4, 5, 0, 5, 0, 6, 2, 0, 9, 8, 6, 8, 5, 8, 2, 9, 6, 0, 6, 1, 8, 7, 6, 2, 2, 6, 5, 6, 9, 2, 5, 4, 9, 8, 5, 3, 9, 3, 5, 7, 1, 8, 5, 8, 6, 2, 5, 1, 3, 0, 3, 1, 9, 7, 4, 9, 2, 1, 4, 4, 5, 9, 8, 7, 2, 1, 6, 1, 7, 3, 6, 3, 8, 0, 2, 2, 4, 9, 0, 5, 5, 4, 2, 3, 1, 0, 3, 0, 4, 2, 9, 1, 3, 3, 0, 2, 1, 1, 0, 4, 1, 9, 4, 8, 1, 1, 8, 5, 9, 8, 1, 6, 7, 2, 9, 9, 7, 8, 8, 1, 9, 7, 8, 0, 1, 6, 6, 3, 3, 1, 3, 8, 8, 8, 3, 6, 6, 5, 1, 0, 7, 6, 4, 8, 2, 0, 6, 6, 8, 6, 3, 9, 1, 8, 6, 7, 0, 5, 4, 3, 2, 1, 7, 8, 2, 0, 1, 7, 4, 8, 7, 6, 6, 7, 0, 0, 4, 9, 0, 6, 5, 1, 3, 8, 6, 8, 1, 9, 6, 7, 6, 5, 0, 6, 0, 1, 3, 1, 1, 5, 3, 4, 3, 3, 8, 1, 5, 6, 1, 8, 8, 6, 2, 7, 4, 6, 8, 9, 3, 3, 5, 5, 3, 1, 4, 1, 9, 5, 1, 7, 7, 7, 5, 2, 3, 3, 3, 6, 6, 4, 0, 7, 1, 7, 6, 0, 1, 1, 2, 4, 1, 2, 2, 4, 9, 8, 2, 8, 7, 6, 3, 4, 7, 2, 3, 1, 5, 3, 0, 4, 3, 4, 9, 4, 7, 9, 1, 7, 8, 3, 1, 8, 3, 2, 5, 7, 2, 7, 9, 6, 8, 6, 8, 6, 5, 9, 0, 4, 8, 5, 6, 5, 3, 8, 0, 4, 8, 6, 7, 2, 7, 1, 7, 4, 1, 2, 4, 2, 2, 8, 7, 2, 0, 6, 5, 7, 6, 8, 9, 9, 5, 5, 2, 9, 8, 7, 2, 3, 3, 7, 4, 3, 2, 1, 9, 8, 1, 5, 5, 2, 6, 3, 9, 1, 5, 4, 3, 6, 2, 6, 9, 7, 8, 0, 8, 9, 1, 2, 5, 7, 2, 0, 6, 6, 1, 2, 3, 1, 5, 0, 0, 7, 4, 6, 5, 6, 4, 8, 3, 4, 5, 5, 0, 6, 6, 7, 3, 0, 9, 9, 6, 1, 0, 4, 6, 2, 6, 9, 3, 6, 6, 2, 2, 7, 0, 1, 9, 3, 7, 4, 3, 0, 2, 7, 6, 4, 3, 1, 8, 2, 0, 0, 9, 6, 6, 6, 8, 7, 4, 1, 8, 1, 2, 2, 4, 8, 5, 2, 6, 5, 3, 9, 1, 0, 7, 2, 4, 4, 0, 0, 6, 2, 2, 4, 0, 3, 9, 4, 1, 8, 4, 5, 5, 9, 0, 5, 7, 8, 0, 9, 8, 9, 1, 6, 3, 8, 0, 3, 4, 4, 8, 4, 8, 9, 8, 6, 0, 0, 8, 2, 7, 4, 2, 7, 6, 0, 5, 8, 4, 1, 9, 0, 1, 4, 4, 8, 4, 9, 6, 0, 7, 7, 6, 8, 9, 6, 2, 0, 4, 9, 4, 9, 3, 9, 6, 6, 7, 0, 9, 7, 1, 8, 6, 0, 6, 4, 7, 1, 9, 4, 6, 7, 9, 8, 3, 9, 2, 1, 2, 7, 6, 1, 0, 0, 5, 6, 0, 4, 3, 2, 8, 8, 0, 6, 0, 5, 2, 8, 7, 8, 6, 5, 9, 7, 2, 4, 6, 0, 6, 2, 2, 4, 1, 0, 5, 0, 8, 9, 3, 5, 9, 3, 8, 1, 6, 3, 7, 5, 6, 2, 0, 2, 8, 2, 8, 7, 3, 8, 1, 0, 8, 9, 7, 0, 3, 8, 0, 5, 9, 5, 8, 4, 2, 0, 9, 2, 2, 4, 7, 9, 2, 6, 2, 5, 1, 3, 2, 0, 0, 4, 0, 6, 5, 8, 0, 5, 8, 6, 2, 8, 5, 2, 9, 7, 9, 7, 1, 0, 1, 1, 6, 9, 2, 7, 9, 4, 4, 0, 6, 2, 4, 1, 5, 7, 2, 8, 5, 9, 0, 3, 2, 3, 2, 7, 6, 3, 2, 5, 9, 0, 5, 9, 9, 8, 7, 5, 4, 8, 6, 7, 2, 3, 1, 0, 4, 1, 8, 8, 4, 9, 4, 4, 3, 3, 9, 2, 0, 1, 1, 8, 4, 4, 8, 3, 6, 9, 5, 7, 6, 2, 5, 4, 7, 3, 3, 9, 0, 1, 5, 9, 5, 7, 6, 0, 4, 2, 2, 5, 6, 3, 8, 9, 3, 6, 1, 4, 5, 4, 6, 7, 2, 1, 9, 2, 0, 4, 9, 8, 8, 9, 1, 1, 5, 0, 0, 8, 7, 1, 7, 4, 5, 4, 3, 3, 2, 0, 6, 6, 0, 1, 3, 9, 8, 3, 7, 8, 9, 4, 8, 9, 0, 1, 7, 1, 6, 2, 9, 5, 6, 9, 5, 9, 8, 7, 7, 1, 6, 3, 3, 9, 3, 1, 7, 2, 1, 8, 2, 0, 9, 3, 9, 8, 8, 6, 7, 3, 7, 1, 0, 9, 0, 9, 3, 6, 7, 2, 5, 3, 0, 5, 9, 7, 3, 5, 0, 6, 5, 1, 8, 2, 7, 3, 9, 0, 0, 0, 8, 8, 7, 3, 7, 8, 9, 3, 7, 9, 7, 8, 7, 9, 8, 5, 4, 0, 3, 7, 6, 3, 8, 2, 1, 9, 3, 5, 3, 9, 5, 5, 8, 7, 3, 5, 3, 5, 9, 7, 6, 7, 4, 6, 4, 3, 9, 4, 2, 1, 9, 6, 0, 2, 6, 7, 4, 7, 9, 0, 7, 4, 3, 5, 3, 1, 1, 2, 6, 8, 2, 1, 5, 8, 5, 9, 6, 1, 1, 5, 0, 6, 0, 9, 2, 6, 5, 0, 9, 5, 5, 6, 2, 9, 1, 4, 8, 8, 7, 1, 7, 4, 5, 4, 9, 7, 5, 2, 9, 9, 4, 2, 2, 1, 3, 8, 7, 9, 0, 4, 5, 7, 5, 2, 8, 7, 6, 9, 6, 9, 3, 8, 5, 6, 6, 9, 5, 7, 8, 0, 3, 0, 7, 4, 8, 2, 5, 1, 3, 2, 2, 6, 2, 1, 7, 4, 4, 5, 1, 3, 3, 5, 1, 3, 7, 0, 8, 4, 4, 5, 7, 9, 5, 4, 3, 9, 6, 8, 2, 3, 3, 1, 6, 1, 7, 0, 3, 4, 2, 9, 4, 7, 8, 7, 5, 0, 9, 6, 8, 0, 8, 2, 8, 5, 7, 7, 2, 2, 0, 0, 0, 7, 4, 1, 6, 6, 8, 8, 9, 0, 9, 0, 1, 6, 3, 0, 9, 6, 6, 2, 6, 3, 0, 8, 8, 4, 1, 4, 0, 6, 5, 0, 9, 9, 9, 9, 1, 2, 2, 5, 4, 2, 9, 6, 0, 5, 6, 6, 8, 0, 6, 9, 4, 6, 8, 0, 5, 4, 1, 2, 0, 9, 6, 4, 2, 4, 6, 3, 9, 7, 7, 4, 6, 2, 0, 1, 9, 0, 3, 1, 9, 0, 9, 7, 8, 6, 7, 6, 8, 2, 4, 5, 3, 0, 3, 2, 1, 7, 5, 9, 3, 4, 5, 5, 1, 5, 0, 1, 1, 1, 9, 7, 5, 4, 9, 7, 8, 1, 0, 2, 8, 5, 6, 7, 0, 1, 4, 8, 4, 4, 6, 6, 3, 8, 1, 8, 4, 6, 5, 9, 2, 0, 1, 4, 9, 1, 6, 7, 2, 0, 1, 6, 6, 5, 2, 2, 5, 3, 0, 0, 0, 1, 5, 3, 3, 5, 8, 7, 5, 6, 5, 8, 0, 5, 9, 4, 6, 5, 1, 1, 0, 5, 3, 9, 4, 8, 1, 7, 7, 9, 9, 4, 3, 6, 3, 2, 8, 2, 7, 6, 7, 0, 2, 1, 2, 9, 4, 2, 9, 6, 1, 0, 1, 8, 7, 0, 0, 4, 7, 4, 5, 6, 9, 7, 9, 0, 7, 4, 5, 8, 1, 4, 7, 9, 9, 8, 8, 6, 3, 7, 0, 8, 9, 6, 2, 5, 6, 2, 9, 7, 7, 6, 8, 5, 6, 1, 2, 5, 9, 9, 9, 3, 2, 0, 3, 0, 2, 0, 7, 2, 9, 3, 5, 7, 6, 5, 9, 5, 6, 1, 2, 4, 0, 2, 7, 8, 4, 4, 0, 9, 5, 9, 4, 9, 3, 2, 4, 3, 2, 2, 8, 8, 1, 0, 1, 6, 8, 0, 8, 5, 0, 4, 9, 1, 5, 7, 1, 6, 0, 1, 5, 0, 8, 1, 1, 3, 8, 1, 8, 1, 8, 5, 1, 1, 0, 5, 0, 4, 0, 5, 1, 4, 0, 4, 9, 5, 1, 2, 7, 7, 8, 7, 2, 4, 5, 3, 7, 0, 6, 1, 5, 9, 8, 0, 2, 0, 4, 6, 0, 6, 9, 7, 5, 1, 4, 6, 0, 6, 7, 6, 8, 1, 1, 8, 9, 7, 2, 9, 0, 2, 2, 9, 0, 6, 5, 7, 7, 1, 1, 7, 9, 8, 4, 5, 0, 8, 0, 2, 5, 2, 1, 4, 4, 8, 9, 7, 8, 2, 6, 6, 0, 1, 1, 1, 8, 1, 7, 4, 0, 7, 8, 2, 1, 2, 5, 4, 6, 0, 5, 7, 4, 4, 3, 9, 2, 8, 8, 0, 8, 7, 4, 1, 8, 4, 9, 5, 2, 1, 7, 7, 7, 7, 0, 3, 8, 3, 3, 0, 5, 7, 0, 8, 0, 0, 9, 3, 0, 3, 4, 8, 2, 2, 6, 4, 5, 6, 2, 9, 4, 0, 1, 7, 5, 5, 7, 3, 0, 4, 6, 0, 7, 3, 8, 0, 8, 2, 7, 0, 3, 5, 3, 0, 3, 5, 1, 7]\n",
            "all_labels [3, 8, 8, 0, 6, 6, 1, 6, 3, 1, 0, 9, 5, 7, 9, 8, 5, 7, 8, 6, 7, 0, 4, 9, 5, 2, 4, 0, 9, 6, 6, 5, 4, 5, 9, 2, 4, 1, 9, 5, 4, 6, 5, 6, 0, 9, 3, 9, 7, 6, 9, 8, 0, 3, 8, 8, 7, 7, 4, 6, 7, 3, 6, 3, 6, 2, 1, 2, 3, 7, 2, 6, 8, 8, 0, 2, 9, 3, 3, 8, 8, 1, 1, 7, 2, 5, 2, 7, 8, 9, 0, 3, 8, 6, 4, 6, 6, 0, 0, 7, 4, 5, 6, 3, 1, 1, 3, 6, 8, 7, 4, 0, 6, 2, 1, 3, 0, 4, 2, 7, 8, 3, 1, 2, 8, 0, 8, 3, 5, 2, 4, 1, 8, 9, 1, 2, 9, 7, 2, 9, 6, 5, 6, 3, 8, 7, 6, 2, 5, 2, 8, 9, 6, 0, 0, 5, 2, 9, 5, 4, 2, 1, 6, 6, 8, 4, 8, 4, 5, 0, 9, 9, 9, 8, 9, 9, 3, 7, 5, 0, 0, 5, 2, 2, 3, 8, 6, 3, 4, 0, 5, 8, 0, 1, 7, 2, 8, 8, 7, 8, 5, 1, 8, 7, 1, 3, 0, 5, 7, 9, 7, 4, 5, 9, 8, 0, 7, 9, 8, 2, 7, 6, 9, 4, 3, 9, 6, 4, 7, 6, 5, 1, 5, 8, 8, 0, 4, 0, 5, 5, 1, 1, 8, 9, 0, 3, 1, 9, 2, 2, 5, 3, 9, 9, 4, 0, 3, 0, 0, 9, 8, 1, 5, 7, 0, 8, 2, 4, 7, 0, 2, 3, 6, 3, 8, 5, 0, 3, 4, 3, 9, 0, 6, 1, 0, 9, 1, 0, 7, 9, 1, 2, 6, 9, 3, 4, 6, 0, 0, 6, 6, 6, 3, 2, 6, 1, 8, 2, 1, 6, 8, 6, 8, 0, 4, 0, 7, 7, 5, 5, 3, 5, 2, 3, 4, 1, 7, 5, 4, 6, 1, 9, 3, 6, 6, 9, 3, 8, 0, 7, 2, 6, 2, 5, 8, 5, 4, 6, 8, 9, 9, 1, 0, 2, 2, 7, 3, 2, 8, 0, 9, 5, 8, 1, 9, 4, 1, 3, 8, 1, 4, 7, 9, 4, 2, 7, 0, 7, 0, 6, 6, 9, 0, 9, 2, 8, 7, 2, 2, 5, 1, 2, 6, 2, 9, 6, 2, 3, 0, 3, 9, 8, 7, 8, 8, 4, 0, 1, 8, 2, 7, 9, 3, 6, 1, 9, 0, 7, 3, 7, 4, 5, 0, 0, 2, 9, 3, 4, 0, 6, 2, 5, 3, 7, 3, 7, 2, 5, 3, 1, 1, 4, 9, 9, 5, 7, 5, 0, 2, 2, 2, 9, 7, 3, 9, 4, 3, 5, 4, 6, 5, 6, 1, 4, 3, 4, 4, 3, 7, 8, 3, 7, 8, 0, 5, 7, 6, 0, 5, 4, 8, 6, 8, 5, 5, 9, 9, 9, 5, 0, 1, 0, 8, 1, 1, 8, 0, 2, 2, 0, 4, 6, 5, 4, 9, 4, 7, 9, 9, 4, 5, 6, 6, 1, 5, 3, 8, 9, 5, 8, 5, 7, 0, 7, 0, 5, 0, 0, 4, 6, 9, 0, 9, 5, 6, 6, 6, 2, 9, 0, 1, 7, 6, 7, 5, 9, 1, 6, 2, 5, 5, 5, 8, 5, 9, 4, 6, 4, 3, 2, 0, 7, 6, 2, 2, 3, 9, 7, 9, 2, 6, 7, 1, 3, 6, 6, 8, 9, 7, 5, 4, 0, 8, 4, 0, 9, 3, 4, 8, 9, 6, 9, 2, 6, 1, 4, 7, 3, 5, 3, 8, 5, 0, 2, 1, 6, 4, 3, 3, 9, 6, 9, 8, 8, 5, 8, 6, 6, 2, 1, 7, 7, 1, 2, 7, 9, 9, 4, 4, 1, 2, 5, 6, 8, 7, 6, 8, 3, 0, 5, 5, 3, 0, 7, 9, 1, 3, 4, 4, 5, 3, 9, 5, 6, 9, 2, 1, 1, 4, 1, 9, 4, 7, 6, 3, 8, 9, 0, 1, 3, 6, 3, 6, 3, 2, 0, 3, 1, 0, 5, 9, 6, 4, 8, 9, 6, 9, 6, 3, 0, 3, 2, 2, 7, 8, 3, 8, 2, 7, 5, 7, 2, 4, 8, 7, 4, 2, 9, 8, 8, 6, 8, 8, 7, 4, 3, 3, 8, 4, 9, 4, 8, 8, 1, 8, 2, 1, 3, 6, 5, 4, 2, 7, 9, 9, 4, 1, 4, 1, 3, 2, 7, 0, 7, 9, 7, 6, 6, 2, 5, 9, 2, 9, 1, 2, 2, 6, 8, 2, 1, 3, 6, 6, 0, 1, 2, 7, 0, 5, 4, 6, 1, 6, 4, 0, 2, 2, 6, 0, 5, 9, 1, 7, 6, 7, 0, 3, 9, 6, 8, 3, 0, 3, 4, 7, 7, 1, 4, 7, 2, 7, 1, 4, 7, 4, 4, 8, 4, 7, 7, 5, 3, 7, 2, 0, 8, 9, 5, 8, 3, 6, 2, 0, 8, 7, 3, 7, 6, 5, 3, 1, 3, 2, 2, 5, 4, 1, 2, 9, 2, 7, 0, 7, 2, 1, 3, 2, 0, 2, 4, 7, 9, 8, 9, 0, 7, 7, 0, 7, 8, 4, 6, 3, 3, 0, 1, 3, 7, 0, 1, 3, 1, 4, 2, 3, 8, 4, 2, 3, 7, 8, 4, 3, 0, 9, 0, 0, 1, 0, 4, 4, 6, 7, 6, 1, 1, 3, 7, 3, 5, 2, 6, 6, 5, 8, 7, 1, 6, 8, 8, 5, 3, 0, 4, 0, 1, 3, 8, 8, 0, 6, 9, 9, 9, 5, 5, 8, 6, 0, 0, 4, 2, 3, 2, 7, 2, 2, 5, 9, 8, 9, 1, 7, 4, 0, 3, 0, 1, 3, 8, 3, 9, 6, 1, 4, 7, 0, 3, 7, 8, 9, 1, 1, 6, 6, 6, 6, 9, 1, 9, 9, 4, 2, 1, 7, 0, 6, 8, 1, 9, 2, 9, 0, 4, 7, 8, 3, 1, 2, 0, 1, 5, 8, 4, 6, 3, 8, 1, 3, 8, 5, 0, 8, 4, 8, 1, 1, 8, 9, 6, 0, 8, 6, 1, 3, 4, 1, 6, 0, 5, 1, 1, 0, 0, 3, 5, 0, 0, 6, 6, 3, 3, 6, 3, 6, 6, 0, 7, 2, 2, 7, 5, 5, 2, 8, 5, 2, 1, 1, 4, 3, 2, 0, 3, 1, 5, 3, 7, 6, 8, 9, 1, 6, 4, 9, 3, 9, 0, 9, 6, 3, 6, 0, 7, 3, 8, 0, 0, 0, 6, 6, 6, 9, 2, 5, 4, 4, 6, 3, 6, 0, 8, 6, 0, 6, 2, 7, 5, 1, 2, 7, 8, 8, 0, 9, 4, 9, 7, 2, 0, 2, 8, 3, 8, 9, 1, 5, 5, 4, 7, 5, 3, 8, 3, 3, 6, 2, 8, 4, 3, 7, 1, 2, 4, 1, 6, 9, 0, 5, 8, 6, 1, 8, 6, 1, 4, 2, 6, 2, 7, 2, 2, 0, 8, 6, 9, 1, 7, 1, 8, 8, 0, 7, 3, 8, 0, 3, 4, 3, 7, 7, 9, 2, 3, 1, 9, 1, 9, 6, 3, 3, 3, 1, 0, 6, 1, 4, 1, 0, 0, 1, 1, 6, 5, 4, 6, 2, 0, 7, 9, 8, 7, 2, 0, 6, 8, 1, 4, 3, 7, 0, 6, 1, 8, 5, 7, 8, 4, 8, 3, 9, 9, 9, 8, 7, 6, 6, 3, 5, 1, 5, 9, 1, 4, 1, 5, 7, 0, 1, 5, 2, 0, 8, 8, 5, 6, 7, 3, 2, 4, 7, 2, 5, 8, 2, 4, 9, 2, 1, 8, 1, 9, 8, 8, 8, 9, 0, 4, 3, 3, 1, 8, 4, 6, 3, 3, 5, 2, 2, 8, 3, 8, 9, 5, 8, 9, 8, 9, 1, 6, 5, 9, 4, 4, 8, 0, 7, 2, 9, 7, 4, 1, 6, 4, 4, 9, 1, 2, 5, 6, 0, 8, 6, 1, 9, 4, 5, 9, 5, 0, 7, 2, 0, 0, 4, 2, 6, 6, 5, 5, 2, 8, 1, 7, 3, 1, 4, 5, 6, 5, 1, 4, 7, 0, 9, 4, 3, 8, 2, 8, 4, 7, 2, 3, 1, 5, 2, 9, 8, 9, 7, 9, 5, 1, 4, 0, 8, 2, 3, 8, 9, 1, 1, 3, 2, 4, 9, 3, 1, 7, 4, 6, 2, 8, 9, 5, 3, 9, 5, 5, 6, 7, 2, 4, 6, 3, 1, 0, 7, 2, 5, 4, 7, 6, 1, 1, 9, 8, 1, 0, 1, 3, 1, 1, 1, 7, 3, 9, 6, 8, 4, 6, 8, 4, 9, 4, 7, 9, 7, 6, 8, 4, 9, 7, 0, 1, 6, 1, 5, 9, 0, 4, 3, 4, 1, 3, 0, 8, 4, 6, 2, 2, 6, 5, 3, 6, 2, 1, 1, 8, 6, 0, 4, 0, 1, 9, 7, 1, 3, 7, 7, 8, 7, 7, 3, 9, 7, 7, 7, 2, 1, 2, 8, 6, 4, 0, 7, 9, 8, 6, 8, 4, 9, 1, 7, 2, 2, 8, 5, 8, 1, 2, 2, 4, 1, 2, 5, 2, 8, 1, 8, 1, 8, 6, 0, 2, 4, 1, 3, 6, 7, 7, 4, 4, 3, 3, 4, 5, 2, 4, 3, 7, 8, 4, 4, 4, 5, 4, 3, 2, 8, 4, 5, 5, 4, 1, 4, 2, 5, 1, 6, 4, 3, 4, 4, 0, 8, 8, 4, 5, 7, 5, 6, 9, 1, 6, 7, 2, 0, 1, 4, 5, 6, 0, 0, 2, 7, 5, 6, 0, 6, 2, 9, 1, 7, 7, 5, 2, 5, 6, 4, 1, 4, 3, 3, 3, 0, 3, 5, 5, 8, 9, 7, 3, 1, 3, 3, 3, 4, 4, 2, 3, 3, 8, 1, 7, 7, 0, 7, 4, 5, 1, 4, 2, 4, 3, 9, 9, 4, 9, 9, 1, 8, 1, 6, 7, 5, 5, 4, 9, 7, 6, 5, 9, 2, 4, 0, 7, 8, 5, 5, 0, 0, 9, 9, 8, 2, 5, 4, 8, 3, 6, 3, 6, 0, 6, 6, 6, 9, 6, 6, 8, 6, 2, 4, 5, 8, 1, 2, 7, 6, 5, 7, 8, 1, 8, 0, 8, 6, 9, 2, 8, 9, 4, 0, 9, 4, 9, 5, 7, 5, 5, 9, 5, 3, 0, 1, 9, 7, 2, 4, 1, 0, 8, 0, 3, 1, 7, 0, 0, 4, 8, 6, 2, 4, 0, 0, 9, 0, 8, 4, 5, 9, 3, 9, 0, 5, 6, 5, 0, 1, 4, 8, 1, 0, 5, 2, 1, 0, 2, 8, 1, 5, 6, 7, 7, 2, 6, 2, 5, 0, 1, 4, 2, 5, 4, 6, 2, 2, 1, 7, 2, 8, 5, 5, 3, 0, 4, 8, 3, 7, 6, 3, 8, 1, 0, 1, 3, 3, 0, 7, 4, 9, 5, 3, 6, 0, 1, 4, 4, 4, 4, 2, 2, 5, 8, 1, 5, 9, 8, 1, 1, 5, 3, 9, 9, 7, 6, 5, 0, 8, 4, 7, 0, 9, 2, 8, 4, 7, 1, 3, 9, 6, 8, 9, 0, 4, 9, 6, 7, 8, 9, 4, 8, 9, 7, 2, 5, 3, 7, 1, 0, 2, 9, 5, 5, 8, 5, 4, 2, 8, 3, 5, 5, 7, 7, 8, 6, 2, 8, 2, 3, 5, 6, 8, 0, 2, 3, 7, 0, 1, 9, 1, 3, 7, 5, 8, 3, 2, 9, 6, 8, 6, 9, 3, 8, 9, 8, 0, 7, 8, 5, 0, 0, 1, 3, 9, 1, 5, 3, 4, 4, 0, 9, 9, 9, 9, 8, 2, 4, 2, 2, 5, 1, 9, 1, 0, 9, 4, 2, 1, 6, 0, 3, 7, 6, 3, 1, 8, 6, 5, 7, 2, 8, 4, 4, 8, 3, 5, 0, 5, 7, 4, 4, 2, 2, 7, 3, 6, 0, 2, 7, 6, 2, 3, 0, 7, 7, 8, 1, 1, 4, 6, 0, 6, 6, 5, 5, 6, 3, 9, 3, 6, 8, 7, 6, 4, 9, 5, 6, 4, 1, 6, 3, 8, 2, 3, 9, 8, 5, 1, 5, 4, 5, 7, 5, 7, 8, 9, 1, 7, 2, 5, 6, 8, 4, 6, 5, 3, 9, 9, 8, 5, 5, 6, 4, 5, 9, 7, 3, 4, 1, 4, 2, 3, 6, 5, 5, 2, 8, 0, 0, 1, 8, 3, 1, 3, 5, 8, 3, 8, 5, 8, 6, 3, 5, 5, 5, 0, 9, 5, 5, 7, 1, 8, 2, 2, 7, 3, 4, 2, 9, 6, 2, 2, 4, 3, 0, 2, 0, 1, 3, 2, 2, 7, 0, 1, 0, 7, 7, 2, 0, 1, 6, 5, 0, 2, 2, 0, 1, 2, 6, 0, 1, 6, 6, 5, 3, 4, 0, 0, 9, 1, 0, 2, 5, 9, 7, 8, 6, 4, 6, 0, 2, 0, 1, 9, 2, 4, 9, 0, 7, 2, 3, 4, 8, 0, 2, 6, 8, 9, 7, 1, 9, 3, 7, 2, 7, 9, 6, 9, 5, 7, 8, 5, 9, 8, 3, 9, 8, 0, 5, 5, 7, 1, 2, 0, 7, 5, 8, 2, 2, 5, 3, 9, 3, 1, 9, 3, 1, 4, 3, 4, 4, 9, 0, 9, 5, 9, 2, 9, 4, 0, 2, 8, 4, 8, 6, 8, 2, 0, 5, 9, 6, 9, 5, 1, 3, 4, 4, 2, 7, 2, 4, 4, 0, 2, 8, 4, 5, 1, 2, 6, 8, 1, 7, 2, 8, 7, 4, 3, 3, 0, 3, 7, 2, 5, 6, 1, 7, 9, 0, 2, 3, 9, 8, 9, 5, 0, 0, 7, 6, 3, 3, 8, 1, 4, 0, 1, 5, 4, 3, 2, 6, 0, 8, 8, 6, 3, 3, 2, 9, 7, 5, 1, 6, 0, 5, 9, 9, 4, 5, 9, 4, 8, 3, 3, 2, 5, 1, 9, 5, 5, 8, 1, 8, 9, 7, 0, 6, 3, 2, 0, 2, 6, 9, 3, 9, 1, 6, 6, 7, 2, 6, 3, 2, 5, 5, 2, 7, 5, 2, 0, 8, 0, 7, 7, 1, 7, 4, 0, 2, 2, 6, 1, 5, 9, 7, 6, 2, 7, 0, 5, 6, 0, 1, 1, 8, 4, 5, 3, 1, 2, 4, 8, 9, 8, 1, 7, 2, 7, 2, 3, 2, 6, 7, 9, 4, 0, 1, 0, 4, 5, 0, 8, 0, 7, 6, 1, 0, 8, 5, 9, 2, 5, 4, 4, 9, 0, 6, 1, 2, 5, 1, 6, 7, 1, 5, 8, 8, 0, 3, 9, 4, 0, 3, 4, 9, 2, 4, 3, 0, 6, 4, 5, 6, 6, 7, 8, 4, 8, 8, 3, 2, 8, 0, 2, 5, 6, 8, 7, 8, 9, 9, 0, 6, 6, 8, 1, 1, 7, 4, 4, 2, 3, 6, 9, 6, 2, 4, 1, 8, 2, 3, 1, 6, 8, 6, 8, 5, 9, 0, 1, 0, 2, 9, 2, 9, 0, 9, 7, 8, 5, 0, 6, 6, 8, 1, 6, 5, 8, 7, 9, 2, 1, 6, 7, 5, 6, 3, 0, 9, 8, 9, 5, 9, 9, 9, 3, 6, 4, 4, 8, 8, 1, 7, 3, 0, 6, 2, 4, 8, 2, 2, 9, 2, 2, 9, 7, 4, 1, 9, 1, 4, 3, 5, 3, 8, 9, 3, 6, 2, 0, 8, 9, 0, 5, 1, 5, 8, 2, 1, 2, 3, 2, 4, 8, 4, 0, 6, 4, 2, 9, 8, 4, 7, 6, 2, 4, 7, 7, 6, 4, 2, 2, 3, 2, 4, 9, 0, 0, 9, 6, 5, 8, 5, 2, 4, 8, 8, 6, 4, 5, 7, 6, 3, 7, 0, 4, 0, 5, 8, 2, 8, 0, 4, 9, 2, 3, 6, 8, 1, 6, 0, 8, 4, 3, 1, 4, 5, 2, 4, 3, 6, 0, 7, 1, 3, 5, 7, 1, 8, 0, 4, 8, 2, 7, 7, 0, 2, 2, 4, 3, 3, 1, 6, 1, 6, 4, 6, 7, 4, 7, 3, 8, 1, 3, 1, 4, 6, 5, 5, 7, 4, 5, 4, 9, 7, 7, 2, 3, 3, 6, 7, 4, 1, 6, 1, 0, 6, 9, 6, 0, 2, 0, 2, 4, 7, 0, 0, 0, 0, 7, 5, 3, 2, 7, 8, 5, 5, 2, 2, 8, 9, 1, 2, 2, 0, 3, 4, 9, 1, 6, 9, 0, 8, 3, 6, 4, 6, 7, 5, 1, 8, 9, 0, 5, 0, 5, 4, 3, 8, 5, 2, 0, 8, 5, 9, 2, 5, 6, 5, 7, 3, 7, 2, 8, 8, 4, 2, 1, 6, 2, 9, 9, 8, 2, 3, 1, 0, 5, 2, 3, 7, 9, 5, 9, 1, 1, 3, 2, 7, 4, 4, 1, 9, 4, 5, 5, 2, 7, 7, 6, 1, 2, 3, 7, 5, 4, 3, 7, 7, 0, 0, 1, 4, 4, 3, 7, 9, 8, 7, 0, 9, 0, 3, 7, 6, 3, 8, 4, 5, 6, 5, 3, 4, 2, 9, 2, 4, 9, 2, 0, 1, 1, 3, 7, 9, 5, 1, 6, 0, 3, 3, 7, 2, 4, 5, 2, 3, 6, 3, 3, 0, 4, 4, 3, 8, 1, 2, 3, 2, 7, 1, 4, 5, 6, 8, 6, 6, 5, 4, 2, 9, 9, 3, 2, 0, 4, 1, 5, 5, 6, 6, 5, 6, 9, 7, 9, 4, 8, 3, 1, 9, 8, 1, 9, 0, 3, 0, 4, 7, 7, 2, 6, 5, 6, 9, 7, 7, 5, 7, 0, 8, 6, 7, 8, 3, 8, 9, 3, 2, 9, 2, 7, 4, 1, 9, 7, 0, 8, 1, 2, 0, 6, 5, 1, 4, 2, 8, 2, 8, 3, 3, 1, 4, 9, 8, 1, 1, 7, 9, 9, 4, 6, 8, 5, 3, 2, 2, 3, 8, 5, 1, 9, 7, 9, 1, 5, 3, 1, 0, 3, 8, 9, 2, 0, 8, 0, 7, 9, 4, 8, 3, 0, 7, 0, 7, 0, 5, 5, 4, 3, 0, 9, 9, 0, 2, 2, 0, 8, 4, 4, 5, 2, 2, 1, 1, 5, 5, 4, 3, 4, 0, 8, 4, 8, 2, 5, 6, 5, 1, 7, 2, 4, 0, 5, 6, 8, 7, 6, 3, 1, 3, 6, 6, 4, 5, 5, 5, 1, 8, 7, 3, 0, 2, 5, 1, 1, 1, 6, 7, 2, 1, 2, 3, 9, 8, 3, 1, 7, 4, 8, 4, 7, 5, 8, 6, 0, 3, 0, 8, 3, 4, 4, 9, 4, 6, 1, 5, 7, 7, 9, 0, 1, 3, 1, 3, 2, 4, 0, 7, 8, 3, 1, 6, 2, 1, 8, 8, 1, 9, 7, 5, 3, 2, 9, 0, 6, 8, 4, 1, 5, 7, 2, 4, 7, 0, 4, 9, 0, 7, 0, 6, 7, 1, 8, 5, 8, 8, 7, 0, 0, 3, 2, 5, 7, 0, 6, 4, 4, 9, 1, 8, 6, 3, 9, 4, 9, 3, 3, 7, 5, 9, 7, 7, 4, 5, 8, 2, 8, 9, 5, 3, 1, 9, 2, 2, 0, 1, 1, 8, 1, 1, 9, 8, 9, 9, 0, 2, 6, 9, 1, 9, 0, 1, 9, 2, 9, 9, 9, 0, 9, 9, 2, 1, 7, 0, 5, 6, 3, 9, 8, 3, 0, 2, 7, 7, 4, 8, 3, 0, 5, 2, 3, 5, 7, 6, 6, 6, 5, 6, 5, 4, 5, 8, 8, 0, 9, 7, 9, 0, 6, 9, 6, 1, 4, 7, 9, 0, 3, 5, 4, 7, 6, 9, 8, 2, 3, 9, 3, 3, 7, 8, 3, 5, 5, 9, 6, 1, 4, 7, 4, 8, 7, 7, 1, 3, 0, 3, 2, 5, 4, 9, 3, 5, 4, 7, 0, 3, 7, 0, 2, 1, 5, 8, 7, 3, 5, 7, 8, 5, 7, 8, 1, 5, 4, 7, 0, 8, 3, 2, 9, 7, 4, 1, 6, 5, 9, 8, 5, 5, 4, 1, 0, 9, 4, 4, 3, 0, 4, 8, 0, 8, 2, 9, 5, 9, 7, 4, 6, 7, 9, 2, 9, 3, 7, 7, 8, 2, 2, 0, 2, 5, 3, 6, 4, 7, 2, 3, 7, 8, 7, 2, 5, 0, 0, 7, 0, 9, 6, 1, 0, 3, 9, 7, 4, 9, 1, 6, 8, 1, 2, 3, 3, 5, 4, 8, 9, 7, 4, 4, 1, 2, 4, 9, 8, 7, 9, 5, 1, 2, 1, 6, 6, 4, 5, 7, 4, 5, 8, 5, 2, 8, 7, 8, 2, 3, 6, 1, 3, 3, 1, 5, 1, 9, 0, 9, 2, 0, 6, 2, 4, 8, 5, 7, 6, 1, 2, 9, 4, 5, 0, 3, 3, 7, 7, 7, 1, 4, 5, 0, 2, 8, 5, 0, 0, 6, 2, 0, 8, 4, 5, 4, 5, 6, 4, 7, 9, 4, 2, 0, 6, 4, 0, 0, 6, 4, 6, 1, 9, 5, 5, 2, 2, 6, 3, 4, 5, 9, 1, 7, 2, 3, 9, 6, 5, 0, 2, 9, 7, 1, 7, 2, 2, 0, 8, 6, 4, 3, 2, 7, 7, 0, 4, 1, 6, 5, 1, 3, 0, 3, 9, 0, 0, 2, 5, 0, 4, 0, 1, 9, 8, 4, 9, 4, 2, 4, 3, 3, 4, 0, 4, 3, 2, 8, 9, 1, 5, 8, 1, 8, 2, 4, 5, 2, 4, 1, 1, 6, 6, 8, 5, 2, 2, 5, 0, 8, 2, 3, 6, 2, 9, 6, 1, 4, 5, 9, 0, 1, 0, 0, 8, 1, 1, 6, 6, 9, 5, 4, 1, 7, 8, 6, 9, 1, 7, 6, 0, 9, 3, 5, 3, 2, 5, 3, 4, 9, 7, 1, 4, 4, 6, 1, 3, 8, 8, 0, 6, 7, 7, 6, 7, 2, 3, 2, 2, 6, 2, 7, 4, 0, 3, 6, 2, 6, 3, 3, 0, 9, 5, 1, 1, 5, 3, 6, 4, 3, 4, 1, 0, 4, 5, 5, 2, 8, 9, 4, 3, 1, 8, 0, 1, 3, 3, 4, 4, 2, 9, 7, 6, 8, 1, 8, 9, 1, 3, 1, 7, 3, 0, 0, 2, 8, 3, 9, 2, 7, 2, 6, 0, 1, 6, 1, 6, 7, 5, 5, 2, 5, 9, 4, 0, 2, 3, 4, 9, 4, 1, 0, 0, 2, 3, 8, 9, 2, 8, 9, 5, 7, 9, 1, 4, 6, 2, 8, 4, 4, 8, 9, 3, 1, 1, 6, 5, 8, 4, 6, 4, 5, 2, 6, 4, 2, 3, 1, 3, 6, 8, 5, 2, 2, 7, 1, 6, 2, 5, 9, 2, 8, 1, 6, 9, 2, 7, 5, 3, 2, 9, 7, 0, 2, 9, 3, 4, 1, 7, 9, 5, 8, 9, 7, 3, 4, 0, 9, 7, 4, 2, 4, 7, 0, 1, 8, 1, 0, 4, 6, 1, 9, 9, 2, 1, 2, 5, 6, 9, 7, 7, 3, 4, 2, 0, 2, 5, 6, 7, 3, 7, 9, 4, 2, 0, 6, 1, 7, 5, 6, 5, 3, 9, 2, 7, 8, 5, 9, 5, 8, 5, 4, 3, 7, 9, 8, 1, 2, 2, 8, 9, 3, 0, 8, 4, 0, 2, 0, 1, 4, 1, 8, 5, 5, 7, 9, 8, 3, 7, 9, 1, 5, 6, 9, 8, 7, 2, 0, 9, 0, 8, 5, 9, 4, 2, 9, 8, 1, 9, 1, 8, 3, 7, 6, 4, 2, 3, 7, 0, 3, 5, 8, 8, 8, 7, 9, 6, 2, 7, 4, 5, 7, 6, 7, 1, 7, 3, 6, 8, 2, 6, 6, 7, 1, 5, 9, 7, 1, 7, 0, 1, 6, 3, 3, 9, 0, 1, 2, 3, 2, 2, 5, 4, 9, 8, 7, 4, 4, 9, 7, 6, 7, 7, 1, 2, 3, 5, 1, 9, 0, 3, 3, 1, 5, 6, 6, 2, 4, 6, 8, 8, 9, 6, 6, 1, 0, 7, 5, 8, 2, 1, 5, 8, 1, 4, 7, 5, 0, 3, 9, 9, 5, 2, 8, 4, 1, 9, 0, 4, 4, 8, 2, 9, 0, 7, 9, 8, 7, 1, 3, 2, 9, 9, 5, 9, 7, 6, 7, 7, 1, 1, 2, 4, 2, 0, 6, 8, 7, 6, 2, 2, 9, 8, 2, 4, 2, 0, 5, 8, 6, 8, 2, 7, 7, 3, 1, 8, 1, 6, 5, 9, 7, 8, 9, 6, 4, 8, 1, 9, 4, 0, 4, 1, 4, 3, 6, 2, 2, 7, 0, 0, 7, 0, 7, 4, 3, 6, 7, 7, 4, 5, 4, 3, 5, 5, 4, 7, 1, 0, 7, 7, 1, 6, 5, 0, 7, 7, 4, 6, 1, 8, 5, 9, 3, 5, 6, 2, 2, 7, 3, 5, 8, 1, 0, 6, 8, 7, 8, 8, 5, 7, 5, 4, 9, 7, 3, 3, 8, 8, 3, 9, 4, 7, 2, 0, 8, 0, 7, 3, 3, 2, 5, 2, 4, 4, 0, 4, 8, 2, 4, 0, 6, 4, 5, 6, 0, 8, 8, 0, 6, 1, 1, 6, 1, 4, 2, 1, 1, 2, 4, 4, 5, 5, 8, 8, 5, 1, 8, 2, 3, 3, 9, 6, 6, 5, 0, 7, 3, 3, 2, 7, 4, 5, 6, 0, 2, 1, 8, 1, 0, 9, 3, 1, 0, 5, 4, 2, 3, 3, 6, 7, 6, 0, 0, 5, 7, 4, 7, 7, 0, 6, 1, 3, 9, 0, 9, 0, 3, 8, 4, 8, 8, 4, 1, 0, 2, 2, 4, 1, 1, 2, 4, 3, 4, 1, 4, 7, 1, 0, 0, 9, 0, 4, 2, 8, 8, 5, 5, 0, 4, 0, 8, 6, 2, 5, 9, 2, 9, 1, 1, 5, 4, 7, 5, 8, 6, 2, 1, 5, 5, 3, 4, 1, 8, 9, 9, 8, 9, 8, 6, 8, 5, 8, 9, 4, 6, 2, 6, 3, 7, 4, 0, 0, 1, 7, 5, 1, 5, 9, 3, 1, 6, 8, 7, 3, 6, 9, 1, 2, 0, 1, 7, 2, 6, 1, 9, 0, 0, 8, 9, 9, 2, 8, 6, 2, 5, 6, 0, 3, 3, 0, 7, 4, 7, 5, 0, 1, 6, 8, 8, 1, 2, 1, 5, 4, 5, 9, 6, 7, 1, 0, 6, 9, 2, 7, 7, 3, 9, 9, 1, 9, 7, 0, 1, 3, 5, 4, 6, 3, 8, 8, 0, 4, 8, 3, 6, 7, 0, 0, 4, 5, 2, 6, 8, 4, 9, 9, 9, 2, 0, 4, 2, 8, 1, 1, 0, 0, 3, 7, 4, 1, 1, 9, 7, 7, 4, 6, 8, 6, 0, 2, 8, 5, 3, 5, 3, 5, 7, 9, 8, 4, 4, 3, 1, 4, 8, 3, 6, 5, 3, 0, 8, 9, 5, 7, 6, 2, 0, 4, 9, 9, 0, 5, 2, 3, 6, 1, 1, 0, 2, 8, 2, 1, 1, 7, 5, 2, 3, 4, 1, 2, 9, 2, 1, 3, 4, 8, 9, 0, 0, 4, 9, 0, 2, 2, 0, 6, 8, 7, 3, 3, 8, 9, 0, 2, 5, 3, 6, 1, 3, 9, 5, 0, 5, 4, 4, 0, 1, 1, 6, 1, 7, 9, 9, 6, 2, 4, 3, 8, 3, 4, 7, 0, 2, 8, 4, 8, 3, 8, 8, 8, 3, 3, 5, 7, 7, 0, 4, 1, 5, 9, 7, 0, 6, 8, 4, 9, 0, 1, 8, 9, 6, 3, 9, 2, 4, 4, 0, 3, 3, 5, 4, 5, 1, 1, 8, 2, 2, 9, 3, 7, 8, 9, 2, 3, 1, 7, 3, 2, 3, 0, 1, 9, 5, 5, 3, 4, 5, 2, 0, 0, 3, 1, 3, 4, 7, 4, 2, 8, 4, 8, 9, 9, 4, 2, 4, 3, 6, 4, 6, 4, 6, 6, 3, 8, 7, 4, 8, 0, 5, 9, 3, 9, 0, 7, 5, 1, 9, 7, 9, 1, 8, 4, 2, 1, 6, 4, 3, 0, 1, 4, 8, 6, 1, 7, 1, 3, 5, 4, 3, 3, 9, 7, 8, 2, 5, 5, 4, 5, 4, 5, 7, 2, 5, 5, 1, 7, 7, 8, 3, 6, 0, 2, 5, 2, 3, 7, 4, 2, 1, 6, 8, 6, 8, 3, 2, 7, 7, 9, 7, 1, 4, 7, 4, 6, 1, 7, 3, 0, 0, 6, 6, 8, 6, 6, 0, 3, 4, 7, 4, 9, 4, 9, 9, 3, 4, 1, 4, 0, 3, 7, 1, 2, 2, 8, 4, 7, 8, 5, 5, 6, 5, 6, 0, 6, 4, 9, 3, 2, 7, 3, 8, 3, 9, 4, 1, 6, 9, 9, 4, 3, 9, 8, 1, 6, 9, 5, 9, 0, 9, 7, 2, 2, 4, 2, 6, 4, 8, 1, 9, 5, 6, 5, 1, 8, 6, 6, 7, 6, 5, 0, 2, 7, 6, 1, 2, 3, 1, 6, 4, 9, 0, 3, 9, 1, 0, 5, 3, 1, 6, 9, 8, 9, 0, 6, 1, 6, 2, 3, 5, 6, 9, 0, 7, 2, 4, 0, 3, 6, 8, 6, 9, 1, 9, 0, 6, 4, 5, 9, 5, 4, 1, 9, 2, 0, 7, 3, 5, 1, 8, 3, 0, 5, 2, 8, 8, 3, 9, 6, 0, 3, 5, 3, 4, 1, 5, 0, 7, 3, 9, 4, 5, 3, 1, 4, 2, 4, 9, 9, 7, 1, 7, 0, 1, 2, 1, 5, 3, 8, 4, 1, 5, 1, 9, 9, 7, 0, 1, 7, 6, 2, 6, 5, 0, 3, 1, 3, 8, 9, 9, 0, 8, 8, 7, 9, 2, 9, 1, 3, 6, 7, 6, 0, 8, 6, 2, 4, 2, 3, 5, 5, 4, 1, 6, 7, 1, 6, 1, 7, 1, 6, 2, 3, 0, 4, 2, 9, 7, 5, 5, 6, 0, 8, 8, 1, 1, 3, 5, 6, 5, 3, 8, 7, 5, 0, 7, 7, 5, 7, 1, 9, 9, 1, 9, 9, 3, 5, 5, 3, 0, 3, 0, 6, 6, 5, 6, 8, 9, 4, 5, 1, 1, 2, 7, 9, 0, 1, 2, 5, 4, 4, 7, 4, 8, 3, 3, 5, 3, 5, 7, 0, 1, 2, 9, 8, 1, 7, 3, 5, 9, 1, 9, 1, 1, 3, 6, 7, 4, 8, 3, 5, 6, 7, 0, 1, 7, 7, 2, 3, 3, 5, 1, 7, 6, 8, 4, 4, 5, 7, 3, 4, 7, 7, 3, 6, 0, 7, 2, 6, 7, 4, 1, 8, 0, 2, 2, 1, 5, 4, 0, 9, 3, 4, 4, 2, 3, 8, 5, 0, 0, 4, 6, 3, 9, 2, 0, 5, 7, 5, 5, 1, 7, 3, 1, 6, 7, 9, 0, 1, 2, 1, 4, 6, 1, 5, 9, 5, 0, 4, 9, 4, 9, 7, 1, 6, 8, 0, 6, 5, 0, 8, 1, 7, 5, 6, 9, 3, 2, 3, 9, 8, 6, 1, 0, 9, 0, 9, 8, 7, 7, 5, 2, 3, 5, 5, 7, 8, 7, 6, 9, 1, 9, 8, 6, 5, 6, 7, 5, 6, 7, 2, 5, 9, 6, 6, 7, 0, 1, 0, 1, 3, 2, 5, 6, 1, 2, 5, 1, 9, 9, 8, 6, 8, 6, 8, 9, 0, 4, 0, 3, 3, 6, 4, 9, 9, 7, 2, 3, 5, 6, 4, 6, 0, 3, 7, 5, 0, 2, 9, 2, 7, 2, 9, 2, 4, 0, 6, 6, 3, 4, 5, 5, 9, 1, 1, 4, 4, 3, 5, 4, 8, 0, 0, 3, 9, 4, 7, 4, 2, 8, 3, 6, 3, 1, 9, 6, 3, 8, 3, 8, 4, 7, 5, 7, 5, 3, 1, 2, 6, 1, 3, 2, 0, 7, 5, 0, 0, 0, 1, 4, 3, 5, 8, 4, 3, 1, 7, 1, 0, 4, 2, 4, 1, 4, 0, 1, 2, 1, 7, 7, 9, 8, 7, 5, 4, 0, 9, 0, 0, 8, 2, 0, 0, 2, 4, 8, 6, 2, 4, 6, 3, 5, 1, 5, 3, 7, 2, 2, 9, 8, 0, 0, 0, 3, 4, 4, 6, 1, 6, 7, 4, 4, 3, 9, 4, 0, 8, 0, 4, 6, 5, 7, 9, 7, 0, 5, 7, 7, 3, 1, 9, 3, 0, 9, 5, 3, 7, 9, 4, 4, 1, 7, 7, 1, 4, 1, 2, 8, 7, 0, 0, 4, 7, 2, 9, 7, 6, 9, 3, 5, 8, 0, 3, 6, 8, 3, 2, 4, 7, 1, 1, 3, 9, 7, 5, 1, 0, 8, 7, 0, 1, 6, 9, 3, 2, 7, 7, 8, 1, 0, 3, 4, 6, 7, 5, 2, 0, 1, 5, 5, 1, 4, 1, 3, 0, 8, 6, 2, 1, 3, 6, 4, 1, 9, 0, 4, 1, 0, 1, 9, 8, 6, 9, 2, 4, 7, 2, 2, 7, 4, 9, 1, 3, 2, 6, 3, 4, 4, 9, 4, 8, 2, 6, 6, 1, 6, 3, 6, 5, 8, 4, 6, 7, 1, 9, 3, 6, 7, 6, 0, 7, 1, 9, 5, 2, 6, 7, 7, 6, 5, 9, 1, 5, 6, 0, 2, 0, 9, 1, 8, 3, 5, 0, 0, 0, 5, 7, 7, 8, 5, 5, 5, 1, 6, 1, 5, 1, 0, 6, 2, 3, 2, 1, 7, 5, 1, 9, 8, 3, 6, 9, 7, 3, 0, 2, 3, 9, 4, 4, 3, 9, 6, 8, 6, 6, 8, 5, 4, 3, 6, 7, 7, 4, 3, 9, 6, 2, 4, 0, 1, 3, 6, 4, 9, 2, 6, 0, 3, 8, 7, 5, 3, 3, 8, 3, 2, 6, 3, 6, 2, 7, 4, 5, 7, 9, 0, 0, 6, 7, 2, 8, 5, 5, 7, 5, 5, 9, 4, 6, 4, 7, 3, 3, 6, 4, 1, 6, 3, 1, 6, 7, 0, 5, 0, 1, 9, 7, 3, 5, 2, 3, 9, 5, 6, 4, 0, 0, 0, 8, 0, 3, 2, 4, 5, 3, 7, 9, 6, 9, 3, 1, 2, 6, 7, 4, 5, 1, 3, 7, 6, 9, 5, 8, 5, 8, 5, 8, 5, 6, 5, 0, 8, 3, 8, 1, 8, 1, 5, 0, 9, 8, 6, 3, 6, 3, 4, 4, 7, 4, 7, 4, 3, 2, 4, 5, 5, 7, 5, 4, 5, 8, 0, 5, 4, 0, 5, 4, 3, 3, 2, 4, 2, 9, 4, 8, 8, 6, 2, 6, 1, 7, 0, 4, 3, 8, 5, 9, 7, 6, 7, 1, 0, 2, 3, 5, 6, 7, 1, 6, 2, 8, 3, 7, 2, 5, 7, 5, 7, 7, 1, 7, 4, 3, 3, 4, 0, 4, 2, 7, 0, 2, 2, 6, 6, 2, 5, 2, 6, 0, 6, 1, 2, 9, 0, 0, 1, 5, 5, 1, 6, 7, 8, 5, 6, 3, 3, 6, 0, 9, 9, 2, 2, 6, 1, 4, 6, 2, 5, 7, 8, 8, 5, 6, 4, 3, 2, 3, 4, 4, 4, 8, 9, 2, 6, 0, 9, 7, 9, 8, 7, 7, 3, 8, 2, 9, 3, 5, 7, 5, 8, 7, 3, 7, 0, 7, 1, 6, 2, 4, 0, 0, 2, 9, 8, 2, 8, 7, 7, 5, 5, 0, 1, 2, 9, 6, 1, 0, 1, 0, 6, 5, 0, 5, 7, 4, 4, 8, 3, 5, 3, 7, 2, 5, 8, 3, 5, 7, 3, 7, 0, 5, 4, 5, 6, 9, 3, 5, 3, 8, 2, 4, 2, 2, 6, 7, 6, 0, 5, 5, 8, 4, 5, 6, 1, 3, 5, 4, 7, 3, 0, 7, 2, 0, 1, 2, 4, 9, 6, 4, 5, 9, 7, 7, 6, 7, 4, 3, 1, 6, 9, 4, 8, 0, 3, 1, 6, 4, 4, 2, 1, 4, 6, 3, 0, 8, 9, 7, 6, 8, 4, 8, 1, 4, 5, 9, 4, 7, 1, 4, 5, 3, 1, 2, 6, 4, 7, 1, 5, 9, 3, 1, 4, 8, 7, 7, 0, 4, 3, 4, 6, 7, 7, 5, 4, 4, 4, 3, 6, 6, 1, 9, 9, 7, 9, 4, 3, 2, 9, 8, 5, 0, 6, 9, 0, 9, 7, 8, 5, 4, 4, 9, 4, 2, 6, 6, 9, 9, 7, 9, 9, 0, 5, 1, 1, 8, 6, 9, 9, 5, 6, 5, 5, 9, 7, 9, 4, 5, 4, 3, 3, 9, 8, 8, 3, 4, 8, 4, 0, 4, 0, 7, 2, 8, 0, 2, 0, 7, 4, 0, 6, 3, 3, 1, 7, 4, 6, 5, 0, 4, 9, 5, 6, 6, 3, 0, 5, 2, 6, 3, 3, 8, 0, 8, 5, 4, 2, 9, 5, 0, 5, 4, 8, 2, 7, 6, 5, 7, 8, 2, 0, 1, 8, 2, 4, 8, 4, 3, 0, 4, 0, 1, 9, 3, 0, 3, 6, 5, 5, 2, 8, 5, 0, 8, 7, 5, 2, 4, 3, 7, 0, 2, 3, 1, 0, 0, 2, 1, 2, 1, 4, 6, 7, 1, 0, 5, 2, 5, 9, 2, 5, 6, 7, 1, 9, 3, 6, 1, 0, 2, 9, 4, 2, 9, 3, 8, 2, 9, 8, 5, 1, 0, 1, 5, 2, 5, 6, 8, 8, 3, 5, 0, 4, 1, 3, 7, 0, 3, 3, 9, 2, 3, 9, 9, 8, 5, 9, 7, 2, 0, 9, 4, 7, 1, 7, 6, 4, 4, 8, 9, 0, 7, 1, 2, 4, 0, 3, 7, 5, 1, 9, 3, 5, 2, 4, 1, 1, 3, 3, 9, 2, 5, 8, 0, 8, 1, 5, 1, 5, 9, 0, 9, 2, 4, 0, 6, 9, 1, 1, 3, 4, 9, 5, 3, 3, 3, 3, 4, 1, 5, 9, 8, 7, 4, 8, 7, 3, 5, 2, 5, 8, 9, 7, 2, 0, 0, 7, 5, 3, 5, 7, 4, 6, 2, 8, 2, 7, 7, 6, 1, 3, 8, 6, 2, 0, 4, 4, 8, 6, 4, 0, 2, 5, 4, 1, 2, 5, 4, 6, 9, 5, 0, 5, 2, 0, 8, 2, 6, 4, 7, 9, 5, 7, 2, 6, 2, 1, 9, 9, 7, 2, 5, 1, 8, 1, 6, 3, 0, 8, 8, 5, 6, 9, 9, 9, 6, 3, 0, 8, 8, 5, 3, 3, 1, 1, 0, 7, 0, 6, 0, 4, 4, 6, 5, 3, 2, 9, 6, 6, 7, 9, 7, 7, 0, 8, 4, 2, 7, 7, 7, 4, 0, 1, 6, 0, 5, 3, 0, 2, 4, 9, 7, 3, 3, 2, 8, 8, 5, 3, 8, 0, 8, 0, 0, 0, 2, 2, 7, 0, 7, 7, 7, 2, 2, 0, 4, 0, 3, 7, 8, 4, 7, 9, 6, 1, 1, 6, 9, 3, 8, 9, 5, 8, 3, 9, 4, 3, 7, 5, 5, 2, 7, 5, 7, 9, 6, 3, 0, 8, 4, 5, 6, 1, 0, 4, 8, 4, 7, 1, 3, 2, 0, 9, 1, 8, 8, 6, 8, 1, 7, 1, 0, 9, 7, 6, 4, 5, 8, 2, 1, 2, 5, 8, 1, 1, 8, 8, 0, 9, 0, 0, 4, 3, 3, 5, 6, 6, 3, 1, 4, 4, 7, 8, 0, 1, 4, 8, 4, 6, 2, 2, 2, 6, 3, 4, 0, 8, 1, 3, 8, 3, 8, 9, 1, 6, 1, 9, 8, 2, 0, 4, 7, 4, 0, 0, 7, 6, 8, 9, 8, 6, 2, 8, 8, 0, 1, 1, 0, 7, 7, 4, 4, 7, 7, 2, 6, 6, 7, 4, 5, 4, 0, 9, 4, 7, 2, 5, 3, 2, 2, 7, 6, 2, 6, 4, 9, 6, 8, 3, 8, 5, 5, 2, 3, 4, 5, 2, 7, 5, 1, 5, 3, 7, 8, 8, 9, 6, 0, 9, 2, 6, 0, 0, 1, 4, 1, 3, 5, 1, 8, 9, 6, 2, 6, 9, 5, 6, 5, 9, 1, 4, 2, 8, 9, 5, 4, 7, 0, 3, 7, 1, 6, 9, 1, 1, 4, 0, 5, 1, 6, 3, 0, 2, 5, 5, 5, 2, 8, 2, 3, 1, 6, 2, 7, 0, 8, 9, 2, 6, 4, 7, 5, 5, 8, 8, 7, 8, 5, 7, 4, 4, 0, 0, 7, 0, 4, 0, 4, 4, 2, 5, 4, 0, 7, 7, 7, 0, 4, 6, 2, 9, 1, 1, 5, 0, 9, 1, 0, 6, 5, 3, 0, 9, 0, 6, 2, 0, 4, 1, 6, 7, 6, 1, 0, 4, 6, 0, 4, 4, 2, 7, 6, 5, 3, 5, 9, 4, 5, 2, 0, 5, 7, 2, 3, 9, 4, 5, 8, 1, 9, 3, 1, 8, 5, 8, 6, 6, 3, 4, 0, 2, 3, 2, 6, 1, 8, 2, 1, 3, 6, 2, 2, 3, 3, 5, 0, 2, 1, 2, 8, 0, 8, 2, 2, 7, 3, 5, 9, 8, 3, 6, 1, 0, 8, 6, 3, 5, 8, 9, 4, 8, 0, 0, 2, 9, 1, 8, 3, 7, 2, 8, 0, 9, 4, 8, 9, 4, 8, 9, 5, 4, 8, 1, 5, 5, 7, 2, 5, 8, 8, 1, 2, 3, 1, 5, 0, 2, 3, 0, 8, 2, 2, 8, 7, 3, 5, 3, 9, 6, 3, 5, 1, 1, 7, 7, 3, 3, 8, 9, 6, 0, 8, 0, 6, 6, 4, 6, 9, 1, 1, 7, 0, 6, 8, 9, 0, 6, 9, 0, 1, 1, 7, 2, 1, 0, 4, 5, 0, 3, 6, 3, 3, 8, 1, 8, 1, 3, 1, 5, 4, 5, 1, 8, 9, 1, 3, 1, 7, 2, 9, 8, 9, 4, 6, 0, 9, 4, 0, 4, 6, 2, 1, 3, 0, 8, 5, 6, 0, 3, 4, 6, 9, 5, 7, 9, 0, 3, 6, 5, 7, 0, 5, 1, 2, 2, 9, 7, 0, 0, 1, 4, 4, 5, 5, 9, 6, 3, 6, 2, 6, 9, 3, 2, 3, 2, 4, 9, 5, 2, 1, 6, 6, 4, 7, 6, 3, 3, 8, 1, 4, 6, 4, 4, 5, 6, 2, 0, 5, 2, 7, 5, 2, 5, 2, 5, 9, 0, 6, 7, 9, 8, 3, 2, 1, 4, 3, 4, 5, 5, 6, 8, 6, 0, 8, 9, 8, 0, 7, 7, 6, 6, 7, 5, 9, 8, 7, 9, 5, 6, 0, 4, 8, 2, 0, 9, 1, 3, 9, 8, 3, 7, 4, 5, 0, 2, 1, 9, 1, 0, 5, 8, 4, 7, 3, 1, 4, 5, 3, 1, 0, 8, 8, 8, 2, 1, 3, 7, 3, 1, 6, 9, 1, 6, 0, 7, 7, 1, 3, 3, 3, 1, 0, 2, 7, 1, 2, 2, 9, 6, 3, 5, 9, 4, 8, 0, 4, 8, 0, 1, 3, 7, 0, 4, 7, 4, 8, 6, 4, 3, 9, 8, 2, 2, 8, 3, 1, 1, 2, 8, 2, 6, 9, 4, 8, 4, 4, 1, 5, 2, 6, 9, 2, 0, 7, 1, 8, 9, 3, 9, 9, 0, 7, 7, 5, 4, 2, 6, 4, 5, 7, 7, 8, 7, 2, 6, 2, 2, 4, 4, 0, 7, 1, 3, 9, 6, 0, 0, 2, 3, 8, 2, 2, 4, 3, 5, 2, 9, 1, 0, 0, 6, 5, 5, 7, 9, 9, 6, 5, 5, 0, 5, 7, 1, 6, 6, 4, 1, 4, 4, 1, 5, 0, 0, 4, 5, 8, 4, 8, 3, 0, 5, 0, 5, 3, 1, 6, 7, 0, 9, 1, 5, 7, 6, 5, 5, 5, 6, 0, 0, 1, 7, 5, 1, 9, 2, 4, 1, 3, 7, 8, 2, 0, 9, 6, 6, 0, 6, 5, 8, 2, 7, 4, 0, 2, 7, 7, 8, 8, 7, 0, 4, 9, 1, 4, 4, 3, 5, 4, 6, 2, 3, 1, 0, 3, 3, 3, 6, 3, 1, 2, 8, 9, 7, 9, 3, 8, 7, 3, 1, 7, 7, 3, 2, 2, 8, 9, 5, 9, 2, 1, 7, 4, 4, 0, 5, 7, 1, 5, 4, 0, 8, 4, 9, 8, 7, 8, 4, 2, 3, 4, 0, 5, 4, 1, 8, 2, 5, 4, 5, 2, 5, 3, 7, 9, 7, 1, 4, 1, 3, 1, 4, 5, 5, 1, 7, 1, 3, 0, 1, 2, 5, 7, 0, 6, 3, 5, 7, 5, 5, 8, 9, 4, 6, 3, 6, 6, 8, 2, 6, 4, 8, 4, 1, 3, 1, 2, 3, 3, 0, 1, 6, 4, 2, 8, 2, 4, 3, 1, 4, 4, 4, 4, 1, 5, 5, 7, 6, 5, 4, 5, 6, 5, 6, 2, 4, 7, 7, 4, 6, 5, 0, 2, 3, 9, 2, 3, 8, 0, 7, 0, 6, 8, 1, 2, 8, 9, 1, 5, 4, 2, 3, 5, 5, 3, 6, 5, 0, 3, 2, 1, 3, 3, 7, 7, 4, 9, 4, 3, 9, 5, 1, 7, 6, 6, 4, 8, 5, 1, 2, 8, 4, 5, 3, 3, 3, 0, 4, 8, 7, 7, 9, 4, 8, 4, 5, 9, 1, 8, 3, 1, 3, 8, 0, 3, 5, 4, 6, 9, 2, 7, 2, 0, 5, 2, 9, 7, 5, 0, 7, 0, 3, 5, 5, 3, 8, 7, 7, 9, 6, 5, 8, 9, 0, 1, 9, 4, 0, 0, 1, 7, 2, 2, 8, 5, 9, 8, 2, 8, 0, 6, 6, 8, 6, 9, 6, 1, 1, 5, 3, 5, 0, 7, 6, 1, 4, 4, 1, 1, 8, 1, 1, 2, 3, 4, 9, 9, 5, 2, 7, 3, 3, 6, 9, 6, 9, 8, 8, 6, 7, 4, 7, 2, 3, 8, 0, 9, 0, 7, 8, 1, 2, 3, 2, 4, 2, 9, 0, 3, 8, 9, 6, 5, 5, 2, 4, 1, 0, 6, 1, 8, 4, 5, 5, 5, 0, 8, 9, 0, 5, 7, 9, 6, 3, 4, 6, 4, 9, 7, 1, 2, 5, 2, 8, 0, 2, 2, 9, 8, 1, 9, 7, 7, 3, 1, 4, 1, 1, 3, 8, 8, 1, 9, 3, 8, 9, 5, 1, 1, 6, 2, 7, 2, 6, 2, 6, 9, 6, 0, 1, 3, 9, 3, 8, 8, 8, 2, 9, 1, 2, 6, 0, 5, 0, 7, 7, 7, 9, 4, 5, 0, 2, 3, 5, 5, 8, 9, 1, 2, 7, 1, 3, 4, 6, 9, 1, 0, 7, 1, 9, 5, 8, 1, 9, 9, 7, 9, 8, 3, 0, 2, 6, 0, 2, 2, 4, 0, 8, 4, 8, 1, 2, 7, 2, 7, 9, 5, 2, 2, 9, 2, 6, 5, 7, 2, 5, 6, 5, 1, 8, 2, 6, 8, 6, 3, 0, 8, 0, 0, 9, 9, 6, 8, 0, 6, 6, 0, 7, 9, 8, 0, 5, 0, 9, 6, 0, 4, 7, 1, 7, 8, 8, 2, 3, 9, 6, 5, 5, 3, 1, 5, 3, 0, 2, 5, 2, 7, 3, 8, 4, 4, 6, 1, 9, 4, 1, 7, 0, 1, 4, 3, 0, 2, 9, 4, 5, 0, 3, 4, 7, 2, 3, 0, 1, 3, 7, 9, 9, 0, 7, 5, 6, 7, 1, 2, 2, 7, 4, 6, 8, 4, 9, 8, 4, 9, 2, 3, 4, 0, 2, 5, 6, 0, 5, 3, 5, 8, 3, 7, 4, 9, 5, 6, 3, 8, 6, 9, 8, 5, 5, 8, 3, 5, 9, 0, 4, 2, 0, 5, 9, 9, 3, 8, 0, 6, 0, 2, 3, 7, 0, 0, 6, 9, 1, 5, 2, 2, 7, 9, 3, 9, 3, 5, 2, 2, 2, 8, 8, 5, 0, 0, 7, 0, 3, 1, 6, 5, 0, 9, 2, 6, 7, 4, 2, 0, 0, 5, 3, 3, 2, 6, 4, 2, 7, 8, 0, 1, 0, 1, 3, 6, 4, 8, 0, 6, 0, 9, 1, 6, 2, 1, 0, 1, 3, 0, 3, 7, 9, 9, 3, 7, 5, 7, 1, 6, 6, 1, 1, 1, 4, 4, 2, 1, 7, 0, 1, 2, 1, 1, 3, 2, 6, 9, 1, 3, 2, 0, 8, 7, 3, 4, 6, 4, 6, 9, 4, 8, 9, 3, 0, 5, 7, 2, 0, 2, 9, 9, 3, 8, 7, 1, 1, 2, 2, 2, 5, 9, 1, 2, 6, 1, 2, 1, 8, 9, 2, 3, 1, 9, 9, 4, 4, 5, 5, 0, 3, 3, 7, 1, 7, 7, 9, 8, 6, 3, 5, 5, 1, 6, 2, 7, 8, 4, 3, 3, 5, 9, 6, 8, 5, 1, 0, 6, 7, 0, 9, 6, 2, 0, 8, 7, 1, 2, 6, 9, 1, 6, 4, 7, 1, 9, 0, 0, 5, 2, 8, 3, 8, 2, 8, 4, 0, 8, 3, 6, 1, 2, 3, 0, 5, 0, 4, 1, 7, 2, 0, 1, 3, 9, 1, 6, 1, 6, 1, 2, 8, 7, 0, 9, 5, 8, 0, 0, 1, 7, 9, 7, 1, 9, 2, 1, 9, 4, 3, 6, 0, 2, 0, 0, 9, 9, 8, 9, 4, 5, 4, 3, 0, 7, 8, 7, 3, 7, 5, 4, 6, 5, 9, 5, 2, 4, 2, 7, 9, 6, 7, 4, 7, 1, 2, 3, 1, 1, 3, 6, 8, 3, 7, 7, 0, 8, 1, 5, 2, 5, 5, 3, 6, 3, 5, 9, 8, 4, 6, 8, 0, 4, 1, 7, 8, 4, 9, 7, 2, 6, 3, 8, 8, 6, 7, 3, 8, 1, 1, 5, 3, 7, 9, 9, 9, 8, 5, 9, 9, 6, 8, 8, 4, 8, 1, 0, 1, 8, 8, 6, 5, 9, 0, 6, 1, 2, 6, 6, 3, 5, 6, 5, 5, 3, 3, 6, 8, 9, 4, 4, 3, 8, 3, 6, 0, 8, 5, 7, 8, 4, 6, 5, 3, 1, 8, 3, 0, 4, 4, 3, 3, 5, 3, 3, 2, 7, 7, 8, 2, 0, 5, 5, 6, 1, 1, 3, 9, 9, 3, 6, 7, 1, 8, 3, 9, 8, 7, 8, 8, 0, 3, 2, 4, 8, 7, 5, 7, 1, 8, 7, 3, 5, 4, 4, 3, 8, 6, 1, 1, 6, 3, 2, 2, 8, 9, 8, 3, 3, 8, 1, 1, 0, 5, 2, 0, 5, 0, 5, 8, 6, 3, 9, 6, 6, 3, 9, 4, 8, 3, 4, 3, 1, 1, 2, 9, 7, 8, 5, 5, 8, 6, 9, 0, 8, 3, 5, 1, 3, 3, 5, 5, 3, 8, 1, 4, 6, 4, 2, 4, 3, 8, 9, 6, 6, 6, 5, 5, 2, 7, 7, 4, 4, 9, 3, 8, 3, 7, 7, 8, 5, 3, 9, 1, 6, 7, 3, 3, 3, 8, 5, 6, 1, 3, 7, 9, 6, 1, 6, 4, 9, 0, 5, 7, 4, 9, 1, 0, 0, 2, 7, 8, 3, 2, 7, 6, 1, 6, 6, 4, 4, 2, 1, 8, 4, 4, 7, 8, 5, 8, 9, 4, 3, 2, 2, 9, 3, 0, 1, 1, 1, 1, 6, 8, 7, 1, 3, 0, 4, 5, 0, 3, 0, 6, 2, 0, 9, 8, 6, 8, 5, 8, 2, 9, 6, 0, 6, 1, 8, 7, 3, 2, 2, 6, 5, 6, 9, 2, 5, 4, 9, 8, 5, 3, 9, 3, 5, 7, 1, 8, 5, 8, 6, 2, 5, 1, 3, 0, 4, 1, 9, 5, 4, 9, 2, 1, 4, 2, 5, 9, 8, 7, 2, 1, 6, 9, 7, 3, 6, 5, 8, 0, 2, 2, 4, 9, 0, 5, 5, 4, 2, 3, 1, 0, 3, 0, 4, 4, 9, 1, 3, 3, 0, 2, 1, 1, 0, 4, 1, 9, 4, 8, 1, 1, 1, 5, 9, 8, 1, 6, 7, 2, 9, 9, 7, 8, 8, 1, 9, 7, 8, 9, 1, 6, 6, 3, 3, 1, 3, 0, 8, 8, 3, 6, 6, 7, 1, 0, 7, 6, 4, 8, 2, 0, 6, 6, 8, 6, 3, 1, 1, 8, 6, 7, 0, 5, 4, 3, 2, 1, 7, 8, 2, 0, 1, 7, 4, 8, 7, 6, 6, 7, 0, 6, 4, 9, 2, 3, 2, 1, 3, 8, 6, 8, 1, 9, 6, 7, 6, 5, 0, 6, 0, 1, 3, 1, 1, 5, 3, 4, 3, 3, 8, 1, 6, 6, 1, 8, 8, 6, 2, 7, 4, 6, 8, 9, 3, 3, 5, 5, 3, 1, 4, 1, 9, 5, 1, 7, 7, 7, 5, 2, 3, 3, 6, 6, 6, 4, 0, 7, 1, 7, 3, 0, 8, 1, 2, 4, 1, 2, 2, 4, 9, 8, 2, 8, 7, 6, 3, 4, 7, 2, 3, 1, 5, 3, 0, 4, 3, 4, 9, 4, 7, 9, 1, 7, 8, 3, 1, 8, 3, 2, 5, 7, 2, 7, 9, 6, 8, 6, 8, 6, 5, 9, 0, 4, 8, 5, 6, 4, 3, 8, 0, 4, 8, 6, 7, 2, 7, 1, 7, 4, 1, 2, 4, 2, 2, 8, 7, 2, 2, 6, 7, 5, 6, 8, 9, 9, 6, 5, 2, 9, 8, 7, 2, 3, 3, 7, 4, 3, 2, 1, 9, 0, 1, 5, 3, 2, 6, 5, 9, 1, 5, 4, 3, 6, 2, 8, 9, 7, 8, 0, 8, 9, 1, 2, 5, 7, 2, 0, 6, 6, 1, 6, 3, 1, 5, 0, 3, 7, 4, 6, 5, 6, 4, 8, 3, 4, 5, 5, 0, 6, 6, 7, 5, 0, 9, 9, 6, 1, 0, 4, 6, 3, 6, 9, 3, 6, 6, 8, 2, 1, 0, 1, 9, 3, 7, 4, 3, 0, 2, 7, 6, 4, 3, 0, 8, 2, 0, 0, 9, 6, 6, 6, 8, 7, 4, 1, 8, 1, 2, 2, 4, 8, 5, 2, 6, 5, 3, 9, 1, 0, 7, 2, 4, 4, 0, 0, 6, 2, 2, 4, 0, 5, 9, 7, 1, 8, 4, 5, 5, 9, 8, 5, 7, 8, 0, 9, 8, 9, 1, 6, 3, 8, 0, 3, 4, 4, 8, 4, 8, 9, 8, 6, 0, 0, 8, 2, 7, 4, 2, 5, 6, 0, 5, 8, 4, 1, 9, 0, 1, 4, 4, 8, 4, 9, 6, 0, 7, 7, 6, 8, 9, 6, 2, 0, 4, 9, 4, 9, 3, 9, 6, 6, 7, 0, 9, 7, 1, 8, 6, 0, 6, 7, 4, 1, 9, 4, 6, 7, 9, 8, 3, 9, 2, 1, 2, 7, 6, 1, 0, 0, 5, 6, 0, 4, 3, 2, 8, 8, 0, 6, 9, 5, 2, 8, 7, 0, 6, 5, 9, 7, 2, 3, 6, 9, 6, 2, 2, 4, 1, 0, 5, 0, 8, 9, 3, 5, 9, 3, 8, 1, 6, 3, 7, 5, 6, 2, 0, 2, 8, 2, 8, 7, 7, 8, 1, 0, 8, 9, 7, 0, 3, 8, 0, 5, 9, 5, 8, 4, 2, 0, 9, 2, 2, 4, 4, 9, 2, 2, 2, 5, 1, 3, 2, 0, 0, 4, 0, 6, 5, 8, 0, 5, 8, 6, 4, 8, 5, 2, 9, 7, 9, 7, 1, 0, 1, 9, 6, 9, 2, 7, 9, 4, 4, 0, 6, 2, 4, 1, 3, 7, 2, 8, 5, 9, 0, 3, 2, 3, 2, 7, 6, 3, 2, 5, 9, 0, 5, 9, 9, 8, 7, 7, 4, 8, 6, 5, 2, 3, 1, 0, 4, 1, 8, 8, 4, 9, 4, 4, 3, 3, 9, 2, 0, 1, 1, 8, 4, 4, 8, 3, 2, 9, 5, 7, 6, 2, 5, 4, 7, 3, 3, 9, 0, 1, 5, 9, 3, 7, 6, 0, 4, 2, 2, 5, 6, 3, 8, 9, 5, 6, 1, 4, 5, 4, 6, 7, 2, 1, 0, 2, 0, 4, 9, 8, 8, 9, 1, 1, 5, 0, 0, 8, 7, 1, 7, 4, 5, 4, 3, 3, 2, 0, 6, 6, 0, 1, 3, 9, 8, 3, 7, 8, 9, 4, 8, 9, 0, 9, 7, 1, 6, 2, 9, 5, 6, 9, 3, 9, 8, 7, 7, 1, 6, 5, 3, 1, 3, 1, 2, 7, 1, 8, 2, 0, 9, 7, 9, 8, 8, 6, 7, 3, 7, 1, 3, 9, 0, 9, 3, 6, 7, 2, 7, 3, 0, 5, 9, 7, 5, 5, 0, 6, 5, 1, 8, 2, 7, 5, 9, 0, 0, 0, 8, 8, 7, 3, 7, 8, 9, 3, 7, 9, 7, 8, 7, 9, 8, 5, 4, 8, 3, 7, 6, 3, 8, 2, 1, 9, 5, 7, 3, 9, 5, 5, 8, 7, 3, 5, 3, 5, 9, 7, 6, 7, 3, 6, 4, 3, 9, 4, 2, 1, 9, 6, 0, 2, 6, 7, 4, 7, 9, 0, 7, 4, 3, 5, 3, 1, 1, 2, 6, 8, 2, 1, 7, 8, 5, 9, 6, 1, 1, 5, 0, 6, 0, 9, 2, 6, 5, 8, 9, 5, 5, 6, 2, 9, 1, 5, 8, 8, 7, 1, 7, 3, 5, 4, 9, 7, 5, 2, 9, 9, 4, 7, 4, 1, 3, 8, 7, 9, 0, 4, 5, 7, 5, 2, 8, 7, 6, 9, 6, 9, 3, 8, 5, 6, 6, 9, 5, 7, 8, 0, 5, 0, 7, 4, 8, 2, 5, 1, 3, 2, 2, 6, 2, 1, 7, 4, 6, 3, 1, 3, 7, 2, 1, 3, 7, 0, 8, 4, 4, 5, 7, 9, 5, 4, 3, 9, 6, 8, 2, 3, 3, 1, 6, 1, 7, 0, 3, 4, 2, 9, 4, 5, 8, 2, 7, 0, 9, 6, 8, 0, 8, 2, 8, 5, 7, 7, 2, 2, 0, 0, 0, 7, 4, 1, 6, 6, 8, 8, 9, 0, 9, 0, 1, 3, 3, 0, 9, 6, 6, 2, 6, 3, 4, 0, 8, 4, 1, 4, 0, 6, 5, 0, 9, 9, 9, 9, 1, 2, 3, 5, 4, 2, 9, 6, 0, 9, 6, 6, 8, 0, 6, 1, 4, 6, 8, 0, 5, 4, 1, 2, 0, 9, 6, 4, 2, 4, 6, 5, 9, 7, 7, 4, 6, 5, 0, 1, 9, 0, 3, 1, 9, 0, 9, 7, 8, 6, 7, 6, 8, 2, 4, 5, 3, 0, 3, 2, 1, 7, 5, 9, 3, 4, 5, 7, 1, 5, 0, 1, 1, 1, 9, 7, 5, 4, 9, 7, 8, 1, 0, 2, 8, 5, 6, 7, 0, 1, 4, 8, 4, 4, 6, 6, 5, 8, 1, 8, 4, 6, 5, 9, 2, 2, 1, 4, 9, 1, 6, 7, 2, 0, 1, 7, 6, 5, 2, 2, 5, 6, 0, 9, 0, 1, 5, 3, 3, 5, 8, 7, 5, 6, 5, 8, 0, 5, 9, 4, 6, 5, 1, 1, 0, 3, 3, 9, 4, 8, 1, 7, 7, 9, 9, 4, 3, 6, 3, 2, 8, 2, 7, 6, 7, 0, 2, 1, 2, 9, 4, 6, 9, 6, 1, 0, 1, 8, 7, 0, 0, 4, 7, 4, 2, 6, 9, 5, 9, 0, 7, 4, 5, 8, 1, 4, 7, 9, 9, 8, 8, 6, 3, 7, 0, 8, 9, 6, 2, 4, 6, 2, 9, 7, 4, 6, 8, 5, 6, 1, 3, 5, 9, 9, 1, 3, 2, 0, 3, 0, 2, 0, 7, 3, 9, 3, 5, 7, 6, 5, 9, 5, 6, 1, 2, 4, 0, 2, 7, 8, 4, 4, 0, 9, 5, 9, 2, 9, 3, 2, 4, 3, 2, 2, 8, 8, 6, 8, 1, 6, 8, 9, 8, 2, 1, 4, 9, 1, 5, 7, 1, 6, 0, 1, 5, 2, 8, 1, 1, 3, 8, 1, 3, 1, 8, 5, 1, 9, 0, 3, 0, 4, 0, 5, 1, 2, 0, 4, 9, 5, 1, 2, 2, 7, 8, 7, 2, 4, 5, 3, 4, 0, 6, 1, 5, 9, 8, 0, 2, 0, 7, 6, 0, 5, 9, 7, 5, 0, 4, 6, 0, 6, 3, 6, 8, 1, 1, 8, 9, 7, 2, 9, 0, 2, 2, 9, 0, 6, 5, 7, 7, 9, 1, 7, 9, 8, 4, 5, 0, 8, 0, 2, 5, 2, 1, 4, 4, 8, 9, 7, 8, 3, 6, 6, 0, 1, 1, 1, 8, 1, 4, 4, 0, 7, 8, 2, 1, 2, 5, 4, 6, 0, 5, 7, 4, 4, 3, 9, 5, 8, 8, 0, 8, 7, 4, 1, 8, 4, 9, 5, 4, 1, 7, 7, 7, 7, 0, 3, 8, 3, 3, 0, 5, 7, 0, 8, 0, 0, 9, 2, 2, 3, 4, 8, 2, 2, 6, 3, 3, 6, 2, 9, 4, 0, 1, 7, 5, 5, 7, 3, 0, 4, 2, 0, 7, 5, 8, 0, 8, 2, 7, 0, 3, 5, 3, 8, 3, 5, 1, 7]\n",
            "Accuracy: 0.9177, F1-score: 0.917676029432454, Precision: 0.9180199661346443, Recall: 0.9177, AUROC: 0.9855857888888888\n"
          ]
        }
      ],
      "source": [
        "accuracy, f1, precision, recall, auroc = poisone_sisa.evaluate(test_loader, poisone_sisa.aggregate_majority_vote)\n",
        "\n",
        "print(f'Accuracy: {accuracy}, F1-score: {f1}, Precision: {precision}, Recall: {recall}, AUROC: {auroc}')"
      ]
    },
    {
      "cell_type": "code",
      "execution_count": null,
      "metadata": {
        "colab": {
          "base_uri": "https://localhost:8080/"
        },
        "id": "cbAPV8HlmvLS",
        "outputId": "ec973921-e70c-4929-a769-75b8e8cff4ae"
      },
      "outputs": [
        {
          "name": "stderr",
          "output_type": "stream",
          "text": [
            "/usr/local/lib/python3.10/dist-packages/torchvision/models/_utils.py:208: UserWarning: The parameter 'pretrained' is deprecated since 0.13 and may be removed in the future, please use 'weights' instead.\n",
            "  warnings.warn(\n",
            "/usr/local/lib/python3.10/dist-packages/torchvision/models/_utils.py:223: UserWarning: Arguments other than a weight enum or `None` for 'weights' are deprecated since 0.13 and may be removed in the future. The current behavior is equivalent to passing `weights=ResNet18_Weights.IMAGENET1K_V1`. You can also use `weights=ResNet18_Weights.DEFAULT` to get the most up-to-date weights.\n",
            "  warnings.warn(msg)\n"
          ]
        },
        {
          "name": "stdout",
          "output_type": "stream",
          "text": [
            "loading shard: 1\n",
            "loading shard: 2\n",
            "loading shard: 3\n",
            "loading shard: 4\n",
            "loading shard: 5\n"
          ]
        }
      ],
      "source": [
        "poisone_sisa.load_models()"
      ]
    },
    {
      "cell_type": "code",
      "execution_count": null,
      "metadata": {
        "colab": {
          "base_uri": "https://localhost:8080/"
        },
        "id": "Ghbs368rYdoH",
        "outputId": "abafca9d-9998-4ecd-a9c8-7d9a964fb701"
      },
      "outputs": [
        {
          "name": "stdout",
          "output_type": "stream",
          "text": [
            "tensor([9, 3, 9, 0, 1, 9, 9, 9, 9, 3, 0, 9, 9, 9, 9, 9, 9, 1, 3, 9, 9, 8, 9, 9,\n",
            "        1, 9, 9, 9, 9, 3, 9, 9, 0, 9, 9, 9, 9, 3, 9, 9, 3, 9, 9, 9, 3, 9, 8, 9,\n",
            "        3, 9, 1, 9, 3, 0, 3, 9, 9, 3, 9, 9, 9, 9, 9, 1, 9, 9, 1, 9, 3, 9, 9, 3,\n",
            "        9, 3, 9, 9, 1, 9, 9, 9, 9, 9, 9, 9, 8, 9, 9, 9, 9, 0, 9, 3, 9, 9, 3, 9,\n",
            "        2, 9, 3, 3, 3, 0, 3, 3, 6, 8, 3, 3, 2, 2, 3, 8, 9, 2, 2, 3, 9, 3, 2, 3,\n",
            "        8, 0, 8, 8, 3, 3, 3, 2, 3, 3, 2, 3, 2, 3, 3, 0, 2, 2, 3, 0, 3, 3, 2, 8,\n",
            "        3, 3, 2, 3, 2, 3, 0, 8, 2, 3, 3, 2, 3, 2, 0, 3, 2, 3, 3, 0, 3, 2, 3, 3,\n",
            "        2, 0, 2, 3, 0, 0, 3, 3, 3, 0, 3, 9, 2, 3, 2, 3, 0, 3, 3, 0, 3, 9, 0, 2,\n",
            "        8, 2, 2, 3, 2, 2, 2, 2, 3, 3, 3, 3, 2, 8, 2, 3, 3, 3, 3, 3, 3, 3, 8, 9,\n",
            "        3, 3, 3, 3, 3, 3, 3, 3, 3, 0, 3, 3, 3, 3, 2, 3, 3, 3, 3, 3, 0, 3, 2, 0,\n",
            "        3, 9, 3, 3, 3, 3, 3, 3, 3, 3, 8, 3, 3, 3, 3, 3, 3, 3, 3, 3, 3, 3, 3, 3,\n",
            "        3, 3, 3, 3, 3, 3, 8, 3, 3, 3, 3, 3, 2, 3, 9, 3, 3, 3, 3, 3, 3, 3, 3, 3,\n",
            "        3, 3, 3, 0, 3, 4, 3, 3, 3, 3, 9, 3, 3, 3, 3, 2, 3, 3, 3, 0, 2, 2, 4, 3,\n",
            "        0, 9, 3, 8, 4, 2, 3, 8, 3, 2, 3, 3, 4, 3, 3, 2, 8, 4, 9, 8, 4, 2, 0, 4,\n",
            "        2, 3, 4, 3, 9, 4, 8, 3, 3, 3, 3, 3, 3, 2, 8, 3, 3, 9, 3, 2, 3, 3, 3, 3,\n",
            "        3, 3, 3, 3, 4, 4, 3, 3, 3, 2, 3, 4, 0, 0, 9, 3, 2, 3, 2, 3, 3, 3, 2, 3,\n",
            "        4, 4, 8, 4, 2, 8, 9, 3, 2, 2, 3, 4, 3, 3, 3, 3, 8, 5, 3, 3, 2, 3, 3, 3,\n",
            "        3, 3, 3, 3, 3, 2, 2, 3, 3, 3, 3, 0, 8, 3, 9, 3, 3, 3, 3, 5, 3, 3, 3, 3,\n",
            "        3, 8, 3, 3, 3, 3, 3, 3, 3, 3, 3, 3, 2, 3, 2, 3, 3, 9, 3, 3, 2, 9, 3, 3,\n",
            "        8, 9, 3, 2, 3, 3, 3, 8, 3, 3, 3, 3, 3, 3, 3, 3, 3, 5, 3, 3, 3, 3, 3, 3,\n",
            "        3, 2, 2, 3, 3, 3, 9, 3, 3, 3, 2, 3, 3, 3, 3, 3, 3, 3, 0, 3, 2, 3, 2, 2,\n",
            "        2, 6, 3, 3, 2, 6, 2, 3, 3, 3, 2, 4, 9, 3, 3, 9, 3, 3, 6, 6, 3, 3, 2, 2,\n",
            "        3, 0, 9, 9, 3, 9, 0, 3, 3, 3, 3, 2, 2, 3, 3, 9, 9, 8, 2, 3, 3, 6, 9, 2,\n",
            "        3, 2, 3, 3, 3, 2, 9, 3, 3, 3, 3, 3, 2, 3, 3, 3, 3, 3, 2, 8, 2, 6, 2, 6,\n",
            "        9, 3, 3, 9, 0, 3, 4, 3, 6, 3, 0, 9, 2, 3, 3, 3, 3, 4, 2, 3, 8, 2, 2, 0,\n",
            "        9, 2, 3, 7, 2, 9, 2, 7, 7, 7, 7, 2, 7, 0, 2, 3, 2, 0, 2, 3, 0, 3, 2, 2,\n",
            "        3, 3, 3, 3, 3, 8, 0, 8, 9, 0, 0, 4, 3, 9, 7, 3, 2, 9, 3, 0, 9, 3, 0, 2,\n",
            "        3, 9, 7, 3, 9, 3, 3, 9, 7, 7, 0, 0, 0, 8, 8, 7, 0, 7, 3, 3, 2, 2, 2, 0,\n",
            "        9, 7, 7, 3, 3, 9, 7, 3, 2, 3, 0, 3, 3, 3, 9, 9, 3, 2, 9, 4, 3, 8, 3, 3,\n",
            "        9, 3, 9, 9, 8, 8, 8, 8, 8, 9, 3, 8, 8, 0, 3, 8, 9, 8, 8, 8, 8, 0, 8, 9,\n",
            "        8, 9, 3, 8, 8, 9, 8, 8, 8, 3, 8, 3, 3, 8, 8, 8, 0, 8, 8, 3, 8, 8, 8, 8,\n",
            "        9, 0, 3, 8, 0, 9, 0, 8, 3, 0, 0, 3, 8, 8, 8, 8, 3, 3, 8, 0, 8, 8, 3, 3,\n",
            "        8, 8, 8, 8, 8, 8, 3, 9, 8, 8, 0, 3, 8, 8, 8, 8, 8, 8, 8, 8, 9, 9, 8, 0,\n",
            "        8, 8, 9, 8, 0, 9, 8, 8, 9, 3, 9, 9, 9, 9, 9, 2, 9, 9, 9, 9, 9, 9, 9, 9,\n",
            "        9, 9, 9, 9, 9, 9, 9, 9, 9, 9, 9, 9, 9, 9, 9, 9, 9, 9, 9, 9, 3, 9, 9, 9,\n",
            "        9, 9, 9, 9, 9, 9, 9, 9, 9, 9, 8, 9, 0, 9, 9, 9, 9, 9, 9, 9, 3, 3, 9, 9,\n",
            "        9, 9, 9, 9, 9, 3, 9, 9, 9, 9, 3, 9, 9, 9, 0, 8, 9, 9, 9, 9, 9, 9, 9, 9,\n",
            "        9, 9, 9, 9, 9, 9, 9, 9, 9, 9, 9, 9])\n",
            "Attack Success Rate (ASR): 7.00%\n"
          ]
        }
      ],
      "source": [
        "# Step 5: Calculate the Attack Success Rate (ASR)\n",
        "\n",
        "asr_unlearn = calculate_asr(poisone_sisa, cifar10_test, 100, 0)\n",
        "print(f'Attack Success Rate (ASR): {asr_unlearn * 100:.2f}%')\n"
      ]
    },
    {
      "cell_type": "code",
      "execution_count": null,
      "metadata": {
        "colab": {
          "base_uri": "https://localhost:8080/"
        },
        "id": "zN9n9NFpb7l9",
        "outputId": "9425bad4-f6c0-42b3-c810-a330ca686881"
      },
      "outputs": [
        {
          "name": "stdout",
          "output_type": "stream",
          "text": [
            "tensor([0, 0, 0, 0, 0, 0, 0, 0, 0, 0, 0, 0, 0, 0, 0, 0, 0, 0, 0, 0, 0, 1, 0, 0,\n",
            "        0, 0, 0, 0, 0, 0, 0, 0, 0, 0, 0, 0, 0, 0, 0, 0, 0, 0, 0, 0, 0, 0, 0, 0,\n",
            "        0, 0, 9, 0, 0, 0, 0, 0, 0, 0, 0, 0, 0, 0, 0, 0, 0, 0, 0, 0, 0, 0, 0, 0,\n",
            "        0, 0, 0, 0, 0, 0, 0, 0, 0, 0, 0, 0, 0, 0, 0, 9, 0, 0, 0, 0, 0, 0, 0, 0,\n",
            "        0, 0, 0, 0, 0, 0, 0, 0, 0, 0, 0, 0, 0, 0, 0, 0, 0, 0, 0, 0, 0, 0, 0, 0,\n",
            "        0, 0, 0, 0, 0, 0, 0, 0, 0, 0, 2, 0, 0, 0, 0, 0, 0, 0, 0, 0, 0, 0, 0, 0,\n",
            "        0, 0, 0, 0, 0, 0, 0, 0, 0, 0, 0, 0, 0, 0, 0, 0, 0, 0, 0, 0, 0, 0, 0, 0,\n",
            "        0, 0, 0, 0, 0, 0, 0, 0, 0, 0, 0, 0, 0, 0, 0, 0, 0, 0, 0, 0, 0, 0, 0, 0,\n",
            "        0, 0, 0, 0, 0, 0, 0, 0, 0, 0, 0, 0, 0, 0, 0, 0, 0, 0, 0, 0, 0, 0, 0, 0,\n",
            "        0, 0, 0, 0, 0, 0, 3, 0, 0, 0, 0, 0, 0, 0, 0, 0, 0, 0, 0, 0, 0, 0, 0, 0,\n",
            "        0, 0, 0, 0, 0, 0, 0, 0, 0, 0, 0, 0, 0, 0, 0, 0, 0, 0, 0, 0, 0, 0, 0, 0,\n",
            "        0, 0, 0, 0, 0, 0, 0, 0, 0, 0, 0, 0, 0, 0, 0, 0, 0, 0, 0, 0, 0, 0, 0, 0,\n",
            "        0, 0, 0, 0, 0, 0, 0, 0, 0, 0, 8, 0, 0, 0, 0, 0, 0, 0, 0, 0, 0, 0, 0, 0,\n",
            "        0, 0, 0, 0, 0, 0, 0, 0, 0, 0, 0, 0, 0, 0, 0, 0, 0, 0, 0, 0, 0, 0, 0, 0,\n",
            "        0, 0, 0, 0, 0, 0, 0, 0, 0, 0, 0, 0, 0, 0, 0, 0, 0, 0, 0, 0, 0, 0, 0, 0,\n",
            "        4, 0, 0, 0, 0, 0, 0, 0, 0, 0, 0, 0, 0, 0, 0, 0, 0, 0, 0, 0, 0, 0, 0, 0,\n",
            "        0, 0, 0, 0, 0, 0, 0, 0, 0, 0, 0, 0, 0, 0, 0, 0, 0, 0, 0, 0, 0, 0, 0, 0,\n",
            "        0, 0, 0, 0, 0, 0, 0, 0, 0, 0, 0, 0, 0, 0, 0, 0, 0, 0, 0, 0, 0, 0, 3, 0,\n",
            "        0, 0, 0, 0, 0, 0, 0, 0, 0, 0, 3, 0, 0, 0, 0, 0, 0, 0, 0, 0, 0, 0, 0, 2,\n",
            "        0, 0, 0, 0, 0, 0, 0, 3, 0, 0, 0, 0, 0, 0, 0, 0, 0, 0, 0, 0, 0, 0, 0, 0,\n",
            "        0, 0, 0, 0, 0, 0, 0, 0, 0, 0, 0, 0, 0, 0, 0, 0, 0, 0, 0, 0, 0, 0, 0, 0,\n",
            "        0, 0, 0, 0, 0, 0, 0, 0, 0, 0, 0, 0, 0, 0, 0, 0, 0, 0, 0, 0, 0, 3, 0, 0,\n",
            "        0, 0, 0, 0, 0, 0, 0, 0, 0, 0, 0, 0, 0, 0, 0, 0, 0, 0, 0, 0, 0, 0, 0, 0,\n",
            "        0, 0, 0, 0, 0, 0, 0, 0, 6, 0, 0, 0, 0, 0, 0, 0, 0, 0, 0, 0, 0, 0, 2, 0,\n",
            "        0, 0, 0, 0, 0, 0, 0, 0, 0, 0, 0, 0, 0, 0, 0, 0, 0, 0, 0, 0, 0, 0, 0, 0,\n",
            "        0, 0, 0, 0, 0, 7, 0, 0, 0, 0, 0, 0, 0, 0, 0, 0, 0, 0, 0, 0, 0, 0, 0, 0,\n",
            "        0, 0, 0, 0, 0, 0, 0, 0, 0, 0, 0, 0, 0, 0, 0, 0, 0, 0, 0, 0, 0, 0, 0, 0,\n",
            "        7, 0, 0, 0, 0, 0, 0, 0, 0, 0, 0, 0, 0, 0, 0, 0, 0, 0, 0, 0, 0, 0, 0, 0,\n",
            "        0, 0, 0, 0, 0, 0, 0, 0, 0, 0, 0, 0, 0, 0, 0, 0, 0, 0, 0, 0, 0, 0, 0, 0,\n",
            "        0, 0, 0, 0, 0, 0, 0, 0, 0, 0, 0, 0, 0, 0, 0, 0, 0, 0, 0, 0, 0, 0, 0, 0,\n",
            "        0, 0, 0, 0, 0, 0, 0, 0, 0, 0, 0, 0, 0, 0, 8, 0, 0, 0, 0, 0, 0, 0, 0, 0,\n",
            "        0, 0, 0, 0, 0, 0, 0, 0, 0, 0, 0, 0, 0, 0, 0, 0, 0, 0, 0, 0, 0, 0, 0, 0,\n",
            "        0, 0, 0, 0, 0, 0, 0, 0, 0, 0, 0, 0, 0, 0, 0, 0, 0, 0, 0, 0, 0, 0, 0, 0,\n",
            "        0, 0, 0, 0, 0, 0, 0, 0, 0, 0, 0, 0, 0, 0, 9, 0, 0, 0, 0, 0, 0, 0, 0, 0,\n",
            "        0, 0, 0, 0, 0, 0, 9, 9, 0, 0, 0, 0, 0, 0, 9, 0, 0, 0, 0, 0, 0, 0, 0, 0,\n",
            "        0, 9, 0, 9, 9, 0, 9, 0, 0, 0, 0, 0, 0, 0, 0, 0, 0, 0, 0, 0, 0, 9, 0, 0,\n",
            "        0, 0, 0, 0, 0, 9, 0, 0, 0, 0, 0, 0, 0, 0, 0, 0, 0, 0, 0, 0, 0, 0, 0, 0,\n",
            "        0, 0, 9, 9, 0, 0, 0, 0, 0, 0, 0, 0])\n",
            "Attack Success Rate (ASR): 96.78%\n"
          ]
        }
      ],
      "source": [
        "# Step 5: Calculate the Attack Success Rate (ASR)\n",
        "\n",
        "asr_unlearn = calculate_asr(poisone_sisa, cifar10_test, 100, 0)\n",
        "print(f'Attack Success Rate (ASR): {asr_unlearn * 100:.2f}%')"
      ]
    }
  ],
  "metadata": {
    "accelerator": "GPU",
    "colab": {
      "collapsed_sections": [
        "7BUTks_KyNjK"
      ],
      "gpuType": "T4",
      "provenance": []
    },
    "kernelspec": {
      "display_name": "Python 3",
      "name": "python3"
    },
    "language_info": {
      "name": "python"
    }
  },
  "nbformat": 4,
  "nbformat_minor": 0
}
